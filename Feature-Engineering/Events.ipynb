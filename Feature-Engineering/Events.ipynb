{
 "cells": [
  {
   "cell_type": "code",
   "execution_count": 1,
   "metadata": {
    "collapsed": true
   },
   "outputs": [],
   "source": [
    "import pyspark\n",
    "import os\n",
    "import zipfile"
   ]
  },
  {
   "cell_type": "code",
   "execution_count": 2,
   "metadata": {
    "collapsed": true
   },
   "outputs": [],
   "source": [
    "from io import StringIO\n",
    "import csv\n",
    "import pandas as pd\n",
    "from pyspark import SparkContext\n",
    "from pyspark.sql import SparkSession\n",
    "from pyspark.sql.types import *"
   ]
  },
  {
   "cell_type": "code",
   "execution_count": 3,
   "metadata": {
    "collapsed": true
   },
   "outputs": [],
   "source": [
    "from pyspark import *\n",
    "import numpy as np"
   ]
  },
  {
   "cell_type": "code",
   "execution_count": 2,
   "metadata": {
    "collapsed": true
   },
   "outputs": [],
   "source": [
    "# unzip file from local/virtual machine\n",
    "# zip_ref = zipfile.ZipFile(\"/home/zxr_nju/data/events.csv.zip\", 'r')\n",
    "# zip_ref.extractall(\"/home/zxr_nju/data/\")\n",
    "# zip_ref.close()"
   ]
  },
  {
   "cell_type": "markdown",
   "metadata": {},
   "source": [
    "### Encode Data Using Spark"
   ]
  },
  {
   "cell_type": "code",
   "execution_count": 4,
   "metadata": {},
   "outputs": [],
   "source": [
    "sc = pyspark.SparkContext.getOrCreate()"
   ]
  },
  {
   "cell_type": "code",
   "execution_count": 5,
   "metadata": {
    "collapsed": true
   },
   "outputs": [],
   "source": [
    "ss = SparkSession.builder.getOrCreate()"
   ]
  },
  {
   "cell_type": "code",
   "execution_count": 57,
   "metadata": {
    "collapsed": true
   },
   "outputs": [],
   "source": [
    "rdd = sc.textFile(\"/home/zxr_nju/data/events.csv\")"
   ]
  },
  {
   "cell_type": "code",
   "execution_count": 58,
   "metadata": {},
   "outputs": [],
   "source": [
    "rdd_events = rdd.map(lambda x: x.split(\",\"))"
   ]
  },
  {
   "cell_type": "code",
   "execution_count": 59,
   "metadata": {},
   "outputs": [
    {
     "data": {
      "text/plain": [
       "[['app_id',\n",
       "  'session_id',\n",
       "  'event',\n",
       "  'event_timestamp',\n",
       "  'event_value',\n",
       "  'user_id_hash'],\n",
       " ['4724682771660800',\n",
       "  '5558845121177764917',\n",
       "  '45',\n",
       "  '1542215397132',\n",
       "  '0.0',\n",
       "  '9943447915df3a45fd6720a026af905b6da6b56a37701b8b2629802e9a541006'],\n",
       " ['4724682771660800',\n",
       "  '5558845121177764917',\n",
       "  '45',\n",
       "  '1542215484895',\n",
       "  '0.0',\n",
       "  '9943447915df3a45fd6720a026af905b6da6b56a37701b8b2629802e9a541006']]"
      ]
     },
     "execution_count": 59,
     "metadata": {},
     "output_type": "execute_result"
    }
   ],
   "source": [
    "rdd_events.take(3)"
   ]
  },
  {
   "cell_type": "code",
   "execution_count": 60,
   "metadata": {},
   "outputs": [
    {
     "data": {
      "text/plain": [
       "['app_id',\n",
       " 'session_id',\n",
       " 'event',\n",
       " 'event_timestamp',\n",
       " 'event_value',\n",
       " 'user_id_hash']"
      ]
     },
     "execution_count": 60,
     "metadata": {},
     "output_type": "execute_result"
    }
   ],
   "source": [
    "header = rdd_events.first()\n",
    "header"
   ]
  },
  {
   "cell_type": "code",
   "execution_count": 61,
   "metadata": {
    "collapsed": true
   },
   "outputs": [],
   "source": [
    "lines = rdd_events.filter(lambda x: x!=header)"
   ]
  },
  {
   "cell_type": "code",
   "execution_count": 62,
   "metadata": {},
   "outputs": [
    {
     "data": {
      "text/plain": [
       "['4724682771660800',\n",
       " '5558845121177764917',\n",
       " '45',\n",
       " '1542215397132',\n",
       " '0.0',\n",
       " '9943447915df3a45fd6720a026af905b6da6b56a37701b8b2629802e9a541006']"
      ]
     },
     "execution_count": 62,
     "metadata": {},
     "output_type": "execute_result"
    }
   ],
   "source": [
    "lines.first()"
   ]
  },
  {
   "cell_type": "code",
   "execution_count": 63,
   "metadata": {},
   "outputs": [],
   "source": [
    "user_id_map = np.load(\"/home/zxr_nju/user_id_map.npy\").item()"
   ]
  },
  {
   "cell_type": "code",
   "execution_count": 64,
   "metadata": {
    "collapsed": true
   },
   "outputs": [],
   "source": [
    "def user_map(s):\n",
    "    return str(user_id_map[s])"
   ]
  },
  {
   "cell_type": "code",
   "execution_count": 14,
   "metadata": {
    "collapsed": true
   },
   "outputs": [],
   "source": [
    "# def timestamp_convert(s):\n",
    "#     return str(int(s)/(3.6*(10**6)))"
   ]
  },
  {
   "cell_type": "code",
   "execution_count": 75,
   "metadata": {
    "collapsed": true
   },
   "outputs": [],
   "source": [
    "# def string_convert(s):\n",
    "#     return int(s)"
   ]
  },
  {
   "cell_type": "code",
   "execution_count": 65,
   "metadata": {},
   "outputs": [],
   "source": [
    "lines = lines.map(lambda x: [x[0], x[1], x[2], x[3], x[4], user_map(x[5])])"
   ]
  },
  {
   "cell_type": "code",
   "execution_count": 49,
   "metadata": {},
   "outputs": [
    {
     "data": {
      "text/plain": [
       "[['4724682771660800',\n",
       "  '5558845121177764917',\n",
       "  '45',\n",
       "  '1542215397132',\n",
       "  '0.0',\n",
       "  '0'],\n",
       " ['4724682771660800',\n",
       "  '5558845121177764917',\n",
       "  '45',\n",
       "  '1542215484895',\n",
       "  '0.0',\n",
       "  '0'],\n",
       " ['4724682771660800',\n",
       "  '7689508378645584666',\n",
       "  '.m5100869650219008',\n",
       "  '1541124410372',\n",
       "  '0.0',\n",
       "  '0'],\n",
       " ['4724682771660800', '2201961907282901522', '4', '1543713091129', '0.0', '0'],\n",
       " ['4724682771660800', '2201961907282901522', '6', '1543713093116', '0.0', '0']]"
      ]
     },
     "execution_count": 49,
     "metadata": {},
     "output_type": "execute_result"
    }
   ],
   "source": [
    "lines.take(5)"
   ]
  },
  {
   "cell_type": "code",
   "execution_count": 66,
   "metadata": {
    "collapsed": true
   },
   "outputs": [],
   "source": [
    "# fields = [StructField(field_name, StringType(), True) for field_name in header]\n",
    "# schema = StructType(fields)"
   ]
  },
  {
   "cell_type": "code",
   "execution_count": 67,
   "metadata": {},
   "outputs": [],
   "source": [
    "schema = StructType([\n",
    "        StructField(\"app_id\", StringType(), True),\n",
    "        StructField(\"session_id\", StringType(), True),\n",
    "        StructField(\"event\", StringType(), True),\n",
    "        StructField(\"event_timestamp\", StringType(), True),\n",
    "        StructField(\"event_value\", StringType(), True),\n",
    "        StructField(\"user_id_hash\", StringType(), True),\n",
    "    ])"
   ]
  },
  {
   "cell_type": "code",
   "execution_count": 68,
   "metadata": {},
   "outputs": [],
   "source": [
    "events_df = ss.createDataFrame(lines, schema=schema)"
   ]
  },
  {
   "cell_type": "code",
   "execution_count": 69,
   "metadata": {},
   "outputs": [
    {
     "name": "stdout",
     "output_type": "stream",
     "text": [
      "+----------------+-------------------+------------------+---------------+-----------+------------+\n",
      "|          app_id|         session_id|             event|event_timestamp|event_value|user_id_hash|\n",
      "+----------------+-------------------+------------------+---------------+-----------+------------+\n",
      "|4724682771660800|5558845121177764917|                45|  1542215397132|        0.0|           0|\n",
      "|4724682771660800|5558845121177764917|                45|  1542215484895|        0.0|           0|\n",
      "|4724682771660800|7689508378645584666|.m5100869650219008|  1541124410372|        0.0|           0|\n",
      "|4724682771660800|2201961907282901522|                 4|  1543713091129|        0.0|           0|\n",
      "|4724682771660800|2201961907282901522|                 6|  1543713093116|        0.0|           0|\n",
      "|4724682771660800|2201961907282901522|                 5|  1543713101700|        1.0|           0|\n",
      "|4724682771660800|2201961907282901522|                45|  1543713186756|        0.0|           0|\n",
      "|4724682771660800|2201961907282901522|                45|  1543713206629|        0.0|           0|\n",
      "|4724682771660800|2201961907282901522|                45|  1543713247107|        0.0|           0|\n",
      "|4724682771660800|2201961907282901522|                45|  1543713294671|        0.0|           0|\n",
      "|4724682771660800|2201961907282901522|                45|  1543713510764|        0.0|           0|\n",
      "|4724682771660800|2201961907282901522|                45|  1543713611684|        0.0|           0|\n",
      "|4724682771660800|2201961907282901522|                45|  1543713680757|        0.0|           0|\n",
      "|4724682771660800|2201961907282901522|                45|  1543713694437|        0.0|           0|\n",
      "|4724682771660800|2201961907282901522|                45|  1543713776204|        0.0|           0|\n",
      "|4724682771660800|2201961907282901522|                45|  1543713873994|        0.0|           0|\n",
      "|4724682771660800|2201961907282901522|                45|  1543714002820|        0.0|           0|\n",
      "|4724682771660800|2201961907282901522|                45|  1543714051284|        0.0|           0|\n",
      "|4724682771660800|2201961907282901522|                45|  1543714109910|        0.0|           0|\n",
      "|4724682771660800|2201961907282901522|                45|  1543714174487|        0.0|           0|\n",
      "+----------------+-------------------+------------------+---------------+-----------+------------+\n",
      "only showing top 20 rows\n",
      "\n"
     ]
    }
   ],
   "source": [
    "events_df.show()"
   ]
  },
  {
   "cell_type": "code",
   "execution_count": 77,
   "metadata": {
    "collapsed": true
   },
   "outputs": [],
   "source": [
    "from pyspark.sql.functions import *"
   ]
  },
  {
   "cell_type": "code",
   "execution_count": 79,
   "metadata": {},
   "outputs": [],
   "source": [
    "events_new = events_df.select(\"session_id\", \"event\", from_unixtime((events_df.event_timestamp.cast('bigint')/1000))\\\n",
    "                              .cast('timestamp').alias('timestamp'), \"event_value\", \"user_id_hash\")"
   ]
  },
  {
   "cell_type": "code",
   "execution_count": 80,
   "metadata": {},
   "outputs": [
    {
     "name": "stdout",
     "output_type": "stream",
     "text": [
      "+-------------------+------------------+-------------------+-----------+------------+\n",
      "|         session_id|             event|          timestamp|event_value|user_id_hash|\n",
      "+-------------------+------------------+-------------------+-----------+------------+\n",
      "|5558845121177764917|                45|2018-11-14 17:09:57|        0.0|           0|\n",
      "|5558845121177764917|                45|2018-11-14 17:11:24|        0.0|           0|\n",
      "|7689508378645584666|.m5100869650219008|2018-11-02 02:06:50|        0.0|           0|\n",
      "|2201961907282901522|                 4|2018-12-02 01:11:31|        0.0|           0|\n",
      "|2201961907282901522|                 6|2018-12-02 01:11:33|        0.0|           0|\n",
      "|2201961907282901522|                 5|2018-12-02 01:11:41|        1.0|           0|\n",
      "|2201961907282901522|                45|2018-12-02 01:13:06|        0.0|           0|\n",
      "|2201961907282901522|                45|2018-12-02 01:13:26|        0.0|           0|\n",
      "|2201961907282901522|                45|2018-12-02 01:14:07|        0.0|           0|\n",
      "|2201961907282901522|                45|2018-12-02 01:14:54|        0.0|           0|\n",
      "|2201961907282901522|                45|2018-12-02 01:18:30|        0.0|           0|\n",
      "|2201961907282901522|                45|2018-12-02 01:20:11|        0.0|           0|\n",
      "|2201961907282901522|                45|2018-12-02 01:21:20|        0.0|           0|\n",
      "|2201961907282901522|                45|2018-12-02 01:21:34|        0.0|           0|\n",
      "|2201961907282901522|                45|2018-12-02 01:22:56|        0.0|           0|\n",
      "|2201961907282901522|                45|2018-12-02 01:24:33|        0.0|           0|\n",
      "|2201961907282901522|                45|2018-12-02 01:26:42|        0.0|           0|\n",
      "|2201961907282901522|                45|2018-12-02 01:27:31|        0.0|           0|\n",
      "|2201961907282901522|                45|2018-12-02 01:28:29|        0.0|           0|\n",
      "|2201961907282901522|                45|2018-12-02 01:29:34|        0.0|           0|\n",
      "+-------------------+------------------+-------------------+-----------+------------+\n",
      "only showing top 20 rows\n",
      "\n"
     ]
    }
   ],
   "source": [
    "events_new.show()"
   ]
  },
  {
   "cell_type": "code",
   "execution_count": 82,
   "metadata": {},
   "outputs": [],
   "source": [
    "from pyspark.sql.functions import col, hour\n",
    "split_col = pyspark.sql.functions.split(events_new[\"timestamp\"], \" \")\n",
    "events_new = events_new.withColumn(\"date\", split_col.getItem(0))\n",
    "events_new = events_new.withColumn(\"time\", split_col.getItem(1))"
   ]
  },
  {
   "cell_type": "code",
   "execution_count": 83,
   "metadata": {},
   "outputs": [
    {
     "name": "stdout",
     "output_type": "stream",
     "text": [
      "+-------------------+------------------+-------------------+-----------+------------+----------+--------+\n",
      "|         session_id|             event|          timestamp|event_value|user_id_hash|      date|    time|\n",
      "+-------------------+------------------+-------------------+-----------+------------+----------+--------+\n",
      "|5558845121177764917|                45|2018-11-14 17:09:57|        0.0|           0|2018-11-14|17:09:57|\n",
      "|5558845121177764917|                45|2018-11-14 17:11:24|        0.0|           0|2018-11-14|17:11:24|\n",
      "|7689508378645584666|.m5100869650219008|2018-11-02 02:06:50|        0.0|           0|2018-11-02|02:06:50|\n",
      "|2201961907282901522|                 4|2018-12-02 01:11:31|        0.0|           0|2018-12-02|01:11:31|\n",
      "|2201961907282901522|                 6|2018-12-02 01:11:33|        0.0|           0|2018-12-02|01:11:33|\n",
      "|2201961907282901522|                 5|2018-12-02 01:11:41|        1.0|           0|2018-12-02|01:11:41|\n",
      "|2201961907282901522|                45|2018-12-02 01:13:06|        0.0|           0|2018-12-02|01:13:06|\n",
      "|2201961907282901522|                45|2018-12-02 01:13:26|        0.0|           0|2018-12-02|01:13:26|\n",
      "|2201961907282901522|                45|2018-12-02 01:14:07|        0.0|           0|2018-12-02|01:14:07|\n",
      "|2201961907282901522|                45|2018-12-02 01:14:54|        0.0|           0|2018-12-02|01:14:54|\n",
      "|2201961907282901522|                45|2018-12-02 01:18:30|        0.0|           0|2018-12-02|01:18:30|\n",
      "|2201961907282901522|                45|2018-12-02 01:20:11|        0.0|           0|2018-12-02|01:20:11|\n",
      "|2201961907282901522|                45|2018-12-02 01:21:20|        0.0|           0|2018-12-02|01:21:20|\n",
      "|2201961907282901522|                45|2018-12-02 01:21:34|        0.0|           0|2018-12-02|01:21:34|\n",
      "|2201961907282901522|                45|2018-12-02 01:22:56|        0.0|           0|2018-12-02|01:22:56|\n",
      "|2201961907282901522|                45|2018-12-02 01:24:33|        0.0|           0|2018-12-02|01:24:33|\n",
      "|2201961907282901522|                45|2018-12-02 01:26:42|        0.0|           0|2018-12-02|01:26:42|\n",
      "|2201961907282901522|                45|2018-12-02 01:27:31|        0.0|           0|2018-12-02|01:27:31|\n",
      "|2201961907282901522|                45|2018-12-02 01:28:29|        0.0|           0|2018-12-02|01:28:29|\n",
      "|2201961907282901522|                45|2018-12-02 01:29:34|        0.0|           0|2018-12-02|01:29:34|\n",
      "+-------------------+------------------+-------------------+-----------+------------+----------+--------+\n",
      "only showing top 20 rows\n",
      "\n"
     ]
    }
   ],
   "source": [
    "events_new.show()"
   ]
  },
  {
   "cell_type": "code",
   "execution_count": 84,
   "metadata": {
    "collapsed": true
   },
   "outputs": [],
   "source": [
    "events_new = events_new.withColumn(\"date_tmstp\", (col(\"timestamp\").cast(\"timestamp\")))\n",
    "events_new = events_new.withColumn(\"hour\", hour(\"date_tmstp\"))"
   ]
  },
  {
   "cell_type": "code",
   "execution_count": 85,
   "metadata": {},
   "outputs": [
    {
     "name": "stdout",
     "output_type": "stream",
     "text": [
      "+-------------------+------------------+-------------------+-----------+------------+----------+--------+-------------------+----+\n",
      "|         session_id|             event|          timestamp|event_value|user_id_hash|      date|    time|         date_tmstp|hour|\n",
      "+-------------------+------------------+-------------------+-----------+------------+----------+--------+-------------------+----+\n",
      "|5558845121177764917|                45|2018-11-14 17:09:57|        0.0|           0|2018-11-14|17:09:57|2018-11-14 17:09:57|  17|\n",
      "|5558845121177764917|                45|2018-11-14 17:11:24|        0.0|           0|2018-11-14|17:11:24|2018-11-14 17:11:24|  17|\n",
      "|7689508378645584666|.m5100869650219008|2018-11-02 02:06:50|        0.0|           0|2018-11-02|02:06:50|2018-11-02 02:06:50|   2|\n",
      "|2201961907282901522|                 4|2018-12-02 01:11:31|        0.0|           0|2018-12-02|01:11:31|2018-12-02 01:11:31|   1|\n",
      "|2201961907282901522|                 6|2018-12-02 01:11:33|        0.0|           0|2018-12-02|01:11:33|2018-12-02 01:11:33|   1|\n",
      "|2201961907282901522|                 5|2018-12-02 01:11:41|        1.0|           0|2018-12-02|01:11:41|2018-12-02 01:11:41|   1|\n",
      "|2201961907282901522|                45|2018-12-02 01:13:06|        0.0|           0|2018-12-02|01:13:06|2018-12-02 01:13:06|   1|\n",
      "|2201961907282901522|                45|2018-12-02 01:13:26|        0.0|           0|2018-12-02|01:13:26|2018-12-02 01:13:26|   1|\n",
      "|2201961907282901522|                45|2018-12-02 01:14:07|        0.0|           0|2018-12-02|01:14:07|2018-12-02 01:14:07|   1|\n",
      "|2201961907282901522|                45|2018-12-02 01:14:54|        0.0|           0|2018-12-02|01:14:54|2018-12-02 01:14:54|   1|\n",
      "|2201961907282901522|                45|2018-12-02 01:18:30|        0.0|           0|2018-12-02|01:18:30|2018-12-02 01:18:30|   1|\n",
      "|2201961907282901522|                45|2018-12-02 01:20:11|        0.0|           0|2018-12-02|01:20:11|2018-12-02 01:20:11|   1|\n",
      "|2201961907282901522|                45|2018-12-02 01:21:20|        0.0|           0|2018-12-02|01:21:20|2018-12-02 01:21:20|   1|\n",
      "|2201961907282901522|                45|2018-12-02 01:21:34|        0.0|           0|2018-12-02|01:21:34|2018-12-02 01:21:34|   1|\n",
      "|2201961907282901522|                45|2018-12-02 01:22:56|        0.0|           0|2018-12-02|01:22:56|2018-12-02 01:22:56|   1|\n",
      "|2201961907282901522|                45|2018-12-02 01:24:33|        0.0|           0|2018-12-02|01:24:33|2018-12-02 01:24:33|   1|\n",
      "|2201961907282901522|                45|2018-12-02 01:26:42|        0.0|           0|2018-12-02|01:26:42|2018-12-02 01:26:42|   1|\n",
      "|2201961907282901522|                45|2018-12-02 01:27:31|        0.0|           0|2018-12-02|01:27:31|2018-12-02 01:27:31|   1|\n",
      "|2201961907282901522|                45|2018-12-02 01:28:29|        0.0|           0|2018-12-02|01:28:29|2018-12-02 01:28:29|   1|\n",
      "|2201961907282901522|                45|2018-12-02 01:29:34|        0.0|           0|2018-12-02|01:29:34|2018-12-02 01:29:34|   1|\n",
      "+-------------------+------------------+-------------------+-----------+------------+----------+--------+-------------------+----+\n",
      "only showing top 20 rows\n",
      "\n"
     ]
    }
   ],
   "source": [
    "events_new.show()"
   ]
  },
  {
   "cell_type": "code",
   "execution_count": 86,
   "metadata": {
    "collapsed": true
   },
   "outputs": [],
   "source": [
    "events_new = events_new.select(\"session_id\", \"event\", \"event_value\", \"user_id_hash\", \"date\", \"hour\")"
   ]
  },
  {
   "cell_type": "code",
   "execution_count": 87,
   "metadata": {},
   "outputs": [
    {
     "name": "stdout",
     "output_type": "stream",
     "text": [
      "+-------------------+------------------+-----------+------------+----------+----+\n",
      "|         session_id|             event|event_value|user_id_hash|      date|hour|\n",
      "+-------------------+------------------+-----------+------------+----------+----+\n",
      "|5558845121177764917|                45|        0.0|           0|2018-11-14|  17|\n",
      "|5558845121177764917|                45|        0.0|           0|2018-11-14|  17|\n",
      "|7689508378645584666|.m5100869650219008|        0.0|           0|2018-11-02|   2|\n",
      "|2201961907282901522|                 4|        0.0|           0|2018-12-02|   1|\n",
      "|2201961907282901522|                 6|        0.0|           0|2018-12-02|   1|\n",
      "|2201961907282901522|                 5|        1.0|           0|2018-12-02|   1|\n",
      "|2201961907282901522|                45|        0.0|           0|2018-12-02|   1|\n",
      "|2201961907282901522|                45|        0.0|           0|2018-12-02|   1|\n",
      "|2201961907282901522|                45|        0.0|           0|2018-12-02|   1|\n",
      "|2201961907282901522|                45|        0.0|           0|2018-12-02|   1|\n",
      "|2201961907282901522|                45|        0.0|           0|2018-12-02|   1|\n",
      "|2201961907282901522|                45|        0.0|           0|2018-12-02|   1|\n",
      "|2201961907282901522|                45|        0.0|           0|2018-12-02|   1|\n",
      "|2201961907282901522|                45|        0.0|           0|2018-12-02|   1|\n",
      "|2201961907282901522|                45|        0.0|           0|2018-12-02|   1|\n",
      "|2201961907282901522|                45|        0.0|           0|2018-12-02|   1|\n",
      "|2201961907282901522|                45|        0.0|           0|2018-12-02|   1|\n",
      "|2201961907282901522|                45|        0.0|           0|2018-12-02|   1|\n",
      "|2201961907282901522|                45|        0.0|           0|2018-12-02|   1|\n",
      "|2201961907282901522|                45|        0.0|           0|2018-12-02|   1|\n",
      "+-------------------+------------------+-----------+------------+----------+----+\n",
      "only showing top 20 rows\n",
      "\n"
     ]
    }
   ],
   "source": [
    "events_new.show()"
   ]
  },
  {
   "cell_type": "code",
   "execution_count": 88,
   "metadata": {
    "collapsed": true
   },
   "outputs": [],
   "source": [
    "from pyspark.sql.functions import date_format\n",
    "events_new = events_new.select(\"session_id\", \"event\", \"event_value\", \"user_id_hash\", \"date\", \"hour\",\\\n",
    "                               date_format('date', 'u').alias('dow_number'), \\\n",
    "                               date_format('date', 'E').alias('dow_string'))"
   ]
  },
  {
   "cell_type": "code",
   "execution_count": 89,
   "metadata": {},
   "outputs": [
    {
     "name": "stdout",
     "output_type": "stream",
     "text": [
      "+-------------------+------------------+-----------+------------+----------+----+----------+----------+\n",
      "|         session_id|             event|event_value|user_id_hash|      date|hour|dow_number|dow_string|\n",
      "+-------------------+------------------+-----------+------------+----------+----+----------+----------+\n",
      "|5558845121177764917|                45|        0.0|           0|2018-11-14|  17|         3|       Wed|\n",
      "|5558845121177764917|                45|        0.0|           0|2018-11-14|  17|         3|       Wed|\n",
      "|7689508378645584666|.m5100869650219008|        0.0|           0|2018-11-02|   2|         5|       Fri|\n",
      "|2201961907282901522|                 4|        0.0|           0|2018-12-02|   1|         7|       Sun|\n",
      "|2201961907282901522|                 6|        0.0|           0|2018-12-02|   1|         7|       Sun|\n",
      "|2201961907282901522|                 5|        1.0|           0|2018-12-02|   1|         7|       Sun|\n",
      "|2201961907282901522|                45|        0.0|           0|2018-12-02|   1|         7|       Sun|\n",
      "|2201961907282901522|                45|        0.0|           0|2018-12-02|   1|         7|       Sun|\n",
      "|2201961907282901522|                45|        0.0|           0|2018-12-02|   1|         7|       Sun|\n",
      "|2201961907282901522|                45|        0.0|           0|2018-12-02|   1|         7|       Sun|\n",
      "|2201961907282901522|                45|        0.0|           0|2018-12-02|   1|         7|       Sun|\n",
      "|2201961907282901522|                45|        0.0|           0|2018-12-02|   1|         7|       Sun|\n",
      "|2201961907282901522|                45|        0.0|           0|2018-12-02|   1|         7|       Sun|\n",
      "|2201961907282901522|                45|        0.0|           0|2018-12-02|   1|         7|       Sun|\n",
      "|2201961907282901522|                45|        0.0|           0|2018-12-02|   1|         7|       Sun|\n",
      "|2201961907282901522|                45|        0.0|           0|2018-12-02|   1|         7|       Sun|\n",
      "|2201961907282901522|                45|        0.0|           0|2018-12-02|   1|         7|       Sun|\n",
      "|2201961907282901522|                45|        0.0|           0|2018-12-02|   1|         7|       Sun|\n",
      "|2201961907282901522|                45|        0.0|           0|2018-12-02|   1|         7|       Sun|\n",
      "|2201961907282901522|                45|        0.0|           0|2018-12-02|   1|         7|       Sun|\n",
      "+-------------------+------------------+-----------+------------+----------+----+----------+----------+\n",
      "only showing top 20 rows\n",
      "\n"
     ]
    }
   ],
   "source": [
    "events_new.show()"
   ]
  },
  {
   "cell_type": "code",
   "execution_count": 90,
   "metadata": {},
   "outputs": [
    {
     "name": "stdout",
     "output_type": "stream",
     "text": [
      "root\n",
      " |-- session_id: string (nullable = true)\n",
      " |-- event: string (nullable = true)\n",
      " |-- event_value: string (nullable = true)\n",
      " |-- user_id_hash: string (nullable = true)\n",
      " |-- date: string (nullable = true)\n",
      " |-- hour: integer (nullable = true)\n",
      " |-- dow_number: string (nullable = true)\n",
      " |-- dow_string: string (nullable = true)\n",
      "\n"
     ]
    }
   ],
   "source": [
    "events_new.printSchema()"
   ]
  },
  {
   "cell_type": "code",
   "execution_count": 113,
   "metadata": {},
   "outputs": [
    {
     "name": "stderr",
     "output_type": "stream",
     "text": [
      "/home/zxr_nju/anaconda3/lib/python3.5/site-packages/pyspark/context.py:428: RuntimeWarning: Unable to cleanly shutdown Spark JVM process. It is possible that the process has crashed, been killed or may also be in a zombie state.\n",
      "  RuntimeWarning\n"
     ]
    }
   ],
   "source": [
    "sc.stop()"
   ]
  },
  {
   "cell_type": "markdown",
   "metadata": {
    "collapsed": true
   },
   "source": [
    "### Encoding Data Using Pandas"
   ]
  },
  {
   "cell_type": "code",
   "execution_count": 6,
   "metadata": {},
   "outputs": [
    {
     "name": "stdout",
     "output_type": "stream",
     "text": [
      "<class 'pandas.core.frame.DataFrame'>\n",
      "RangeIndex: 111946597 entries, 0 to 111946596\n",
      "Data columns (total 5 columns):\n",
      "session_id         int64\n",
      "event              object\n",
      "event_timestamp    float64\n",
      "event_value        float64\n",
      "user_id_hash       int64\n",
      "dtypes: float64(2), int64(2), object(1)\n",
      "memory usage: 9.7 GB\n"
     ]
    }
   ],
   "source": [
    "events_new.info(memory_usage=\"deep\")"
   ]
  },
  {
   "cell_type": "code",
   "execution_count": 7,
   "metadata": {},
   "outputs": [
    {
     "ename": "MemoryError",
     "evalue": "",
     "output_type": "error",
     "traceback": [
      "\u001b[1;31m---------------------------------------------------------------------------\u001b[0m",
      "\u001b[1;31mMemoryError\u001b[0m                               Traceback (most recent call last)",
      "\u001b[1;32m<ipython-input-7-655c9c2cf1e0>\u001b[0m in \u001b[0;36m<module>\u001b[1;34m()\u001b[0m\n\u001b[1;32m----> 1\u001b[1;33m \u001b[0mevents\u001b[0m \u001b[1;33m=\u001b[0m \u001b[0mpd\u001b[0m\u001b[1;33m.\u001b[0m\u001b[0mread_csv\u001b[0m\u001b[1;33m(\u001b[0m\u001b[1;34m\"~/data/events.csv\"\u001b[0m\u001b[1;33m)\u001b[0m\u001b[1;33m\u001b[0m\u001b[0m\n\u001b[0m",
      "\u001b[1;32m/home/zxr_nju/anaconda3/lib/python3.5/site-packages/pandas/io/parsers.py\u001b[0m in \u001b[0;36mparser_f\u001b[1;34m(filepath_or_buffer, sep, delimiter, header, names, index_col, usecols, squeeze, prefix, mangle_dupe_cols, dtype, engine, converters, true_values, false_values, skipinitialspace, skiprows, nrows, na_values, keep_default_na, na_filter, verbose, skip_blank_lines, parse_dates, infer_datetime_format, keep_date_col, date_parser, dayfirst, iterator, chunksize, compression, thousands, decimal, lineterminator, quotechar, quoting, escapechar, comment, encoding, dialect, tupleize_cols, error_bad_lines, warn_bad_lines, skipfooter, doublequote, delim_whitespace, low_memory, memory_map, float_precision)\u001b[0m\n\u001b[0;32m    676\u001b[0m                     skip_blank_lines=skip_blank_lines)\n\u001b[0;32m    677\u001b[0m \u001b[1;33m\u001b[0m\u001b[0m\n\u001b[1;32m--> 678\u001b[1;33m         \u001b[1;32mreturn\u001b[0m \u001b[0m_read\u001b[0m\u001b[1;33m(\u001b[0m\u001b[0mfilepath_or_buffer\u001b[0m\u001b[1;33m,\u001b[0m \u001b[0mkwds\u001b[0m\u001b[1;33m)\u001b[0m\u001b[1;33m\u001b[0m\u001b[0m\n\u001b[0m\u001b[0;32m    679\u001b[0m \u001b[1;33m\u001b[0m\u001b[0m\n\u001b[0;32m    680\u001b[0m     \u001b[0mparser_f\u001b[0m\u001b[1;33m.\u001b[0m\u001b[0m__name__\u001b[0m \u001b[1;33m=\u001b[0m \u001b[0mname\u001b[0m\u001b[1;33m\u001b[0m\u001b[0m\n",
      "\u001b[1;32m/home/zxr_nju/anaconda3/lib/python3.5/site-packages/pandas/io/parsers.py\u001b[0m in \u001b[0;36m_read\u001b[1;34m(filepath_or_buffer, kwds)\u001b[0m\n\u001b[0;32m    444\u001b[0m \u001b[1;33m\u001b[0m\u001b[0m\n\u001b[0;32m    445\u001b[0m     \u001b[1;32mtry\u001b[0m\u001b[1;33m:\u001b[0m\u001b[1;33m\u001b[0m\u001b[0m\n\u001b[1;32m--> 446\u001b[1;33m         \u001b[0mdata\u001b[0m \u001b[1;33m=\u001b[0m \u001b[0mparser\u001b[0m\u001b[1;33m.\u001b[0m\u001b[0mread\u001b[0m\u001b[1;33m(\u001b[0m\u001b[0mnrows\u001b[0m\u001b[1;33m)\u001b[0m\u001b[1;33m\u001b[0m\u001b[0m\n\u001b[0m\u001b[0;32m    447\u001b[0m     \u001b[1;32mfinally\u001b[0m\u001b[1;33m:\u001b[0m\u001b[1;33m\u001b[0m\u001b[0m\n\u001b[0;32m    448\u001b[0m         \u001b[0mparser\u001b[0m\u001b[1;33m.\u001b[0m\u001b[0mclose\u001b[0m\u001b[1;33m(\u001b[0m\u001b[1;33m)\u001b[0m\u001b[1;33m\u001b[0m\u001b[0m\n",
      "\u001b[1;32m/home/zxr_nju/anaconda3/lib/python3.5/site-packages/pandas/io/parsers.py\u001b[0m in \u001b[0;36mread\u001b[1;34m(self, nrows)\u001b[0m\n\u001b[0;32m   1034\u001b[0m                 \u001b[1;32mraise\u001b[0m \u001b[0mValueError\u001b[0m\u001b[1;33m(\u001b[0m\u001b[1;34m'skipfooter not supported for iteration'\u001b[0m\u001b[1;33m)\u001b[0m\u001b[1;33m\u001b[0m\u001b[0m\n\u001b[0;32m   1035\u001b[0m \u001b[1;33m\u001b[0m\u001b[0m\n\u001b[1;32m-> 1036\u001b[1;33m         \u001b[0mret\u001b[0m \u001b[1;33m=\u001b[0m \u001b[0mself\u001b[0m\u001b[1;33m.\u001b[0m\u001b[0m_engine\u001b[0m\u001b[1;33m.\u001b[0m\u001b[0mread\u001b[0m\u001b[1;33m(\u001b[0m\u001b[0mnrows\u001b[0m\u001b[1;33m)\u001b[0m\u001b[1;33m\u001b[0m\u001b[0m\n\u001b[0m\u001b[0;32m   1037\u001b[0m \u001b[1;33m\u001b[0m\u001b[0m\n\u001b[0;32m   1038\u001b[0m         \u001b[1;31m# May alter columns / col_dict\u001b[0m\u001b[1;33m\u001b[0m\u001b[1;33m\u001b[0m\u001b[0m\n",
      "\u001b[1;32m/home/zxr_nju/anaconda3/lib/python3.5/site-packages/pandas/io/parsers.py\u001b[0m in \u001b[0;36mread\u001b[1;34m(self, nrows)\u001b[0m\n\u001b[0;32m   1846\u001b[0m     \u001b[1;32mdef\u001b[0m \u001b[0mread\u001b[0m\u001b[1;33m(\u001b[0m\u001b[0mself\u001b[0m\u001b[1;33m,\u001b[0m \u001b[0mnrows\u001b[0m\u001b[1;33m=\u001b[0m\u001b[1;32mNone\u001b[0m\u001b[1;33m)\u001b[0m\u001b[1;33m:\u001b[0m\u001b[1;33m\u001b[0m\u001b[0m\n\u001b[0;32m   1847\u001b[0m         \u001b[1;32mtry\u001b[0m\u001b[1;33m:\u001b[0m\u001b[1;33m\u001b[0m\u001b[0m\n\u001b[1;32m-> 1848\u001b[1;33m             \u001b[0mdata\u001b[0m \u001b[1;33m=\u001b[0m \u001b[0mself\u001b[0m\u001b[1;33m.\u001b[0m\u001b[0m_reader\u001b[0m\u001b[1;33m.\u001b[0m\u001b[0mread\u001b[0m\u001b[1;33m(\u001b[0m\u001b[0mnrows\u001b[0m\u001b[1;33m)\u001b[0m\u001b[1;33m\u001b[0m\u001b[0m\n\u001b[0m\u001b[0;32m   1849\u001b[0m         \u001b[1;32mexcept\u001b[0m \u001b[0mStopIteration\u001b[0m\u001b[1;33m:\u001b[0m\u001b[1;33m\u001b[0m\u001b[0m\n\u001b[0;32m   1850\u001b[0m             \u001b[1;32mif\u001b[0m \u001b[0mself\u001b[0m\u001b[1;33m.\u001b[0m\u001b[0m_first_chunk\u001b[0m\u001b[1;33m:\u001b[0m\u001b[1;33m\u001b[0m\u001b[0m\n",
      "\u001b[1;32mpandas/_libs/parsers.pyx\u001b[0m in \u001b[0;36mpandas._libs.parsers.TextReader.read\u001b[1;34m()\u001b[0m\n",
      "\u001b[1;32mpandas/_libs/parsers.pyx\u001b[0m in \u001b[0;36mpandas._libs.parsers.TextReader._read_low_memory\u001b[1;34m()\u001b[0m\n",
      "\u001b[1;32mpandas/_libs/parsers.pyx\u001b[0m in \u001b[0;36mpandas._libs.parsers._concatenate_chunks\u001b[1;34m()\u001b[0m\n",
      "\u001b[1;31mMemoryError\u001b[0m: "
     ]
    }
   ],
   "source": [
    "events = pd.read_csv(\"~/data/events.csv\")"
   ]
  },
  {
   "cell_type": "code",
   "execution_count": 6,
   "metadata": {},
   "outputs": [],
   "source": [
    "events.to_feather(\"/tmp/events\")"
   ]
  },
  {
   "cell_type": "code",
   "execution_count": 6,
   "metadata": {},
   "outputs": [
    {
     "data": {
      "text/html": [
       "<div>\n",
       "<style scoped>\n",
       "    .dataframe tbody tr th:only-of-type {\n",
       "        vertical-align: middle;\n",
       "    }\n",
       "\n",
       "    .dataframe tbody tr th {\n",
       "        vertical-align: top;\n",
       "    }\n",
       "\n",
       "    .dataframe thead th {\n",
       "        text-align: right;\n",
       "    }\n",
       "</style>\n",
       "<table border=\"1\" class=\"dataframe\">\n",
       "  <thead>\n",
       "    <tr style=\"text-align: right;\">\n",
       "      <th></th>\n",
       "      <th>app_id</th>\n",
       "      <th>session_id</th>\n",
       "      <th>event</th>\n",
       "      <th>event_timestamp</th>\n",
       "      <th>event_value</th>\n",
       "      <th>user_id_hash</th>\n",
       "    </tr>\n",
       "  </thead>\n",
       "  <tbody>\n",
       "    <tr>\n",
       "      <th>0</th>\n",
       "      <td>4724682771660800</td>\n",
       "      <td>5558845121177764917</td>\n",
       "      <td>45</td>\n",
       "      <td>1542215397132</td>\n",
       "      <td>0.0</td>\n",
       "      <td>9943447915df3a45fd6720a026af905b6da6b56a37701b...</td>\n",
       "    </tr>\n",
       "    <tr>\n",
       "      <th>1</th>\n",
       "      <td>4724682771660800</td>\n",
       "      <td>5558845121177764917</td>\n",
       "      <td>45</td>\n",
       "      <td>1542215484895</td>\n",
       "      <td>0.0</td>\n",
       "      <td>9943447915df3a45fd6720a026af905b6da6b56a37701b...</td>\n",
       "    </tr>\n",
       "    <tr>\n",
       "      <th>2</th>\n",
       "      <td>4724682771660800</td>\n",
       "      <td>7689508378645584666</td>\n",
       "      <td>.m5100869650219008</td>\n",
       "      <td>1541124410372</td>\n",
       "      <td>0.0</td>\n",
       "      <td>9943447915df3a45fd6720a026af905b6da6b56a37701b...</td>\n",
       "    </tr>\n",
       "    <tr>\n",
       "      <th>3</th>\n",
       "      <td>4724682771660800</td>\n",
       "      <td>2201961907282901522</td>\n",
       "      <td>4</td>\n",
       "      <td>1543713091129</td>\n",
       "      <td>0.0</td>\n",
       "      <td>9943447915df3a45fd6720a026af905b6da6b56a37701b...</td>\n",
       "    </tr>\n",
       "    <tr>\n",
       "      <th>4</th>\n",
       "      <td>4724682771660800</td>\n",
       "      <td>2201961907282901522</td>\n",
       "      <td>6</td>\n",
       "      <td>1543713093116</td>\n",
       "      <td>0.0</td>\n",
       "      <td>9943447915df3a45fd6720a026af905b6da6b56a37701b...</td>\n",
       "    </tr>\n",
       "  </tbody>\n",
       "</table>\n",
       "</div>"
      ],
      "text/plain": [
       "             app_id           session_id               event  event_timestamp  \\\n",
       "0  4724682771660800  5558845121177764917                  45    1542215397132   \n",
       "1  4724682771660800  5558845121177764917                  45    1542215484895   \n",
       "2  4724682771660800  7689508378645584666  .m5100869650219008    1541124410372   \n",
       "3  4724682771660800  2201961907282901522                   4    1543713091129   \n",
       "4  4724682771660800  2201961907282901522                   6    1543713093116   \n",
       "\n",
       "   event_value                                       user_id_hash  \n",
       "0          0.0  9943447915df3a45fd6720a026af905b6da6b56a37701b...  \n",
       "1          0.0  9943447915df3a45fd6720a026af905b6da6b56a37701b...  \n",
       "2          0.0  9943447915df3a45fd6720a026af905b6da6b56a37701b...  \n",
       "3          0.0  9943447915df3a45fd6720a026af905b6da6b56a37701b...  \n",
       "4          0.0  9943447915df3a45fd6720a026af905b6da6b56a37701b...  "
      ]
     },
     "execution_count": 6,
     "metadata": {},
     "output_type": "execute_result"
    }
   ],
   "source": [
    "events.head()"
   ]
  },
  {
   "cell_type": "code",
   "execution_count": 7,
   "metadata": {},
   "outputs": [
    {
     "data": {
      "text/html": [
       "<div>\n",
       "<style scoped>\n",
       "    .dataframe tbody tr th:only-of-type {\n",
       "        vertical-align: middle;\n",
       "    }\n",
       "\n",
       "    .dataframe tbody tr th {\n",
       "        vertical-align: top;\n",
       "    }\n",
       "\n",
       "    .dataframe thead th {\n",
       "        text-align: right;\n",
       "    }\n",
       "</style>\n",
       "<table border=\"1\" class=\"dataframe\">\n",
       "  <thead>\n",
       "    <tr style=\"text-align: right;\">\n",
       "      <th></th>\n",
       "      <th>app_id</th>\n",
       "      <th>session_id</th>\n",
       "      <th>event_timestamp</th>\n",
       "      <th>event_value</th>\n",
       "    </tr>\n",
       "  </thead>\n",
       "  <tbody>\n",
       "    <tr>\n",
       "      <th>count</th>\n",
       "      <td>1.119466e+08</td>\n",
       "      <td>1.119466e+08</td>\n",
       "      <td>1.119466e+08</td>\n",
       "      <td>1.119465e+08</td>\n",
       "    </tr>\n",
       "    <tr>\n",
       "      <th>mean</th>\n",
       "      <td>4.724683e+15</td>\n",
       "      <td>4.615011e+18</td>\n",
       "      <td>1.541643e+12</td>\n",
       "      <td>1.476199e+04</td>\n",
       "    </tr>\n",
       "    <tr>\n",
       "      <th>std</th>\n",
       "      <td>1.056559e+07</td>\n",
       "      <td>2.662939e+18</td>\n",
       "      <td>1.639665e+09</td>\n",
       "      <td>7.948289e+06</td>\n",
       "    </tr>\n",
       "    <tr>\n",
       "      <th>min</th>\n",
       "      <td>4.724683e+15</td>\n",
       "      <td>2.335879e+12</td>\n",
       "      <td>1.538377e+12</td>\n",
       "      <td>0.000000e+00</td>\n",
       "    </tr>\n",
       "    <tr>\n",
       "      <th>25%</th>\n",
       "      <td>4.724683e+15</td>\n",
       "      <td>2.310347e+18</td>\n",
       "      <td>1.540306e+12</td>\n",
       "      <td>0.000000e+00</td>\n",
       "    </tr>\n",
       "    <tr>\n",
       "      <th>50%</th>\n",
       "      <td>4.724683e+15</td>\n",
       "      <td>4.617399e+18</td>\n",
       "      <td>1.541696e+12</td>\n",
       "      <td>0.000000e+00</td>\n",
       "    </tr>\n",
       "    <tr>\n",
       "      <th>75%</th>\n",
       "      <td>4.724683e+15</td>\n",
       "      <td>6.921542e+18</td>\n",
       "      <td>1.542983e+12</td>\n",
       "      <td>0.000000e+00</td>\n",
       "    </tr>\n",
       "    <tr>\n",
       "      <th>max</th>\n",
       "      <td>4.724683e+15</td>\n",
       "      <td>9.223371e+18</td>\n",
       "      <td>1.544832e+12</td>\n",
       "      <td>4.294967e+09</td>\n",
       "    </tr>\n",
       "  </tbody>\n",
       "</table>\n",
       "</div>"
      ],
      "text/plain": [
       "             app_id    session_id  event_timestamp   event_value\n",
       "count  1.119466e+08  1.119466e+08     1.119466e+08  1.119465e+08\n",
       "mean   4.724683e+15  4.615011e+18     1.541643e+12  1.476199e+04\n",
       "std    1.056559e+07  2.662939e+18     1.639665e+09  7.948289e+06\n",
       "min    4.724683e+15  2.335879e+12     1.538377e+12  0.000000e+00\n",
       "25%    4.724683e+15  2.310347e+18     1.540306e+12  0.000000e+00\n",
       "50%    4.724683e+15  4.617399e+18     1.541696e+12  0.000000e+00\n",
       "75%    4.724683e+15  6.921542e+18     1.542983e+12  0.000000e+00\n",
       "max    4.724683e+15  9.223371e+18     1.544832e+12  4.294967e+09"
      ]
     },
     "execution_count": 7,
     "metadata": {},
     "output_type": "execute_result"
    }
   ],
   "source": [
    "events.describe()"
   ]
  },
  {
   "cell_type": "code",
   "execution_count": 9,
   "metadata": {},
   "outputs": [
    {
     "name": "stdout",
     "output_type": "stream",
     "text": [
      "<class 'pandas.core.frame.DataFrame'>\n",
      "RangeIndex: 111946597 entries, 0 to 111946596\n",
      "Data columns (total 6 columns):\n",
      "app_id             int64\n",
      "session_id         int64\n",
      "event              object\n",
      "event_timestamp    int64\n",
      "event_value        float64\n",
      "user_id_hash       object\n",
      "dtypes: float64(1), int64(3), object(2)\n",
      "memory usage: 22.3 GB\n"
     ]
    }
   ],
   "source": [
    "events.info(memory_usage=\"deep\")"
   ]
  },
  {
   "cell_type": "code",
   "execution_count": 24,
   "metadata": {
    "collapsed": true
   },
   "outputs": [],
   "source": [
    "import numpy as np"
   ]
  },
  {
   "cell_type": "code",
   "execution_count": 8,
   "metadata": {
    "collapsed": true
   },
   "outputs": [],
   "source": [
    "events[\"event_timestamp\"] = events[\"event_timestamp\"]/(3.6*(10**6))"
   ]
  },
  {
   "cell_type": "code",
   "execution_count": 9,
   "metadata": {},
   "outputs": [
    {
     "data": {
      "text/html": [
       "<div>\n",
       "<style scoped>\n",
       "    .dataframe tbody tr th:only-of-type {\n",
       "        vertical-align: middle;\n",
       "    }\n",
       "\n",
       "    .dataframe tbody tr th {\n",
       "        vertical-align: top;\n",
       "    }\n",
       "\n",
       "    .dataframe thead th {\n",
       "        text-align: right;\n",
       "    }\n",
       "</style>\n",
       "<table border=\"1\" class=\"dataframe\">\n",
       "  <thead>\n",
       "    <tr style=\"text-align: right;\">\n",
       "      <th></th>\n",
       "      <th>app_id</th>\n",
       "      <th>session_id</th>\n",
       "      <th>event</th>\n",
       "      <th>event_timestamp</th>\n",
       "      <th>event_value</th>\n",
       "      <th>user_id_hash</th>\n",
       "    </tr>\n",
       "  </thead>\n",
       "  <tbody>\n",
       "    <tr>\n",
       "      <th>0</th>\n",
       "      <td>4724682771660800</td>\n",
       "      <td>5558845121177764917</td>\n",
       "      <td>45</td>\n",
       "      <td>428393.165870</td>\n",
       "      <td>0.0</td>\n",
       "      <td>9943447915df3a45fd6720a026af905b6da6b56a37701b...</td>\n",
       "    </tr>\n",
       "    <tr>\n",
       "      <th>1</th>\n",
       "      <td>4724682771660800</td>\n",
       "      <td>5558845121177764917</td>\n",
       "      <td>45</td>\n",
       "      <td>428393.190249</td>\n",
       "      <td>0.0</td>\n",
       "      <td>9943447915df3a45fd6720a026af905b6da6b56a37701b...</td>\n",
       "    </tr>\n",
       "    <tr>\n",
       "      <th>2</th>\n",
       "      <td>4724682771660800</td>\n",
       "      <td>7689508378645584666</td>\n",
       "      <td>.m5100869650219008</td>\n",
       "      <td>428090.113992</td>\n",
       "      <td>0.0</td>\n",
       "      <td>9943447915df3a45fd6720a026af905b6da6b56a37701b...</td>\n",
       "    </tr>\n",
       "    <tr>\n",
       "      <th>3</th>\n",
       "      <td>4724682771660800</td>\n",
       "      <td>2201961907282901522</td>\n",
       "      <td>4</td>\n",
       "      <td>428809.191980</td>\n",
       "      <td>0.0</td>\n",
       "      <td>9943447915df3a45fd6720a026af905b6da6b56a37701b...</td>\n",
       "    </tr>\n",
       "    <tr>\n",
       "      <th>4</th>\n",
       "      <td>4724682771660800</td>\n",
       "      <td>2201961907282901522</td>\n",
       "      <td>6</td>\n",
       "      <td>428809.192532</td>\n",
       "      <td>0.0</td>\n",
       "      <td>9943447915df3a45fd6720a026af905b6da6b56a37701b...</td>\n",
       "    </tr>\n",
       "  </tbody>\n",
       "</table>\n",
       "</div>"
      ],
      "text/plain": [
       "             app_id           session_id               event  event_timestamp  \\\n",
       "0  4724682771660800  5558845121177764917                  45    428393.165870   \n",
       "1  4724682771660800  5558845121177764917                  45    428393.190249   \n",
       "2  4724682771660800  7689508378645584666  .m5100869650219008    428090.113992   \n",
       "3  4724682771660800  2201961907282901522                   4    428809.191980   \n",
       "4  4724682771660800  2201961907282901522                   6    428809.192532   \n",
       "\n",
       "   event_value                                       user_id_hash  \n",
       "0          0.0  9943447915df3a45fd6720a026af905b6da6b56a37701b...  \n",
       "1          0.0  9943447915df3a45fd6720a026af905b6da6b56a37701b...  \n",
       "2          0.0  9943447915df3a45fd6720a026af905b6da6b56a37701b...  \n",
       "3          0.0  9943447915df3a45fd6720a026af905b6da6b56a37701b...  \n",
       "4          0.0  9943447915df3a45fd6720a026af905b6da6b56a37701b...  "
      ]
     },
     "execution_count": 9,
     "metadata": {},
     "output_type": "execute_result"
    }
   ],
   "source": [
    "events.head()"
   ]
  },
  {
   "cell_type": "code",
   "execution_count": 13,
   "metadata": {
    "collapsed": true
   },
   "outputs": [],
   "source": [
    "for i in range(len(events)):\n",
    "    hashing_value = events[\"user_id_hash\"].values[i]\n",
    "    events[\"user_id_hash\"].values[i] = user_id_map[hashing_value]"
   ]
  },
  {
   "cell_type": "code",
   "execution_count": 14,
   "metadata": {},
   "outputs": [
    {
     "data": {
      "text/html": [
       "<div>\n",
       "<style scoped>\n",
       "    .dataframe tbody tr th:only-of-type {\n",
       "        vertical-align: middle;\n",
       "    }\n",
       "\n",
       "    .dataframe tbody tr th {\n",
       "        vertical-align: top;\n",
       "    }\n",
       "\n",
       "    .dataframe thead th {\n",
       "        text-align: right;\n",
       "    }\n",
       "</style>\n",
       "<table border=\"1\" class=\"dataframe\">\n",
       "  <thead>\n",
       "    <tr style=\"text-align: right;\">\n",
       "      <th></th>\n",
       "      <th>app_id</th>\n",
       "      <th>session_id</th>\n",
       "      <th>event</th>\n",
       "      <th>event_timestamp</th>\n",
       "      <th>event_value</th>\n",
       "      <th>user_id_hash</th>\n",
       "    </tr>\n",
       "  </thead>\n",
       "  <tbody>\n",
       "    <tr>\n",
       "      <th>0</th>\n",
       "      <td>4724682771660800</td>\n",
       "      <td>5558845121177764917</td>\n",
       "      <td>45</td>\n",
       "      <td>428393.165870</td>\n",
       "      <td>0.0</td>\n",
       "      <td>0</td>\n",
       "    </tr>\n",
       "    <tr>\n",
       "      <th>1</th>\n",
       "      <td>4724682771660800</td>\n",
       "      <td>5558845121177764917</td>\n",
       "      <td>45</td>\n",
       "      <td>428393.190249</td>\n",
       "      <td>0.0</td>\n",
       "      <td>0</td>\n",
       "    </tr>\n",
       "    <tr>\n",
       "      <th>2</th>\n",
       "      <td>4724682771660800</td>\n",
       "      <td>7689508378645584666</td>\n",
       "      <td>.m5100869650219008</td>\n",
       "      <td>428090.113992</td>\n",
       "      <td>0.0</td>\n",
       "      <td>0</td>\n",
       "    </tr>\n",
       "    <tr>\n",
       "      <th>3</th>\n",
       "      <td>4724682771660800</td>\n",
       "      <td>2201961907282901522</td>\n",
       "      <td>4</td>\n",
       "      <td>428809.191980</td>\n",
       "      <td>0.0</td>\n",
       "      <td>0</td>\n",
       "    </tr>\n",
       "    <tr>\n",
       "      <th>4</th>\n",
       "      <td>4724682771660800</td>\n",
       "      <td>2201961907282901522</td>\n",
       "      <td>6</td>\n",
       "      <td>428809.192532</td>\n",
       "      <td>0.0</td>\n",
       "      <td>0</td>\n",
       "    </tr>\n",
       "  </tbody>\n",
       "</table>\n",
       "</div>"
      ],
      "text/plain": [
       "             app_id           session_id               event  event_timestamp  \\\n",
       "0  4724682771660800  5558845121177764917                  45    428393.165870   \n",
       "1  4724682771660800  5558845121177764917                  45    428393.190249   \n",
       "2  4724682771660800  7689508378645584666  .m5100869650219008    428090.113992   \n",
       "3  4724682771660800  2201961907282901522                   4    428809.191980   \n",
       "4  4724682771660800  2201961907282901522                   6    428809.192532   \n",
       "\n",
       "   event_value user_id_hash  \n",
       "0          0.0            0  \n",
       "1          0.0            0  \n",
       "2          0.0            0  \n",
       "3          0.0            0  \n",
       "4          0.0            0  "
      ]
     },
     "execution_count": 14,
     "metadata": {},
     "output_type": "execute_result"
    }
   ],
   "source": [
    "events.head()"
   ]
  },
  {
   "cell_type": "code",
   "execution_count": 15,
   "metadata": {},
   "outputs": [
    {
     "name": "stdout",
     "output_type": "stream",
     "text": [
      "<class 'pandas.core.frame.DataFrame'>\n",
      "RangeIndex: 111946597 entries, 0 to 111946596\n",
      "Data columns (total 6 columns):\n",
      "app_id             int64\n",
      "session_id         int64\n",
      "event              object\n",
      "event_timestamp    float64\n",
      "event_value        float64\n",
      "user_id_hash       object\n",
      "dtypes: float64(2), int64(2), object(2)\n",
      "memory usage: 13.8 GB\n"
     ]
    }
   ],
   "source": [
    "events.info(memory_usage=\"deep\")"
   ]
  },
  {
   "cell_type": "code",
   "execution_count": 20,
   "metadata": {
    "collapsed": true
   },
   "outputs": [],
   "source": [
    "events.to_feather(\"/tmp/events\")"
   ]
  },
  {
   "cell_type": "code",
   "execution_count": 4,
   "metadata": {
    "collapsed": true
   },
   "outputs": [],
   "source": [
    "events_df = pd.read_feather(\"/tmp/events\").drop(['app_id'], axis=1)"
   ]
  },
  {
   "cell_type": "code",
   "execution_count": 5,
   "metadata": {},
   "outputs": [
    {
     "data": {
      "text/html": [
       "<div>\n",
       "<style scoped>\n",
       "    .dataframe tbody tr th:only-of-type {\n",
       "        vertical-align: middle;\n",
       "    }\n",
       "\n",
       "    .dataframe tbody tr th {\n",
       "        vertical-align: top;\n",
       "    }\n",
       "\n",
       "    .dataframe thead th {\n",
       "        text-align: right;\n",
       "    }\n",
       "</style>\n",
       "<table border=\"1\" class=\"dataframe\">\n",
       "  <thead>\n",
       "    <tr style=\"text-align: right;\">\n",
       "      <th></th>\n",
       "      <th>session_id</th>\n",
       "      <th>event</th>\n",
       "      <th>event_timestamp</th>\n",
       "      <th>event_value</th>\n",
       "      <th>user_id_hash</th>\n",
       "    </tr>\n",
       "  </thead>\n",
       "  <tbody>\n",
       "    <tr>\n",
       "      <th>0</th>\n",
       "      <td>5558845121177764917</td>\n",
       "      <td>45</td>\n",
       "      <td>428393.165870</td>\n",
       "      <td>0.0</td>\n",
       "      <td>0</td>\n",
       "    </tr>\n",
       "    <tr>\n",
       "      <th>1</th>\n",
       "      <td>5558845121177764917</td>\n",
       "      <td>45</td>\n",
       "      <td>428393.190249</td>\n",
       "      <td>0.0</td>\n",
       "      <td>0</td>\n",
       "    </tr>\n",
       "    <tr>\n",
       "      <th>2</th>\n",
       "      <td>7689508378645584666</td>\n",
       "      <td>.m5100869650219008</td>\n",
       "      <td>428090.113992</td>\n",
       "      <td>0.0</td>\n",
       "      <td>0</td>\n",
       "    </tr>\n",
       "    <tr>\n",
       "      <th>3</th>\n",
       "      <td>2201961907282901522</td>\n",
       "      <td>4</td>\n",
       "      <td>428809.191980</td>\n",
       "      <td>0.0</td>\n",
       "      <td>0</td>\n",
       "    </tr>\n",
       "    <tr>\n",
       "      <th>4</th>\n",
       "      <td>2201961907282901522</td>\n",
       "      <td>6</td>\n",
       "      <td>428809.192532</td>\n",
       "      <td>0.0</td>\n",
       "      <td>0</td>\n",
       "    </tr>\n",
       "  </tbody>\n",
       "</table>\n",
       "</div>"
      ],
      "text/plain": [
       "            session_id               event  event_timestamp  event_value  \\\n",
       "0  5558845121177764917                  45    428393.165870          0.0   \n",
       "1  5558845121177764917                  45    428393.190249          0.0   \n",
       "2  7689508378645584666  .m5100869650219008    428090.113992          0.0   \n",
       "3  2201961907282901522                   4    428809.191980          0.0   \n",
       "4  2201961907282901522                   6    428809.192532          0.0   \n",
       "\n",
       "   user_id_hash  \n",
       "0             0  \n",
       "1             0  \n",
       "2             0  \n",
       "3             0  \n",
       "4             0  "
      ]
     },
     "execution_count": 5,
     "metadata": {},
     "output_type": "execute_result"
    }
   ],
   "source": [
    "events_df.head()"
   ]
  },
  {
   "cell_type": "code",
   "execution_count": 6,
   "metadata": {},
   "outputs": [
    {
     "name": "stdout",
     "output_type": "stream",
     "text": [
      "<class 'pandas.core.frame.DataFrame'>\n",
      "RangeIndex: 111946597 entries, 0 to 111946596\n",
      "Data columns (total 5 columns):\n",
      "session_id         int64\n",
      "event              object\n",
      "event_timestamp    float64\n",
      "event_value        float64\n",
      "user_id_hash       int64\n",
      "dtypes: float64(2), int64(2), object(1)\n",
      "memory usage: 9.7 GB\n"
     ]
    }
   ],
   "source": [
    "events_df.info(memory_usage=\"deep\")"
   ]
  },
  {
   "cell_type": "code",
   "execution_count": 7,
   "metadata": {},
   "outputs": [
    {
     "data": {
      "text/plain": [
       "5009421"
      ]
     },
     "execution_count": 7,
     "metadata": {},
     "output_type": "execute_result"
    }
   ],
   "source": [
    "events_df.session_id.nunique()"
   ]
  },
  {
   "cell_type": "code",
   "execution_count": 7,
   "metadata": {},
   "outputs": [
    {
     "data": {
      "text/plain": [
       "88"
      ]
     },
     "execution_count": 7,
     "metadata": {},
     "output_type": "execute_result"
    }
   ],
   "source": [
    "events_df.event_value.nunique()"
   ]
  },
  {
   "cell_type": "code",
   "execution_count": 8,
   "metadata": {},
   "outputs": [
    {
     "data": {
      "text/plain": [
       "109"
      ]
     },
     "execution_count": 8,
     "metadata": {},
     "output_type": "execute_result"
    }
   ],
   "source": [
    "events_df.event.nunique()"
   ]
  },
  {
   "cell_type": "code",
   "execution_count": 10,
   "metadata": {
    "collapsed": true
   },
   "outputs": [],
   "source": [
    "unique_sessions = list(events_df.session_id.unique())"
   ]
  },
  {
   "cell_type": "code",
   "execution_count": 11,
   "metadata": {},
   "outputs": [],
   "source": [
    "session_mapping = list(np.arange(0, 5009421, 1))"
   ]
  },
  {
   "cell_type": "code",
   "execution_count": 12,
   "metadata": {
    "collapsed": true
   },
   "outputs": [],
   "source": [
    "session_id_map = {}"
   ]
  },
  {
   "cell_type": "code",
   "execution_count": 9,
   "metadata": {},
   "outputs": [
    {
     "ename": "NameError",
     "evalue": "name 'unique_sessions' is not defined",
     "output_type": "error",
     "traceback": [
      "\u001b[1;31m---------------------------------------------------------------------------\u001b[0m",
      "\u001b[1;31mNameError\u001b[0m                                 Traceback (most recent call last)",
      "\u001b[1;32m<ipython-input-9-5c6382a62c9c>\u001b[0m in \u001b[0;36m<module>\u001b[1;34m()\u001b[0m\n\u001b[1;32m----> 1\u001b[1;33m \u001b[1;32mfor\u001b[0m \u001b[0mu\u001b[0m\u001b[1;33m,\u001b[0m\u001b[0mm\u001b[0m \u001b[1;32min\u001b[0m \u001b[0mzip\u001b[0m\u001b[1;33m(\u001b[0m\u001b[0munique_sessions\u001b[0m\u001b[1;33m,\u001b[0m \u001b[0msession_mapping\u001b[0m\u001b[1;33m)\u001b[0m\u001b[1;33m:\u001b[0m\u001b[1;33m\u001b[0m\u001b[0m\n\u001b[0m\u001b[0;32m      2\u001b[0m     \u001b[0msession_id_map\u001b[0m\u001b[1;33m[\u001b[0m\u001b[0mu\u001b[0m\u001b[1;33m]\u001b[0m \u001b[1;33m=\u001b[0m \u001b[0mm\u001b[0m\u001b[1;33m\u001b[0m\u001b[0m\n",
      "\u001b[1;31mNameError\u001b[0m: name 'unique_sessions' is not defined"
     ]
    }
   ],
   "source": [
    "for u,m in zip(unique_sessions, session_mapping):\n",
    "    session_id_map[u] = m"
   ]
  },
  {
   "cell_type": "code",
   "execution_count": 30,
   "metadata": {},
   "outputs": [
    {
     "data": {
      "text/plain": [
       "{7058144086722514667: 3638706,\n",
       " 6200027727731359744: 611760,\n",
       " 5238444851531350017: 1873931,\n",
       " 3538545855248203779: 3109648,\n",
       " 974022461290971141: 1263240,\n",
       " 7652611076072144900: 987543,\n",
       " 8171190004765163519: 4780756,\n",
       " 6625980323844849676: 1855225,\n",
       " 7032222941422186310: 4376805,\n",
       " 3898410986347954178: 3358559,\n",
       " 3145247326368082605: 644382,\n",
       " 111435857826676758: 194134,\n",
       " 2584200619530833455: 4949719,\n",
       " 7180780963176120344: 413714,\n",
       " 5773588068518854685: 1290435,\n",
       " 4259658144088588320: 3431187,\n",
       " 4361844474410872292: 3396305,\n",
       " 2800019288864325667: 876548,\n",
       " 9189581406794154018: 3124959,\n",
       " 7914380015729377316: 4242223,\n",
       " 698457381071224872: 3163144,\n",
       " 4982010528525189159: 143239,\n",
       " 3463847689572057129: 30840,\n",
       " 6673682719827820585: 3215635,\n",
       " 8497399280737189929: 4834589,\n",
       " 8904694660140630058: 1089836,\n",
       " 2883314632905195565: 72933,\n",
       " 5643129746290464091: 3323873,\n",
       " 1778977376621822002: 4781332,\n",
       " 8332832109865467952: 1462286,\n",
       " 1315449813499641908: 3886393,\n",
       " 4916540014084489267: 213196,\n",
       " 1836925014956310582: 928112,\n",
       " 936695038698586168: 1882008,\n",
       " 6280993002994503767: 3618534,\n",
       " 7107356167593350492: 1656392,\n",
       " 2744575150887272507: 2292479,\n",
       " 3863688947150356541: 3444253,\n",
       " 4387843026630737982: 102020,\n",
       " 2140751433060227254: 3206941,\n",
       " 6695723116410175553: 303126,\n",
       " 3921098347479370688: 4968282,\n",
       " 3019553183191007300: 3973404,\n",
       " 6336483601776902212: 1173603,\n",
       " 7113014608410167280: 3068592,\n",
       " 4800112091207827528: 2087096,\n",
       " 4854481144210522185: 1775422,\n",
       " 2222450310637420620: 638556,\n",
       " 7391882942382866508: 4499316,\n",
       " 5464171854596582070: 3758801,\n",
       " 5998980581157066081: 4739425,\n",
       " 462596088734416982: 3094243,\n",
       " 4159319974445318233: 1565159,\n",
       " 3572567772074344538: 3175199,\n",
       " 9077314385705173081: 4869035,\n",
       " 4757843194423181688: 4014573,\n",
       " 2267603704762163606: 632601,\n",
       " 5311794677136323822: 2824119,\n",
       " 402410720202850400: 1621487,\n",
       " 7367695591087800414: 2701509,\n",
       " 6224699660993298528: 89933,\n",
       " 1759740924608381027: 2399766,\n",
       " 2870824250070007907: 1465787,\n",
       " 1283257583502622824: 815695,\n",
       " 4854300213702961961: 1784473,\n",
       " 7015855639570153576: 251677,\n",
       " 1640105342794727532: 305524,\n",
       " 5588898806516154477: 2171038,\n",
       " 1116269675638947952: 82297,\n",
       " 7900774729424886672: 4995700,\n",
       " 474643883091820660: 3051881,\n",
       " 6667443466561825468: 3247221,\n",
       " 5197461447513560423: 2533200,\n",
       " 6213144466576900216: 3216530,\n",
       " 6568476375345266809: 69969,\n",
       " 3438369084981379195: 316628,\n",
       " 6723785534772084859: 2568007,\n",
       " 6232761250837692540: 3239135,\n",
       " 8776118443059772009: 4716176,\n",
       " 1997371528135573634: 1839189,\n",
       " 5582948608448484713: 3667835,\n",
       " 3912546487455711253: 3209013,\n",
       " 2813754303409851017: 3804356,\n",
       " 232379115087331463: 5006042,\n",
       " 4947311303983537181: 1173170,\n",
       " 1169462743015620745: 2619047,\n",
       " 8159297840217822324: 4752465,\n",
       " 6425863685855510665: 2153341,\n",
       " 4169888899029532811: 3839267,\n",
       " 7584820003501873454: 4762634,\n",
       " 5347546906899775628: 309857,\n",
       " 1616652707539801453: 4982714,\n",
       " 8999259883568103566: 3189272,\n",
       " 2997396414478155921: 3880740,\n",
       " 4647581836349450945: 4250435,\n",
       " 8139576104567439505: 157405,\n",
       " 2882413263964864660: 313652,\n",
       " 7041006797993279640: 3101035,\n",
       " 6095061771427512474: 876880,\n",
       " 3413353210444775581: 2468336,\n",
       " 7461403530855710744: 2523984,\n",
       " 608304883656818852: 234789,\n",
       " 4126386387719028901: 426953,\n",
       " 5106480942768193701: 2752119,\n",
       " 4311080688183935003: 2091490,\n",
       " 3044339958627172521: 766953,\n",
       " 8867628076471228037: 3648221,\n",
       " 69751446035234990: 753583,\n",
       " 3129982390600990895: 589594,\n",
       " 5696654086917587120: 2295007,\n",
       " 1079330729936027827: 4502711,\n",
       " 177129618015256756: 677811,\n",
       " 901012070869237941: 2163004,\n",
       " 1415717741925149385: 4414371,\n",
       " 3108520336405037239: 3981563,\n",
       " 7898537484915572918: 1359477,\n",
       " 6842389547892867256: 74034,\n",
       " 5738802304912457757: 3716293,\n",
       " 5501594402235089083: 2565024,\n",
       " 2648424920825288052: 457455,\n",
       " 3942304431130804415: 164606,\n",
       " 8607762699763318813: 4472313,\n",
       " 5584237630103136969: 3019333,\n",
       " 6652093622341948788: 4415756,\n",
       " 124013740260589766: 3391919,\n",
       " 1956648556492226761: 1511619,\n",
       " 240708426131308746: 2083928,\n",
       " 3124547047993813708: 1942169,\n",
       " 5103883398322061518: 2702341,\n",
       " 8728435588224516302: 4237255,\n",
       " 4507582870885236770: 972275,\n",
       " 8034014341105713362: 4982822,\n",
       " 6463183092629635284: 2679911,\n",
       " 8824304240692918585: 4941997,\n",
       " 6065055868469117142: 309770,\n",
       " 5084375619718873305: 1852680,\n",
       " 8871583950531723483: 3157402,\n",
       " 3509602899211824634: 4995507,\n",
       " 1063182539679596768: 697719,\n",
       " 2008062322056102113: 3242820,\n",
       " 6563124961773355232: 1035155,\n",
       " 3536815900973859043: 427997,\n",
       " 130672675994468581: 1818879,\n",
       " 5455446303964135652: 491188,\n",
       " 7540902960752533428: 3860226,\n",
       " 8213134190393164005: 449056,\n",
       " 8798970749810376935: 1144201,\n",
       " 8503554141325361389: 838590,\n",
       " 9134006265469468910: 575214,\n",
       " 9004722244282220785: 52366,\n",
       " 964840764594979062: 1639412,\n",
       " 3114732083281395958: 627916,\n",
       " 8919955001049088039: 2239526,\n",
       " 3800020606362802910: 147555,\n",
       " 8098767309763510526: 2922548,\n",
       " 3501928841419424002: 905012,\n",
       " 2317937413722210563: 2276445,\n",
       " 5005164215275618563: 3483089,\n",
       " 4496342679373742342: 1756146,\n",
       " 4212574584640541596: 866538,\n",
       " 8801338166385574150: 21402,\n",
       " 5096042193341120780: 352458,\n",
       " 6398710341135499307: 2495023,\n",
       " 4051468743892882818: 3225057,\n",
       " 7019957890517565716: 1659689,\n",
       " 1603845171416400153: 1396342,\n",
       " 6007239824333865242: 3196398,\n",
       " 6575317551046197531: 2535732,\n",
       " 8133375074423013660: 4191444,\n",
       " 8263609599102288157: 1881664,\n",
       " 1695307502700200225: 3019594,\n",
       " 2347520120248598817: 2410684,\n",
       " 7641495937842064088: 2083481,\n",
       " 602240024755218124: 3873751,\n",
       " 1380667066276643109: 1832866,\n",
       " 3900583459076178215: 3539028,\n",
       " 8614136023121734197: 4347716,\n",
       " 5384965914074546472: 4078236,\n",
       " 2277956078895366443: 924254,\n",
       " 2444508212456587564: 893692,\n",
       " 1272654893882016046: 827476,\n",
       " 7647582050221118853: 181913,\n",
       " 5217069203588120625: 3954850,\n",
       " 7112591698933945395: 4000287,\n",
       " 6087959877112803903: 3926976,\n",
       " 5625908293139431733: 225052,\n",
       " 2281702083738468664: 593280,\n",
       " 5478811108934357337: 176968,\n",
       " 5686594766922318138: 2201387,\n",
       " 1856785711240315197: 3335699,\n",
       " 2474406272594608180: 1271359,\n",
       " 8321270127654080043: 4611550,\n",
       " 6791484588997306417: 2946785,\n",
       " 145502575775449412: 508495,\n",
       " 5835868291612016692: 1956577,\n",
       " 5890228684371389795: 4952098,\n",
       " 4171060662736257351: 1229045,\n",
       " 6728417932739958154: 3115260,\n",
       " 6396258756228809032: 498415,\n",
       " 8255846242121750325: 3727802,\n",
       " 7299612041268953421: 116406,\n",
       " 7332661655806935374: 1875332,\n",
       " 1478728333932189070: 4010218,\n",
       " 4191015305755461265: 4218651,\n",
       " 1500788478500143447: 2692543,\n",
       " 2769364890127696215: 4197090,\n",
       " 4353492187563600611: 4613365,\n",
       " 3104869793744814426: 2920842,\n",
       " 591909415221723488: 3531788,\n",
       " 680887366117753185: 17425,\n",
       " 7139270627193520184: 3125132,\n",
       " 1950962208737329508: 953369,\n",
       " 5633935102313496932: 2454551,\n",
       " 2819686296014815590: 1036386,\n",
       " 8111110135172039018: 755386,\n",
       " 684062581995864430: 1538382,\n",
       " 7515190104311202156: 1873698,\n",
       " 7843921211993096558: 3848129,\n",
       " 5760574914533666677: 3515226,\n",
       " 8451994472685764984: 580899,\n",
       " 1351151189491712381: 2770612,\n",
       " 3405316065616462210: 1001471,\n",
       " 8159443634496733569: 4483106,\n",
       " 2367870958166868357: 1791784,\n",
       " 4958489299844424863: 3064731,\n",
       " 3399657643529208199: 1669170,\n",
       " 6749606450990940552: 98026,\n",
       " 5687656522239181194: 847004,\n",
       " 444850425464619405: 1092349,\n",
       " 1156172801023934863: 2991641,\n",
       " 5170024048540778894: 1609733,\n",
       " 1041419284612732313: 3432014,\n",
       " 3033417146093797783: 3548087,\n",
       " 3195484709249352089: 735431,\n",
       " 3923052026076506862: 3948681,\n",
       " 6205126372596122010: 2150974,\n",
       " 1084340139558524314: 4917171,\n",
       " 169139060269996189: 4037959,\n",
       " 8781579546718634397: 2845314,\n",
       " 8737665735263781278: 1484796,\n",
       " 5118179690703487396: 3443390,\n",
       " 2063231939419395484: 3949298,\n",
       " 3801698635398250921: 2362569,\n",
       " 5592128376291721285: 2131419,\n",
       " 8356711899995308458: 215504,\n",
       " 6493576502444032429: 4744047,\n",
       " 320613004154503600: 569346,\n",
       " 261803318228025777: 1957168,\n",
       " 7912353233262084530: 2847042,\n",
       " 3875488694227960245: 2121072,\n",
       " 6306869454689010101: 1108180,\n",
       " 5947005797606097335: 2251114,\n",
       " 8949944175260860855: 2909320,\n",
       " 1855436436691068953: 4287954,\n",
       " 675578036883554752: 2559435,\n",
       " 7517773699240427967: 950152,\n",
       " 5467650512423747657: 4832373,\n",
       " 7845655399159038401: 7183,\n",
       " 3086572073582068164: 4053335,\n",
       " 8944700370743984581: 2359864,\n",
       " 6766105307157365191: 980625,\n",
       " 7402127375879635400: 159991,\n",
       " 2510867126017851851: 2066186,\n",
       " 3651467992648122829: 1306400,\n",
       " 913678745410208210: 2899083,\n",
       " 3305551744155866530: 1641306,\n",
       " 2461244117766635987: 2433964,\n",
       " 2612175834110230998: 154985,\n",
       " 251986520473338329: 2208100,\n",
       " 6269659007284915775: 4490484,\n",
       " 2362152143722381786: 4853015,\n",
       " 5047931929614090716: 2325155,\n",
       " 526239449799003285: 4880804,\n",
       " 6791397352037941326: 3880248,\n",
       " 8578127340851167713: 4315257,\n",
       " 3347309508200584613: 4517546,\n",
       " 7796289276404039758: 1902892,\n",
       " 787831698829083112: 2986343,\n",
       " 6208676452622838522: 1530805,\n",
       " 1882494455638917611: 2522770,\n",
       " 1135878939771161255: 4061750,\n",
       " 5311305460790329836: 719207,\n",
       " 4796989128449895163: 4260670,\n",
       " 7376560185147889: 1701503,\n",
       " 5263946674782339569: 169508,\n",
       " 8808777427170886133: 4855366,\n",
       " 7502645449304572407: 438351,\n",
       " 1090514163352644351: 3285657,\n",
       " 4658551544872960506: 3535280,\n",
       " 3876383220815626750: 112381,\n",
       " 3287276893912433151: 4541077,\n",
       " 1489446003051332098: 4130830,\n",
       " 7521709301086290432: 898108,\n",
       " 4710954929336877570: 1815944,\n",
       " 1600747177397715461: 2457441,\n",
       " 730574967262937606: 3388208,\n",
       " 6726743347121793791: 1699648,\n",
       " 4099152302177255945: 2103218,\n",
       " 8157844019066438152: 2095302,\n",
       " 3415091622625411595: 4358855,\n",
       " 4572633076458324492: 1000574,\n",
       " 2749577147696808462: 1827398,\n",
       " 2296360106780000784: 1668309,\n",
       " 7290021086347673055: 4526186,\n",
       " 7963461143475782160: 677530,\n",
       " 278610838821011988: 2618695,\n",
       " 8846278883960422931: 482309,\n",
       " 7119044381314646550: 1042882,\n",
       " 4843316510917830627: 4000689,\n",
       " 1413644958795039260: 936992,\n",
       " 7007197005583745111: 1632381,\n",
       " 2974580955697644062: 166337,\n",
       " 890643726970389024: 3382193,\n",
       " 1164907697355620898: 978018,\n",
       " 4922634293571748385: 1576085,\n",
       " 1637328886469258438: 4384393,\n",
       " 8181564004095581052: 3368238,\n",
       " 1555319338230088232: 150290,\n",
       " 1579508449069236777: 3060602,\n",
       " 3602231881661153833: 2422713,\n",
       " 466795618107392555: 2597067,\n",
       " 4349568693278081580: 4343674,\n",
       " 2905475902055907889: 3406651,\n",
       " 4513612901726028338: 1258275,\n",
       " 4413002256505373236: 2279964,\n",
       " 7459484439819937558: 4170249,\n",
       " 7175180299255415351: 1106854,\n",
       " 6843495208902779778: 3910212,\n",
       " 5316940101219320575: 602975,\n",
       " 855148690665461726: 1701250,\n",
       " 6370999398940835688: 535231,\n",
       " 2934716215291019842: 2895265,\n",
       " 5054224145042124: 3432236,\n",
       " 7159676200086929987: 856751,\n",
       " 9160138449368384068: 992009,\n",
       " 6700376487402406470: 2829495,\n",
       " 7978810570889495110: 415927,\n",
       " 4906617900424829494: 4199902,\n",
       " 7128833247768920884: 3584093,\n",
       " 4189781358576403023: 560790,\n",
       " 7836706208955063970: 4406426,\n",
       " 6305807331359719521: 2546493,\n",
       " 7937953887751995170: 2812703,\n",
       " 810527227962720857: 2326396,\n",
       " 5479036155053736536: 3196245,\n",
       " 1260466086101385825: 20286,\n",
       " 7584192899244161747: 4578579,\n",
       " 5532408175287861857: 23590,\n",
       " 52435339582636644: 4121170,\n",
       " 1442521802004767135: 4627966,\n",
       " 7818334224355689059: 1836786,\n",
       " 6450838056079108879: 4222478,\n",
       " 5814059531239424616: 1313847,\n",
       " 3676662673858101350: 4498167,\n",
       " 4473091744405127788: 1260747,\n",
       " 1763532680667857518: 518529,\n",
       " 8658084278216688236: 2361259,\n",
       " 496691518875107953: 2363748,\n",
       " 1026690195673580150: 2621317,\n",
       " 5245529119059346037: 4923153,\n",
       " 576209721002820216: 415695,\n",
       " 7240512004882956920: 2597096,\n",
       " 4292742585492963963: 1597152,\n",
       " 2175918118684066429: 3059017,\n",
       " 6248925810355339900: 4315897,\n",
       " 8006519766725776829: 2199901,\n",
       " 2589639639802337686: 2867416,\n",
       " 381894025066228502: 593416,\n",
       " 449043531051303558: 3770851,\n",
       " 9105594492392920510: 4074396,\n",
       " 7822748499778208389: 2336332,\n",
       " 8390803131738358406: 2682483,\n",
       " 5512830254407746184: 259798,\n",
       " 8337028043033805449: 1950391,\n",
       " 4073284612296540812: 201267,\n",
       " 722259808454967952: 201718,\n",
       " 3178175589844517521: 1784147,\n",
       " 92474831183107523: 2501354,\n",
       " 4159891238200397994: 4990378,\n",
       " 3123937712827007642: 2528533,\n",
       " 8794765228642052887: 789297,\n",
       " 8305044232012300955: 705802,\n",
       " 5294265151292179103: 2294868,\n",
       " 570536431542338210: 4153064,\n",
       " 2463435227838546594: 1452544,\n",
       " 8228190096059269793: 102456,\n",
       " 7497259803317982659: 2259558,\n",
       " 6629033447241286308: 159854,\n",
       " 8743631645612064634: 3447350,\n",
       " 5881085399492723367: 1722149,\n",
       " 8528561375609705924: 2989781,\n",
       " 5090237006511173009: 3006619,\n",
       " 6508683875500163755: 1107956,\n",
       " 3155439266356527789: 1543197,\n",
       " 1580122162381980336: 2553128,\n",
       " 4772928115619922607: 4971743,\n",
       " 4934439552669450928: 1891769,\n",
       " 2016264182369878707: 1081187,\n",
       " 5933202124436273175: 4107170,\n",
       " 7324638067237585586: 1955918,\n",
       " 1171701292687426230: 2409157,\n",
       " 1151543371353817784: 4143290,\n",
       " 4294182388814054072: 2280355,\n",
       " 8761677809692879644: 320655,\n",
       " 5433430347150533231: 4866480,\n",
       " 7381048639205636954: 447637,\n",
       " 559587361793508031: 348138,\n",
       " 8850952903687406270: 425689,\n",
       " 3877680450450576842: 4921810,\n",
       " 8633803981438583489: 2472292,\n",
       " 261545042282283717: 2492783,\n",
       " 6967464287094447796: 92776,\n",
       " 4980002918313755334: 4411449,\n",
       " 4990483464709997255: 4953346,\n",
       " 7025152337714994691: 4703492,\n",
       " 4496841168000123594: 2312735,\n",
       " 4467782292084884172: 1392690,\n",
       " 8609710797507002485: 808901,\n",
       " 2262616991965114976: 3584138,\n",
       " 6649647462216630993: 944601,\n",
       " 1107098993627059662: 3431210,\n",
       " 6017298347528815316: 3988071,\n",
       " 4378152055924064982: 1720131,\n",
       " 872973116047885016: 2207521,\n",
       " 5469630129916513333: 4031988,\n",
       " 8839372581800988740: 3899270,\n",
       " 7498077524997789132: 4857325,\n",
       " 3801275810262811357: 4333191,\n",
       " 6867607914723868217: 3193842,\n",
       " 5177908556329911008: 2055019,\n",
       " 840002219418845307: 1105699,\n",
       " 2707407085598987170: 3825750,\n",
       " 947277076958806759: 3816451,\n",
       " 6054895165854712551: 511520,\n",
       " 107116388052632299: 454454,\n",
       " 8787994824015117844: 4855283,\n",
       " 5633981804778444240: 1990016,\n",
       " 6961130411019731691: 263550,\n",
       " 8596402028447809268: 1675161,\n",
       " 2715159678223909616: 1342213,\n",
       " 2639035896208294642: 1081252,\n",
       " 904523269154013310: 3412391,\n",
       " 5532211629313229556: 401290,\n",
       " 8710524017003463412: 2462023,\n",
       " 7186072229975687925: 3709525,\n",
       " 3775136032594679251: 936001,\n",
       " 3665028245587231481: 3231816,\n",
       " 4004798761548120826: 646221,\n",
       " 5354661799673899816: 1793183,\n",
       " 1005924334620902142: 960491,\n",
       " 8939239256857418801: 4643115,\n",
       " 3758573177979399543: 888878,\n",
       " 7736346244762567423: 445756,\n",
       " 145240324929749763: 3467960,\n",
       " 4669851366538776152: 4800307,\n",
       " 2026128023741617622: 112718,\n",
       " 1008190016173984637: 4496311,\n",
       " 7753474899129139974: 3593936,\n",
       " 2610249690441405910: 4539905,\n",
       " 3807146623121752843: 4567653,\n",
       " 629891009961147837: 4438323,\n",
       " 8267545137907761933: 2145069,\n",
       " 6375914621101933327: 549205,\n",
       " 4349245202380288643: 4740029,\n",
       " 7865744429158499089: 1706886,\n",
       " 7739737631830835986: 1911475,\n",
       " 8025135654855525722: 4592758,\n",
       " 8188943867408548632: 3293220,\n",
       " 3500571581439017756: 124649,\n",
       " 3940425225191031582: 505800,\n",
       " 4149114751396813842: 2952155,\n",
       " 3191449322185032480: 2684078,\n",
       " 5365887681903461152: 2690339,\n",
       " 7890612728358765344: 442140,\n",
       " 5915003589872321314: 3357450,\n",
       " 6571699318552527651: 1799059,\n",
       " 5363688125375709989: 728218,\n",
       " 4933619133913780915: 3708898,\n",
       " 9136759730817991464: 1999117,\n",
       " 2249127978987072306: 2390024,\n",
       " 6602102341124490028: 3550291,\n",
       " 6850952497993876269: 3946034,\n",
       " 1523544680304739122: 1315357,\n",
       " 2694178568249803571: 139869,\n",
       " 9119755491495379762: 3926980,\n",
       " 2780816636263455482: 4957928,\n",
       " 1834609135363031865: 1131920,\n",
       " 3555408414001595194: 2926474,\n",
       " 4409270796208309055: 2683684,\n",
       " 5903588109819315007: 4482789,\n",
       " 3044521298656522170: 4669780,\n",
       " 6446201977654215489: 2288346,\n",
       " 1761396176331998020: 623201,\n",
       " 5714451086966784837: 361579,\n",
       " 5658664958871733062: 4115386,\n",
       " 7016139267768320841: 2073941,\n",
       " 6176359065241781068: 4513470,\n",
       " 6934880483939451724: 822455,\n",
       " 8684885145115339573: 3395165,\n",
       " 6150460763954742096: 2384225,\n",
       " 7682454784640549713: 1205072,\n",
       " 2758157024381370509: 3351387,\n",
       " 6847386864932881236: 4162472,\n",
       " 6017487798276195157: 3511893,\n",
       " 8736464276762744289: 1300422,\n",
       " 1394652193528742747: 4832910,\n",
       " 2613687712351257435: 1951814,\n",
       " 679265340982559581: 4310005,\n",
       " 6424252483224208220: 4797382,\n",
       " 5170065986596749492: 4260981,\n",
       " 7479296981492302686: 4365391,\n",
       " 7071281186092002104: 3553828,\n",
       " 3757588718629054555: 3415404,\n",
       " 4209804723575849834: 105028,\n",
       " 4433499020895191915: 3316256,\n",
       " 6575021003880006507: 3825951,\n",
       " 8812275244334056299: 4751948,\n",
       " 4764726145420312927: 2874923,\n",
       " 6851156193386169199: 318943,\n",
       " 8491477447584252784: 2291663,\n",
       " 8421723078454674290: 69325,\n",
       " 8293144949261948390: 1786649,\n",
       " 7654200427965055861: 3503801,\n",
       " 168063628333809812: 3970485,\n",
       " 5723060501986935672: 4928364,\n",
       " 737488225985801023: 4431906,\n",
       " 5860565703324598419: 655560,\n",
       " 697511217912087424: 969403,\n",
       " 3471438795000251266: 578498,\n",
       " 6062665160117059679: 4996915,\n",
       " 1676328955092665222: 3972400,\n",
       " 2770928700537963398: 4128179,\n",
       " 5450740508559147910: 34719,\n",
       " 3225197745715282070: 3508993,\n",
       " 3764004231934116747: 3295817,\n",
       " 8463781393330078603: 541105,\n",
       " 1116114083880371087: 2127818,\n",
       " 7545813066428973965: 1451053,\n",
       " 2720375725442291181: 1199419,\n",
       " 6332462529435927445: 3178868,\n",
       " 3183517958592791448: 3139699,\n",
       " 6242942890016768923: 2144201,\n",
       " 7532921244741851018: 4116326,\n",
       " 352765476075471775: 822840,\n",
       " 6990862774054159261: 2247825,\n",
       " 51550111993430947: 4084347,\n",
       " 7549509097901523873: 1537347,\n",
       " 3308883532419433380: 212983,\n",
       " 8838976422590895598: 168571,\n",
       " 1831817194865601351: 2011800,\n",
       " 8721723034352468286: 4381021,\n",
       " 6505510483785039475: 2949923,\n",
       " 6090199580470324038: 949061,\n",
       " 7774987383715398576: 936408,\n",
       " 6868933915642430388: 1017666,\n",
       " 8954904273372578748: 1396575,\n",
       " 7368076812410160061: 4250404,\n",
       " 1856437666602550210: 883451,\n",
       " 23081178793771972: 1496942,\n",
       " 5932026096613589955: 2348392,\n",
       " 1334178074173898913: 3042488,\n",
       " 2406573617082008519: 3679937,\n",
       " 7339369735411328876: 138377,\n",
       " 7546493903419999175: 699587,\n",
       " 5943919395670590410: 3362336,\n",
       " 3975694675986544705: 3753748,\n",
       " 7511968371571688395: 4777856,\n",
       " 5850740989911630799: 742869,\n",
       " 3028852171179670504: 4920376,\n",
       " 4548311291797701586: 1811595,\n",
       " 8086786784285648861: 4774086,\n",
       " 4822504382681580503: 1415430,\n",
       " 2013132080791159773: 1631464,\n",
       " 8978742133531870171: 2435663,\n",
       " 5377153979487902473: 4760892,\n",
       " 7548420121073550302: 4696505,\n",
       " 432222917300847586: 15388,\n",
       " 6309024035770467297: 3617893,\n",
       " 8054406963930334177: 58359,\n",
       " 455518842043498662: 1693865,\n",
       " 2848712770059240422: 557676,\n",
       " 5599199921317086182: 3002651,\n",
       " 6659271456809025701: 2957083,\n",
       " 8267549496158716906: 1093123,\n",
       " 5062966803790037996: 3087530,\n",
       " 2157604347323962877: 3977465,\n",
       " 2453176752046867440: 361065,\n",
       " 2126283802750047742: 4023750,\n",
       " 1210823369293825015: 1059999,\n",
       " 8504435872635028469: 68097,\n",
       " 6146489819720582135: 3503082,\n",
       " 2235040721723020799: 1286739,\n",
       " 4041197993288794281: 4136693,\n",
       " 7907340344331600891: 3352543,\n",
       " 3329156365644989438: 3284212,\n",
       " 6792054545271751678: 2589952,\n",
       " 8807526484908791293: 576985,\n",
       " 6527881491520650239: 3750549,\n",
       " 6227383763749656063: 4137707,\n",
       " 5578730955895486140: 3382419,\n",
       " 4815483518937203720: 1305155,\n",
       " 5538924611573384201: 3913863,\n",
       " 4698292109424874165: 3140098,\n",
       " 5843990847257142807: 3773523,\n",
       " 1996047964891513871: 3141057,\n",
       " 1565746987926553616: 1840928,\n",
       " 1533643883285228376: 3710978,\n",
       " 872941134899315732: 480037,\n",
       " 5045671203516187667: 3854113,\n",
       " 4884786733863928853: 954967,\n",
       " 1575920162152907803: 1565346,\n",
       " 1735301149034021918: 1703190,\n",
       " 6890407838544299038: 1810764,\n",
       " 1795893020239855792: 1616094,\n",
       " 4548751898919830562: 4011145,\n",
       " 8595616580028945923: 2785817,\n",
       " 8965872475072801625: 3113034,\n",
       " 8085237216571294759: 3522209,\n",
       " 4527347185162912816: 2984396,\n",
       " 7508931870493195595: 3412684,\n",
       " 2623542820358587445: 3391275,\n",
       " 2162585298775573559: 3129523,\n",
       " 1589885191533364281: 3949173,\n",
       " 508296299603297338: 1479915,\n",
       " 267678957699073083: 4173814,\n",
       " 105206591719998524: 1744377,\n",
       " 1300139047324180013: 4967797,\n",
       " 6338105363409142844: 737371,\n",
       " 6318787001176818749: 643210,\n",
       " 2575164754968446017: 2678662,\n",
       " 1873894896553690179: 2353552,\n",
       " 5717145723351336003: 1790738,\n",
       " 5853042287814116420: 2875140,\n",
       " 8086780712423785542: 9589,\n",
       " 343607113852912714: 1665655,\n",
       " 8267935196922250312: 1432501,\n",
       " 3332687923500811339: 2025225,\n",
       " 2100255580345074767: 706128,\n",
       " 706955012755948624: 1451157,\n",
       " 270478170212271185: 2791926,\n",
       " 5133512876589319249: 1820003,\n",
       " 6726137434502857810: 282026,\n",
       " 4769202962457166932: 3247100,\n",
       " 3668394653612246102: 1851141,\n",
       " 7098960013752445793: 4290175,\n",
       " 6913102783872762968: 800593,\n",
       " 776651430177014876: 1002059,\n",
       " 7617399516831941724: 736043,\n",
       " 3025933712987522145: 4477380,\n",
       " 7868726589125559393: 4748302,\n",
       " 7189732763367375970: 2447234,\n",
       " 6205377800325563492: 990443,\n",
       " 7191322520718188263: 2171394,\n",
       " 7590488845381010539: 619196,\n",
       " 2899097108877410492: 3996224,\n",
       " 9051564909975831661: 3419119,\n",
       " 9003143662355350638: 252520,\n",
       " 3975560246456873130: 4882839,\n",
       " 1206166205107274872: 1360756,\n",
       " 2721834187140105336: 895944,\n",
       " 2448666101240824953: 264787,\n",
       " 3514522791435043963: 2000964,\n",
       " 4757151692246484091: 915602,\n",
       " 7264448041736733820: 568478,\n",
       " 9122284610334491773: 1077334,\n",
       " 5099165545215820928: 943254,\n",
       " 1527382195492443670: 4351797,\n",
       " 3635786050082702471: 3815124,\n",
       " 90351277511628311: 3668247,\n",
       " 1020111204321854604: 1294767,\n",
       " 1061197388779094210: 3814685,\n",
       " 1861022503950877840: 2411445,\n",
       " 148953931005822097: 519073,\n",
       " 497751201852304292: 4978006,\n",
       " 3931157656089133250: 3413270,\n",
       " 5682191396849583251: 3806534,\n",
       " 8192811888645854742: 3350153,\n",
       " 5291445251003647128: 2009581,\n",
       " 6982013439795266712: 2409325,\n",
       " 1153350683106215068: 1942653,\n",
       " 647039828990362781: 4055965,\n",
       " 7668994956584813723: 1110123,\n",
       " 8726683073460044957: 2588865,\n",
       " 3193237350649955489: 2868129,\n",
       " 3005153662084318370: 4492135,\n",
       " 5695110958880731638: 3283674,\n",
       " 7632893196608238467: 3774662,\n",
       " 1357071885828883623: 864108,\n",
       " 5762667074817447450: 4777418,\n",
       " 8011359070982243495: 2145144,\n",
       " 3204665952859849898: 339693,\n",
       " 2560645580602737837: 4301323,\n",
       " 1267198269119092253: 176238,\n",
       " 3816775276939969711: 2521411,\n",
       " 5409937018752861359: 331751,\n",
       " 5644877844501759153: 3639218,\n",
       " 4727524918583887027: 2464161,\n",
       " 2927428092022490294: 722977,\n",
       " 6546337758760840050: 1072186,\n",
       " 3095485869964246687: 374077,\n",
       " 8825466588900623545: 137950,\n",
       " 3031391590686917821: 2732602,\n",
       " 4126989492697433278: 432801,\n",
       " 3473054377819076138: 3219737,\n",
       " 6081675033095177408: 2134693,\n",
       " 8369782196839384257: 993378,\n",
       " 6874644025035457731: 1077235,\n",
       " 8190830347999511748: 725859,\n",
       " 3110528826975716553: 2019462,\n",
       " 1972649299605629815: 3296572,\n",
       " 7339606235353711820: 207071,\n",
       " 5192747894796453070: 841610,\n",
       " 555489485211567313: 3073772,\n",
       " 5313220634698843344: 4031819,\n",
       " 3807577402460744279: 3271321,\n",
       " 8938370665434578982: 1843662,\n",
       " 8332242020319123607: 3975701,\n",
       " 174860021870363863: 3103277,\n",
       " 1789841658766951641: 2617890,\n",
       " 9132185563762263258: 2579011,\n",
       " 3398556246419178717: 2804945,\n",
       " 7952815735179671081: 2906295,\n",
       " 5162590919869859038: 4049302,\n",
       " 8967137676100633823: 1065993,\n",
       " 4624560707445196001: 574182,\n",
       " 8361463673209750753: 2168669,\n",
       " 7288354157072228382: 3421315,\n",
       " 4114996708331488485: 3726729,\n",
       " 4129019818266024856: 3780194,\n",
       " 65887603093669096: 1246004,\n",
       " 7556924591419950310: 1160866,\n",
       " 345870024981873899: 1108188,\n",
       " 5218738324356728042: 239358,\n",
       " 3360789445560239340: 2773285,\n",
       " 77417220451337454: 2119406,\n",
       " 8423548067487155437: 1876838,\n",
       " 5944036036655973615: 320969,\n",
       " 5616053626867811568: 153730,\n",
       " 951370922223206611: 1030961,\n",
       " 2285394050997552372: 2183869,\n",
       " 5064645587706578165: 1054208,\n",
       " 8136084442847834405: 4637791,\n",
       " 5309237731386170292: 2864130,\n",
       " 2761940556039849210: 2233985,\n",
       " 2936596186020185339: 2708743,\n",
       " 7965357596872757607: 4343930,\n",
       " 3890159245714261247: 2441949,\n",
       " 1994219849324168449: 1172106,\n",
       " 6322401336725865728: 1435491,\n",
       " 1345194718368454187: 3306176,\n",
       " 7239958757218714881: 1518183,\n",
       " 5454514568833271043: 4039112,\n",
       " 818352955852850439: 574162,\n",
       " 4373566335934792967: 352851,\n",
       " 6011146680559207688: 3683572,\n",
       " 4914156033974905728: 4662001,\n",
       " 4711306632137540876: 771737,\n",
       " 652996699605697807: 76889,\n",
       " 772879664134700059: 2877386,\n",
       " 14379297380762897: 975748,\n",
       " 1844857688933008658: 1006239,\n",
       " 7024961325992946560: 3177544,\n",
       " 6883819358720623892: 653428,\n",
       " 5253372674819413727: 3492497,\n",
       " 9075012057706792220: 1024678,\n",
       " 7434231730787058973: 1405975,\n",
       " 175989407671649569: 2485623,\n",
       " 1366602063159773072: 4803189,\n",
       " 1303507379278578979: 301481,\n",
       " 5913354817794737444: 4259173,\n",
       " 1554641082162087208: 3531279,\n",
       " 2310148723994264872: 3417649,\n",
       " 3732686267209483561: 1433592,\n",
       " 1096319658832692523: 3314021,\n",
       " 2808351321840254571: 4342132,\n",
       " 2268698815160649005: 1660622,\n",
       " 3379781037721650478: 3669975,\n",
       " 8670819245833061677: 2023228,\n",
       " 3104948063819531569: 1342661,\n",
       " 4925964594402297137: 1669656,\n",
       " 869140923903116597: 2647706,\n",
       " 5959365032390165812: 711580,\n",
       " 8086863881000977716: 282318,\n",
       " 6125158831073789242: 985508,\n",
       " 4492673282973107516: 443623,\n",
       " 6320400678707529021: 584322,\n",
       " 5152745070629225790: 2217857,\n",
       " 2744381885328131392: 306162,\n",
       " 1192284921261299221: 4602610,\n",
       " 4615663516563539267: 3257676,\n",
       " 2142766883575694662: 490464,\n",
       " 519503295979454689: 4677509,\n",
       " 3390564705134183751: 1212534,\n",
       " 1386930034723259721: 1788774,\n",
       " 1777522927143486794: 1009832,\n",
       " 2152150705358505291: 3491547,\n",
       " 5333751149679871307: 579925,\n",
       " 6793895233215006028: 986648,\n",
       " 8063352091780842828: 1233266,\n",
       " 4980521798982575530: 4724856,\n",
       " 2012230746822935890: 531754,\n",
       " 1146264340776266638: 720285,\n",
       " 3916953108080493909: 691478,\n",
       " 6038688049326458197: 1425625,\n",
       " 6709206082301986134: 1067141,\n",
       " 6942619092234798423: 3980956,\n",
       " 8368081548947227992: 1675040,\n",
       " 120363317574239581: 1613493,\n",
       " 6384052847205418333: 1917496,\n",
       " 3532645150876501344: 1603465,\n",
       " 3088193390523713715: 356441,\n",
       " 6315409316614504676: 1218988,\n",
       " 5491113461607826790: 245073,\n",
       " 4710862482774689127: 3031424,\n",
       " 8355942917749221954: 1076011,\n",
       " 6584048894626234598: 3346796,\n",
       " 1481655520115819890: 2905738,\n",
       " 6279480627070764403: 3651997,\n",
       " 6620817290219633690: 3793642,\n",
       " 1912869416563901816: 1663445,\n",
       " 4003416429870684670: 4649993,\n",
       " 8248403627899618683: 179177,\n",
       " 5373039876314065254: 209925,\n",
       " 8607146922756539775: 170432,\n",
       " 5258383910659687812: 3904351,\n",
       " 2263273960625931655: 488936,\n",
       " 3066339326611686791: 1765547,\n",
       " 7328074911585404296: 1030180,\n",
       " 6410703225653036426: 4172382,\n",
       " 6819772278448850316: 799631,\n",
       " 8049215357765812458: 4779029,\n",
       " 1499371082547771528: 4383996,\n",
       " 1169112674030585233: 1593807,\n",
       " 1341906623978800530: 664068,\n",
       " 7296340716236572048: 3922358,\n",
       " 950820078251672980: 4597272,\n",
       " 5725314274692171155: 496169,\n",
       " 7683640852324812179: 540083,\n",
       " 2378653615704248635: 1948361,\n",
       " 2443228911190934935: 328371,\n",
       " 2513155318951708056: 4083060,\n",
       " 2525031251718274198: 510108,\n",
       " 5582845617702438302: 2475258,\n",
       " 2132696204711734171: 4643255,\n",
       " 6657185992491285220: 3963335,\n",
       " 2022171231364579569: 3956709,\n",
       " 8401520177379804581: 2413772,\n",
       " 1786693047753377193: 3192522,\n",
       " 2094384977234888106: 601096,\n",
       " 4872940962568901025: 4092296,\n",
       " 2049767076203768733: 2811519,\n",
       " 2241601650911348144: 61041,\n",
       " 8318972538398967214: 262257,\n",
       " 1647646633317817402: 3038478,\n",
       " 8484982559367759285: 2802322,\n",
       " 7152536110843822321: 2268314,\n",
       " 768099624450786746: 746675,\n",
       " 1556927144559507234: 4212142,\n",
       " 8342408281129485753: 4481628,\n",
       " 1934868682006070717: 1327042,\n",
       " 5662975585090012610: 28037,\n",
       " 2113564799777374454: 1785589,\n",
       " 5589260922557302212: 1574642,\n",
       " 7154664794835561374: 4314730,\n",
       " 7926168416417744325: 1819743,\n",
       " 7970299735250568646: 4846991,\n",
       " 8768464895235589575: 1871616,\n",
       " 5902452328136271403: 3505534,\n",
       " 8489129367060874698: 2054375,\n",
       " 2413010624624723405: 1305638,\n",
       " 8067710194770335306: 1587099,\n",
       " 8354251421541194526: 4746901,\n",
       " 6324466283018453238: 240806,\n",
       " 8663296967859766735: 502090,\n",
       " 8137589958497011153: 2577003,\n",
       " 6997351988828571090: 1141767,\n",
       " 6500052529034823126: 1526407,\n",
       " 8149847328055494155: 3667591,\n",
       " 9131304312381638104: 1931189,\n",
       " 8028208610255308249: 2717962,\n",
       " 3253464530556461033: 4883687,\n",
       " 7656497262549272027: 1766096,\n",
       " 2310501618757404126: 3082234,\n",
       " 3777111562301474272: 3620628,\n",
       " 7633226504536589791: 407635,\n",
       " 878611741544546555: 2783249,\n",
       " 6617542429606241847: 3490013,\n",
       " 5610886204795913703: 3587158,\n",
       " 4096152587521230313: 3632651,\n",
       " 8396735152500711508: 2501420,\n",
       " 8747122696069842409: 1542880,\n",
       " 5431925436013610475: 1433596,\n",
       " 3115356367855026428: 1046382,\n",
       " 7196497356764743150: 4026522,\n",
       " 7335252773715314159: 4889948,\n",
       " 8493267788947785200: 1554960,\n",
       " 2506677321491023348: 1883054,\n",
       " 585319185716436949: 751148,\n",
       " 96729377628629305: 3457222,\n",
       " 4770808682428499453: 1365387,\n",
       " 1723603512715118081: 4830417,\n",
       " 7772190584495670783: 4461100,\n",
       " 3834116869711726082: 1872598,\n",
       " 3726884655366931971: 3166518,\n",
       " 5298816241857725955: 2392066,\n",
       " 2651826607521530112: 1592757,\n",
       " 6785995708576040454: 3568568,\n",
       " 6444280167434028552: 4713925,\n",
       " 6239585959709509129: 1561095,\n",
       " 4335182621332997643: 3509497,\n",
       " 4591568148514370638: 4702153,\n",
       " 2208030415954270236: 3327417,\n",
       " 3868543629710591502: 844413,\n",
       " 4779743966994105870: 4442900,\n",
       " 6068174698766665231: 1289724,\n",
       " 6247071620351919632: 1065660,\n",
       " 7629338024857305344: 738990,\n",
       " 4246105508433364500: 4000233,\n",
       " 5977978050883618324: 4570889,\n",
       " 8435642309123855958: 825464,\n",
       " 8209624681494072860: 3950477,\n",
       " 5068132654952482328: 2749159,\n",
       " 7187689111392618008: 1343658,\n",
       " 4030374225033299483: 2087786,\n",
       " 7823021035761960474: 2788475,\n",
       " 3547749102873740829: 2125965,\n",
       " 270670233478365445: 3398311,\n",
       " 4899036250426223534: 3916704,\n",
       " 8809175977755149856: 2295168,\n",
       " 3844208886697428516: 1237022,\n",
       " 64092641058358822: 2625675,\n",
       " 6903048177237797807: 2983621,\n",
       " 8523222991567609038: 3582448,\n",
       " 3131905657051395621: 3450007,\n",
       " 4825417844369917482: 820572,\n",
       " 10869114729924141: 1506978,\n",
       " 2720941465696994861: 1004577,\n",
       " 7028238029798069548: 3193029,\n",
       " 711753407222426547: 2101707,\n",
       " 288393931993490441: 4148843,\n",
       " 7168695975342855771: 3259433,\n",
       " 1542302170831913225: 2463446,\n",
       " 89924409753601596: 86040,\n",
       " 5522660066861254206: 2829605,\n",
       " 4370637664917214815: 3384815,\n",
       " 4487019689158903361: 130004,\n",
       " 480003840762971715: 887513,\n",
       " 2803519201401112131: 3374595,\n",
       " 314264328578532933: 2055164,\n",
       " 3725993513783920197: 826442,\n",
       " 127575834265736801: 4966268,\n",
       " 7630050759412811333: 4294275,\n",
       " 6591684783925027217: 145359,\n",
       " 8323204010710402636: 3503096,\n",
       " 4111266556044904015: 165728,\n",
       " 1371380766690484576: 4973455,\n",
       " 3321222006732490322: 713789,\n",
       " 8559350842522601041: 4640332,\n",
       " 2478021706036281613: 3372435,\n",
       " 4679906474237888085: 145480,\n",
       " 355466491755548557: 4478592,\n",
       " 7862595410072700506: 1494583,\n",
       " 4827604547830548061: 2216612,\n",
       " 7572333958709380701: 1863152,\n",
       " 6192898831585251843: 4508383,\n",
       " 450590942127115605: 12464,\n",
       " 268990279443284241: 1623837,\n",
       " 8321082484066354789: 2804037,\n",
       " 6260165460369606247: 3020722,\n",
       " 7008988466323129959: 2682548,\n",
       " 7728142013870114409: 1130128,\n",
       " 61621445381326445: 2531127,\n",
       " 2119519568442426990: 2403533,\n",
       " 7603810814230791788: 153308,\n",
       " 6647350247674609937: 3144826,\n",
       " 2476544490135881331: 4107045,\n",
       " 5512652389166876276: 3541703,\n",
       " 4142278396156022595: 4970955,\n",
       " 732121549166872188: 1458349,\n",
       " 2985225878880913020: 2398212,\n",
       " 5805154695945127548: 1015891,\n",
       " 8672239092584415506: 3485144,\n",
       " 3251801237186325439: 3196877,\n",
       " 3683826814219015786: 1838325,\n",
       " 3219898557934864003: 352030,\n",
       " 112629182135010951: 2711315,\n",
       " 6360232783477999238: 1171897,\n",
       " 23751766927476361: 662559,\n",
       " 2640813030169904777: 3454903,\n",
       " 1888623394128135819: 1026605,\n",
       " 2213517898532521612: 576447,\n",
       " 2508126496036488845: 1837485,\n",
       " 2846414062382745234: 4759110,\n",
       " 7881674649452136925: 4043326,\n",
       " 4232833877925691672: 3875474,\n",
       " 4744762607741699736: 1376511,\n",
       " 5875715328483612269: 1903750,\n",
       " 2042796692637484700: 2807204,\n",
       " 7155963569513694874: 3899624,\n",
       " 9075154441937618588: 4115561,\n",
       " ...}"
      ]
     },
     "execution_count": 30,
     "metadata": {},
     "output_type": "execute_result"
    }
   ],
   "source": [
    "session_id_map"
   ]
  },
  {
   "cell_type": "code",
   "execution_count": 8,
   "metadata": {},
   "outputs": [
    {
     "ename": "NameError",
     "evalue": "name 'session_id_map' is not defined",
     "output_type": "error",
     "traceback": [
      "\u001b[1;31m---------------------------------------------------------------------------\u001b[0m",
      "\u001b[1;31mNameError\u001b[0m                                 Traceback (most recent call last)",
      "\u001b[1;32m<ipython-input-8-2f137af8554f>\u001b[0m in \u001b[0;36m<module>\u001b[1;34m()\u001b[0m\n\u001b[0;32m      1\u001b[0m \u001b[1;32mfor\u001b[0m \u001b[0mi\u001b[0m \u001b[1;32min\u001b[0m \u001b[0mrange\u001b[0m\u001b[1;33m(\u001b[0m\u001b[0mlen\u001b[0m\u001b[1;33m(\u001b[0m\u001b[0mevents_df\u001b[0m\u001b[1;33m)\u001b[0m\u001b[1;33m)\u001b[0m\u001b[1;33m:\u001b[0m\u001b[1;33m\u001b[0m\u001b[0m\n\u001b[0;32m      2\u001b[0m     \u001b[0mhashing_value\u001b[0m \u001b[1;33m=\u001b[0m \u001b[0mevents_df\u001b[0m\u001b[1;33m[\u001b[0m\u001b[1;34m\"session_id\"\u001b[0m\u001b[1;33m]\u001b[0m\u001b[1;33m.\u001b[0m\u001b[0mvalues\u001b[0m\u001b[1;33m[\u001b[0m\u001b[0mi\u001b[0m\u001b[1;33m]\u001b[0m\u001b[1;33m\u001b[0m\u001b[0m\n\u001b[1;32m----> 3\u001b[1;33m     \u001b[0mevents_df\u001b[0m\u001b[1;33m[\u001b[0m\u001b[1;34m\"session_id\"\u001b[0m\u001b[1;33m]\u001b[0m\u001b[1;33m.\u001b[0m\u001b[0mvalues\u001b[0m\u001b[1;33m[\u001b[0m\u001b[0mi\u001b[0m\u001b[1;33m]\u001b[0m \u001b[1;33m=\u001b[0m \u001b[0msession_id_map\u001b[0m\u001b[1;33m[\u001b[0m\u001b[0mhashing_value\u001b[0m\u001b[1;33m]\u001b[0m\u001b[1;33m\u001b[0m\u001b[0m\n\u001b[0m",
      "\u001b[1;31mNameError\u001b[0m: name 'session_id_map' is not defined"
     ]
    }
   ],
   "source": [
    "for i in range(len(events_df)):\n",
    "    hashing_value = events_df[\"session_id\"].values[i]\n",
    "    events_df[\"session_id\"].values[i] = session_id_map[hashing_value]"
   ]
  },
  {
   "cell_type": "code",
   "execution_count": 11,
   "metadata": {
    "collapsed": true
   },
   "outputs": [],
   "source": [
    "# encoding event_value\n",
    "event_value_ct = events_df.event_value.nunique()\n",
    "unique_event_values = list(events_df.event_value.unique())\n",
    "event_value_mapping = list(np.arange(0, event_value_ct, 1))\n",
    "event_value_dict = {}\n",
    "for u,m in zip(unique_event_values, event_value_mapping):\n",
    "    event_value_dict[u] = m"
   ]
  },
  {
   "cell_type": "code",
   "execution_count": 12,
   "metadata": {},
   "outputs": [
    {
     "data": {
      "text/plain": [
       "{0.0: 0,\n",
       " 1.0: 1,\n",
       " 1.3930000066757202: 13,\n",
       " 2.0: 17,\n",
       " 3.4929997920989986: 7,\n",
       " 4.0: 19,\n",
       " 5.0: 4,\n",
       " 6.992999999999999: 24,\n",
       " 6.993000030517577: 18,\n",
       " 7.0: 15,\n",
       " 8.0: 54,\n",
       " 9.0: 55,\n",
       " 10.0: 16,\n",
       " 11.0: 76,\n",
       " 12.0: 2,\n",
       " 13.0: 44,\n",
       " 13.993: 27,\n",
       " 14.0: 14,\n",
       " 15.0: 10,\n",
       " 16.0: 12,\n",
       " 17.0: 8,\n",
       " 18.0: 6,\n",
       " 19.0: 5,\n",
       " 20.0: 3,\n",
       " 21.0: 42,\n",
       " 22.0: 68,\n",
       " 23.0: 34,\n",
       " 24.0: 43,\n",
       " 25.0: 9,\n",
       " 27.993002: 23,\n",
       " 29.0: 69,\n",
       " 30.0: 11,\n",
       " nan: 79,\n",
       " 1.393: 20,\n",
       " 3.0: 26,\n",
       " 3.4930000000000003: 21,\n",
       " 6.0: 56,\n",
       " 13.993000030517578: 22,\n",
       " 27.99300193786621: 31,\n",
       " 32.0: 71,\n",
       " 35.0: 59,\n",
       " 36.0: 25,\n",
       " 40.0: 37,\n",
       " 48.0: 29,\n",
       " 50.0: 33,\n",
       " 60.0: 82,\n",
       " 69.99299599999999: 35,\n",
       " 69.99299621582031: 32,\n",
       " 965.0: 57,\n",
       " 985.0: 58,\n",
       " 99981.0: 41,\n",
       " 999969.0: 40,\n",
       " 999981.0: 52,\n",
       " 999993.0: 53,\n",
       " 9999969.0: 75,\n",
       " 99999984.0: 48,\n",
       " 429497290.0: 47,\n",
       " 999999954.0: 49,\n",
       " 999999969.0: 80,\n",
       " 999999974.0: 50,\n",
       " 999999989.0: 67,\n",
       " 4293967267.0: 73,\n",
       " 4293967279.0: 74,\n",
       " 4294967046.0: 70,\n",
       " 4294967146.0: 83,\n",
       " 4294967225.0: 77,\n",
       " 4294967231.0: 46,\n",
       " 4294967236.0: 30,\n",
       " 4294967242.0: 84,\n",
       " 4294967249.0: 65,\n",
       " 4294967251.0: 86,\n",
       " 4294967252.0: 87,\n",
       " 4294967253.0: 45,\n",
       " 4294967254.0: 78,\n",
       " 4294967256.0: 61,\n",
       " 4294967261.0: 64,\n",
       " 4294967266.0: 62,\n",
       " 4294967267.0: 38,\n",
       " 4294967276.0: 60,\n",
       " 4294967278.0: 81,\n",
       " 4294967280.0: 72,\n",
       " 4294967286.0: 66,\n",
       " 4294967287.0: 85,\n",
       " 4294967290.0: 51,\n",
       " 4294967291.0: 63,\n",
       " 4294967292.0: 36,\n",
       " 4294967294.0: 39,\n",
       " 4294967295.0: 28}"
      ]
     },
     "execution_count": 12,
     "metadata": {},
     "output_type": "execute_result"
    }
   ],
   "source": [
    "event_value_dict"
   ]
  },
  {
   "cell_type": "code",
   "execution_count": 13,
   "metadata": {
    "collapsed": true
   },
   "outputs": [],
   "source": [
    "# encoding event\n",
    "event_ct = events_df.event.nunique()\n",
    "unique_event = list(events_df.event.unique())\n",
    "event_mapping = list(np.arange(0, event_ct, 1))\n",
    "event_dict = {}\n",
    "for u,m in zip(unique_event, event_mapping):\n",
    "    event_dict[u] = m"
   ]
  },
  {
   "cell_type": "code",
   "execution_count": 14,
   "metadata": {},
   "outputs": [
    {
     "data": {
      "text/plain": [
       "{'.a4575955121471488': 84,\n",
       " '.a4640834587066368': 77,\n",
       " '.a4767693735067648': 97,\n",
       " '.a4809797501583360': 59,\n",
       " '.a4905497451167744': 70,\n",
       " '.a4920882459443200': 89,\n",
       " '.a4936179179192320': 63,\n",
       " '.a4955822838251520': 73,\n",
       " '.a5008055943430144': 32,\n",
       " '.a5027911885258752': 7,\n",
       " '.a5061295285075968': 24,\n",
       " '.a5087083622694912': 85,\n",
       " '.a5400102822346752': 9,\n",
       " '.a5516611293544448': 8,\n",
       " '.a5523274289512448': 30,\n",
       " '.a5678563962912768': 79,\n",
       " '.a5686782234722304': 29,\n",
       " '.a5924766976704512': 78,\n",
       " '.a5933275901722624': 10,\n",
       " '.a6017451431428096': 96,\n",
       " '.a6030168535203840': 102,\n",
       " '.a6031326957797376': 64,\n",
       " '.a6035220340277248': 60,\n",
       " '.a6266265261441024': 104,\n",
       " '.a6278994001788928': 71,\n",
       " '.a6544973222248448': 88,\n",
       " '.a6666568788738048': 92,\n",
       " '.c4673994986356736 Enter': 69,\n",
       " '.c4673994986356736 Exit': 67,\n",
       " '.m4545368715427840': 76,\n",
       " '.m4545368715427840 Accept': 105,\n",
       " '.m4592402159501312': 87,\n",
       " '.m4609541589565440': 31,\n",
       " '.m4609541589565440 Accept': 58,\n",
       " '.m4609541589565440 Held Back': 56,\n",
       " '.m4728338570018816': 68,\n",
       " '.m4912602330693632': 65,\n",
       " '.m4912602330693632 Bounce': 98,\n",
       " '.m4912602330693632 Held Back': 95,\n",
       " '.m5100869650219008': 1,\n",
       " '.m5100869650219008 Accept': 52,\n",
       " '.m5243740553347072': 93,\n",
       " '.m5243740553347072 Accept': 94,\n",
       " '.m5243740553347072 Held Back': 90,\n",
       " '.m5295687445250048': 26,\n",
       " '.m5295687445250048 Accept': 40,\n",
       " '.m5295687445250048 Held Back': 49,\n",
       " '.m5411830689693696': 74,\n",
       " '.m5411830689693696 Accept': 108,\n",
       " '.m5411830689693696 Held Back': 103,\n",
       " '.m5488050202738688': 83,\n",
       " '.m5548385265778688': 72,\n",
       " '.m5611570240946176': 66,\n",
       " '.m5666730055958528': 100,\n",
       " '.m5666730055958528 Accept': 101,\n",
       " '.m5894328212389888': 61,\n",
       " '.m5894328212389888 Accept': 62,\n",
       " '.m5925072799399936': 16,\n",
       " '.m5925072799399936 Accept': 17,\n",
       " '.m6006728682897408': 75,\n",
       " '.m6209287803633664': 80,\n",
       " '.m6209287803633664 Accept': 81,\n",
       " '.m6209287803633664 Held Back': 91,\n",
       " '.m6311588362059776': 28,\n",
       " '.m6311588362059776 Accept': 41,\n",
       " '.m6311698772393984': 19,\n",
       " '.m6311698772393984 Accept': 44,\n",
       " '.m6335456823869440': 5,\n",
       " '.m6335456823869440 Accept': 42,\n",
       " '.m6386247411433472': 82,\n",
       " '.m6386247411433472 Accept': 86,\n",
       " '0': 25,\n",
       " '0/': 107,\n",
       " '1': 6,\n",
       " '1/': 106,\n",
       " '10': 43,\n",
       " '11': 15,\n",
       " '14': 12,\n",
       " '3': 22,\n",
       " '32': 99,\n",
       " '4': 2,\n",
       " '40': 20,\n",
       " '41': 21,\n",
       " '42': 23,\n",
       " '43': 14,\n",
       " '44': 11,\n",
       " '45': 0,\n",
       " '47': 35,\n",
       " '48': 55,\n",
       " '49': 45,\n",
       " '5': 4,\n",
       " '50': 36,\n",
       " '51': 39,\n",
       " '52': 51,\n",
       " '54': 48,\n",
       " '55': 33,\n",
       " '56': 46,\n",
       " '57': 38,\n",
       " '58': 50,\n",
       " '59': 47,\n",
       " '6': 3,\n",
       " '60': 57,\n",
       " '61': 53,\n",
       " '62': 54,\n",
       " '63': 34,\n",
       " '64': 37,\n",
       " '7': 13,\n",
       " '8': 18,\n",
       " '9': 27}"
      ]
     },
     "execution_count": 14,
     "metadata": {},
     "output_type": "execute_result"
    }
   ],
   "source": [
    "event_dict"
   ]
  },
  {
   "cell_type": "code",
   "execution_count": 15,
   "metadata": {},
   "outputs": [
    {
     "ename": "KeyError",
     "evalue": "nan",
     "output_type": "error",
     "traceback": [
      "\u001b[1;31m---------------------------------------------------------------------------\u001b[0m",
      "\u001b[1;31mKeyError\u001b[0m                                  Traceback (most recent call last)",
      "\u001b[1;32m<ipython-input-15-033937c4dcce>\u001b[0m in \u001b[0;36m<module>\u001b[1;34m()\u001b[0m\n\u001b[0;32m      1\u001b[0m \u001b[1;32mfor\u001b[0m \u001b[0mi\u001b[0m \u001b[1;32min\u001b[0m \u001b[0mrange\u001b[0m\u001b[1;33m(\u001b[0m\u001b[0mlen\u001b[0m\u001b[1;33m(\u001b[0m\u001b[0mevents_df\u001b[0m\u001b[1;33m)\u001b[0m\u001b[1;33m)\u001b[0m\u001b[1;33m:\u001b[0m\u001b[1;33m\u001b[0m\u001b[0m\n\u001b[0;32m      2\u001b[0m     \u001b[0mhashing_value\u001b[0m \u001b[1;33m=\u001b[0m \u001b[0mevents_df\u001b[0m\u001b[1;33m[\u001b[0m\u001b[1;34m\"event_value\"\u001b[0m\u001b[1;33m]\u001b[0m\u001b[1;33m.\u001b[0m\u001b[0mvalues\u001b[0m\u001b[1;33m[\u001b[0m\u001b[0mi\u001b[0m\u001b[1;33m]\u001b[0m\u001b[1;33m\u001b[0m\u001b[0m\n\u001b[1;32m----> 3\u001b[1;33m     \u001b[0mevents_df\u001b[0m\u001b[1;33m[\u001b[0m\u001b[1;34m\"event_value\"\u001b[0m\u001b[1;33m]\u001b[0m\u001b[1;33m.\u001b[0m\u001b[0mvalues\u001b[0m\u001b[1;33m[\u001b[0m\u001b[0mi\u001b[0m\u001b[1;33m]\u001b[0m \u001b[1;33m=\u001b[0m \u001b[0mevent_value_dict\u001b[0m\u001b[1;33m[\u001b[0m\u001b[0mhashing_value\u001b[0m\u001b[1;33m]\u001b[0m\u001b[1;33m\u001b[0m\u001b[0m\n\u001b[0m\u001b[0;32m      4\u001b[0m     \u001b[0mhashing_value_2\u001b[0m \u001b[1;33m=\u001b[0m \u001b[0mevents_df\u001b[0m\u001b[1;33m[\u001b[0m\u001b[1;34m\"event\"\u001b[0m\u001b[1;33m]\u001b[0m\u001b[1;33m.\u001b[0m\u001b[0mvalues\u001b[0m\u001b[1;33m[\u001b[0m\u001b[0mi\u001b[0m\u001b[1;33m]\u001b[0m\u001b[1;33m\u001b[0m\u001b[0m\n\u001b[0;32m      5\u001b[0m     \u001b[0mevents_df\u001b[0m\u001b[1;33m[\u001b[0m\u001b[1;34m\"event\"\u001b[0m\u001b[1;33m]\u001b[0m\u001b[1;33m.\u001b[0m\u001b[0mvalues\u001b[0m\u001b[1;33m[\u001b[0m\u001b[0mi\u001b[0m\u001b[1;33m]\u001b[0m \u001b[1;33m=\u001b[0m \u001b[0mevent_dict\u001b[0m\u001b[1;33m[\u001b[0m\u001b[0mhashing_value_2\u001b[0m\u001b[1;33m]\u001b[0m\u001b[1;33m\u001b[0m\u001b[0m\n",
      "\u001b[1;31mKeyError\u001b[0m: nan"
     ]
    }
   ],
   "source": [
    "for i in range(len(events_df)):\n",
    "    hashing_value = events_df[\"event_value\"].values[i]\n",
    "    events_df[\"event_value\"].values[i] = event_value_dict[hashing_value]\n",
    "    hashing_value_2 = events_df[\"event\"].values[i]\n",
    "    events_df[\"event\"].values[i] = event_dict[hashing_value_2]"
   ]
  },
  {
   "cell_type": "code",
   "execution_count": 28,
   "metadata": {},
   "outputs": [
    {
     "ename": "KeyError",
     "evalue": "0",
     "output_type": "error",
     "traceback": [
      "\u001b[1;31m---------------------------------------------------------------------------\u001b[0m",
      "\u001b[1;31mKeyError\u001b[0m                                  Traceback (most recent call last)",
      "\u001b[1;32m<ipython-input-28-c6fe9b70f384>\u001b[0m in \u001b[0;36m<module>\u001b[1;34m()\u001b[0m\n\u001b[0;32m      1\u001b[0m \u001b[1;32mfor\u001b[0m \u001b[0mi\u001b[0m \u001b[1;32min\u001b[0m \u001b[0mrange\u001b[0m\u001b[1;33m(\u001b[0m\u001b[0mlen\u001b[0m\u001b[1;33m(\u001b[0m\u001b[0mevents_df\u001b[0m\u001b[1;33m)\u001b[0m\u001b[1;33m)\u001b[0m\u001b[1;33m:\u001b[0m\u001b[1;33m\u001b[0m\u001b[0m\n\u001b[0;32m      2\u001b[0m     \u001b[0mhashing_value\u001b[0m \u001b[1;33m=\u001b[0m \u001b[0mevents_df\u001b[0m\u001b[1;33m[\u001b[0m\u001b[1;34m\"event\"\u001b[0m\u001b[1;33m]\u001b[0m\u001b[1;33m.\u001b[0m\u001b[0mvalues\u001b[0m\u001b[1;33m[\u001b[0m\u001b[0mi\u001b[0m\u001b[1;33m]\u001b[0m\u001b[1;33m\u001b[0m\u001b[0m\n\u001b[1;32m----> 3\u001b[1;33m     \u001b[0mevents_df\u001b[0m\u001b[1;33m[\u001b[0m\u001b[1;34m\"event\"\u001b[0m\u001b[1;33m]\u001b[0m\u001b[1;33m.\u001b[0m\u001b[0mvalues\u001b[0m\u001b[1;33m[\u001b[0m\u001b[0mi\u001b[0m\u001b[1;33m]\u001b[0m \u001b[1;33m=\u001b[0m \u001b[0mevent_dict\u001b[0m\u001b[1;33m[\u001b[0m\u001b[0mhashing_value\u001b[0m\u001b[1;33m]\u001b[0m\u001b[1;33m\u001b[0m\u001b[0m\n\u001b[0m",
      "\u001b[1;31mKeyError\u001b[0m: 0"
     ]
    }
   ],
   "source": [
    "# for i in range(len(events_df)):\n",
    "#     hashing_value = events_df[\"event\"].values[i]\n",
    "#     events_df[\"event\"].values[i] = event_dict[hashing_value]"
   ]
  },
  {
   "cell_type": "code",
   "execution_count": 29,
   "metadata": {},
   "outputs": [
    {
     "ename": "MemoryError",
     "evalue": "",
     "output_type": "error",
     "traceback": [
      "\u001b[1;31m---------------------------------------------------------------------------\u001b[0m",
      "\u001b[1;31mMemoryError\u001b[0m                               Traceback (most recent call last)",
      "\u001b[1;32m<ipython-input-29-120e9168ea9f>\u001b[0m in \u001b[0;36m<module>\u001b[1;34m()\u001b[0m\n\u001b[0;32m      1\u001b[0m \u001b[1;31m# save the user_id_map for events and attributes\u001b[0m\u001b[1;33m\u001b[0m\u001b[1;33m\u001b[0m\u001b[0m\n\u001b[1;32m----> 2\u001b[1;33m \u001b[0mnp\u001b[0m\u001b[1;33m.\u001b[0m\u001b[0msave\u001b[0m\u001b[1;33m(\u001b[0m\u001b[1;34m'session_id_map.npy'\u001b[0m\u001b[1;33m,\u001b[0m \u001b[0msession_id_map\u001b[0m\u001b[1;33m)\u001b[0m\u001b[1;33m\u001b[0m\u001b[0m\n\u001b[0m",
      "\u001b[1;32m/home/zxr_nju/anaconda3/lib/python3.5/site-packages/numpy/lib/npyio.py\u001b[0m in \u001b[0;36msave\u001b[1;34m(file, arr, allow_pickle, fix_imports)\u001b[0m\n\u001b[0;32m    519\u001b[0m         \u001b[0marr\u001b[0m \u001b[1;33m=\u001b[0m \u001b[0mnp\u001b[0m\u001b[1;33m.\u001b[0m\u001b[0masanyarray\u001b[0m\u001b[1;33m(\u001b[0m\u001b[0marr\u001b[0m\u001b[1;33m)\u001b[0m\u001b[1;33m\u001b[0m\u001b[0m\n\u001b[0;32m    520\u001b[0m         format.write_array(fid, arr, allow_pickle=allow_pickle,\n\u001b[1;32m--> 521\u001b[1;33m                            pickle_kwargs=pickle_kwargs)\n\u001b[0m\u001b[0;32m    522\u001b[0m     \u001b[1;32mfinally\u001b[0m\u001b[1;33m:\u001b[0m\u001b[1;33m\u001b[0m\u001b[0m\n\u001b[0;32m    523\u001b[0m         \u001b[1;32mif\u001b[0m \u001b[0mown_fid\u001b[0m\u001b[1;33m:\u001b[0m\u001b[1;33m\u001b[0m\u001b[0m\n",
      "\u001b[1;32m/home/zxr_nju/anaconda3/lib/python3.5/site-packages/numpy/lib/format.py\u001b[0m in \u001b[0;36mwrite_array\u001b[1;34m(fp, array, version, allow_pickle, pickle_kwargs)\u001b[0m\n\u001b[0;32m    591\u001b[0m         \u001b[1;32mif\u001b[0m \u001b[0mpickle_kwargs\u001b[0m \u001b[1;32mis\u001b[0m \u001b[1;32mNone\u001b[0m\u001b[1;33m:\u001b[0m\u001b[1;33m\u001b[0m\u001b[0m\n\u001b[0;32m    592\u001b[0m             \u001b[0mpickle_kwargs\u001b[0m \u001b[1;33m=\u001b[0m \u001b[1;33m{\u001b[0m\u001b[1;33m}\u001b[0m\u001b[1;33m\u001b[0m\u001b[0m\n\u001b[1;32m--> 593\u001b[1;33m         \u001b[0mpickle\u001b[0m\u001b[1;33m.\u001b[0m\u001b[0mdump\u001b[0m\u001b[1;33m(\u001b[0m\u001b[0marray\u001b[0m\u001b[1;33m,\u001b[0m \u001b[0mfp\u001b[0m\u001b[1;33m,\u001b[0m \u001b[0mprotocol\u001b[0m\u001b[1;33m=\u001b[0m\u001b[1;36m2\u001b[0m\u001b[1;33m,\u001b[0m \u001b[1;33m**\u001b[0m\u001b[0mpickle_kwargs\u001b[0m\u001b[1;33m)\u001b[0m\u001b[1;33m\u001b[0m\u001b[0m\n\u001b[0m\u001b[0;32m    594\u001b[0m     \u001b[1;32melif\u001b[0m \u001b[0marray\u001b[0m\u001b[1;33m.\u001b[0m\u001b[0mflags\u001b[0m\u001b[1;33m.\u001b[0m\u001b[0mf_contiguous\u001b[0m \u001b[1;32mand\u001b[0m \u001b[1;32mnot\u001b[0m \u001b[0marray\u001b[0m\u001b[1;33m.\u001b[0m\u001b[0mflags\u001b[0m\u001b[1;33m.\u001b[0m\u001b[0mc_contiguous\u001b[0m\u001b[1;33m:\u001b[0m\u001b[1;33m\u001b[0m\u001b[0m\n\u001b[0;32m    595\u001b[0m         \u001b[1;32mif\u001b[0m \u001b[0misfileobj\u001b[0m\u001b[1;33m(\u001b[0m\u001b[0mfp\u001b[0m\u001b[1;33m)\u001b[0m\u001b[1;33m:\u001b[0m\u001b[1;33m\u001b[0m\u001b[0m\n",
      "\u001b[1;31mMemoryError\u001b[0m: "
     ]
    }
   ],
   "source": [
    "# save the user_id_map for events and attributes\n",
    "np.save('session_id_map.npy', session_id_map) "
   ]
  },
  {
   "cell_type": "code",
   "execution_count": null,
   "metadata": {
    "collapsed": true
   },
   "outputs": [],
   "source": [
    "# save the event_value_map for events and attributes\n",
    "np.save('event_value_map.npy', event_value_dict) "
   ]
  },
  {
   "cell_type": "code",
   "execution_count": null,
   "metadata": {
    "collapsed": true
   },
   "outputs": [],
   "source": [
    "np.save('event_map.npy', event_dict) "
   ]
  },
  {
   "cell_type": "code",
   "execution_count": 16,
   "metadata": {},
   "outputs": [],
   "source": [
    "events_df.to_feather(\"/tmp/events\")"
   ]
  },
  {
   "cell_type": "code",
   "execution_count": 4,
   "metadata": {},
   "outputs": [],
   "source": [
    "events_df = pd.read_feather(\"/tmp/events\")"
   ]
  },
  {
   "cell_type": "code",
   "execution_count": null,
   "metadata": {
    "collapsed": true
   },
   "outputs": [],
   "source": []
  },
  {
   "cell_type": "code",
   "execution_count": 5,
   "metadata": {},
   "outputs": [
    {
     "data": {
      "text/html": [
       "<div>\n",
       "<style scoped>\n",
       "    .dataframe tbody tr th:only-of-type {\n",
       "        vertical-align: middle;\n",
       "    }\n",
       "\n",
       "    .dataframe tbody tr th {\n",
       "        vertical-align: top;\n",
       "    }\n",
       "\n",
       "    .dataframe thead th {\n",
       "        text-align: right;\n",
       "    }\n",
       "</style>\n",
       "<table border=\"1\" class=\"dataframe\">\n",
       "  <thead>\n",
       "    <tr style=\"text-align: right;\">\n",
       "      <th></th>\n",
       "      <th>session_id</th>\n",
       "      <th>event</th>\n",
       "      <th>event_timestamp</th>\n",
       "      <th>event_value</th>\n",
       "      <th>user_id_hash</th>\n",
       "    </tr>\n",
       "  </thead>\n",
       "  <tbody>\n",
       "    <tr>\n",
       "      <th>0</th>\n",
       "      <td>0</td>\n",
       "      <td>45</td>\n",
       "      <td>428393.165870</td>\n",
       "      <td>0.0</td>\n",
       "      <td>0</td>\n",
       "    </tr>\n",
       "    <tr>\n",
       "      <th>1</th>\n",
       "      <td>0</td>\n",
       "      <td>45</td>\n",
       "      <td>428393.190249</td>\n",
       "      <td>0.0</td>\n",
       "      <td>0</td>\n",
       "    </tr>\n",
       "    <tr>\n",
       "      <th>2</th>\n",
       "      <td>1</td>\n",
       "      <td>.m5100869650219008</td>\n",
       "      <td>428090.113992</td>\n",
       "      <td>0.0</td>\n",
       "      <td>0</td>\n",
       "    </tr>\n",
       "    <tr>\n",
       "      <th>3</th>\n",
       "      <td>2</td>\n",
       "      <td>4</td>\n",
       "      <td>428809.191980</td>\n",
       "      <td>0.0</td>\n",
       "      <td>0</td>\n",
       "    </tr>\n",
       "    <tr>\n",
       "      <th>4</th>\n",
       "      <td>2</td>\n",
       "      <td>6</td>\n",
       "      <td>428809.192532</td>\n",
       "      <td>0.0</td>\n",
       "      <td>0</td>\n",
       "    </tr>\n",
       "  </tbody>\n",
       "</table>\n",
       "</div>"
      ],
      "text/plain": [
       "   session_id               event  event_timestamp  event_value  user_id_hash\n",
       "0           0                  45    428393.165870          0.0             0\n",
       "1           0                  45    428393.190249          0.0             0\n",
       "2           1  .m5100869650219008    428090.113992          0.0             0\n",
       "3           2                   4    428809.191980          0.0             0\n",
       "4           2                   6    428809.192532          0.0             0"
      ]
     },
     "execution_count": 5,
     "metadata": {},
     "output_type": "execute_result"
    }
   ],
   "source": [
    "events_df.head()"
   ]
  },
  {
   "cell_type": "code",
   "execution_count": 6,
   "metadata": {},
   "outputs": [
    {
     "name": "stdout",
     "output_type": "stream",
     "text": [
      "<class 'pandas.core.frame.DataFrame'>\n",
      "RangeIndex: 111946597 entries, 0 to 111946596\n",
      "Data columns (total 5 columns):\n",
      "session_id         int64\n",
      "event              object\n",
      "event_timestamp    float64\n",
      "event_value        float64\n",
      "user_id_hash       int64\n",
      "dtypes: float64(2), int64(2), object(1)\n",
      "memory usage: 9.7 GB\n"
     ]
    }
   ],
   "source": [
    "events_df.info(memory_usage=\"deep\")"
   ]
  },
  {
   "cell_type": "code",
   "execution_count": null,
   "metadata": {},
   "outputs": [],
   "source": [
    "# events_df.to_csv(\"/home/zxr_nju/data/new_events.csv\", index=False)"
   ]
  },
  {
   "cell_type": "code",
   "execution_count": 7,
   "metadata": {},
   "outputs": [
    {
     "ename": "MemoryError",
     "evalue": "",
     "output_type": "error",
     "traceback": [
      "\u001b[1;31m---------------------------------------------------------------------------\u001b[0m",
      "\u001b[1;31mMemoryError\u001b[0m                               Traceback (most recent call last)",
      "\u001b[1;32m<ipython-input-7-60b86141c28e>\u001b[0m in \u001b[0;36m<module>\u001b[1;34m()\u001b[0m\n\u001b[1;32m----> 1\u001b[1;33m \u001b[0mevents_df\u001b[0m\u001b[1;33m.\u001b[0m\u001b[0mto_csv\u001b[0m\u001b[1;33m(\u001b[0m\u001b[1;34m\"/home/zxr_nju/data/new_events.zip\"\u001b[0m\u001b[1;33m,\u001b[0m \u001b[0mindex\u001b[0m\u001b[1;33m=\u001b[0m\u001b[1;32mFalse\u001b[0m\u001b[1;33m,\u001b[0m \u001b[0mcompression\u001b[0m\u001b[1;33m=\u001b[0m\u001b[1;34m\"zip\"\u001b[0m\u001b[1;33m)\u001b[0m\u001b[1;33m\u001b[0m\u001b[0m\n\u001b[0m",
      "\u001b[1;32m/home/zxr_nju/anaconda3/lib/python3.5/site-packages/pandas/core/frame.py\u001b[0m in \u001b[0;36mto_csv\u001b[1;34m(self, path_or_buf, sep, na_rep, float_format, columns, header, index, index_label, mode, encoding, compression, quoting, quotechar, line_terminator, chunksize, tupleize_cols, date_format, doublequote, escapechar, decimal)\u001b[0m\n\u001b[0;32m   1743\u001b[0m                                  \u001b[0mdoublequote\u001b[0m\u001b[1;33m=\u001b[0m\u001b[0mdoublequote\u001b[0m\u001b[1;33m,\u001b[0m\u001b[1;33m\u001b[0m\u001b[0m\n\u001b[0;32m   1744\u001b[0m                                  escapechar=escapechar, decimal=decimal)\n\u001b[1;32m-> 1745\u001b[1;33m         \u001b[0mformatter\u001b[0m\u001b[1;33m.\u001b[0m\u001b[0msave\u001b[0m\u001b[1;33m(\u001b[0m\u001b[1;33m)\u001b[0m\u001b[1;33m\u001b[0m\u001b[0m\n\u001b[0m\u001b[0;32m   1746\u001b[0m \u001b[1;33m\u001b[0m\u001b[0m\n\u001b[0;32m   1747\u001b[0m         \u001b[1;32mif\u001b[0m \u001b[0mpath_or_buf\u001b[0m \u001b[1;32mis\u001b[0m \u001b[1;32mNone\u001b[0m\u001b[1;33m:\u001b[0m\u001b[1;33m\u001b[0m\u001b[0m\n",
      "\u001b[1;32m/home/zxr_nju/anaconda3/lib/python3.5/site-packages/pandas/io/formats/csvs.py\u001b[0m in \u001b[0;36msave\u001b[1;34m(self)\u001b[0m\n\u001b[0;32m    174\u001b[0m             \u001b[1;32mif\u001b[0m \u001b[0mis_zip\u001b[0m\u001b[1;33m:\u001b[0m\u001b[1;33m\u001b[0m\u001b[0m\n\u001b[0;32m    175\u001b[0m                 \u001b[1;31m# GH 17778 handles zip compression separately.\u001b[0m\u001b[1;33m\u001b[0m\u001b[1;33m\u001b[0m\u001b[0m\n\u001b[1;32m--> 176\u001b[1;33m                 \u001b[0mbuf\u001b[0m \u001b[1;33m=\u001b[0m \u001b[0mf\u001b[0m\u001b[1;33m.\u001b[0m\u001b[0mgetvalue\u001b[0m\u001b[1;33m(\u001b[0m\u001b[1;33m)\u001b[0m\u001b[1;33m\u001b[0m\u001b[0m\n\u001b[0m\u001b[0;32m    177\u001b[0m                 \u001b[1;32mif\u001b[0m \u001b[0mhasattr\u001b[0m\u001b[1;33m(\u001b[0m\u001b[0mself\u001b[0m\u001b[1;33m.\u001b[0m\u001b[0mpath_or_buf\u001b[0m\u001b[1;33m,\u001b[0m \u001b[1;34m'write'\u001b[0m\u001b[1;33m)\u001b[0m\u001b[1;33m:\u001b[0m\u001b[1;33m\u001b[0m\u001b[0m\n\u001b[0;32m    178\u001b[0m                     \u001b[0mself\u001b[0m\u001b[1;33m.\u001b[0m\u001b[0mpath_or_buf\u001b[0m\u001b[1;33m.\u001b[0m\u001b[0mwrite\u001b[0m\u001b[1;33m(\u001b[0m\u001b[0mbuf\u001b[0m\u001b[1;33m)\u001b[0m\u001b[1;33m\u001b[0m\u001b[0m\n",
      "\u001b[1;31mMemoryError\u001b[0m: "
     ]
    }
   ],
   "source": [
    "events_df.to_csv(\"/home/zxr_nju/data/new_events.zip\", index=False, compression=\"zip\")"
   ]
  },
  {
   "cell_type": "code",
   "execution_count": 37,
   "metadata": {},
   "outputs": [],
   "source": [
    "# events_df.to_feather(\"/tmp/events_df\")"
   ]
  },
  {
   "cell_type": "code",
   "execution_count": null,
   "metadata": {
    "collapsed": true
   },
   "outputs": [],
   "source": []
  },
  {
   "cell_type": "code",
   "execution_count": null,
   "metadata": {
    "collapsed": true
   },
   "outputs": [],
   "source": []
  },
  {
   "cell_type": "code",
   "execution_count": 23,
   "metadata": {
    "collapsed": true
   },
   "outputs": [],
   "source": [
    "types = {\n",
    "    \"app_id\":np.uint64, \"session_id\":np.uint64, \"event\":\"category\", \"event_timestamp\": np.uint64,\n",
    "    \"event_value\": np.float64, \"user_id_hash\": np.uint32\n",
    "}"
   ]
  },
  {
   "cell_type": "code",
   "execution_count": 17,
   "metadata": {},
   "outputs": [
    {
     "ename": "OSError",
     "evalue": "[Errno 28] No space left on device",
     "output_type": "error",
     "traceback": [
      "\u001b[1;31m---------------------------------------------------------------------------\u001b[0m",
      "\u001b[1;31mOSError\u001b[0m                                   Traceback (most recent call last)",
      "\u001b[1;32m/home/zxr_nju/anaconda3/lib/python3.5/site-packages/pandas/io/formats/csvs.py\u001b[0m in \u001b[0;36msave\u001b[1;34m(self)\u001b[0m\n\u001b[0;32m    170\u001b[0m \u001b[1;33m\u001b[0m\u001b[0m\n\u001b[1;32m--> 171\u001b[1;33m             \u001b[0mself\u001b[0m\u001b[1;33m.\u001b[0m\u001b[0m_save\u001b[0m\u001b[1;33m(\u001b[0m\u001b[1;33m)\u001b[0m\u001b[1;33m\u001b[0m\u001b[0m\n\u001b[0m\u001b[0;32m    172\u001b[0m \u001b[1;33m\u001b[0m\u001b[0m\n",
      "\u001b[1;32m/home/zxr_nju/anaconda3/lib/python3.5/site-packages/pandas/io/formats/csvs.py\u001b[0m in \u001b[0;36m_save\u001b[1;34m(self)\u001b[0m\n\u001b[0;32m    285\u001b[0m \u001b[1;33m\u001b[0m\u001b[0m\n\u001b[1;32m--> 286\u001b[1;33m             \u001b[0mself\u001b[0m\u001b[1;33m.\u001b[0m\u001b[0m_save_chunk\u001b[0m\u001b[1;33m(\u001b[0m\u001b[0mstart_i\u001b[0m\u001b[1;33m,\u001b[0m \u001b[0mend_i\u001b[0m\u001b[1;33m)\u001b[0m\u001b[1;33m\u001b[0m\u001b[0m\n\u001b[0m\u001b[0;32m    287\u001b[0m \u001b[1;33m\u001b[0m\u001b[0m\n",
      "\u001b[1;32m/home/zxr_nju/anaconda3/lib/python3.5/site-packages/pandas/io/formats/csvs.py\u001b[0m in \u001b[0;36m_save_chunk\u001b[1;34m(self, start_i, end_i)\u001b[0m\n\u001b[0;32m    312\u001b[0m         libwriters.write_csv_rows(self.data, ix, self.nlevels,\n\u001b[1;32m--> 313\u001b[1;33m                                   self.cols, self.writer)\n\u001b[0m",
      "\u001b[1;32mpandas/_libs/writers.pyx\u001b[0m in \u001b[0;36mpandas._libs.writers.write_csv_rows\u001b[1;34m()\u001b[0m\n",
      "\u001b[1;31mOSError\u001b[0m: [Errno 28] No space left on device",
      "\nDuring handling of the above exception, another exception occurred:\n",
      "\u001b[1;31mOSError\u001b[0m                                   Traceback (most recent call last)",
      "\u001b[1;31mOSError\u001b[0m: [Errno 28] No space left on device",
      "\nDuring handling of the above exception, another exception occurred:\n",
      "\u001b[1;31mOSError\u001b[0m                                   Traceback (most recent call last)",
      "\u001b[1;32m<ipython-input-17-29b4d5e79b81>\u001b[0m in \u001b[0;36m<module>\u001b[1;34m()\u001b[0m\n\u001b[1;32m----> 1\u001b[1;33m \u001b[0mevents\u001b[0m\u001b[1;33m.\u001b[0m\u001b[0mto_csv\u001b[0m\u001b[1;33m(\u001b[0m\u001b[1;34m\"/home/zxr_nju/data/new_events.csv\"\u001b[0m\u001b[1;33m,\u001b[0m \u001b[0mindex\u001b[0m\u001b[1;33m=\u001b[0m\u001b[1;32mFalse\u001b[0m\u001b[1;33m)\u001b[0m\u001b[1;33m\u001b[0m\u001b[0m\n\u001b[0m",
      "\u001b[1;32m/home/zxr_nju/anaconda3/lib/python3.5/site-packages/pandas/core/frame.py\u001b[0m in \u001b[0;36mto_csv\u001b[1;34m(self, path_or_buf, sep, na_rep, float_format, columns, header, index, index_label, mode, encoding, compression, quoting, quotechar, line_terminator, chunksize, tupleize_cols, date_format, doublequote, escapechar, decimal)\u001b[0m\n\u001b[0;32m   1743\u001b[0m                                  \u001b[0mdoublequote\u001b[0m\u001b[1;33m=\u001b[0m\u001b[0mdoublequote\u001b[0m\u001b[1;33m,\u001b[0m\u001b[1;33m\u001b[0m\u001b[0m\n\u001b[0;32m   1744\u001b[0m                                  escapechar=escapechar, decimal=decimal)\n\u001b[1;32m-> 1745\u001b[1;33m         \u001b[0mformatter\u001b[0m\u001b[1;33m.\u001b[0m\u001b[0msave\u001b[0m\u001b[1;33m(\u001b[0m\u001b[1;33m)\u001b[0m\u001b[1;33m\u001b[0m\u001b[0m\n\u001b[0m\u001b[0;32m   1746\u001b[0m \u001b[1;33m\u001b[0m\u001b[0m\n\u001b[0;32m   1747\u001b[0m         \u001b[1;32mif\u001b[0m \u001b[0mpath_or_buf\u001b[0m \u001b[1;32mis\u001b[0m \u001b[1;32mNone\u001b[0m\u001b[1;33m:\u001b[0m\u001b[1;33m\u001b[0m\u001b[0m\n",
      "\u001b[1;32m/home/zxr_nju/anaconda3/lib/python3.5/site-packages/pandas/io/formats/csvs.py\u001b[0m in \u001b[0;36msave\u001b[1;34m(self)\u001b[0m\n\u001b[0;32m    184\u001b[0m                     \u001b[0mclose\u001b[0m \u001b[1;33m=\u001b[0m \u001b[1;32mTrue\u001b[0m\u001b[1;33m\u001b[0m\u001b[0m\n\u001b[0;32m    185\u001b[0m             \u001b[1;32mif\u001b[0m \u001b[0mclose\u001b[0m\u001b[1;33m:\u001b[0m\u001b[1;33m\u001b[0m\u001b[0m\n\u001b[1;32m--> 186\u001b[1;33m                 \u001b[0mf\u001b[0m\u001b[1;33m.\u001b[0m\u001b[0mclose\u001b[0m\u001b[1;33m(\u001b[0m\u001b[1;33m)\u001b[0m\u001b[1;33m\u001b[0m\u001b[0m\n\u001b[0m\u001b[0;32m    187\u001b[0m                 \u001b[1;32mfor\u001b[0m \u001b[0m_fh\u001b[0m \u001b[1;32min\u001b[0m \u001b[0mhandles\u001b[0m\u001b[1;33m:\u001b[0m\u001b[1;33m\u001b[0m\u001b[0m\n\u001b[0;32m    188\u001b[0m                     \u001b[0m_fh\u001b[0m\u001b[1;33m.\u001b[0m\u001b[0mclose\u001b[0m\u001b[1;33m(\u001b[0m\u001b[1;33m)\u001b[0m\u001b[1;33m\u001b[0m\u001b[0m\n",
      "\u001b[1;31mOSError\u001b[0m: [Errno 28] No space left on device"
     ]
    }
   ],
   "source": [
    "events.to_csv(\"/home/zxr_nju/data/new_events.csv\", index=False)"
   ]
  },
  {
   "cell_type": "code",
   "execution_count": 24,
   "metadata": {},
   "outputs": [
    {
     "ename": "MemoryError",
     "evalue": "",
     "output_type": "error",
     "traceback": [
      "\u001b[1;31m---------------------------------------------------------------------------\u001b[0m",
      "\u001b[1;31mMemoryError\u001b[0m                               Traceback (most recent call last)",
      "\u001b[1;32m<ipython-input-24-18fd88fe7a21>\u001b[0m in \u001b[0;36m<module>\u001b[1;34m()\u001b[0m\n\u001b[1;32m----> 1\u001b[1;33m \u001b[0mevents_short\u001b[0m \u001b[1;33m=\u001b[0m \u001b[0mpd\u001b[0m\u001b[1;33m.\u001b[0m\u001b[0mread_csv\u001b[0m\u001b[1;33m(\u001b[0m\u001b[1;34m\"/home/zxr_nju/data/new_events.csv\"\u001b[0m\u001b[1;33m,\u001b[0m \u001b[0musecols\u001b[0m\u001b[1;33m=\u001b[0m\u001b[0mtypes\u001b[0m\u001b[1;33m.\u001b[0m\u001b[0mkeys\u001b[0m\u001b[1;33m(\u001b[0m\u001b[1;33m)\u001b[0m\u001b[1;33m,\u001b[0m \u001b[0mdtype\u001b[0m\u001b[1;33m=\u001b[0m\u001b[0mtypes\u001b[0m\u001b[1;33m)\u001b[0m\u001b[1;33m\u001b[0m\u001b[0m\n\u001b[0m",
      "\u001b[1;32m/home/zxr_nju/anaconda3/lib/python3.5/site-packages/pandas/io/parsers.py\u001b[0m in \u001b[0;36mparser_f\u001b[1;34m(filepath_or_buffer, sep, delimiter, header, names, index_col, usecols, squeeze, prefix, mangle_dupe_cols, dtype, engine, converters, true_values, false_values, skipinitialspace, skiprows, nrows, na_values, keep_default_na, na_filter, verbose, skip_blank_lines, parse_dates, infer_datetime_format, keep_date_col, date_parser, dayfirst, iterator, chunksize, compression, thousands, decimal, lineterminator, quotechar, quoting, escapechar, comment, encoding, dialect, tupleize_cols, error_bad_lines, warn_bad_lines, skipfooter, doublequote, delim_whitespace, low_memory, memory_map, float_precision)\u001b[0m\n\u001b[0;32m    676\u001b[0m                     skip_blank_lines=skip_blank_lines)\n\u001b[0;32m    677\u001b[0m \u001b[1;33m\u001b[0m\u001b[0m\n\u001b[1;32m--> 678\u001b[1;33m         \u001b[1;32mreturn\u001b[0m \u001b[0m_read\u001b[0m\u001b[1;33m(\u001b[0m\u001b[0mfilepath_or_buffer\u001b[0m\u001b[1;33m,\u001b[0m \u001b[0mkwds\u001b[0m\u001b[1;33m)\u001b[0m\u001b[1;33m\u001b[0m\u001b[0m\n\u001b[0m\u001b[0;32m    679\u001b[0m \u001b[1;33m\u001b[0m\u001b[0m\n\u001b[0;32m    680\u001b[0m     \u001b[0mparser_f\u001b[0m\u001b[1;33m.\u001b[0m\u001b[0m__name__\u001b[0m \u001b[1;33m=\u001b[0m \u001b[0mname\u001b[0m\u001b[1;33m\u001b[0m\u001b[0m\n",
      "\u001b[1;32m/home/zxr_nju/anaconda3/lib/python3.5/site-packages/pandas/io/parsers.py\u001b[0m in \u001b[0;36m_read\u001b[1;34m(filepath_or_buffer, kwds)\u001b[0m\n\u001b[0;32m    444\u001b[0m \u001b[1;33m\u001b[0m\u001b[0m\n\u001b[0;32m    445\u001b[0m     \u001b[1;32mtry\u001b[0m\u001b[1;33m:\u001b[0m\u001b[1;33m\u001b[0m\u001b[0m\n\u001b[1;32m--> 446\u001b[1;33m         \u001b[0mdata\u001b[0m \u001b[1;33m=\u001b[0m \u001b[0mparser\u001b[0m\u001b[1;33m.\u001b[0m\u001b[0mread\u001b[0m\u001b[1;33m(\u001b[0m\u001b[0mnrows\u001b[0m\u001b[1;33m)\u001b[0m\u001b[1;33m\u001b[0m\u001b[0m\n\u001b[0m\u001b[0;32m    447\u001b[0m     \u001b[1;32mfinally\u001b[0m\u001b[1;33m:\u001b[0m\u001b[1;33m\u001b[0m\u001b[0m\n\u001b[0;32m    448\u001b[0m         \u001b[0mparser\u001b[0m\u001b[1;33m.\u001b[0m\u001b[0mclose\u001b[0m\u001b[1;33m(\u001b[0m\u001b[1;33m)\u001b[0m\u001b[1;33m\u001b[0m\u001b[0m\n",
      "\u001b[1;32m/home/zxr_nju/anaconda3/lib/python3.5/site-packages/pandas/io/parsers.py\u001b[0m in \u001b[0;36mread\u001b[1;34m(self, nrows)\u001b[0m\n\u001b[0;32m   1034\u001b[0m                 \u001b[1;32mraise\u001b[0m \u001b[0mValueError\u001b[0m\u001b[1;33m(\u001b[0m\u001b[1;34m'skipfooter not supported for iteration'\u001b[0m\u001b[1;33m)\u001b[0m\u001b[1;33m\u001b[0m\u001b[0m\n\u001b[0;32m   1035\u001b[0m \u001b[1;33m\u001b[0m\u001b[0m\n\u001b[1;32m-> 1036\u001b[1;33m         \u001b[0mret\u001b[0m \u001b[1;33m=\u001b[0m \u001b[0mself\u001b[0m\u001b[1;33m.\u001b[0m\u001b[0m_engine\u001b[0m\u001b[1;33m.\u001b[0m\u001b[0mread\u001b[0m\u001b[1;33m(\u001b[0m\u001b[0mnrows\u001b[0m\u001b[1;33m)\u001b[0m\u001b[1;33m\u001b[0m\u001b[0m\n\u001b[0m\u001b[0;32m   1037\u001b[0m \u001b[1;33m\u001b[0m\u001b[0m\n\u001b[0;32m   1038\u001b[0m         \u001b[1;31m# May alter columns / col_dict\u001b[0m\u001b[1;33m\u001b[0m\u001b[1;33m\u001b[0m\u001b[0m\n",
      "\u001b[1;32m/home/zxr_nju/anaconda3/lib/python3.5/site-packages/pandas/io/parsers.py\u001b[0m in \u001b[0;36mread\u001b[1;34m(self, nrows)\u001b[0m\n\u001b[0;32m   1846\u001b[0m     \u001b[1;32mdef\u001b[0m \u001b[0mread\u001b[0m\u001b[1;33m(\u001b[0m\u001b[0mself\u001b[0m\u001b[1;33m,\u001b[0m \u001b[0mnrows\u001b[0m\u001b[1;33m=\u001b[0m\u001b[1;32mNone\u001b[0m\u001b[1;33m)\u001b[0m\u001b[1;33m:\u001b[0m\u001b[1;33m\u001b[0m\u001b[0m\n\u001b[0;32m   1847\u001b[0m         \u001b[1;32mtry\u001b[0m\u001b[1;33m:\u001b[0m\u001b[1;33m\u001b[0m\u001b[0m\n\u001b[1;32m-> 1848\u001b[1;33m             \u001b[0mdata\u001b[0m \u001b[1;33m=\u001b[0m \u001b[0mself\u001b[0m\u001b[1;33m.\u001b[0m\u001b[0m_reader\u001b[0m\u001b[1;33m.\u001b[0m\u001b[0mread\u001b[0m\u001b[1;33m(\u001b[0m\u001b[0mnrows\u001b[0m\u001b[1;33m)\u001b[0m\u001b[1;33m\u001b[0m\u001b[0m\n\u001b[0m\u001b[0;32m   1849\u001b[0m         \u001b[1;32mexcept\u001b[0m \u001b[0mStopIteration\u001b[0m\u001b[1;33m:\u001b[0m\u001b[1;33m\u001b[0m\u001b[0m\n\u001b[0;32m   1850\u001b[0m             \u001b[1;32mif\u001b[0m \u001b[0mself\u001b[0m\u001b[1;33m.\u001b[0m\u001b[0m_first_chunk\u001b[0m\u001b[1;33m:\u001b[0m\u001b[1;33m\u001b[0m\u001b[0m\n",
      "\u001b[1;32mpandas/_libs/parsers.pyx\u001b[0m in \u001b[0;36mpandas._libs.parsers.TextReader.read\u001b[1;34m()\u001b[0m\n",
      "\u001b[1;32mpandas/_libs/parsers.pyx\u001b[0m in \u001b[0;36mpandas._libs.parsers.TextReader._read_low_memory\u001b[1;34m()\u001b[0m\n",
      "\u001b[1;32mpandas/_libs/parsers.pyx\u001b[0m in \u001b[0;36mpandas._libs.parsers._concatenate_chunks\u001b[1;34m()\u001b[0m\n",
      "\u001b[1;31mMemoryError\u001b[0m: "
     ]
    }
   ],
   "source": [
    "events_short = pd.read_csv(\"/home/zxr_nju/data/new_events.csv\", usecols=types.keys(), dtype=types)"
   ]
  },
  {
   "cell_type": "code",
   "execution_count": null,
   "metadata": {
    "collapsed": true
   },
   "outputs": [],
   "source": [
    "print(events_short.info(memory_usage=\"deep\"))"
   ]
  },
  {
   "cell_type": "code",
   "execution_count": 14,
   "metadata": {},
   "outputs": [
    {
     "name": "stdout",
     "output_type": "stream",
     "text": [
      "<class 'pandas.core.frame.DataFrame'>\n",
      "RangeIndex: 111946597 entries, 0 to 111946596\n",
      "Data columns (total 6 columns):\n",
      "app_id             int64\n",
      "session_id         int64\n",
      "event              object\n",
      "event_timestamp    int64\n",
      "event_value        float64\n",
      "user_id_hash       object\n",
      "dtypes: float64(1), int64(3), object(2)\n",
      "memory usage: 13.8 GB\n"
     ]
    }
   ],
   "source": [
    "events.info(memory_usage=\"deep\")"
   ]
  },
  {
   "cell_type": "code",
   "execution_count": 15,
   "metadata": {
    "collapsed": true
   },
   "outputs": [],
   "source": [
    "events.to_feather(\"/tmp/events\")"
   ]
  },
  {
   "cell_type": "code",
   "execution_count": 16,
   "metadata": {},
   "outputs": [
    {
     "data": {
      "text/html": [
       "<div>\n",
       "<style scoped>\n",
       "    .dataframe tbody tr th:only-of-type {\n",
       "        vertical-align: middle;\n",
       "    }\n",
       "\n",
       "    .dataframe tbody tr th {\n",
       "        vertical-align: top;\n",
       "    }\n",
       "\n",
       "    .dataframe thead th {\n",
       "        text-align: right;\n",
       "    }\n",
       "</style>\n",
       "<table border=\"1\" class=\"dataframe\">\n",
       "  <thead>\n",
       "    <tr style=\"text-align: right;\">\n",
       "      <th></th>\n",
       "      <th>app_id</th>\n",
       "      <th>session_id</th>\n",
       "      <th>event_timestamp</th>\n",
       "      <th>event_value</th>\n",
       "    </tr>\n",
       "  </thead>\n",
       "  <tbody>\n",
       "    <tr>\n",
       "      <th>count</th>\n",
       "      <td>1.119466e+08</td>\n",
       "      <td>1.119466e+08</td>\n",
       "      <td>1.119466e+08</td>\n",
       "      <td>1.119465e+08</td>\n",
       "    </tr>\n",
       "    <tr>\n",
       "      <th>mean</th>\n",
       "      <td>4.724683e+15</td>\n",
       "      <td>4.615011e+18</td>\n",
       "      <td>1.541643e+12</td>\n",
       "      <td>1.476199e+04</td>\n",
       "    </tr>\n",
       "    <tr>\n",
       "      <th>std</th>\n",
       "      <td>1.056559e+07</td>\n",
       "      <td>2.662939e+18</td>\n",
       "      <td>1.639665e+09</td>\n",
       "      <td>7.948289e+06</td>\n",
       "    </tr>\n",
       "    <tr>\n",
       "      <th>min</th>\n",
       "      <td>4.724683e+15</td>\n",
       "      <td>2.335879e+12</td>\n",
       "      <td>1.538377e+12</td>\n",
       "      <td>0.000000e+00</td>\n",
       "    </tr>\n",
       "    <tr>\n",
       "      <th>25%</th>\n",
       "      <td>4.724683e+15</td>\n",
       "      <td>2.310347e+18</td>\n",
       "      <td>1.540306e+12</td>\n",
       "      <td>0.000000e+00</td>\n",
       "    </tr>\n",
       "    <tr>\n",
       "      <th>50%</th>\n",
       "      <td>4.724683e+15</td>\n",
       "      <td>4.617399e+18</td>\n",
       "      <td>1.541696e+12</td>\n",
       "      <td>0.000000e+00</td>\n",
       "    </tr>\n",
       "    <tr>\n",
       "      <th>75%</th>\n",
       "      <td>4.724683e+15</td>\n",
       "      <td>6.921542e+18</td>\n",
       "      <td>1.542983e+12</td>\n",
       "      <td>0.000000e+00</td>\n",
       "    </tr>\n",
       "    <tr>\n",
       "      <th>max</th>\n",
       "      <td>4.724683e+15</td>\n",
       "      <td>9.223371e+18</td>\n",
       "      <td>1.544832e+12</td>\n",
       "      <td>4.294967e+09</td>\n",
       "    </tr>\n",
       "  </tbody>\n",
       "</table>\n",
       "</div>"
      ],
      "text/plain": [
       "             app_id    session_id  event_timestamp   event_value\n",
       "count  1.119466e+08  1.119466e+08     1.119466e+08  1.119465e+08\n",
       "mean   4.724683e+15  4.615011e+18     1.541643e+12  1.476199e+04\n",
       "std    1.056559e+07  2.662939e+18     1.639665e+09  7.948289e+06\n",
       "min    4.724683e+15  2.335879e+12     1.538377e+12  0.000000e+00\n",
       "25%    4.724683e+15  2.310347e+18     1.540306e+12  0.000000e+00\n",
       "50%    4.724683e+15  4.617399e+18     1.541696e+12  0.000000e+00\n",
       "75%    4.724683e+15  6.921542e+18     1.542983e+12  0.000000e+00\n",
       "max    4.724683e+15  9.223371e+18     1.544832e+12  4.294967e+09"
      ]
     },
     "execution_count": 16,
     "metadata": {},
     "output_type": "execute_result"
    }
   ],
   "source": [
    "events.describe()"
   ]
  },
  {
   "cell_type": "code",
   "execution_count": null,
   "metadata": {},
   "outputs": [],
   "source": [
    "# counter = 0\n",
    "# for i in range(len(events)):\n",
    "#     if events['user_id_hash'].values[i] not in user_map:\n",
    "#         user_map[events['user_id_hash'].values[i]] = counter\n",
    "#         counter += 1\n",
    "#     events['user_map'] = user_map[events['user_id_hash'].values[i]]"
   ]
  },
  {
   "cell_type": "code",
   "execution_count": null,
   "metadata": {
    "collapsed": true
   },
   "outputs": [],
   "source": []
  }
 ],
 "metadata": {
  "kernelspec": {
   "display_name": "Python 3",
   "language": "python",
   "name": "python3"
  },
  "language_info": {
   "codemirror_mode": {
    "name": "ipython",
    "version": 3
   },
   "file_extension": ".py",
   "mimetype": "text/x-python",
   "name": "python",
   "nbconvert_exporter": "python",
   "pygments_lexer": "ipython3",
   "version": "3.6.8"
  }
 },
 "nbformat": 4,
 "nbformat_minor": 1
}
