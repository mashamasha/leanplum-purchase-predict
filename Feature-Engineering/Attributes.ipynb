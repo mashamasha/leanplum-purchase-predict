{
 "cells": [
  {
   "cell_type": "code",
   "execution_count": 1,
   "metadata": {},
   "outputs": [],
   "source": [
    "import pyspark\n",
    "import os\n",
    "import zipfile"
   ]
  },
  {
   "cell_type": "code",
   "execution_count": 11,
   "metadata": {
    "collapsed": true
   },
   "outputs": [],
   "source": [
    "from pyspark import SparkContext\n",
    "from pyspark.sql import SparkSession\n",
    "from pyspark.sql.types import *\n",
    "import pandas as pd"
   ]
  },
  {
   "cell_type": "code",
   "execution_count": 8,
   "metadata": {},
   "outputs": [],
   "source": [
    "# zip_ref = zipfile.ZipFile(\"/home/zxr_nju/data/attributes.csv.zip\", 'r')\n",
    "# zip_ref.extractall(\"/home/zxr_nju/data/\")\n",
    "# zip_ref.close()"
   ]
  },
  {
   "cell_type": "code",
   "execution_count": 14,
   "metadata": {},
   "outputs": [],
   "source": [
    "sc = pyspark.SparkContext.getOrCreate()"
   ]
  },
  {
   "cell_type": "code",
   "execution_count": 15,
   "metadata": {
    "collapsed": true
   },
   "outputs": [],
   "source": [
    "ss = SparkSession.builder.getOrCreate()"
   ]
  },
  {
   "cell_type": "code",
   "execution_count": 16,
   "metadata": {},
   "outputs": [],
   "source": [
    "attributes = sc.textFile(\"/home/zxr_nju/data/attributes.csv\")"
   ]
  },
  {
   "cell_type": "code",
   "execution_count": 17,
   "metadata": {},
   "outputs": [
    {
     "data": {
      "text/plain": [
       "['app_id,session_id,attribute,attribute_value,user_id_hash',\n",
       " '4724682771660800,2201961907282901522,0,1,9943447915df3a45fd6720a026af905b6da6b56a37701b8b2629802e9a541006',\n",
       " '4724682771660800,2201961907282901522,1,1,9943447915df3a45fd6720a026af905b6da6b56a37701b8b2629802e9a541006']"
      ]
     },
     "execution_count": 17,
     "metadata": {},
     "output_type": "execute_result"
    }
   ],
   "source": [
    "attributes.take(3)"
   ]
  },
  {
   "cell_type": "code",
   "execution_count": 9,
   "metadata": {},
   "outputs": [
    {
     "data": {
      "text/plain": [
       "['41f01b5e081ebb28756c50f308f39f3598fee1a424a502cee4c7cfe36e5cfe3d',\n",
       " '43db4e4365c088cf2e148f7c650ea991f6e387006aaab2c94fe793c43f878d0a',\n",
       " 'e8a532bc6e8cb35bfcb5af1c0ff5760e6498b41cbcae274fb291baf54142f0b3',\n",
       " '34923775eb87e845af4636430f78cb322f65c0fd4acad92176d58647bff05df6',\n",
       " '8e55a8232de00c2cd548081726f82821667e4fe76ee2b80e054fdf16a031851c']"
      ]
     },
     "execution_count": 9,
     "metadata": {},
     "output_type": "execute_result"
    }
   ],
   "source": [
    "attributes.map(lambda x: x.split(\",\")[-1]).distinct().take(5)"
   ]
  },
  {
   "cell_type": "code",
   "execution_count": 18,
   "metadata": {
    "collapsed": true
   },
   "outputs": [],
   "source": [
    "attr = attributes.map(lambda x: [x.split(',')[0],x.split(',')[1],x.split(',')[2],\\\n",
    "                                 ','.join(x.split(',')[3:-1]).replace(\"\\\"\",\"\").replace(\"\\\\\",\"\"),x.split(',')[-1]])"
   ]
  },
  {
   "cell_type": "code",
   "execution_count": 19,
   "metadata": {
    "collapsed": true
   },
   "outputs": [],
   "source": [
    "header = attr.first()"
   ]
  },
  {
   "cell_type": "code",
   "execution_count": 20,
   "metadata": {},
   "outputs": [
    {
     "data": {
      "text/plain": [
       "['app_id', 'session_id', 'attribute', 'attribute_value', 'user_id_hash']"
      ]
     },
     "execution_count": 20,
     "metadata": {},
     "output_type": "execute_result"
    }
   ],
   "source": [
    "header"
   ]
  },
  {
   "cell_type": "code",
   "execution_count": 21,
   "metadata": {
    "collapsed": true
   },
   "outputs": [],
   "source": [
    "fields = [StructField(field_name, StringType(), True) for field_name in header]"
   ]
  },
  {
   "cell_type": "code",
   "execution_count": 22,
   "metadata": {
    "collapsed": true
   },
   "outputs": [],
   "source": [
    "schema = StructType(fields)"
   ]
  },
  {
   "cell_type": "code",
   "execution_count": 23,
   "metadata": {
    "collapsed": true
   },
   "outputs": [],
   "source": [
    "attr = attr.filter(lambda x: 'app_id' not in x)"
   ]
  },
  {
   "cell_type": "code",
   "execution_count": 24,
   "metadata": {
    "collapsed": true
   },
   "outputs": [],
   "source": [
    "attr_df = ss.createDataFrame(attr, schema =schema)"
   ]
  },
  {
   "cell_type": "code",
   "execution_count": 25,
   "metadata": {},
   "outputs": [
    {
     "name": "stdout",
     "output_type": "stream",
     "text": [
      "+----------------+-------------------+---------+--------------------+--------------------+\n",
      "|          app_id|         session_id|attribute|     attribute_value|        user_id_hash|\n",
      "+----------------+-------------------+---------+--------------------+--------------------+\n",
      "|4724682771660800|2201961907282901522|        0|                   1|9943447915df3a45f...|\n",
      "|4724682771660800|2201961907282901522|        1|                   1|9943447915df3a45f...|\n",
      "|4724682771660800|2201961907282901522|        3|                   0|9943447915df3a45f...|\n",
      "|4724682771660800|2201961907282901522|        4|                0.00|9943447915df3a45f...|\n",
      "|4724682771660800|2201961907282901522|        5|romance_the_royal...|9943447915df3a45f...|\n",
      "|4724682771660800|2201961907282901522|        6|                  29|9943447915df3a45f...|\n",
      "|4724682771660800|2201961907282901522|        7|romance_the_royal...|9943447915df3a45f...|\n",
      "|4724682771660800|2201961907282901522|        8|                   2|9943447915df3a45f...|\n",
      "|4724682771660800|2201961907282901522|        9|                  29|9943447915df3a45f...|\n",
      "|4724682771660800|2201961907282901522|       10|romance_the_royal...|9943447915df3a45f...|\n",
      "|4724682771660800|2201961907282901522|       11|                   0|9943447915df3a45f...|\n",
      "|4724682771660800|2201961907282901522|       13|                3.49|9943447915df3a45f...|\n",
      "|4724682771660800|2201961907282901522|       14|                3.49|9943447915df3a45f...|\n",
      "|4724682771660800|2201961907282901522|       15|                   1|9943447915df3a45f...|\n",
      "|4724682771660800|2201961907282901522|       16|                   9|9943447915df3a45f...|\n",
      "|4724682771660800|2201961907282901522|       17|                   0|9943447915df3a45f...|\n",
      "|4724682771660800|2201961907282901522|       18|                   0|9943447915df3a45f...|\n",
      "|4724682771660800|2201961907282901522|       19|                  16|9943447915df3a45f...|\n",
      "|4724682771660800|2201961907282901522|       20|                   0|9943447915df3a45f...|\n",
      "|4724682771660800|2201961907282901522|       21|                   0|9943447915df3a45f...|\n",
      "|4724682771660800|2201961907282901522|       48|picker ya_romance...|9943447915df3a45f...|\n",
      "|4724682771660800|2201961907282901522|       52|                    |9943447915df3a45f...|\n",
      "|4724682771660800|2201961907282901522|       66|[romance_the_roya...|9943447915df3a45f...|\n",
      "|4724682771660800|2201961907282901522|       75|                   1|9943447915df3a45f...|\n",
      "|4724682771660800|2201961907282901522|       76|                   0|9943447915df3a45f...|\n",
      "|4724682771660800|2201961907282901522|       77|                   1|9943447915df3a45f...|\n",
      "|4724682771660800|2201961907282901522|       78|                   1|9943447915df3a45f...|\n",
      "|4724682771660800|2250719844051320866|        0|                   0|9943447915df3a45f...|\n",
      "|4724682771660800|2250719844051320866|        1|                   0|9943447915df3a45f...|\n",
      "|4724682771660800|2250719844051320866|        3|                   0|9943447915df3a45f...|\n",
      "+----------------+-------------------+---------+--------------------+--------------------+\n",
      "only showing top 30 rows\n",
      "\n"
     ]
    }
   ],
   "source": [
    "attr_df.show(30)"
   ]
  },
  {
   "cell_type": "code",
   "execution_count": 21,
   "metadata": {},
   "outputs": [],
   "source": [
    "sc.stop()"
   ]
  },
  {
   "cell_type": "code",
   "execution_count": null,
   "metadata": {
    "collapsed": true
   },
   "outputs": [],
   "source": []
  }
 ],
 "metadata": {
  "kernelspec": {
   "display_name": "Python 3",
   "language": "python",
   "name": "python3"
  },
  "language_info": {
   "codemirror_mode": {
    "name": "ipython",
    "version": 3
   },
   "file_extension": ".py",
   "mimetype": "text/x-python",
   "name": "python",
   "nbconvert_exporter": "python",
   "pygments_lexer": "ipython3",
   "version": "3.6.8"
  }
 },
 "nbformat": 4,
 "nbformat_minor": 1
}
