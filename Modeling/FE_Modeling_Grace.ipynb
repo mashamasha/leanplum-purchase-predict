{
 "cells": [
  {
   "cell_type": "code",
   "execution_count": 1,
   "metadata": {},
   "outputs": [
    {
     "name": "stderr",
     "output_type": "stream",
     "text": [
      "/Users/gracezhang/anaconda3/lib/python3.6/site-packages/lightgbm/__init__.py:46: UserWarning: Starting from version 2.2.1, the library file in distribution wheels for macOS is built by the Apple Clang (Xcode_8.3.1) compiler.\n",
      "This means that in case of installing LightGBM from PyPI via the ``pip install lightgbm`` command, you don't need to install the gcc compiler anymore.\n",
      "Instead of that, you need to install the OpenMP library, which is required for running LightGBM on the system with the Apple Clang compiler.\n",
      "You can install the OpenMP library by the following command: ``brew install libomp``.\n",
      "  \"You can install the OpenMP library by the following command: ``brew install libomp``.\", UserWarning)\n"
     ]
    }
   ],
   "source": [
    "import numpy as np\n",
    "import pandas as pd\n",
    "import pickle\n",
    "import xgboost\n",
    "import time\n",
    "import gc\n",
    "import lightgbm as lgb\n",
    "from xgboost.sklearn import XGBClassifier\n",
    "#warnings.filterwarnings('ignore')\n",
    "from sklearn.ensemble import RandomForestClassifier, VotingClassifier\n",
    "from sklearn.metrics import roc_curve, auc, accuracy_score,\\\n",
    "roc_auc_score, f1_score, confusion_matrix, precision_recall_curve\n",
    "import warnings\n",
    "warnings.filterwarnings('ignore')\n",
    "import numpy as np\n",
    "from collections import Counter, defaultdict\n",
    "from random import choice"
   ]
  },
  {
   "cell_type": "markdown",
   "metadata": {},
   "source": [
    "## Loading Data"
   ]
  },
  {
   "cell_type": "code",
   "execution_count": 2,
   "metadata": {},
   "outputs": [],
   "source": [
    "# sessions\n",
    "with open (\"/Users/gracezhang/Desktop/data/session.pkl\", \"rb\") as f:\n",
    "    sessions = pickle.load(f)\n",
    "\n",
    "# event\n",
    "with open (\"/Users/gracezhang/Desktop/data/events.pkl\", \"rb\") as f:\n",
    "    events = pickle.load(f)"
   ]
  },
  {
   "cell_type": "code",
   "execution_count": 3,
   "metadata": {},
   "outputs": [
    {
     "data": {
      "text/html": [
       "<div>\n",
       "<style scoped>\n",
       "    .dataframe tbody tr th:only-of-type {\n",
       "        vertical-align: middle;\n",
       "    }\n",
       "\n",
       "    .dataframe tbody tr th {\n",
       "        vertical-align: top;\n",
       "    }\n",
       "\n",
       "    .dataframe thead th {\n",
       "        text-align: right;\n",
       "    }\n",
       "</style>\n",
       "<table border=\"1\" class=\"dataframe\">\n",
       "  <thead>\n",
       "    <tr style=\"text-align: right;\">\n",
       "      <th></th>\n",
       "      <th>session_id</th>\n",
       "      <th>start_timestamp</th>\n",
       "      <th>timezone</th>\n",
       "      <th>timezone_offset</th>\n",
       "      <th>previous_sessions_duration</th>\n",
       "      <th>user_created_timestamp</th>\n",
       "      <th>is_user_first_session</th>\n",
       "      <th>country</th>\n",
       "      <th>region</th>\n",
       "      <th>city</th>\n",
       "      <th>latitude</th>\n",
       "      <th>longitude</th>\n",
       "      <th>locale</th>\n",
       "      <th>os_name</th>\n",
       "      <th>session_index</th>\n",
       "      <th>device_id</th>\n",
       "      <th>user_id_hash</th>\n",
       "    </tr>\n",
       "  </thead>\n",
       "  <tbody>\n",
       "    <tr>\n",
       "      <th>0</th>\n",
       "      <td>5558845121177764917</td>\n",
       "      <td>1542215364580</td>\n",
       "      <td>Asia/Manila</td>\n",
       "      <td>28800000.0</td>\n",
       "      <td>25837591</td>\n",
       "      <td>1538874289458</td>\n",
       "      <td>False</td>\n",
       "      <td>PH</td>\n",
       "      <td>00</td>\n",
       "      <td>makati</td>\n",
       "      <td>14.554729</td>\n",
       "      <td>121.024445</td>\n",
       "      <td>en_GB</td>\n",
       "      <td>Android OS</td>\n",
       "      <td>30</td>\n",
       "      <td>546a3d98-d540-4e72-ad82-9ebd64e0839b</td>\n",
       "      <td>9943447915df3a45fd6720a026af905b6da6b56a37701b...</td>\n",
       "    </tr>\n",
       "    <tr>\n",
       "      <th>1</th>\n",
       "      <td>18781111175537580</td>\n",
       "      <td>1539215568666</td>\n",
       "      <td>Asia/Manila</td>\n",
       "      <td>28800000.0</td>\n",
       "      <td>11343848</td>\n",
       "      <td>1538874289458</td>\n",
       "      <td>False</td>\n",
       "      <td>PH</td>\n",
       "      <td>00</td>\n",
       "      <td>makati</td>\n",
       "      <td>14.554729</td>\n",
       "      <td>121.024445</td>\n",
       "      <td>en_GB</td>\n",
       "      <td>Android OS</td>\n",
       "      <td>10</td>\n",
       "      <td>546a3d98-d540-4e72-ad82-9ebd64e0839b</td>\n",
       "      <td>9943447915df3a45fd6720a026af905b6da6b56a37701b...</td>\n",
       "    </tr>\n",
       "    <tr>\n",
       "      <th>2</th>\n",
       "      <td>1477540082628742048</td>\n",
       "      <td>1540120743010</td>\n",
       "      <td>Asia/Manila</td>\n",
       "      <td>28800000.0</td>\n",
       "      <td>13499724</td>\n",
       "      <td>1538874289458</td>\n",
       "      <td>False</td>\n",
       "      <td>PH</td>\n",
       "      <td>11</td>\n",
       "      <td>davao city</td>\n",
       "      <td>7.190708</td>\n",
       "      <td>125.455338</td>\n",
       "      <td>en_GB</td>\n",
       "      <td>Android OS</td>\n",
       "      <td>13</td>\n",
       "      <td>546a3d98-d540-4e72-ad82-9ebd64e0839b</td>\n",
       "      <td>9943447915df3a45fd6720a026af905b6da6b56a37701b...</td>\n",
       "    </tr>\n",
       "    <tr>\n",
       "      <th>3</th>\n",
       "      <td>8184875317380844086</td>\n",
       "      <td>1542671625528</td>\n",
       "      <td>Asia/Manila</td>\n",
       "      <td>28800000.0</td>\n",
       "      <td>32788010</td>\n",
       "      <td>1538874289458</td>\n",
       "      <td>False</td>\n",
       "      <td>PH</td>\n",
       "      <td>00</td>\n",
       "      <td>makati</td>\n",
       "      <td>14.554729</td>\n",
       "      <td>121.024445</td>\n",
       "      <td>en_GB</td>\n",
       "      <td>Android OS</td>\n",
       "      <td>41</td>\n",
       "      <td>546a3d98-d540-4e72-ad82-9ebd64e0839b</td>\n",
       "      <td>9943447915df3a45fd6720a026af905b6da6b56a37701b...</td>\n",
       "    </tr>\n",
       "    <tr>\n",
       "      <th>4</th>\n",
       "      <td>4706180700083856343</td>\n",
       "      <td>1538997913013</td>\n",
       "      <td>Asia/Manila</td>\n",
       "      <td>28800000.0</td>\n",
       "      <td>5872534</td>\n",
       "      <td>1538874289458</td>\n",
       "      <td>False</td>\n",
       "      <td>PH</td>\n",
       "      <td>11</td>\n",
       "      <td>davao city</td>\n",
       "      <td>7.190708</td>\n",
       "      <td>125.455338</td>\n",
       "      <td>en_GB</td>\n",
       "      <td>Android OS</td>\n",
       "      <td>4</td>\n",
       "      <td>546a3d98-d540-4e72-ad82-9ebd64e0839b</td>\n",
       "      <td>9943447915df3a45fd6720a026af905b6da6b56a37701b...</td>\n",
       "    </tr>\n",
       "  </tbody>\n",
       "</table>\n",
       "</div>"
      ],
      "text/plain": [
       "            session_id  start_timestamp     timezone  timezone_offset  \\\n",
       "0  5558845121177764917    1542215364580  Asia/Manila       28800000.0   \n",
       "1    18781111175537580    1539215568666  Asia/Manila       28800000.0   \n",
       "2  1477540082628742048    1540120743010  Asia/Manila       28800000.0   \n",
       "3  8184875317380844086    1542671625528  Asia/Manila       28800000.0   \n",
       "4  4706180700083856343    1538997913013  Asia/Manila       28800000.0   \n",
       "\n",
       "   previous_sessions_duration  user_created_timestamp  is_user_first_session  \\\n",
       "0                    25837591           1538874289458                  False   \n",
       "1                    11343848           1538874289458                  False   \n",
       "2                    13499724           1538874289458                  False   \n",
       "3                    32788010           1538874289458                  False   \n",
       "4                     5872534           1538874289458                  False   \n",
       "\n",
       "  country region        city   latitude   longitude locale     os_name  \\\n",
       "0      PH     00      makati  14.554729  121.024445  en_GB  Android OS   \n",
       "1      PH     00      makati  14.554729  121.024445  en_GB  Android OS   \n",
       "2      PH     11  davao city   7.190708  125.455338  en_GB  Android OS   \n",
       "3      PH     00      makati  14.554729  121.024445  en_GB  Android OS   \n",
       "4      PH     11  davao city   7.190708  125.455338  en_GB  Android OS   \n",
       "\n",
       "   session_index                             device_id  \\\n",
       "0             30  546a3d98-d540-4e72-ad82-9ebd64e0839b   \n",
       "1             10  546a3d98-d540-4e72-ad82-9ebd64e0839b   \n",
       "2             13  546a3d98-d540-4e72-ad82-9ebd64e0839b   \n",
       "3             41  546a3d98-d540-4e72-ad82-9ebd64e0839b   \n",
       "4              4  546a3d98-d540-4e72-ad82-9ebd64e0839b   \n",
       "\n",
       "                                        user_id_hash  \n",
       "0  9943447915df3a45fd6720a026af905b6da6b56a37701b...  \n",
       "1  9943447915df3a45fd6720a026af905b6da6b56a37701b...  \n",
       "2  9943447915df3a45fd6720a026af905b6da6b56a37701b...  \n",
       "3  9943447915df3a45fd6720a026af905b6da6b56a37701b...  \n",
       "4  9943447915df3a45fd6720a026af905b6da6b56a37701b...  "
      ]
     },
     "execution_count": 3,
     "metadata": {},
     "output_type": "execute_result"
    }
   ],
   "source": [
    "sessions.head()"
   ]
  },
  {
   "cell_type": "code",
   "execution_count": 4,
   "metadata": {},
   "outputs": [
    {
     "data": {
      "text/html": [
       "<div>\n",
       "<style scoped>\n",
       "    .dataframe tbody tr th:only-of-type {\n",
       "        vertical-align: middle;\n",
       "    }\n",
       "\n",
       "    .dataframe tbody tr th {\n",
       "        vertical-align: top;\n",
       "    }\n",
       "\n",
       "    .dataframe thead th {\n",
       "        text-align: right;\n",
       "    }\n",
       "</style>\n",
       "<table border=\"1\" class=\"dataframe\">\n",
       "  <thead>\n",
       "    <tr style=\"text-align: right;\">\n",
       "      <th></th>\n",
       "      <th>session_id</th>\n",
       "      <th>event</th>\n",
       "      <th>event_timestamp</th>\n",
       "      <th>event_value</th>\n",
       "      <th>user_id_hash</th>\n",
       "    </tr>\n",
       "  </thead>\n",
       "  <tbody>\n",
       "    <tr>\n",
       "      <th>0</th>\n",
       "      <td>5558845121177764917</td>\n",
       "      <td>45</td>\n",
       "      <td>1542215397132</td>\n",
       "      <td>0.0</td>\n",
       "      <td>9943447915df3a45fd6720a026af905b6da6b56a37701b...</td>\n",
       "    </tr>\n",
       "    <tr>\n",
       "      <th>1</th>\n",
       "      <td>5558845121177764917</td>\n",
       "      <td>45</td>\n",
       "      <td>1542215484895</td>\n",
       "      <td>0.0</td>\n",
       "      <td>9943447915df3a45fd6720a026af905b6da6b56a37701b...</td>\n",
       "    </tr>\n",
       "    <tr>\n",
       "      <th>2</th>\n",
       "      <td>7689508378645584666</td>\n",
       "      <td>.m5100869650219008</td>\n",
       "      <td>1541124410372</td>\n",
       "      <td>0.0</td>\n",
       "      <td>9943447915df3a45fd6720a026af905b6da6b56a37701b...</td>\n",
       "    </tr>\n",
       "    <tr>\n",
       "      <th>3</th>\n",
       "      <td>2201961907282901522</td>\n",
       "      <td>4</td>\n",
       "      <td>1543713091129</td>\n",
       "      <td>0.0</td>\n",
       "      <td>9943447915df3a45fd6720a026af905b6da6b56a37701b...</td>\n",
       "    </tr>\n",
       "    <tr>\n",
       "      <th>4</th>\n",
       "      <td>2201961907282901522</td>\n",
       "      <td>6</td>\n",
       "      <td>1543713093116</td>\n",
       "      <td>0.0</td>\n",
       "      <td>9943447915df3a45fd6720a026af905b6da6b56a37701b...</td>\n",
       "    </tr>\n",
       "  </tbody>\n",
       "</table>\n",
       "</div>"
      ],
      "text/plain": [
       "            session_id               event  event_timestamp  event_value  \\\n",
       "0  5558845121177764917                  45    1542215397132          0.0   \n",
       "1  5558845121177764917                  45    1542215484895          0.0   \n",
       "2  7689508378645584666  .m5100869650219008    1541124410372          0.0   \n",
       "3  2201961907282901522                   4    1543713091129          0.0   \n",
       "4  2201961907282901522                   6    1543713093116          0.0   \n",
       "\n",
       "                                        user_id_hash  \n",
       "0  9943447915df3a45fd6720a026af905b6da6b56a37701b...  \n",
       "1  9943447915df3a45fd6720a026af905b6da6b56a37701b...  \n",
       "2  9943447915df3a45fd6720a026af905b6da6b56a37701b...  \n",
       "3  9943447915df3a45fd6720a026af905b6da6b56a37701b...  \n",
       "4  9943447915df3a45fd6720a026af905b6da6b56a37701b...  "
      ]
     },
     "execution_count": 4,
     "metadata": {},
     "output_type": "execute_result"
    }
   ],
   "source": [
    "sessions.head()"
   ]
  },
  {
   "cell_type": "markdown",
   "metadata": {},
   "source": [
    "## Data Preprocessing"
   ]
  },
  {
   "cell_type": "markdown",
   "metadata": {},
   "source": [
    "#### Create labels for data from Dec 1 to Dec 7 and from Dec 1 to Dec 14 for training"
   ]
  },
  {
   "cell_type": "code",
   "execution_count": 499,
   "metadata": {},
   "outputs": [],
   "source": [
    "users = pd.DataFrame(list(events.user_id_hash.unique()))"
   ]
  },
  {
   "cell_type": "code",
   "execution_count": 500,
   "metadata": {},
   "outputs": [],
   "source": [
    "# first training label: Dec1 - Dec7\n",
    "dec_event = events[(events[\"event_timestamp\"] >= 1543651199000) & \n",
    "                  (events[\"event_timestamp\"] < 1544255999000)]\n",
    "puser1 = set(dec_event[dec_event[\"event\"] == \"8\"].user_id_hash.unique())\n",
    "\n",
    "# for training, the users include all unique users\n",
    "users_train = pd.DataFrame(list(events.user_id_hash.unique()))\n",
    "users_train.columns = [\"user_id_hash\"]\n",
    "\n",
    "labels1 = []\n",
    "for user in list(events.user_id_hash.unique()):\n",
    "    if user in puser1:\n",
    "        labels1.append(1)\n",
    "    else:\n",
    "        labels1.append(0)\n",
    "# label and add to train\n",
    "users_train[\"purchased1\"] = pd.DataFrame(labels1)"
   ]
  },
  {
   "cell_type": "code",
   "execution_count": 501,
   "metadata": {},
   "outputs": [],
   "source": [
    "# second training label: Dec1-Dec14\n",
    "dec2_event = events[(events[\"event_timestamp\"] >= 1543651199000)]\n",
    "puser2 = set(dec2_event[dec2_event[\"event\"] == \"8\"].user_id_hash.unique())\n",
    "\n",
    "labels2 = []\n",
    "for user in list(events.user_id_hash.unique()):\n",
    "    if user in puser2:\n",
    "        labels2.append(1)\n",
    "    else:\n",
    "        labels2.append(0)\n",
    "\n",
    "users_train[\"purchased2\"] = pd.DataFrame(labels2)"
   ]
  },
  {
   "cell_type": "code",
   "execution_count": 502,
   "metadata": {},
   "outputs": [
    {
     "data": {
      "text/html": [
       "<div>\n",
       "<style scoped>\n",
       "    .dataframe tbody tr th:only-of-type {\n",
       "        vertical-align: middle;\n",
       "    }\n",
       "\n",
       "    .dataframe tbody tr th {\n",
       "        vertical-align: top;\n",
       "    }\n",
       "\n",
       "    .dataframe thead th {\n",
       "        text-align: right;\n",
       "    }\n",
       "</style>\n",
       "<table border=\"1\" class=\"dataframe\">\n",
       "  <thead>\n",
       "    <tr style=\"text-align: right;\">\n",
       "      <th></th>\n",
       "      <th>user_id_hash</th>\n",
       "      <th>purchased1</th>\n",
       "      <th>purchased2</th>\n",
       "    </tr>\n",
       "  </thead>\n",
       "  <tbody>\n",
       "    <tr>\n",
       "      <th>0</th>\n",
       "      <td>9943447915df3a45fd6720a026af905b6da6b56a37701b...</td>\n",
       "      <td>0</td>\n",
       "      <td>0</td>\n",
       "    </tr>\n",
       "    <tr>\n",
       "      <th>1</th>\n",
       "      <td>43f75f8042d3c80c45e222bdd09267f4584684c54d6fae...</td>\n",
       "      <td>0</td>\n",
       "      <td>0</td>\n",
       "    </tr>\n",
       "    <tr>\n",
       "      <th>2</th>\n",
       "      <td>999524249720812f2d8c0390293efd58e1ac84d587a01c...</td>\n",
       "      <td>0</td>\n",
       "      <td>0</td>\n",
       "    </tr>\n",
       "    <tr>\n",
       "      <th>3</th>\n",
       "      <td>4e6bc35cf7fd79a5312047651e7865915f4a6bec193cf2...</td>\n",
       "      <td>0</td>\n",
       "      <td>0</td>\n",
       "    </tr>\n",
       "    <tr>\n",
       "      <th>4</th>\n",
       "      <td>dc009148ee26d658e0240c7b7f6a258790a457737f96e8...</td>\n",
       "      <td>0</td>\n",
       "      <td>0</td>\n",
       "    </tr>\n",
       "  </tbody>\n",
       "</table>\n",
       "</div>"
      ],
      "text/plain": [
       "                                        user_id_hash  purchased1  purchased2\n",
       "0  9943447915df3a45fd6720a026af905b6da6b56a37701b...           0           0\n",
       "1  43f75f8042d3c80c45e222bdd09267f4584684c54d6fae...           0           0\n",
       "2  999524249720812f2d8c0390293efd58e1ac84d587a01c...           0           0\n",
       "3  4e6bc35cf7fd79a5312047651e7865915f4a6bec193cf2...           0           0\n",
       "4  dc009148ee26d658e0240c7b7f6a258790a457737f96e8...           0           0"
      ]
     },
     "execution_count": 502,
     "metadata": {},
     "output_type": "execute_result"
    }
   ],
   "source": [
    "users_train.head()"
   ]
  },
  {
   "cell_type": "markdown",
   "metadata": {},
   "source": [
    "## Feature Engineering"
   ]
  },
  {
   "cell_type": "markdown",
   "metadata": {},
   "source": [
    "### Features for the first label"
   ]
  },
  {
   "cell_type": "markdown",
   "metadata": {},
   "source": [
    "#### Use the data from Oct 1 to Nov 30 to generate features"
   ]
  },
  {
   "cell_type": "code",
   "execution_count": 493,
   "metadata": {},
   "outputs": [],
   "source": [
    "features = events[events[\"event_timestamp\"] < 1543651199000]"
   ]
  },
  {
   "cell_type": "code",
   "execution_count": 494,
   "metadata": {},
   "outputs": [
    {
     "data": {
      "text/html": [
       "<div>\n",
       "<style scoped>\n",
       "    .dataframe tbody tr th:only-of-type {\n",
       "        vertical-align: middle;\n",
       "    }\n",
       "\n",
       "    .dataframe tbody tr th {\n",
       "        vertical-align: top;\n",
       "    }\n",
       "\n",
       "    .dataframe thead th {\n",
       "        text-align: right;\n",
       "    }\n",
       "</style>\n",
       "<table border=\"1\" class=\"dataframe\">\n",
       "  <thead>\n",
       "    <tr style=\"text-align: right;\">\n",
       "      <th></th>\n",
       "      <th>session_id</th>\n",
       "      <th>event</th>\n",
       "      <th>event_timestamp</th>\n",
       "      <th>event_value</th>\n",
       "      <th>user_id_hash</th>\n",
       "    </tr>\n",
       "  </thead>\n",
       "  <tbody>\n",
       "    <tr>\n",
       "      <th>0</th>\n",
       "      <td>5558845121177764917</td>\n",
       "      <td>45</td>\n",
       "      <td>1542215397132</td>\n",
       "      <td>0.0</td>\n",
       "      <td>9943447915df3a45fd6720a026af905b6da6b56a37701b...</td>\n",
       "    </tr>\n",
       "    <tr>\n",
       "      <th>1</th>\n",
       "      <td>5558845121177764917</td>\n",
       "      <td>45</td>\n",
       "      <td>1542215484895</td>\n",
       "      <td>0.0</td>\n",
       "      <td>9943447915df3a45fd6720a026af905b6da6b56a37701b...</td>\n",
       "    </tr>\n",
       "    <tr>\n",
       "      <th>2</th>\n",
       "      <td>7689508378645584666</td>\n",
       "      <td>.m5100869650219008</td>\n",
       "      <td>1541124410372</td>\n",
       "      <td>0.0</td>\n",
       "      <td>9943447915df3a45fd6720a026af905b6da6b56a37701b...</td>\n",
       "    </tr>\n",
       "    <tr>\n",
       "      <th>30</th>\n",
       "      <td>18781111175537580</td>\n",
       "      <td>.m6335456823869440</td>\n",
       "      <td>1539215572790</td>\n",
       "      <td>0.0</td>\n",
       "      <td>9943447915df3a45fd6720a026af905b6da6b56a37701b...</td>\n",
       "    </tr>\n",
       "    <tr>\n",
       "      <th>31</th>\n",
       "      <td>18781111175537580</td>\n",
       "      <td>1</td>\n",
       "      <td>1539215608399</td>\n",
       "      <td>0.0</td>\n",
       "      <td>9943447915df3a45fd6720a026af905b6da6b56a37701b...</td>\n",
       "    </tr>\n",
       "  </tbody>\n",
       "</table>\n",
       "</div>"
      ],
      "text/plain": [
       "             session_id               event  event_timestamp  event_value  \\\n",
       "0   5558845121177764917                  45    1542215397132          0.0   \n",
       "1   5558845121177764917                  45    1542215484895          0.0   \n",
       "2   7689508378645584666  .m5100869650219008    1541124410372          0.0   \n",
       "30    18781111175537580  .m6335456823869440    1539215572790          0.0   \n",
       "31    18781111175537580                   1    1539215608399          0.0   \n",
       "\n",
       "                                         user_id_hash  \n",
       "0   9943447915df3a45fd6720a026af905b6da6b56a37701b...  \n",
       "1   9943447915df3a45fd6720a026af905b6da6b56a37701b...  \n",
       "2   9943447915df3a45fd6720a026af905b6da6b56a37701b...  \n",
       "30  9943447915df3a45fd6720a026af905b6da6b56a37701b...  \n",
       "31  9943447915df3a45fd6720a026af905b6da6b56a37701b...  "
      ]
     },
     "execution_count": 494,
     "metadata": {},
     "output_type": "execute_result"
    }
   ],
   "source": [
    "features.head()"
   ]
  },
  {
   "cell_type": "markdown",
   "metadata": {},
   "source": [
    "#### Feature 1: average amount purchased"
   ]
  },
  {
   "cell_type": "code",
   "execution_count": 495,
   "metadata": {},
   "outputs": [],
   "source": [
    "def purchaseAmt(df):\n",
    "    df = df[df[\"event\"]==\"8\"][[\"user_id_hash\", \"event_value\"]].groupby(\"user_id_hash\").mean().reset_index()\n",
    "    return df"
   ]
  },
  {
   "cell_type": "markdown",
   "metadata": {},
   "source": [
    "#### Feature 2: average amt of event 5"
   ]
  },
  {
   "cell_type": "code",
   "execution_count": 496,
   "metadata": {},
   "outputs": [],
   "source": [
    "def event5Amt(df):\n",
    "    df = df[df[\"event\"]==\"5\"][[\"user_id_hash\", \"event_value\"]].groupby(\"user_id_hash\").mean().reset_index()\n",
    "    return df"
   ]
  },
  {
   "cell_type": "markdown",
   "metadata": {},
   "source": [
    "#### Feature 3: avg prev session duration"
   ]
  },
  {
   "cell_type": "code",
   "execution_count": 483,
   "metadata": {},
   "outputs": [],
   "source": [
    "features2 = sessions[sessions[\"start_timestamp\"] < 1543651199000]"
   ]
  },
  {
   "cell_type": "code",
   "execution_count": 484,
   "metadata": {},
   "outputs": [],
   "source": [
    "def avgPrevSession(df):\n",
    "    df = df.groupby(\"user_id_hash\")[\"previous_sessions_duration\"] \\\n",
    "         .agg('mean').reset_index(name='avg_duration')\n",
    "    return df"
   ]
  },
  {
   "cell_type": "markdown",
   "metadata": {},
   "source": [
    "#### Feature 4: avg num of purchase"
   ]
  },
  {
   "cell_type": "code",
   "execution_count": 485,
   "metadata": {},
   "outputs": [],
   "source": [
    "def numPurchase(df):\n",
    "    df = df[df[\"event\"]==\"8\"].groupby(\"user_id_hash\").count().reset_index()\n",
    "    return df"
   ]
  },
  {
   "cell_type": "code",
   "execution_count": 486,
   "metadata": {},
   "outputs": [],
   "source": [
    "day_count = 61"
   ]
  },
  {
   "cell_type": "markdown",
   "metadata": {},
   "source": [
    "#### Feature 5: avg num of event5"
   ]
  },
  {
   "cell_type": "code",
   "execution_count": 487,
   "metadata": {},
   "outputs": [],
   "source": [
    "def numEvent5(df):\n",
    "    df = df[df[\"event\"]==\"5\"].groupby(\"user_id_hash\").count().reset_index()\n",
    "    return df"
   ]
  },
  {
   "cell_type": "markdown",
   "metadata": {},
   "source": [
    "#### Feature 6: avg num of sessions"
   ]
  },
  {
   "cell_type": "code",
   "execution_count": 488,
   "metadata": {},
   "outputs": [],
   "source": [
    "def avgNumSessions(df):\n",
    "    df = df.groupby(\"user_id_hash\").count().reset_index()\n",
    "    return df"
   ]
  },
  {
   "cell_type": "markdown",
   "metadata": {},
   "source": [
    "#### Feature 7: avg num of event 0"
   ]
  },
  {
   "cell_type": "code",
   "execution_count": 577,
   "metadata": {},
   "outputs": [],
   "source": [
    "def numEvent0(df):\n",
    "    df = df[df[\"event\"]==\"0\"].groupby(\"user_id_hash\").count().reset_index()\n",
    "    return df"
   ]
  },
  {
   "cell_type": "markdown",
   "metadata": {},
   "source": [
    "#### Feature 8: time since last event"
   ]
  },
  {
   "cell_type": "code",
   "execution_count": null,
   "metadata": {},
   "outputs": [],
   "source": [
    "def timeSinceLastEvent(df, cutoff):\n",
    "    temp = df.groupby(\"user_id_hash\")['event_timestamp'].agg(['last']).reset_index()\n",
    "    df['time_since_last'] = cutoff - temp['last']\n",
    "    return df"
   ]
  },
  {
   "cell_type": "code",
   "execution_count": null,
   "metadata": {},
   "outputs": [],
   "source": []
  },
  {
   "cell_type": "markdown",
   "metadata": {},
   "source": [
    "### Features for the second label"
   ]
  },
  {
   "cell_type": "markdown",
   "metadata": {},
   "source": [
    "#### Feature 1: avg num of purchase"
   ]
  },
  {
   "cell_type": "code",
   "execution_count": 503,
   "metadata": {},
   "outputs": [],
   "source": [
    "day_count = 61\n",
    "feature1_label2 = distinctPurchase(features[[\"user_id_hash\", \"event\"]])\n",
    "feature1_label2.event = feature1_label2.event/day_count\n",
    "users_train = users_train.join(feature1_label2.set_index(\"user_id_hash\"), on=\"user_id_hash\", how=\"left\")\n",
    "users_train.columns = [\"user_id_hash\", \"purchase1\", \"purchase2\", \"avg_num_purchase\"]"
   ]
  },
  {
   "cell_type": "code",
   "execution_count": 504,
   "metadata": {},
   "outputs": [
    {
     "data": {
      "text/html": [
       "<div>\n",
       "<style scoped>\n",
       "    .dataframe tbody tr th:only-of-type {\n",
       "        vertical-align: middle;\n",
       "    }\n",
       "\n",
       "    .dataframe tbody tr th {\n",
       "        vertical-align: top;\n",
       "    }\n",
       "\n",
       "    .dataframe thead th {\n",
       "        text-align: right;\n",
       "    }\n",
       "</style>\n",
       "<table border=\"1\" class=\"dataframe\">\n",
       "  <thead>\n",
       "    <tr style=\"text-align: right;\">\n",
       "      <th></th>\n",
       "      <th>user_id_hash</th>\n",
       "      <th>purchase1</th>\n",
       "      <th>purchase2</th>\n",
       "      <th>avg_num_purchase</th>\n",
       "    </tr>\n",
       "  </thead>\n",
       "  <tbody>\n",
       "    <tr>\n",
       "      <th>0</th>\n",
       "      <td>9943447915df3a45fd6720a026af905b6da6b56a37701b...</td>\n",
       "      <td>0</td>\n",
       "      <td>0</td>\n",
       "      <td>0.016393</td>\n",
       "    </tr>\n",
       "    <tr>\n",
       "      <th>1</th>\n",
       "      <td>43f75f8042d3c80c45e222bdd09267f4584684c54d6fae...</td>\n",
       "      <td>0</td>\n",
       "      <td>0</td>\n",
       "      <td>0.000000</td>\n",
       "    </tr>\n",
       "    <tr>\n",
       "      <th>2</th>\n",
       "      <td>999524249720812f2d8c0390293efd58e1ac84d587a01c...</td>\n",
       "      <td>0</td>\n",
       "      <td>0</td>\n",
       "      <td>0.000000</td>\n",
       "    </tr>\n",
       "    <tr>\n",
       "      <th>3</th>\n",
       "      <td>4e6bc35cf7fd79a5312047651e7865915f4a6bec193cf2...</td>\n",
       "      <td>0</td>\n",
       "      <td>0</td>\n",
       "      <td>0.000000</td>\n",
       "    </tr>\n",
       "    <tr>\n",
       "      <th>4</th>\n",
       "      <td>dc009148ee26d658e0240c7b7f6a258790a457737f96e8...</td>\n",
       "      <td>0</td>\n",
       "      <td>0</td>\n",
       "      <td>0.000000</td>\n",
       "    </tr>\n",
       "  </tbody>\n",
       "</table>\n",
       "</div>"
      ],
      "text/plain": [
       "                                        user_id_hash  purchase1  purchase2  \\\n",
       "0  9943447915df3a45fd6720a026af905b6da6b56a37701b...          0          0   \n",
       "1  43f75f8042d3c80c45e222bdd09267f4584684c54d6fae...          0          0   \n",
       "2  999524249720812f2d8c0390293efd58e1ac84d587a01c...          0          0   \n",
       "3  4e6bc35cf7fd79a5312047651e7865915f4a6bec193cf2...          0          0   \n",
       "4  dc009148ee26d658e0240c7b7f6a258790a457737f96e8...          0          0   \n",
       "\n",
       "   avg_num_purchase  \n",
       "0          0.016393  \n",
       "1          0.000000  \n",
       "2          0.000000  \n",
       "3          0.000000  \n",
       "4          0.000000  "
      ]
     },
     "execution_count": 504,
     "metadata": {},
     "output_type": "execute_result"
    }
   ],
   "source": [
    "users_train.head()"
   ]
  },
  {
   "cell_type": "markdown",
   "metadata": {},
   "source": [
    "#### Feature 2: avg amt purchase"
   ]
  },
  {
   "cell_type": "code",
   "execution_count": 505,
   "metadata": {},
   "outputs": [],
   "source": [
    "feature2_label2 = purchaseAmt(features[[\"user_id_hash\", \"event\", \"event_value\"]])\n",
    "feature2_label2[\"event_value\"] = feature2_label2[\"event_value\"].fillna(0)\n",
    "users_train = users_train.join(feature2_label2.set_index(\"user_id_hash\"), on=\"user_id_hash\", how=\"left\")\n",
    "users_train.columns = [\"user_id_hash\", \"purchase1\", \"purchase2\", \"avg_num_purchase\", \"avg_amt_purchased\"]"
   ]
  },
  {
   "cell_type": "code",
   "execution_count": 506,
   "metadata": {},
   "outputs": [
    {
     "data": {
      "text/html": [
       "<div>\n",
       "<style scoped>\n",
       "    .dataframe tbody tr th:only-of-type {\n",
       "        vertical-align: middle;\n",
       "    }\n",
       "\n",
       "    .dataframe tbody tr th {\n",
       "        vertical-align: top;\n",
       "    }\n",
       "\n",
       "    .dataframe thead th {\n",
       "        text-align: right;\n",
       "    }\n",
       "</style>\n",
       "<table border=\"1\" class=\"dataframe\">\n",
       "  <thead>\n",
       "    <tr style=\"text-align: right;\">\n",
       "      <th></th>\n",
       "      <th>user_id_hash</th>\n",
       "      <th>purchase1</th>\n",
       "      <th>purchase2</th>\n",
       "      <th>avg_num_purchase</th>\n",
       "      <th>avg_amt_purchased</th>\n",
       "    </tr>\n",
       "  </thead>\n",
       "  <tbody>\n",
       "    <tr>\n",
       "      <th>0</th>\n",
       "      <td>9943447915df3a45fd6720a026af905b6da6b56a37701b...</td>\n",
       "      <td>0</td>\n",
       "      <td>0</td>\n",
       "      <td>0.016393</td>\n",
       "      <td>3.492188</td>\n",
       "    </tr>\n",
       "    <tr>\n",
       "      <th>1</th>\n",
       "      <td>43f75f8042d3c80c45e222bdd09267f4584684c54d6fae...</td>\n",
       "      <td>0</td>\n",
       "      <td>0</td>\n",
       "      <td>0.000000</td>\n",
       "      <td>0.000000</td>\n",
       "    </tr>\n",
       "    <tr>\n",
       "      <th>2</th>\n",
       "      <td>999524249720812f2d8c0390293efd58e1ac84d587a01c...</td>\n",
       "      <td>0</td>\n",
       "      <td>0</td>\n",
       "      <td>0.000000</td>\n",
       "      <td>0.000000</td>\n",
       "    </tr>\n",
       "    <tr>\n",
       "      <th>3</th>\n",
       "      <td>4e6bc35cf7fd79a5312047651e7865915f4a6bec193cf2...</td>\n",
       "      <td>0</td>\n",
       "      <td>0</td>\n",
       "      <td>0.000000</td>\n",
       "      <td>0.000000</td>\n",
       "    </tr>\n",
       "    <tr>\n",
       "      <th>4</th>\n",
       "      <td>dc009148ee26d658e0240c7b7f6a258790a457737f96e8...</td>\n",
       "      <td>0</td>\n",
       "      <td>0</td>\n",
       "      <td>0.000000</td>\n",
       "      <td>0.000000</td>\n",
       "    </tr>\n",
       "  </tbody>\n",
       "</table>\n",
       "</div>"
      ],
      "text/plain": [
       "                                        user_id_hash  purchase1  purchase2  \\\n",
       "0  9943447915df3a45fd6720a026af905b6da6b56a37701b...          0          0   \n",
       "1  43f75f8042d3c80c45e222bdd09267f4584684c54d6fae...          0          0   \n",
       "2  999524249720812f2d8c0390293efd58e1ac84d587a01c...          0          0   \n",
       "3  4e6bc35cf7fd79a5312047651e7865915f4a6bec193cf2...          0          0   \n",
       "4  dc009148ee26d658e0240c7b7f6a258790a457737f96e8...          0          0   \n",
       "\n",
       "   avg_num_purchase  avg_amt_purchased  \n",
       "0          0.016393           3.492188  \n",
       "1          0.000000           0.000000  \n",
       "2          0.000000           0.000000  \n",
       "3          0.000000           0.000000  \n",
       "4          0.000000           0.000000  "
      ]
     },
     "execution_count": 506,
     "metadata": {},
     "output_type": "execute_result"
    }
   ],
   "source": [
    "users_train.head()"
   ]
  },
  {
   "cell_type": "markdown",
   "metadata": {},
   "source": [
    "#### Feature 3: avg prev session duration"
   ]
  },
  {
   "cell_type": "code",
   "execution_count": 507,
   "metadata": {},
   "outputs": [],
   "source": [
    "feature3_label2 = avgPrevSession(features2[[\"user_id_hash\", \"previous_sessions_duration\", \"start_timestamp\"]])\n",
    "users_train = users_train.join(feature3_label2.set_index(\"user_id_hash\"), on=\"user_id_hash\", how=\"left\")\n",
    "users_train.columns = [\"user_id_hash\", \"purchase1\", \"purchase2\", \"avg_num_purchase\", \"avg_amt_purchased\",\\\n",
    "                       \"avg_prev_session\"]"
   ]
  },
  {
   "cell_type": "code",
   "execution_count": 508,
   "metadata": {},
   "outputs": [
    {
     "data": {
      "text/html": [
       "<div>\n",
       "<style scoped>\n",
       "    .dataframe tbody tr th:only-of-type {\n",
       "        vertical-align: middle;\n",
       "    }\n",
       "\n",
       "    .dataframe tbody tr th {\n",
       "        vertical-align: top;\n",
       "    }\n",
       "\n",
       "    .dataframe thead th {\n",
       "        text-align: right;\n",
       "    }\n",
       "</style>\n",
       "<table border=\"1\" class=\"dataframe\">\n",
       "  <thead>\n",
       "    <tr style=\"text-align: right;\">\n",
       "      <th></th>\n",
       "      <th>purchase1</th>\n",
       "      <th>purchase2</th>\n",
       "      <th>avg_num_purchase</th>\n",
       "      <th>avg_amt_purchased</th>\n",
       "      <th>avg_prev_session</th>\n",
       "    </tr>\n",
       "  </thead>\n",
       "  <tbody>\n",
       "    <tr>\n",
       "      <th>count</th>\n",
       "      <td>620988.000000</td>\n",
       "      <td>620988.000000</td>\n",
       "      <td>620988.000000</td>\n",
       "      <td>620988.0</td>\n",
       "      <td>6.188320e+05</td>\n",
       "    </tr>\n",
       "    <tr>\n",
       "      <th>mean</th>\n",
       "      <td>0.007383</td>\n",
       "      <td>0.009483</td>\n",
       "      <td>0.006217</td>\n",
       "      <td>NaN</td>\n",
       "      <td>3.842889e+06</td>\n",
       "    </tr>\n",
       "    <tr>\n",
       "      <th>std</th>\n",
       "      <td>0.085609</td>\n",
       "      <td>0.096919</td>\n",
       "      <td>0.050412</td>\n",
       "      <td>0.0</td>\n",
       "      <td>1.287297e+07</td>\n",
       "    </tr>\n",
       "    <tr>\n",
       "      <th>min</th>\n",
       "      <td>0.000000</td>\n",
       "      <td>0.000000</td>\n",
       "      <td>0.000000</td>\n",
       "      <td>0.0</td>\n",
       "      <td>0.000000e+00</td>\n",
       "    </tr>\n",
       "    <tr>\n",
       "      <th>25%</th>\n",
       "      <td>0.000000</td>\n",
       "      <td>0.000000</td>\n",
       "      <td>0.000000</td>\n",
       "      <td>0.0</td>\n",
       "      <td>0.000000e+00</td>\n",
       "    </tr>\n",
       "    <tr>\n",
       "      <th>50%</th>\n",
       "      <td>0.000000</td>\n",
       "      <td>0.000000</td>\n",
       "      <td>0.000000</td>\n",
       "      <td>0.0</td>\n",
       "      <td>4.775025e+04</td>\n",
       "    </tr>\n",
       "    <tr>\n",
       "      <th>75%</th>\n",
       "      <td>0.000000</td>\n",
       "      <td>0.000000</td>\n",
       "      <td>0.000000</td>\n",
       "      <td>0.0</td>\n",
       "      <td>2.282013e+06</td>\n",
       "    </tr>\n",
       "    <tr>\n",
       "      <th>max</th>\n",
       "      <td>1.000000</td>\n",
       "      <td>1.000000</td>\n",
       "      <td>7.295082</td>\n",
       "      <td>70.0</td>\n",
       "      <td>8.274996e+08</td>\n",
       "    </tr>\n",
       "  </tbody>\n",
       "</table>\n",
       "</div>"
      ],
      "text/plain": [
       "           purchase1      purchase2  avg_num_purchase  avg_amt_purchased  \\\n",
       "count  620988.000000  620988.000000     620988.000000           620988.0   \n",
       "mean        0.007383       0.009483          0.006217                NaN   \n",
       "std         0.085609       0.096919          0.050412                0.0   \n",
       "min         0.000000       0.000000          0.000000                0.0   \n",
       "25%         0.000000       0.000000          0.000000                0.0   \n",
       "50%         0.000000       0.000000          0.000000                0.0   \n",
       "75%         0.000000       0.000000          0.000000                0.0   \n",
       "max         1.000000       1.000000          7.295082               70.0   \n",
       "\n",
       "       avg_prev_session  \n",
       "count      6.188320e+05  \n",
       "mean       3.842889e+06  \n",
       "std        1.287297e+07  \n",
       "min        0.000000e+00  \n",
       "25%        0.000000e+00  \n",
       "50%        4.775025e+04  \n",
       "75%        2.282013e+06  \n",
       "max        8.274996e+08  "
      ]
     },
     "execution_count": 508,
     "metadata": {},
     "output_type": "execute_result"
    }
   ],
   "source": [
    "users_train.describe()"
   ]
  },
  {
   "cell_type": "markdown",
   "metadata": {},
   "source": [
    "#### Feature 4: avg num of sessions"
   ]
  },
  {
   "cell_type": "code",
   "execution_count": 509,
   "metadata": {},
   "outputs": [],
   "source": [
    "feature4_label2 = avgNumSessions(features2[[\"user_id_hash\", \"session_id\"]])\n",
    "feature4_label2.session_id = feature4_label2.session_id/day_count\n",
    "\n",
    "users_train = users_train.join(feature4_label2.set_index(\"user_id_hash\"), on=\"user_id_hash\", how=\"left\")\n",
    "users_train.columns = [\"user_id_hash\", \"purchase1\", \"purchase2\", \"avg_num_purchase\", \"avg_amt_purchased\", \\\n",
    "                       \"avg_prev_session\", \"avg_session_count\"]"
   ]
  },
  {
   "cell_type": "code",
   "execution_count": 510,
   "metadata": {},
   "outputs": [
    {
     "data": {
      "text/html": [
       "<div>\n",
       "<style scoped>\n",
       "    .dataframe tbody tr th:only-of-type {\n",
       "        vertical-align: middle;\n",
       "    }\n",
       "\n",
       "    .dataframe tbody tr th {\n",
       "        vertical-align: top;\n",
       "    }\n",
       "\n",
       "    .dataframe thead th {\n",
       "        text-align: right;\n",
       "    }\n",
       "</style>\n",
       "<table border=\"1\" class=\"dataframe\">\n",
       "  <thead>\n",
       "    <tr style=\"text-align: right;\">\n",
       "      <th></th>\n",
       "      <th>user_id_hash</th>\n",
       "      <th>purchase1</th>\n",
       "      <th>purchase2</th>\n",
       "      <th>avg_num_purchase</th>\n",
       "      <th>avg_amt_purchased</th>\n",
       "      <th>avg_prev_session</th>\n",
       "      <th>avg_session_count</th>\n",
       "    </tr>\n",
       "  </thead>\n",
       "  <tbody>\n",
       "    <tr>\n",
       "      <th>0</th>\n",
       "      <td>9943447915df3a45fd6720a026af905b6da6b56a37701b...</td>\n",
       "      <td>0</td>\n",
       "      <td>0</td>\n",
       "      <td>0.016393</td>\n",
       "      <td>3.492188</td>\n",
       "      <td>2.039529e+07</td>\n",
       "      <td>0.754098</td>\n",
       "    </tr>\n",
       "    <tr>\n",
       "      <th>1</th>\n",
       "      <td>43f75f8042d3c80c45e222bdd09267f4584684c54d6fae...</td>\n",
       "      <td>0</td>\n",
       "      <td>0</td>\n",
       "      <td>0.000000</td>\n",
       "      <td>0.000000</td>\n",
       "      <td>2.024939e+06</td>\n",
       "      <td>0.049180</td>\n",
       "    </tr>\n",
       "    <tr>\n",
       "      <th>2</th>\n",
       "      <td>999524249720812f2d8c0390293efd58e1ac84d587a01c...</td>\n",
       "      <td>0</td>\n",
       "      <td>0</td>\n",
       "      <td>0.000000</td>\n",
       "      <td>0.000000</td>\n",
       "      <td>0.000000e+00</td>\n",
       "      <td>0.016393</td>\n",
       "    </tr>\n",
       "    <tr>\n",
       "      <th>3</th>\n",
       "      <td>4e6bc35cf7fd79a5312047651e7865915f4a6bec193cf2...</td>\n",
       "      <td>0</td>\n",
       "      <td>0</td>\n",
       "      <td>0.000000</td>\n",
       "      <td>0.000000</td>\n",
       "      <td>0.000000e+00</td>\n",
       "      <td>0.016393</td>\n",
       "    </tr>\n",
       "    <tr>\n",
       "      <th>4</th>\n",
       "      <td>dc009148ee26d658e0240c7b7f6a258790a457737f96e8...</td>\n",
       "      <td>0</td>\n",
       "      <td>0</td>\n",
       "      <td>0.000000</td>\n",
       "      <td>0.000000</td>\n",
       "      <td>0.000000e+00</td>\n",
       "      <td>0.016393</td>\n",
       "    </tr>\n",
       "  </tbody>\n",
       "</table>\n",
       "</div>"
      ],
      "text/plain": [
       "                                        user_id_hash  purchase1  purchase2  \\\n",
       "0  9943447915df3a45fd6720a026af905b6da6b56a37701b...          0          0   \n",
       "1  43f75f8042d3c80c45e222bdd09267f4584684c54d6fae...          0          0   \n",
       "2  999524249720812f2d8c0390293efd58e1ac84d587a01c...          0          0   \n",
       "3  4e6bc35cf7fd79a5312047651e7865915f4a6bec193cf2...          0          0   \n",
       "4  dc009148ee26d658e0240c7b7f6a258790a457737f96e8...          0          0   \n",
       "\n",
       "   avg_num_purchase  avg_amt_purchased  avg_prev_session  avg_session_count  \n",
       "0          0.016393           3.492188      2.039529e+07           0.754098  \n",
       "1          0.000000           0.000000      2.024939e+06           0.049180  \n",
       "2          0.000000           0.000000      0.000000e+00           0.016393  \n",
       "3          0.000000           0.000000      0.000000e+00           0.016393  \n",
       "4          0.000000           0.000000      0.000000e+00           0.016393  "
      ]
     },
     "execution_count": 510,
     "metadata": {},
     "output_type": "execute_result"
    }
   ],
   "source": [
    "users_train.head()"
   ]
  },
  {
   "cell_type": "markdown",
   "metadata": {},
   "source": [
    "#### Feature 5: avg num of event5"
   ]
  },
  {
   "cell_type": "code",
   "execution_count": 511,
   "metadata": {},
   "outputs": [],
   "source": [
    "feature5_label2 = numEvent5(features[[\"user_id_hash\", \"event\"]])\n",
    "feature5_label2.event = feature5_label2.event/day_count\n",
    "users_train = users_train.join(feature5_label2.set_index(\"user_id_hash\"), on=\"user_id_hash\", how=\"left\")\n",
    "users_train.columns = [\"user_id_hash\", \"purchase1\", \"purchase2\", \"avg_num_purchase\", \"avg_amt_purchased\", \\\n",
    "                       \"avg_prev_session\", \"avg_session_count\", \"avg_num_event5\"]"
   ]
  },
  {
   "cell_type": "code",
   "execution_count": 513,
   "metadata": {},
   "outputs": [
    {
     "data": {
      "text/html": [
       "<div>\n",
       "<style scoped>\n",
       "    .dataframe tbody tr th:only-of-type {\n",
       "        vertical-align: middle;\n",
       "    }\n",
       "\n",
       "    .dataframe tbody tr th {\n",
       "        vertical-align: top;\n",
       "    }\n",
       "\n",
       "    .dataframe thead th {\n",
       "        text-align: right;\n",
       "    }\n",
       "</style>\n",
       "<table border=\"1\" class=\"dataframe\">\n",
       "  <thead>\n",
       "    <tr style=\"text-align: right;\">\n",
       "      <th></th>\n",
       "      <th>user_id_hash</th>\n",
       "      <th>purchase1</th>\n",
       "      <th>purchase2</th>\n",
       "      <th>avg_num_purchase</th>\n",
       "      <th>avg_amt_purchased</th>\n",
       "      <th>avg_prev_session</th>\n",
       "      <th>avg_session_count</th>\n",
       "      <th>avg_num_event5</th>\n",
       "    </tr>\n",
       "  </thead>\n",
       "  <tbody>\n",
       "    <tr>\n",
       "      <th>0</th>\n",
       "      <td>9943447915df3a45fd6720a026af905b6da6b56a37701b...</td>\n",
       "      <td>0</td>\n",
       "      <td>0</td>\n",
       "      <td>0.016393</td>\n",
       "      <td>3.492188</td>\n",
       "      <td>2.039529e+07</td>\n",
       "      <td>0.754098</td>\n",
       "      <td>0.459016</td>\n",
       "    </tr>\n",
       "    <tr>\n",
       "      <th>1</th>\n",
       "      <td>43f75f8042d3c80c45e222bdd09267f4584684c54d6fae...</td>\n",
       "      <td>0</td>\n",
       "      <td>0</td>\n",
       "      <td>0.000000</td>\n",
       "      <td>0.000000</td>\n",
       "      <td>2.024939e+06</td>\n",
       "      <td>0.049180</td>\n",
       "      <td>0.049180</td>\n",
       "    </tr>\n",
       "    <tr>\n",
       "      <th>2</th>\n",
       "      <td>999524249720812f2d8c0390293efd58e1ac84d587a01c...</td>\n",
       "      <td>0</td>\n",
       "      <td>0</td>\n",
       "      <td>0.000000</td>\n",
       "      <td>0.000000</td>\n",
       "      <td>0.000000e+00</td>\n",
       "      <td>0.016393</td>\n",
       "      <td>0.016393</td>\n",
       "    </tr>\n",
       "    <tr>\n",
       "      <th>3</th>\n",
       "      <td>4e6bc35cf7fd79a5312047651e7865915f4a6bec193cf2...</td>\n",
       "      <td>0</td>\n",
       "      <td>0</td>\n",
       "      <td>0.000000</td>\n",
       "      <td>0.000000</td>\n",
       "      <td>0.000000e+00</td>\n",
       "      <td>0.016393</td>\n",
       "      <td>0.016393</td>\n",
       "    </tr>\n",
       "    <tr>\n",
       "      <th>4</th>\n",
       "      <td>dc009148ee26d658e0240c7b7f6a258790a457737f96e8...</td>\n",
       "      <td>0</td>\n",
       "      <td>0</td>\n",
       "      <td>0.000000</td>\n",
       "      <td>0.000000</td>\n",
       "      <td>0.000000e+00</td>\n",
       "      <td>0.016393</td>\n",
       "      <td>0.016393</td>\n",
       "    </tr>\n",
       "  </tbody>\n",
       "</table>\n",
       "</div>"
      ],
      "text/plain": [
       "                                        user_id_hash  purchase1  purchase2  \\\n",
       "0  9943447915df3a45fd6720a026af905b6da6b56a37701b...          0          0   \n",
       "1  43f75f8042d3c80c45e222bdd09267f4584684c54d6fae...          0          0   \n",
       "2  999524249720812f2d8c0390293efd58e1ac84d587a01c...          0          0   \n",
       "3  4e6bc35cf7fd79a5312047651e7865915f4a6bec193cf2...          0          0   \n",
       "4  dc009148ee26d658e0240c7b7f6a258790a457737f96e8...          0          0   \n",
       "\n",
       "   avg_num_purchase  avg_amt_purchased  avg_prev_session  avg_session_count  \\\n",
       "0          0.016393           3.492188      2.039529e+07           0.754098   \n",
       "1          0.000000           0.000000      2.024939e+06           0.049180   \n",
       "2          0.000000           0.000000      0.000000e+00           0.016393   \n",
       "3          0.000000           0.000000      0.000000e+00           0.016393   \n",
       "4          0.000000           0.000000      0.000000e+00           0.016393   \n",
       "\n",
       "   avg_num_event5  \n",
       "0        0.459016  \n",
       "1        0.049180  \n",
       "2        0.016393  \n",
       "3        0.016393  \n",
       "4        0.016393  "
      ]
     },
     "execution_count": 513,
     "metadata": {},
     "output_type": "execute_result"
    }
   ],
   "source": [
    "users_train.head()"
   ]
  },
  {
   "cell_type": "markdown",
   "metadata": {},
   "source": [
    "#### Feature 6: avg amt of event5"
   ]
  },
  {
   "cell_type": "code",
   "execution_count": 514,
   "metadata": {},
   "outputs": [],
   "source": [
    "feature6_label2 = event5Amt(features[[\"user_id_hash\", \"event\", \"event_value\"]])\n",
    "feature6_label2 = feature6_label2.replace([np.inf, -np.inf], np.nan)\n",
    "feature6_label2[\"event_value\"] = feature6_label2[\"event_value\"].fillna(0)\n",
    "users_train = users_train.join(feature6_label2.set_index(\"user_id_hash\"), on=\"user_id_hash\", how=\"left\")"
   ]
  },
  {
   "cell_type": "code",
   "execution_count": 515,
   "metadata": {},
   "outputs": [],
   "source": [
    "users_train.columns = [\"user_id_hash\", \"purchase1\", \"purchase2\", \"avg_num_purchase\", \"avg_amt_purchased\", \\\n",
    "                        \"avg_prev_session\", \\\n",
    "                       \"avg_session_count\", \"avg_num_event5\", \"avg_amt_event5\"]"
   ]
  },
  {
   "cell_type": "code",
   "execution_count": 516,
   "metadata": {},
   "outputs": [
    {
     "data": {
      "text/html": [
       "<div>\n",
       "<style scoped>\n",
       "    .dataframe tbody tr th:only-of-type {\n",
       "        vertical-align: middle;\n",
       "    }\n",
       "\n",
       "    .dataframe tbody tr th {\n",
       "        vertical-align: top;\n",
       "    }\n",
       "\n",
       "    .dataframe thead th {\n",
       "        text-align: right;\n",
       "    }\n",
       "</style>\n",
       "<table border=\"1\" class=\"dataframe\">\n",
       "  <thead>\n",
       "    <tr style=\"text-align: right;\">\n",
       "      <th></th>\n",
       "      <th>purchase1</th>\n",
       "      <th>purchase2</th>\n",
       "      <th>avg_num_purchase</th>\n",
       "      <th>avg_amt_purchased</th>\n",
       "      <th>avg_prev_session</th>\n",
       "      <th>avg_session_count</th>\n",
       "      <th>avg_num_event5</th>\n",
       "      <th>avg_amt_event5</th>\n",
       "    </tr>\n",
       "  </thead>\n",
       "  <tbody>\n",
       "    <tr>\n",
       "      <th>count</th>\n",
       "      <td>620988.000000</td>\n",
       "      <td>620988.000000</td>\n",
       "      <td>620988.000000</td>\n",
       "      <td>620988.0</td>\n",
       "      <td>6.188320e+05</td>\n",
       "      <td>620988.000000</td>\n",
       "      <td>620988.000000</td>\n",
       "      <td>620988.000000</td>\n",
       "    </tr>\n",
       "    <tr>\n",
       "      <th>mean</th>\n",
       "      <td>0.007383</td>\n",
       "      <td>0.009483</td>\n",
       "      <td>0.006217</td>\n",
       "      <td>NaN</td>\n",
       "      <td>3.842889e+06</td>\n",
       "      <td>0.119794</td>\n",
       "      <td>0.115497</td>\n",
       "      <td>NaN</td>\n",
       "    </tr>\n",
       "    <tr>\n",
       "      <th>std</th>\n",
       "      <td>0.085609</td>\n",
       "      <td>0.096919</td>\n",
       "      <td>0.050412</td>\n",
       "      <td>0.0</td>\n",
       "      <td>1.287297e+07</td>\n",
       "      <td>0.332484</td>\n",
       "      <td>0.295984</td>\n",
       "      <td>0.000000</td>\n",
       "    </tr>\n",
       "    <tr>\n",
       "      <th>min</th>\n",
       "      <td>0.000000</td>\n",
       "      <td>0.000000</td>\n",
       "      <td>0.000000</td>\n",
       "      <td>0.0</td>\n",
       "      <td>0.000000e+00</td>\n",
       "      <td>0.000000</td>\n",
       "      <td>0.000000</td>\n",
       "      <td>0.000000</td>\n",
       "    </tr>\n",
       "    <tr>\n",
       "      <th>25%</th>\n",
       "      <td>0.000000</td>\n",
       "      <td>0.000000</td>\n",
       "      <td>0.000000</td>\n",
       "      <td>0.0</td>\n",
       "      <td>0.000000e+00</td>\n",
       "      <td>0.016393</td>\n",
       "      <td>0.016393</td>\n",
       "      <td>0.000000</td>\n",
       "    </tr>\n",
       "    <tr>\n",
       "      <th>50%</th>\n",
       "      <td>0.000000</td>\n",
       "      <td>0.000000</td>\n",
       "      <td>0.000000</td>\n",
       "      <td>0.0</td>\n",
       "      <td>4.775025e+04</td>\n",
       "      <td>0.032787</td>\n",
       "      <td>0.032787</td>\n",
       "      <td>0.000000</td>\n",
       "    </tr>\n",
       "    <tr>\n",
       "      <th>75%</th>\n",
       "      <td>0.000000</td>\n",
       "      <td>0.000000</td>\n",
       "      <td>0.000000</td>\n",
       "      <td>0.0</td>\n",
       "      <td>2.282013e+06</td>\n",
       "      <td>0.081967</td>\n",
       "      <td>0.081967</td>\n",
       "      <td>0.666504</td>\n",
       "    </tr>\n",
       "    <tr>\n",
       "      <th>max</th>\n",
       "      <td>1.000000</td>\n",
       "      <td>1.000000</td>\n",
       "      <td>7.295082</td>\n",
       "      <td>70.0</td>\n",
       "      <td>8.274996e+08</td>\n",
       "      <td>18.967213</td>\n",
       "      <td>13.196721</td>\n",
       "      <td>1.000000</td>\n",
       "    </tr>\n",
       "  </tbody>\n",
       "</table>\n",
       "</div>"
      ],
      "text/plain": [
       "           purchase1      purchase2  avg_num_purchase  avg_amt_purchased  \\\n",
       "count  620988.000000  620988.000000     620988.000000           620988.0   \n",
       "mean        0.007383       0.009483          0.006217                NaN   \n",
       "std         0.085609       0.096919          0.050412                0.0   \n",
       "min         0.000000       0.000000          0.000000                0.0   \n",
       "25%         0.000000       0.000000          0.000000                0.0   \n",
       "50%         0.000000       0.000000          0.000000                0.0   \n",
       "75%         0.000000       0.000000          0.000000                0.0   \n",
       "max         1.000000       1.000000          7.295082               70.0   \n",
       "\n",
       "       avg_prev_session  avg_session_count  avg_num_event5  avg_amt_event5  \n",
       "count      6.188320e+05      620988.000000   620988.000000   620988.000000  \n",
       "mean       3.842889e+06           0.119794        0.115497             NaN  \n",
       "std        1.287297e+07           0.332484        0.295984        0.000000  \n",
       "min        0.000000e+00           0.000000        0.000000        0.000000  \n",
       "25%        0.000000e+00           0.016393        0.016393        0.000000  \n",
       "50%        4.775025e+04           0.032787        0.032787        0.000000  \n",
       "75%        2.282013e+06           0.081967        0.081967        0.666504  \n",
       "max        8.274996e+08          18.967213       13.196721        1.000000  "
      ]
     },
     "execution_count": 516,
     "metadata": {},
     "output_type": "execute_result"
    }
   ],
   "source": [
    "users_train.describe()"
   ]
  },
  {
   "cell_type": "code",
   "execution_count": 517,
   "metadata": {},
   "outputs": [],
   "source": [
    "users_train['avg_amt_purchased'] = users_train['avg_amt_purchased'].astype(np.float32)\n",
    "users_train['avg_amt_event5'] = users_train['avg_amt_event5'].astype(np.float32)\n",
    "users_train['avg_prev_session'] = users_train['avg_prev_session'].fillna(users_train['avg_prev_session'].mean())"
   ]
  },
  {
   "cell_type": "code",
   "execution_count": 518,
   "metadata": {},
   "outputs": [
    {
     "data": {
      "text/html": [
       "<div>\n",
       "<style scoped>\n",
       "    .dataframe tbody tr th:only-of-type {\n",
       "        vertical-align: middle;\n",
       "    }\n",
       "\n",
       "    .dataframe tbody tr th {\n",
       "        vertical-align: top;\n",
       "    }\n",
       "\n",
       "    .dataframe thead th {\n",
       "        text-align: right;\n",
       "    }\n",
       "</style>\n",
       "<table border=\"1\" class=\"dataframe\">\n",
       "  <thead>\n",
       "    <tr style=\"text-align: right;\">\n",
       "      <th></th>\n",
       "      <th>purchase1</th>\n",
       "      <th>purchase2</th>\n",
       "      <th>avg_num_purchase</th>\n",
       "      <th>avg_amt_purchased</th>\n",
       "      <th>avg_prev_session</th>\n",
       "      <th>avg_session_count</th>\n",
       "      <th>avg_num_event5</th>\n",
       "      <th>avg_amt_event5</th>\n",
       "    </tr>\n",
       "  </thead>\n",
       "  <tbody>\n",
       "    <tr>\n",
       "      <th>count</th>\n",
       "      <td>620988.000000</td>\n",
       "      <td>620988.000000</td>\n",
       "      <td>620988.000000</td>\n",
       "      <td>620988.000000</td>\n",
       "      <td>6.209880e+05</td>\n",
       "      <td>620988.000000</td>\n",
       "      <td>620988.000000</td>\n",
       "      <td>620988.000000</td>\n",
       "    </tr>\n",
       "    <tr>\n",
       "      <th>mean</th>\n",
       "      <td>0.007383</td>\n",
       "      <td>0.009483</td>\n",
       "      <td>0.006217</td>\n",
       "      <td>0.161581</td>\n",
       "      <td>3.842889e+06</td>\n",
       "      <td>0.119794</td>\n",
       "      <td>0.115497</td>\n",
       "      <td>0.307368</td>\n",
       "    </tr>\n",
       "    <tr>\n",
       "      <th>std</th>\n",
       "      <td>0.085609</td>\n",
       "      <td>0.096919</td>\n",
       "      <td>0.050412</td>\n",
       "      <td>1.032079</td>\n",
       "      <td>1.285060e+07</td>\n",
       "      <td>0.332484</td>\n",
       "      <td>0.295984</td>\n",
       "      <td>0.355234</td>\n",
       "    </tr>\n",
       "    <tr>\n",
       "      <th>min</th>\n",
       "      <td>0.000000</td>\n",
       "      <td>0.000000</td>\n",
       "      <td>0.000000</td>\n",
       "      <td>0.000000</td>\n",
       "      <td>0.000000e+00</td>\n",
       "      <td>0.000000</td>\n",
       "      <td>0.000000</td>\n",
       "      <td>0.000000</td>\n",
       "    </tr>\n",
       "    <tr>\n",
       "      <th>25%</th>\n",
       "      <td>0.000000</td>\n",
       "      <td>0.000000</td>\n",
       "      <td>0.000000</td>\n",
       "      <td>0.000000</td>\n",
       "      <td>0.000000e+00</td>\n",
       "      <td>0.016393</td>\n",
       "      <td>0.016393</td>\n",
       "      <td>0.000000</td>\n",
       "    </tr>\n",
       "    <tr>\n",
       "      <th>50%</th>\n",
       "      <td>0.000000</td>\n",
       "      <td>0.000000</td>\n",
       "      <td>0.000000</td>\n",
       "      <td>0.000000</td>\n",
       "      <td>5.150275e+04</td>\n",
       "      <td>0.032787</td>\n",
       "      <td>0.032787</td>\n",
       "      <td>0.000000</td>\n",
       "    </tr>\n",
       "    <tr>\n",
       "      <th>75%</th>\n",
       "      <td>0.000000</td>\n",
       "      <td>0.000000</td>\n",
       "      <td>0.000000</td>\n",
       "      <td>0.000000</td>\n",
       "      <td>2.332285e+06</td>\n",
       "      <td>0.081967</td>\n",
       "      <td>0.081967</td>\n",
       "      <td>0.666504</td>\n",
       "    </tr>\n",
       "    <tr>\n",
       "      <th>max</th>\n",
       "      <td>1.000000</td>\n",
       "      <td>1.000000</td>\n",
       "      <td>7.295082</td>\n",
       "      <td>70.000000</td>\n",
       "      <td>8.274996e+08</td>\n",
       "      <td>18.967213</td>\n",
       "      <td>13.196721</td>\n",
       "      <td>1.000000</td>\n",
       "    </tr>\n",
       "  </tbody>\n",
       "</table>\n",
       "</div>"
      ],
      "text/plain": [
       "           purchase1      purchase2  avg_num_purchase  avg_amt_purchased  \\\n",
       "count  620988.000000  620988.000000     620988.000000      620988.000000   \n",
       "mean        0.007383       0.009483          0.006217           0.161581   \n",
       "std         0.085609       0.096919          0.050412           1.032079   \n",
       "min         0.000000       0.000000          0.000000           0.000000   \n",
       "25%         0.000000       0.000000          0.000000           0.000000   \n",
       "50%         0.000000       0.000000          0.000000           0.000000   \n",
       "75%         0.000000       0.000000          0.000000           0.000000   \n",
       "max         1.000000       1.000000          7.295082          70.000000   \n",
       "\n",
       "       avg_prev_session  avg_session_count  avg_num_event5  avg_amt_event5  \n",
       "count      6.209880e+05      620988.000000   620988.000000   620988.000000  \n",
       "mean       3.842889e+06           0.119794        0.115497        0.307368  \n",
       "std        1.285060e+07           0.332484        0.295984        0.355234  \n",
       "min        0.000000e+00           0.000000        0.000000        0.000000  \n",
       "25%        0.000000e+00           0.016393        0.016393        0.000000  \n",
       "50%        5.150275e+04           0.032787        0.032787        0.000000  \n",
       "75%        2.332285e+06           0.081967        0.081967        0.666504  \n",
       "max        8.274996e+08          18.967213       13.196721        1.000000  "
      ]
     },
     "execution_count": 518,
     "metadata": {},
     "output_type": "execute_result"
    }
   ],
   "source": [
    "users_train.describe()"
   ]
  },
  {
   "cell_type": "markdown",
   "metadata": {},
   "source": [
    "#### Feature 7: avg number of event 0"
   ]
  },
  {
   "cell_type": "code",
   "execution_count": 578,
   "metadata": {},
   "outputs": [],
   "source": [
    "feature7_label2 = numEvent0(features[[\"user_id_hash\", \"event\"]])\n",
    "feature7_label2.event = feature7_label2.event/day_count\n",
    "users_train = users_train.join(feature7_label2.set_index(\"user_id_hash\"), on=\"user_id_hash\", how=\"left\")\n",
    "users_train.columns = [\"user_id_hash\", \"purchase1\", \"purchase2\", \"avg_num_purchase\", \"avg_amt_purchased\", \\\n",
    "                        \"avg_prev_session\", \"avg_session_count\", \"avg_num_event5\", \"avg_amt_event5\", \\\n",
    "                      \"avg_num_event0\"]"
   ]
  },
  {
   "cell_type": "code",
   "execution_count": 580,
   "metadata": {},
   "outputs": [
    {
     "data": {
      "text/html": [
       "<div>\n",
       "<style scoped>\n",
       "    .dataframe tbody tr th:only-of-type {\n",
       "        vertical-align: middle;\n",
       "    }\n",
       "\n",
       "    .dataframe tbody tr th {\n",
       "        vertical-align: top;\n",
       "    }\n",
       "\n",
       "    .dataframe thead th {\n",
       "        text-align: right;\n",
       "    }\n",
       "</style>\n",
       "<table border=\"1\" class=\"dataframe\">\n",
       "  <thead>\n",
       "    <tr style=\"text-align: right;\">\n",
       "      <th></th>\n",
       "      <th>purchase1</th>\n",
       "      <th>purchase2</th>\n",
       "      <th>avg_num_purchase</th>\n",
       "      <th>avg_amt_purchased</th>\n",
       "      <th>avg_prev_session</th>\n",
       "      <th>avg_session_count</th>\n",
       "      <th>avg_num_event5</th>\n",
       "      <th>avg_amt_event5</th>\n",
       "      <th>avg_num_event0</th>\n",
       "    </tr>\n",
       "  </thead>\n",
       "  <tbody>\n",
       "    <tr>\n",
       "      <th>count</th>\n",
       "      <td>620988.000000</td>\n",
       "      <td>620988.000000</td>\n",
       "      <td>620988.000000</td>\n",
       "      <td>620988.000000</td>\n",
       "      <td>6.209880e+05</td>\n",
       "      <td>620988.000000</td>\n",
       "      <td>620988.000000</td>\n",
       "      <td>620988.000000</td>\n",
       "      <td>620988.000000</td>\n",
       "    </tr>\n",
       "    <tr>\n",
       "      <th>mean</th>\n",
       "      <td>0.007383</td>\n",
       "      <td>0.009483</td>\n",
       "      <td>0.006217</td>\n",
       "      <td>0.161581</td>\n",
       "      <td>3.842889e+06</td>\n",
       "      <td>0.119794</td>\n",
       "      <td>0.115497</td>\n",
       "      <td>0.307368</td>\n",
       "      <td>0.009762</td>\n",
       "    </tr>\n",
       "    <tr>\n",
       "      <th>std</th>\n",
       "      <td>0.085609</td>\n",
       "      <td>0.096919</td>\n",
       "      <td>0.050412</td>\n",
       "      <td>1.032079</td>\n",
       "      <td>1.285060e+07</td>\n",
       "      <td>0.332484</td>\n",
       "      <td>0.295984</td>\n",
       "      <td>0.355234</td>\n",
       "      <td>0.009374</td>\n",
       "    </tr>\n",
       "    <tr>\n",
       "      <th>min</th>\n",
       "      <td>0.000000</td>\n",
       "      <td>0.000000</td>\n",
       "      <td>0.000000</td>\n",
       "      <td>0.000000</td>\n",
       "      <td>0.000000e+00</td>\n",
       "      <td>0.000000</td>\n",
       "      <td>0.000000</td>\n",
       "      <td>0.000000</td>\n",
       "      <td>0.000000</td>\n",
       "    </tr>\n",
       "    <tr>\n",
       "      <th>25%</th>\n",
       "      <td>0.000000</td>\n",
       "      <td>0.000000</td>\n",
       "      <td>0.000000</td>\n",
       "      <td>0.000000</td>\n",
       "      <td>0.000000e+00</td>\n",
       "      <td>0.016393</td>\n",
       "      <td>0.016393</td>\n",
       "      <td>0.000000</td>\n",
       "      <td>0.000000</td>\n",
       "    </tr>\n",
       "    <tr>\n",
       "      <th>50%</th>\n",
       "      <td>0.000000</td>\n",
       "      <td>0.000000</td>\n",
       "      <td>0.000000</td>\n",
       "      <td>0.000000</td>\n",
       "      <td>5.150275e+04</td>\n",
       "      <td>0.032787</td>\n",
       "      <td>0.032787</td>\n",
       "      <td>0.000000</td>\n",
       "      <td>0.016393</td>\n",
       "    </tr>\n",
       "    <tr>\n",
       "      <th>75%</th>\n",
       "      <td>0.000000</td>\n",
       "      <td>0.000000</td>\n",
       "      <td>0.000000</td>\n",
       "      <td>0.000000</td>\n",
       "      <td>2.332285e+06</td>\n",
       "      <td>0.081967</td>\n",
       "      <td>0.081967</td>\n",
       "      <td>0.666504</td>\n",
       "      <td>0.016393</td>\n",
       "    </tr>\n",
       "    <tr>\n",
       "      <th>max</th>\n",
       "      <td>1.000000</td>\n",
       "      <td>1.000000</td>\n",
       "      <td>7.295082</td>\n",
       "      <td>70.000000</td>\n",
       "      <td>8.274996e+08</td>\n",
       "      <td>18.967213</td>\n",
       "      <td>13.196721</td>\n",
       "      <td>1.000000</td>\n",
       "      <td>0.524590</td>\n",
       "    </tr>\n",
       "  </tbody>\n",
       "</table>\n",
       "</div>"
      ],
      "text/plain": [
       "           purchase1      purchase2  avg_num_purchase  avg_amt_purchased  \\\n",
       "count  620988.000000  620988.000000     620988.000000      620988.000000   \n",
       "mean        0.007383       0.009483          0.006217           0.161581   \n",
       "std         0.085609       0.096919          0.050412           1.032079   \n",
       "min         0.000000       0.000000          0.000000           0.000000   \n",
       "25%         0.000000       0.000000          0.000000           0.000000   \n",
       "50%         0.000000       0.000000          0.000000           0.000000   \n",
       "75%         0.000000       0.000000          0.000000           0.000000   \n",
       "max         1.000000       1.000000          7.295082          70.000000   \n",
       "\n",
       "       avg_prev_session  avg_session_count  avg_num_event5  avg_amt_event5  \\\n",
       "count      6.209880e+05      620988.000000   620988.000000   620988.000000   \n",
       "mean       3.842889e+06           0.119794        0.115497        0.307368   \n",
       "std        1.285060e+07           0.332484        0.295984        0.355234   \n",
       "min        0.000000e+00           0.000000        0.000000        0.000000   \n",
       "25%        0.000000e+00           0.016393        0.016393        0.000000   \n",
       "50%        5.150275e+04           0.032787        0.032787        0.000000   \n",
       "75%        2.332285e+06           0.081967        0.081967        0.666504   \n",
       "max        8.274996e+08          18.967213       13.196721        1.000000   \n",
       "\n",
       "       avg_num_event0  \n",
       "count   620988.000000  \n",
       "mean         0.009762  \n",
       "std          0.009374  \n",
       "min          0.000000  \n",
       "25%          0.000000  \n",
       "50%          0.016393  \n",
       "75%          0.016393  \n",
       "max          0.524590  "
      ]
     },
     "execution_count": 580,
     "metadata": {},
     "output_type": "execute_result"
    }
   ],
   "source": [
    "users_train.describe()"
   ]
  },
  {
   "cell_type": "markdown",
   "metadata": {},
   "source": [
    "#### Feature 8:"
   ]
  },
  {
   "cell_type": "code",
   "execution_count": null,
   "metadata": {},
   "outputs": [],
   "source": []
  },
  {
   "cell_type": "code",
   "execution_count": null,
   "metadata": {},
   "outputs": [],
   "source": []
  },
  {
   "cell_type": "markdown",
   "metadata": {},
   "source": [
    "#### Feature 9"
   ]
  },
  {
   "cell_type": "markdown",
   "metadata": {},
   "source": [
    "Other features to consider:\n",
    "- messages: deliver type 2 - mannual, 3 - trigger locally"
   ]
  },
  {
   "cell_type": "code",
   "execution_count": null,
   "metadata": {},
   "outputs": [],
   "source": []
  },
  {
   "cell_type": "code",
   "execution_count": null,
   "metadata": {},
   "outputs": [],
   "source": []
  },
  {
   "cell_type": "code",
   "execution_count": null,
   "metadata": {},
   "outputs": [],
   "source": []
  },
  {
   "cell_type": "markdown",
   "metadata": {},
   "source": [
    "## Train, Test Split"
   ]
  },
  {
   "cell_type": "code",
   "execution_count": 581,
   "metadata": {},
   "outputs": [],
   "source": [
    "from sklearn.model_selection import train_test_split"
   ]
  },
  {
   "cell_type": "code",
   "execution_count": 582,
   "metadata": {},
   "outputs": [],
   "source": [
    "X = users_train[users_train.columns.difference(['purchase1','purchase2','user_id_hash'])]\n",
    "y1 = users_train[\"purchase1\"]\n",
    "y2 = users_train[\"purchase2\"]"
   ]
  },
  {
   "cell_type": "code",
   "execution_count": 583,
   "metadata": {},
   "outputs": [
    {
     "data": {
      "text/html": [
       "<div>\n",
       "<style scoped>\n",
       "    .dataframe tbody tr th:only-of-type {\n",
       "        vertical-align: middle;\n",
       "    }\n",
       "\n",
       "    .dataframe tbody tr th {\n",
       "        vertical-align: top;\n",
       "    }\n",
       "\n",
       "    .dataframe thead th {\n",
       "        text-align: right;\n",
       "    }\n",
       "</style>\n",
       "<table border=\"1\" class=\"dataframe\">\n",
       "  <thead>\n",
       "    <tr style=\"text-align: right;\">\n",
       "      <th></th>\n",
       "      <th>avg_amt_event5</th>\n",
       "      <th>avg_amt_purchased</th>\n",
       "      <th>avg_num_event0</th>\n",
       "      <th>avg_num_event5</th>\n",
       "      <th>avg_num_purchase</th>\n",
       "      <th>avg_prev_session</th>\n",
       "      <th>avg_session_count</th>\n",
       "    </tr>\n",
       "  </thead>\n",
       "  <tbody>\n",
       "    <tr>\n",
       "      <th>count</th>\n",
       "      <td>620988.000000</td>\n",
       "      <td>620988.000000</td>\n",
       "      <td>620988.000000</td>\n",
       "      <td>620988.000000</td>\n",
       "      <td>620988.000000</td>\n",
       "      <td>6.209880e+05</td>\n",
       "      <td>620988.000000</td>\n",
       "    </tr>\n",
       "    <tr>\n",
       "      <th>mean</th>\n",
       "      <td>0.307368</td>\n",
       "      <td>0.161581</td>\n",
       "      <td>0.009762</td>\n",
       "      <td>0.115497</td>\n",
       "      <td>0.006217</td>\n",
       "      <td>3.842889e+06</td>\n",
       "      <td>0.119794</td>\n",
       "    </tr>\n",
       "    <tr>\n",
       "      <th>std</th>\n",
       "      <td>0.355234</td>\n",
       "      <td>1.032079</td>\n",
       "      <td>0.009374</td>\n",
       "      <td>0.295984</td>\n",
       "      <td>0.050412</td>\n",
       "      <td>1.285060e+07</td>\n",
       "      <td>0.332484</td>\n",
       "    </tr>\n",
       "    <tr>\n",
       "      <th>min</th>\n",
       "      <td>0.000000</td>\n",
       "      <td>0.000000</td>\n",
       "      <td>0.000000</td>\n",
       "      <td>0.000000</td>\n",
       "      <td>0.000000</td>\n",
       "      <td>0.000000e+00</td>\n",
       "      <td>0.000000</td>\n",
       "    </tr>\n",
       "    <tr>\n",
       "      <th>25%</th>\n",
       "      <td>0.000000</td>\n",
       "      <td>0.000000</td>\n",
       "      <td>0.000000</td>\n",
       "      <td>0.016393</td>\n",
       "      <td>0.000000</td>\n",
       "      <td>0.000000e+00</td>\n",
       "      <td>0.016393</td>\n",
       "    </tr>\n",
       "    <tr>\n",
       "      <th>50%</th>\n",
       "      <td>0.000000</td>\n",
       "      <td>0.000000</td>\n",
       "      <td>0.016393</td>\n",
       "      <td>0.032787</td>\n",
       "      <td>0.000000</td>\n",
       "      <td>5.150275e+04</td>\n",
       "      <td>0.032787</td>\n",
       "    </tr>\n",
       "    <tr>\n",
       "      <th>75%</th>\n",
       "      <td>0.666504</td>\n",
       "      <td>0.000000</td>\n",
       "      <td>0.016393</td>\n",
       "      <td>0.081967</td>\n",
       "      <td>0.000000</td>\n",
       "      <td>2.332285e+06</td>\n",
       "      <td>0.081967</td>\n",
       "    </tr>\n",
       "    <tr>\n",
       "      <th>max</th>\n",
       "      <td>1.000000</td>\n",
       "      <td>70.000000</td>\n",
       "      <td>0.524590</td>\n",
       "      <td>13.196721</td>\n",
       "      <td>7.295082</td>\n",
       "      <td>8.274996e+08</td>\n",
       "      <td>18.967213</td>\n",
       "    </tr>\n",
       "  </tbody>\n",
       "</table>\n",
       "</div>"
      ],
      "text/plain": [
       "       avg_amt_event5  avg_amt_purchased  avg_num_event0  avg_num_event5  \\\n",
       "count   620988.000000      620988.000000   620988.000000   620988.000000   \n",
       "mean         0.307368           0.161581        0.009762        0.115497   \n",
       "std          0.355234           1.032079        0.009374        0.295984   \n",
       "min          0.000000           0.000000        0.000000        0.000000   \n",
       "25%          0.000000           0.000000        0.000000        0.016393   \n",
       "50%          0.000000           0.000000        0.016393        0.032787   \n",
       "75%          0.666504           0.000000        0.016393        0.081967   \n",
       "max          1.000000          70.000000        0.524590       13.196721   \n",
       "\n",
       "       avg_num_purchase  avg_prev_session  avg_session_count  \n",
       "count     620988.000000      6.209880e+05      620988.000000  \n",
       "mean           0.006217      3.842889e+06           0.119794  \n",
       "std            0.050412      1.285060e+07           0.332484  \n",
       "min            0.000000      0.000000e+00           0.000000  \n",
       "25%            0.000000      0.000000e+00           0.016393  \n",
       "50%            0.000000      5.150275e+04           0.032787  \n",
       "75%            0.000000      2.332285e+06           0.081967  \n",
       "max            7.295082      8.274996e+08          18.967213  "
      ]
     },
     "execution_count": 583,
     "metadata": {},
     "output_type": "execute_result"
    }
   ],
   "source": [
    "X.describe()"
   ]
  },
  {
   "cell_type": "code",
   "execution_count": 584,
   "metadata": {},
   "outputs": [],
   "source": [
    "X_train1, X_val1, y_train1, y_val1 = train_test_split(X, y1, test_size=0.2, random_state=None, stratify=y1)"
   ]
  },
  {
   "cell_type": "code",
   "execution_count": 585,
   "metadata": {},
   "outputs": [],
   "source": [
    "X_train2, X_val2, y_train2, y_val2 = train_test_split(X, y2, test_size=0.2, random_state=None, stratify=y2)"
   ]
  },
  {
   "cell_type": "markdown",
   "metadata": {},
   "source": [
    "## Modeling"
   ]
  },
  {
   "cell_type": "markdown",
   "metadata": {},
   "source": [
    "### Random Forest"
   ]
  },
  {
   "cell_type": "code",
   "execution_count": 586,
   "metadata": {},
   "outputs": [],
   "source": [
    "from sklearn.ensemble import RandomForestClassifier\n",
    "import sklearn.metrics"
   ]
  },
  {
   "cell_type": "code",
   "execution_count": 587,
   "metadata": {},
   "outputs": [],
   "source": [
    "rf = RandomForestClassifier(n_jobs=-1, n_estimators=1000, min_samples_leaf=50, max_depth=15, \\\n",
    "                            max_features=3, verbose=1)"
   ]
  },
  {
   "cell_type": "code",
   "execution_count": 588,
   "metadata": {},
   "outputs": [
    {
     "name": "stderr",
     "output_type": "stream",
     "text": [
      "[Parallel(n_jobs=-1)]: Using backend ThreadingBackend with 8 concurrent workers.\n",
      "[Parallel(n_jobs=-1)]: Done  34 tasks      | elapsed:    4.0s\n",
      "[Parallel(n_jobs=-1)]: Done 184 tasks      | elapsed:   17.5s\n",
      "[Parallel(n_jobs=-1)]: Done 434 tasks      | elapsed:   41.3s\n",
      "[Parallel(n_jobs=-1)]: Done 784 tasks      | elapsed:  1.3min\n",
      "[Parallel(n_jobs=-1)]: Done 1000 out of 1000 | elapsed:  1.8min finished\n"
     ]
    },
    {
     "data": {
      "text/plain": [
       "RandomForestClassifier(bootstrap=True, class_weight=None, criterion='gini',\n",
       "            max_depth=15, max_features=3, max_leaf_nodes=None,\n",
       "            min_impurity_decrease=0.0, min_impurity_split=None,\n",
       "            min_samples_leaf=50, min_samples_split=2,\n",
       "            min_weight_fraction_leaf=0.0, n_estimators=1000, n_jobs=-1,\n",
       "            oob_score=False, random_state=None, verbose=1,\n",
       "            warm_start=False)"
      ]
     },
     "execution_count": 588,
     "metadata": {},
     "output_type": "execute_result"
    }
   ],
   "source": [
    "# predict label 1\n",
    "rf.fit(X_train1, y_train1)"
   ]
  },
  {
   "cell_type": "code",
   "execution_count": 589,
   "metadata": {},
   "outputs": [
    {
     "name": "stderr",
     "output_type": "stream",
     "text": [
      "[Parallel(n_jobs=8)]: Using backend ThreadingBackend with 8 concurrent workers.\n",
      "[Parallel(n_jobs=8)]: Done  34 tasks      | elapsed:    0.4s\n",
      "[Parallel(n_jobs=8)]: Done 184 tasks      | elapsed:    1.6s\n",
      "[Parallel(n_jobs=8)]: Done 434 tasks      | elapsed:    4.2s\n",
      "[Parallel(n_jobs=8)]: Done 784 tasks      | elapsed:    9.3s\n",
      "[Parallel(n_jobs=8)]: Done 1000 out of 1000 | elapsed:   13.1s finished\n",
      "[Parallel(n_jobs=8)]: Using backend ThreadingBackend with 8 concurrent workers.\n",
      "[Parallel(n_jobs=8)]: Done  34 tasks      | elapsed:    0.2s\n",
      "[Parallel(n_jobs=8)]: Done 184 tasks      | elapsed:    0.9s\n",
      "[Parallel(n_jobs=8)]: Done 434 tasks      | elapsed:    2.1s\n",
      "[Parallel(n_jobs=8)]: Done 784 tasks      | elapsed:    3.7s\n",
      "[Parallel(n_jobs=8)]: Done 1000 out of 1000 | elapsed:    4.7s finished\n"
     ]
    }
   ],
   "source": [
    "pred_train1 = rf.predict_proba(X_train1)\n",
    "pred_val1 = rf.predict_proba(X_val1)"
   ]
  },
  {
   "cell_type": "code",
   "execution_count": 590,
   "metadata": {},
   "outputs": [
    {
     "data": {
      "text/plain": [
       "0.97770060143628"
      ]
     },
     "execution_count": 590,
     "metadata": {},
     "output_type": "execute_result"
    }
   ],
   "source": [
    "# Training AUC 7 day \n",
    "sklearn.metrics.roc_auc_score(y_train1, pred_train1[:,-1])"
   ]
  },
  {
   "cell_type": "code",
   "execution_count": 591,
   "metadata": {},
   "outputs": [
    {
     "data": {
      "text/plain": [
       "0.9530239084531701"
      ]
     },
     "execution_count": 591,
     "metadata": {},
     "output_type": "execute_result"
    }
   ],
   "source": [
    "# Validation AUC 7 day \n",
    "sklearn.metrics.roc_auc_score(y_val1, pred_val1[:,-1])"
   ]
  },
  {
   "cell_type": "code",
   "execution_count": 592,
   "metadata": {},
   "outputs": [
    {
     "name": "stderr",
     "output_type": "stream",
     "text": [
      "[Parallel(n_jobs=-1)]: Using backend ThreadingBackend with 8 concurrent workers.\n",
      "[Parallel(n_jobs=-1)]: Done  34 tasks      | elapsed:    3.9s\n",
      "[Parallel(n_jobs=-1)]: Done 184 tasks      | elapsed:   35.4s\n",
      "[Parallel(n_jobs=-1)]: Done 434 tasks      | elapsed:  1.5min\n",
      "[Parallel(n_jobs=-1)]: Done 784 tasks      | elapsed:  2.9min\n",
      "[Parallel(n_jobs=-1)]: Done 1000 out of 1000 | elapsed:  3.6min finished\n",
      "[Parallel(n_jobs=8)]: Using backend ThreadingBackend with 8 concurrent workers.\n",
      "[Parallel(n_jobs=8)]: Done  34 tasks      | elapsed:    0.7s\n",
      "[Parallel(n_jobs=8)]: Done 184 tasks      | elapsed:    3.0s\n",
      "[Parallel(n_jobs=8)]: Done 434 tasks      | elapsed:    7.1s\n",
      "[Parallel(n_jobs=8)]: Done 784 tasks      | elapsed:   13.0s\n",
      "[Parallel(n_jobs=8)]: Done 1000 out of 1000 | elapsed:   16.8s finished\n",
      "[Parallel(n_jobs=8)]: Using backend ThreadingBackend with 8 concurrent workers.\n",
      "[Parallel(n_jobs=8)]: Done  34 tasks      | elapsed:    0.2s\n",
      "[Parallel(n_jobs=8)]: Done 184 tasks      | elapsed:    0.9s\n",
      "[Parallel(n_jobs=8)]: Done 434 tasks      | elapsed:    2.0s\n",
      "[Parallel(n_jobs=8)]: Done 784 tasks      | elapsed:    3.6s\n",
      "[Parallel(n_jobs=8)]: Done 1000 out of 1000 | elapsed:    4.8s finished\n"
     ]
    }
   ],
   "source": [
    "rf2= RandomForestClassifier(n_jobs=-1, n_estimators=1000, min_samples_leaf=50, max_depth=15, \\\n",
    "                            max_features=3, verbose=1)\n",
    "# predict label 2\n",
    "rf2.fit(X_train2, y_train2)\n",
    "pred_train2 = rf2.predict_proba(X_train2)\n",
    "pred_val2 = rf2.predict_proba(X_val2)"
   ]
  },
  {
   "cell_type": "code",
   "execution_count": 593,
   "metadata": {},
   "outputs": [
    {
     "name": "stdout",
     "output_type": "stream",
     "text": [
      "AUC For Training set 14 days purchase is: 0.9725696929733454\n"
     ]
    }
   ],
   "source": [
    "print(f\"AUC For Training set 14 days purchase is: {sklearn.metrics.roc_auc_score(y_train2, pred_train2[:,-1])}\")"
   ]
  },
  {
   "cell_type": "code",
   "execution_count": 594,
   "metadata": {},
   "outputs": [
    {
     "name": "stdout",
     "output_type": "stream",
     "text": [
      "AUC For Val set 14 days purchase is: 0.9514489927928679\n"
     ]
    }
   ],
   "source": [
    "print(f\"AUC For Val set 14 days purchase is: {sklearn.metrics.roc_auc_score(y_val2, pred_val2[:,-1])}\")"
   ]
  },
  {
   "cell_type": "code",
   "execution_count": 595,
   "metadata": {},
   "outputs": [
    {
     "data": {
      "text/plain": [
       "array([0.04784669, 0.21470481, 0.13361076, 0.09862908, 0.33932541,\n",
       "       0.10604925, 0.059834  ])"
      ]
     },
     "execution_count": 595,
     "metadata": {},
     "output_type": "execute_result"
    }
   ],
   "source": [
    "rf.feature_importances_"
   ]
  },
  {
   "cell_type": "code",
   "execution_count": 596,
   "metadata": {},
   "outputs": [
    {
     "data": {
      "text/plain": [
       "array([0.04255977, 0.22273156, 0.13690102, 0.09224767, 0.35291621,\n",
       "       0.09435769, 0.05828608])"
      ]
     },
     "execution_count": 596,
     "metadata": {},
     "output_type": "execute_result"
    }
   ],
   "source": [
    "rf2.feature_importances_"
   ]
  },
  {
   "cell_type": "markdown",
   "metadata": {},
   "source": [
    "#### Perform random search for hyperparameter tuning"
   ]
  },
  {
   "cell_type": "code",
   "execution_count": 632,
   "metadata": {},
   "outputs": [
    {
     "name": "stdout",
     "output_type": "stream",
     "text": [
      "Random search start...\n",
      "* training model1_7day \n",
      "--> Best AUC:0.9454227889814226 using {'n_estimators': 300, 'max_depth': 15, 'min_samples_split': 0.1, 'max_features': 4}\n",
      "* training model2_14day \n",
      "--> Best AUC:0.9406939124561579 using {'n_estimators': 1000, 'max_depth': 5, 'min_samples_split': 0.1, 'max_features': 4}\n"
     ]
    }
   ],
   "source": [
    "## Random Search\n",
    "# loop for random search\n",
    "n_iterations=10\n",
    "\n",
    "print (\"Random search start...\")\n",
    "\n",
    "for col in ['model1_7day','model2_14day']:\n",
    "    print(f\"* training {col} \")\n",
    "    #y = target[col]\n",
    "    roc_auc_mean = []\n",
    "    dict_list = []\n",
    "    \n",
    "    for i in range(0, n_iterations):\n",
    "\n",
    "        param_dist = {'n_estimators' : choice([300, 700,1000]),\n",
    "                  'max_depth': choice([5, 10, 15]),      \n",
    "                  'min_samples_split': choice([0.1, 0.3, 0.5]),\n",
    "                  'max_features': choice([2,3,4])} \n",
    "\n",
    "        roc_l = []\n",
    "        \n",
    "       # y_train_1,y_train_2,X_train\n",
    "       # y_val_1,y_val_2,X_val\n",
    "\n",
    "        # training\n",
    "        if col == 'model1_7day':\n",
    "            X_train = X_train1\n",
    "            X_val = X_val1\n",
    "            y_train = y_train1\n",
    "            y_val = y_val1\n",
    "        else: \n",
    "            X_train = X_train2\n",
    "            X_val = X_val2\n",
    "            y_train = y_train2\n",
    "            y_val = y_val2\n",
    "            \n",
    "        rf_clf1 = RandomForestClassifier(**param_dist)\n",
    "        rf_clf1.fit(X_train,y_train)\n",
    "        # predicting\n",
    "        y_pred = np.round(rf_clf1.predict_proba(X_val)[:,1],3)\n",
    "        roc = roc_auc_score(y_val, y_pred)\n",
    "        roc_l.append(roc)\n",
    "\n",
    "        roc_array = np.asarray(roc_l)\n",
    "\n",
    "        roc_auc_mean.append(roc_array.mean())\n",
    "        dict_list.append(param_dist)\n",
    "        gc.collect()\n",
    "        \n",
    "\n",
    "    results_pd = pd.DataFrame({\"roc_auc_mean\": roc_auc_mean,\"parameters\": dict_list})    \n",
    "    results_pd.sort_values(\"roc_auc_mean\", ascending = False, axis = 0, inplace = True)\n",
    "    \n",
    "    top_pd = results_pd.head(1)\n",
    "    \n",
    "    print(f\"--> Best AUC:{top_pd.iloc[0,0]} using {top_pd.iloc[0,1]}\")"
   ]
  },
  {
   "cell_type": "markdown",
   "metadata": {},
   "source": [
    "### LightGBM"
   ]
  },
  {
   "cell_type": "code",
   "execution_count": 445,
   "metadata": {},
   "outputs": [
    {
     "name": "stdout",
     "output_type": "stream",
     "text": [
      "Random search start...\n",
      "* training model1_7day \n",
      "--> Best AUC:0.9354825134309179 using {'n_estimators': 500, 'bagging_fraction': 0.9, 'learning_rate': 0.01, 'is_unbalance': True, 'max_bin': 20, 'boosting_type': 'gbdt', 'max_depth': 2, 'feature_fraction': 0.7, 'lambda_l1': 10, 'objective': 'binary', 'metric': 'auc'}\n",
      "* training model2_14day \n",
      "--> Best AUC:0.9318218544391723 using {'n_estimators': 200, 'bagging_fraction': 0.5, 'learning_rate': 0.05, 'is_unbalance': True, 'max_bin': 25, 'boosting_type': 'gbdt', 'max_depth': 2, 'feature_fraction': 0.9, 'lambda_l1': 20, 'objective': 'binary', 'metric': 'auc'}\n"
     ]
    }
   ],
   "source": [
    "## Random Search\n",
    "# loop for random search\n",
    "n_iterations=20\n",
    "\n",
    "print (\"Random search start...\")\n",
    "\n",
    "for col in ['model1_7day','model2_14day']:\n",
    "    print(f\"* training {col} \")\n",
    "    #y = target[col]\n",
    "    roc_auc_mean = []\n",
    "    dict_list = []\n",
    "    \n",
    "    for i in range(0, n_iterations):\n",
    "\n",
    "        param_dist = {'n_estimators' : choice([200,350,500,650]),\n",
    "                  'bagging_fraction': choice([0.3, 0.5, 0.7, 0.9]),\n",
    "                  'learning_rate': choice([0.01, 0.05, 0.1, 0.3]),\n",
    "                  'is_unbalance': True,\n",
    "                  'max_bin': choice([3, 5, 10, 15, 20, 25]),\n",
    "                  'boosting_type' : choice(['gbdt', 'dart']),\n",
    "                  'max_depth': choice([2,5,8,10]),      \n",
    "                  'feature_fraction': choice([0.7, 0.8, 0.9]),\n",
    "                  'lambda_l1': choice([0, 10, 20, 30, 40]),\n",
    "                  'objective': 'binary', \n",
    "                  'metric': 'auc'} \n",
    "\n",
    "        roc_l = []\n",
    "        \n",
    "   nnn          # y_train_1,y_train_2,X_train\n",
    "       # y_val_1,y_val_2,X_val\n",
    "\n",
    "        # training\n",
    "        if col == 'model1_7day':\n",
    "            X_train = X_train1\n",
    "            X_val = X_val1\n",
    "            y_train = y_train1\n",
    "            y_val = y_val1\n",
    "        else: \n",
    "            X_train = X_train2\n",
    "            X_val = X_val2\n",
    "            y_train = y_train2\n",
    "            y_val = y_val2\n",
    "            \n",
    "        gbm = lgb.LGBMClassifier(**param_dist)\n",
    "        gbm.fit(X_train,y_train)\n",
    "        # predicting\n",
    "        y_pred = np.round(gbm.predict_proba(X_val)[:,1],3)\n",
    "        \n",
    "        roc = roc_auc_score(y_val, y_pred)\n",
    "        roc_l.append(roc)\n",
    "\n",
    "        roc_array = np.asarray(roc_l)\n",
    "\n",
    "        roc_auc_mean.append(roc_array.mean())\n",
    "        dict_list.append(param_dist)\n",
    "        gc.collect()\n",
    "        \n",
    "\n",
    "    results_pd = pd.DataFrame({\"roc_auc_mean\": roc_auc_mean,\"parameters\": dict_list})    \n",
    "    results_pd.sort_values(\"roc_auc_mean\", ascending = False, axis = 0, inplace = True)\n",
    "    \n",
    "    top_pd = results_pd.head(1)\n",
    "    \n",
    "    print(f\"--> Best AUC:{top_pd.iloc[0,0]} using {top_pd.iloc[0,1]}\")"
   ]
  },
  {
   "cell_type": "code",
   "execution_count": 446,
   "metadata": {},
   "outputs": [
    {
     "name": "stdout",
     "output_type": "stream",
     "text": [
      "auc score = 0.9354988824858163\n",
      "Time use:3.755s\n"
     ]
    }
   ],
   "source": [
    "# using the results from random search\n",
    "para_list_7days = {'n_estimators': 500, 'bagging_fraction': 0.9, 'learning_rate': 0.01, \\\n",
    "                   'is_unbalance': True, 'max_bin': 20, 'boosting_type': 'gbdt', 'max_depth': 2, \\\n",
    "                   'feature_fraction': 0.7, 'lambda_l1': 10, 'objective': 'binary', 'metric': 'auc'}\n",
    "t = time.time()\n",
    "# Model for 7 days\n",
    "param = para_list_7days\n",
    "gbm = lgb.LGBMClassifier(**param)\n",
    "gbm.fit(X_train1, y_train1)\n",
    "# predicting\n",
    "probabilities = gbm.predict_proba(X_val1)\n",
    "#preds = gbm.predict(X_val_m1)\n",
    "score = probabilities[:, 1]\n",
    "\n",
    "print(f'auc score = {roc_auc_score(y_val1,score)}')\n",
    "print(f\"Time use:{time.time()-t:.3f}s\") "
   ]
  },
  {
   "cell_type": "code",
   "execution_count": 448,
   "metadata": {},
   "outputs": [
    {
     "data": {
      "text/html": [
       "<div>\n",
       "<style scoped>\n",
       "    .dataframe tbody tr th:only-of-type {\n",
       "        vertical-align: middle;\n",
       "    }\n",
       "\n",
       "    .dataframe tbody tr th {\n",
       "        vertical-align: top;\n",
       "    }\n",
       "\n",
       "    .dataframe thead th {\n",
       "        text-align: right;\n",
       "    }\n",
       "</style>\n",
       "<table border=\"1\" class=\"dataframe\">\n",
       "  <thead>\n",
       "    <tr style=\"text-align: right;\">\n",
       "      <th></th>\n",
       "      <th>Value</th>\n",
       "      <th>Feature</th>\n",
       "    </tr>\n",
       "  </thead>\n",
       "  <tbody>\n",
       "    <tr>\n",
       "      <th>0</th>\n",
       "      <td>118</td>\n",
       "      <td>avg_prev_session</td>\n",
       "    </tr>\n",
       "    <tr>\n",
       "      <th>1</th>\n",
       "      <td>217</td>\n",
       "      <td>avg_session_count</td>\n",
       "    </tr>\n",
       "    <tr>\n",
       "      <th>2</th>\n",
       "      <td>227</td>\n",
       "      <td>avg_num_event5</td>\n",
       "    </tr>\n",
       "    <tr>\n",
       "      <th>3</th>\n",
       "      <td>268</td>\n",
       "      <td>avg_amt_purchased</td>\n",
       "    </tr>\n",
       "    <tr>\n",
       "      <th>4</th>\n",
       "      <td>276</td>\n",
       "      <td>avg_amt5</td>\n",
       "    </tr>\n",
       "    <tr>\n",
       "      <th>5</th>\n",
       "      <td>394</td>\n",
       "      <td>avg_num_purchase</td>\n",
       "    </tr>\n",
       "  </tbody>\n",
       "</table>\n",
       "</div>"
      ],
      "text/plain": [
       "   Value            Feature\n",
       "0    118   avg_prev_session\n",
       "1    217  avg_session_count\n",
       "2    227     avg_num_event5\n",
       "3    268  avg_amt_purchased\n",
       "4    276           avg_amt5\n",
       "5    394   avg_num_purchase"
      ]
     },
     "execution_count": 448,
     "metadata": {},
     "output_type": "execute_result"
    }
   ],
   "source": [
    "pd.DataFrame(sorted(zip(gbm.feature_importances_,X_train1.columns)), columns=['Value','Feature'])"
   ]
  },
  {
   "cell_type": "code",
   "execution_count": 447,
   "metadata": {},
   "outputs": [
    {
     "name": "stdout",
     "output_type": "stream",
     "text": [
      "auc score = 0.9318101753852329\n",
      "Time use:1.665s\n"
     ]
    }
   ],
   "source": [
    "# using the results from random search\n",
    "para_list_14days = {'n_estimators': 200, 'bagging_fraction': 0.5, 'learning_rate': 0.05, \\\n",
    "                    'is_unbalance': True, 'max_bin': 25, 'boosting_type': 'gbdt', 'max_depth': 2,\\\n",
    "                    'feature_fraction': 0.9, 'lambda_l1': 20, 'objective': 'binary', 'metric': 'auc'}\n",
    "\n",
    "\n",
    "t = time.time()\n",
    "# Model for 7 days\n",
    "param = para_list_14days\n",
    "gbm2 = lgb.LGBMClassifier(**param)\n",
    "gbm2.fit(X_train2, y_train2)\n",
    "# predicting\n",
    "probabilities = gbm2.predict_proba(X_val2)\n",
    "#preds = gbm2.predict(X_val)\n",
    "score = probabilities[:, 1]\n",
    "print(f'auc score = {roc_auc_score(y_val2,score)}')\n",
    "print(f\"Time use:{time.time()-t:.3f}s\")"
   ]
  },
  {
   "cell_type": "code",
   "execution_count": 449,
   "metadata": {},
   "outputs": [
    {
     "data": {
      "text/html": [
       "<div>\n",
       "<style scoped>\n",
       "    .dataframe tbody tr th:only-of-type {\n",
       "        vertical-align: middle;\n",
       "    }\n",
       "\n",
       "    .dataframe tbody tr th {\n",
       "        vertical-align: top;\n",
       "    }\n",
       "\n",
       "    .dataframe thead th {\n",
       "        text-align: right;\n",
       "    }\n",
       "</style>\n",
       "<table border=\"1\" class=\"dataframe\">\n",
       "  <thead>\n",
       "    <tr style=\"text-align: right;\">\n",
       "      <th></th>\n",
       "      <th>Value</th>\n",
       "      <th>Feature</th>\n",
       "    </tr>\n",
       "  </thead>\n",
       "  <tbody>\n",
       "    <tr>\n",
       "      <th>0</th>\n",
       "      <td>29</td>\n",
       "      <td>avg_amt_purchased</td>\n",
       "    </tr>\n",
       "    <tr>\n",
       "      <th>1</th>\n",
       "      <td>92</td>\n",
       "      <td>avg_prev_session</td>\n",
       "    </tr>\n",
       "    <tr>\n",
       "      <th>2</th>\n",
       "      <td>101</td>\n",
       "      <td>avg_num_purchase</td>\n",
       "    </tr>\n",
       "    <tr>\n",
       "      <th>3</th>\n",
       "      <td>124</td>\n",
       "      <td>avg_num_event5</td>\n",
       "    </tr>\n",
       "    <tr>\n",
       "      <th>4</th>\n",
       "      <td>125</td>\n",
       "      <td>avg_session_count</td>\n",
       "    </tr>\n",
       "    <tr>\n",
       "      <th>5</th>\n",
       "      <td>129</td>\n",
       "      <td>avg_amt_event5</td>\n",
       "    </tr>\n",
       "  </tbody>\n",
       "</table>\n",
       "</div>"
      ],
      "text/plain": [
       "   Value            Feature\n",
       "0     29  avg_amt_purchased\n",
       "1     92   avg_prev_session\n",
       "2    101   avg_num_purchase\n",
       "3    124     avg_num_event5\n",
       "4    125  avg_session_count\n",
       "5    129     avg_amt_event5"
      ]
     },
     "execution_count": 449,
     "metadata": {},
     "output_type": "execute_result"
    }
   ],
   "source": [
    "pd.DataFrame(sorted(zip(gbm2.feature_importances_,X_train2.columns)), columns=['Value','Feature'])"
   ]
  },
  {
   "cell_type": "markdown",
   "metadata": {},
   "source": [
    "## Compute Target"
   ]
  },
  {
   "cell_type": "code",
   "execution_count": 597,
   "metadata": {},
   "outputs": [],
   "source": [
    "sample = pd.read_csv(\"/Users/gracezhang/Desktop/leanplum/sample_submission_2.csv\")"
   ]
  },
  {
   "cell_type": "code",
   "execution_count": 598,
   "metadata": {},
   "outputs": [],
   "source": [
    "users_test = sample[[\"user_id_hash\"]]"
   ]
  },
  {
   "cell_type": "code",
   "execution_count": 599,
   "metadata": {},
   "outputs": [
    {
     "data": {
      "text/plain": [
       "312568"
      ]
     },
     "execution_count": 599,
     "metadata": {},
     "output_type": "execute_result"
    }
   ],
   "source": [
    "len(users_test)"
   ]
  },
  {
   "cell_type": "code",
   "execution_count": 600,
   "metadata": {},
   "outputs": [],
   "source": [
    "features_test = events"
   ]
  },
  {
   "cell_type": "code",
   "execution_count": 601,
   "metadata": {},
   "outputs": [],
   "source": [
    "features_test2 = sessions"
   ]
  },
  {
   "cell_type": "markdown",
   "metadata": {},
   "source": [
    "#### TODO: use attributes data to get missing users features instead of imputing using mean"
   ]
  },
  {
   "cell_type": "markdown",
   "metadata": {},
   "source": [
    "#### Feature 1: avg num of purchase"
   ]
  },
  {
   "cell_type": "code",
   "execution_count": 602,
   "metadata": {},
   "outputs": [],
   "source": [
    "day_count2 = 75\n",
    "f1_test = distinctPurchase(features_test[[\"user_id_hash\", \"event\"]])\n",
    "f1_test.event = f1_test.event/day_count2\n",
    "users_test = users_test.join(f1_test.set_index(\"user_id_hash\"), on=\"user_id_hash\", how=\"left\")\n",
    "users_test.columns = [\"user_id_hash\", \"avg_num_purchase\"]"
   ]
  },
  {
   "cell_type": "code",
   "execution_count": 603,
   "metadata": {},
   "outputs": [
    {
     "data": {
      "text/html": [
       "<div>\n",
       "<style scoped>\n",
       "    .dataframe tbody tr th:only-of-type {\n",
       "        vertical-align: middle;\n",
       "    }\n",
       "\n",
       "    .dataframe tbody tr th {\n",
       "        vertical-align: top;\n",
       "    }\n",
       "\n",
       "    .dataframe thead th {\n",
       "        text-align: right;\n",
       "    }\n",
       "</style>\n",
       "<table border=\"1\" class=\"dataframe\">\n",
       "  <thead>\n",
       "    <tr style=\"text-align: right;\">\n",
       "      <th></th>\n",
       "      <th>user_id_hash</th>\n",
       "      <th>avg_num_purchase</th>\n",
       "    </tr>\n",
       "  </thead>\n",
       "  <tbody>\n",
       "    <tr>\n",
       "      <th>0</th>\n",
       "      <td>e469dfaed039ead9110165d9bc457acb11609ca34057dc...</td>\n",
       "      <td>0.0</td>\n",
       "    </tr>\n",
       "    <tr>\n",
       "      <th>1</th>\n",
       "      <td>afcc639a324b6c598ef83d360450afa011cb2dd1358bf9...</td>\n",
       "      <td>0.0</td>\n",
       "    </tr>\n",
       "    <tr>\n",
       "      <th>2</th>\n",
       "      <td>fd5a7cf211d08e3e00f7be6a9df6e6ea3d2e5c22a5d9c3...</td>\n",
       "      <td>0.0</td>\n",
       "    </tr>\n",
       "    <tr>\n",
       "      <th>3</th>\n",
       "      <td>00bfff98b9d0329f014c2eeac7ce47cd18b2bc6e10d608...</td>\n",
       "      <td>0.0</td>\n",
       "    </tr>\n",
       "    <tr>\n",
       "      <th>4</th>\n",
       "      <td>0d298f3638c43e915c119d4935e1ce8d168f81b5e3e8c1...</td>\n",
       "      <td>0.0</td>\n",
       "    </tr>\n",
       "  </tbody>\n",
       "</table>\n",
       "</div>"
      ],
      "text/plain": [
       "                                        user_id_hash  avg_num_purchase\n",
       "0  e469dfaed039ead9110165d9bc457acb11609ca34057dc...               0.0\n",
       "1  afcc639a324b6c598ef83d360450afa011cb2dd1358bf9...               0.0\n",
       "2  fd5a7cf211d08e3e00f7be6a9df6e6ea3d2e5c22a5d9c3...               0.0\n",
       "3  00bfff98b9d0329f014c2eeac7ce47cd18b2bc6e10d608...               0.0\n",
       "4  0d298f3638c43e915c119d4935e1ce8d168f81b5e3e8c1...               0.0"
      ]
     },
     "execution_count": 603,
     "metadata": {},
     "output_type": "execute_result"
    }
   ],
   "source": [
    "users_test.head()"
   ]
  },
  {
   "cell_type": "markdown",
   "metadata": {},
   "source": [
    "#### Feature 2: avg amt purchase"
   ]
  },
  {
   "cell_type": "code",
   "execution_count": 604,
   "metadata": {},
   "outputs": [],
   "source": [
    "f2_test = purchaseAmt(features_test[[\"user_id_hash\", \"event\", \"event_value\"]])\n",
    "f2_test[\"event_value\"] = f2_test[\"event_value\"].fillna(0)\n",
    "users_test = users_test.join(f2_test.set_index(\"user_id_hash\"), on=\"user_id_hash\", how=\"left\")\n",
    "users_test.columns = [\"user_id_hash\", \"avg_num_purchase\", \"avg_amt_purchased\"]"
   ]
  },
  {
   "cell_type": "code",
   "execution_count": 605,
   "metadata": {},
   "outputs": [
    {
     "data": {
      "text/html": [
       "<div>\n",
       "<style scoped>\n",
       "    .dataframe tbody tr th:only-of-type {\n",
       "        vertical-align: middle;\n",
       "    }\n",
       "\n",
       "    .dataframe tbody tr th {\n",
       "        vertical-align: top;\n",
       "    }\n",
       "\n",
       "    .dataframe thead th {\n",
       "        text-align: right;\n",
       "    }\n",
       "</style>\n",
       "<table border=\"1\" class=\"dataframe\">\n",
       "  <thead>\n",
       "    <tr style=\"text-align: right;\">\n",
       "      <th></th>\n",
       "      <th>user_id_hash</th>\n",
       "      <th>avg_num_purchase</th>\n",
       "      <th>avg_amt_purchased</th>\n",
       "    </tr>\n",
       "  </thead>\n",
       "  <tbody>\n",
       "    <tr>\n",
       "      <th>0</th>\n",
       "      <td>e469dfaed039ead9110165d9bc457acb11609ca34057dc...</td>\n",
       "      <td>0.0</td>\n",
       "      <td>0.0</td>\n",
       "    </tr>\n",
       "    <tr>\n",
       "      <th>1</th>\n",
       "      <td>afcc639a324b6c598ef83d360450afa011cb2dd1358bf9...</td>\n",
       "      <td>0.0</td>\n",
       "      <td>0.0</td>\n",
       "    </tr>\n",
       "    <tr>\n",
       "      <th>2</th>\n",
       "      <td>fd5a7cf211d08e3e00f7be6a9df6e6ea3d2e5c22a5d9c3...</td>\n",
       "      <td>0.0</td>\n",
       "      <td>0.0</td>\n",
       "    </tr>\n",
       "    <tr>\n",
       "      <th>3</th>\n",
       "      <td>00bfff98b9d0329f014c2eeac7ce47cd18b2bc6e10d608...</td>\n",
       "      <td>0.0</td>\n",
       "      <td>0.0</td>\n",
       "    </tr>\n",
       "    <tr>\n",
       "      <th>4</th>\n",
       "      <td>0d298f3638c43e915c119d4935e1ce8d168f81b5e3e8c1...</td>\n",
       "      <td>0.0</td>\n",
       "      <td>0.0</td>\n",
       "    </tr>\n",
       "  </tbody>\n",
       "</table>\n",
       "</div>"
      ],
      "text/plain": [
       "                                        user_id_hash  avg_num_purchase  \\\n",
       "0  e469dfaed039ead9110165d9bc457acb11609ca34057dc...               0.0   \n",
       "1  afcc639a324b6c598ef83d360450afa011cb2dd1358bf9...               0.0   \n",
       "2  fd5a7cf211d08e3e00f7be6a9df6e6ea3d2e5c22a5d9c3...               0.0   \n",
       "3  00bfff98b9d0329f014c2eeac7ce47cd18b2bc6e10d608...               0.0   \n",
       "4  0d298f3638c43e915c119d4935e1ce8d168f81b5e3e8c1...               0.0   \n",
       "\n",
       "   avg_amt_purchased  \n",
       "0                0.0  \n",
       "1                0.0  \n",
       "2                0.0  \n",
       "3                0.0  \n",
       "4                0.0  "
      ]
     },
     "execution_count": 605,
     "metadata": {},
     "output_type": "execute_result"
    }
   ],
   "source": [
    "users_test.head()"
   ]
  },
  {
   "cell_type": "markdown",
   "metadata": {},
   "source": [
    "#### Feature 3: avg prev session duration"
   ]
  },
  {
   "cell_type": "code",
   "execution_count": 606,
   "metadata": {},
   "outputs": [],
   "source": [
    "f3_test = avgPrevSession(features_test2[[\"user_id_hash\", \"previous_sessions_duration\", \"start_timestamp\"]])\n",
    "users_test = users_test.join(f3_test.set_index(\"user_id_hash\"), on=\"user_id_hash\", how=\"left\")\n",
    "users_test.columns = [\"user_id_hash\", \"avg_num_purchase\", \"avg_amt_purchased\", \"avg_prev_session\"]"
   ]
  },
  {
   "cell_type": "code",
   "execution_count": 607,
   "metadata": {},
   "outputs": [
    {
     "data": {
      "text/html": [
       "<div>\n",
       "<style scoped>\n",
       "    .dataframe tbody tr th:only-of-type {\n",
       "        vertical-align: middle;\n",
       "    }\n",
       "\n",
       "    .dataframe tbody tr th {\n",
       "        vertical-align: top;\n",
       "    }\n",
       "\n",
       "    .dataframe thead th {\n",
       "        text-align: right;\n",
       "    }\n",
       "</style>\n",
       "<table border=\"1\" class=\"dataframe\">\n",
       "  <thead>\n",
       "    <tr style=\"text-align: right;\">\n",
       "      <th></th>\n",
       "      <th>avg_num_purchase</th>\n",
       "      <th>avg_amt_purchased</th>\n",
       "      <th>avg_prev_session</th>\n",
       "    </tr>\n",
       "  </thead>\n",
       "  <tbody>\n",
       "    <tr>\n",
       "      <th>count</th>\n",
       "      <td>312316.000000</td>\n",
       "      <td>312316.000000</td>\n",
       "      <td>3.115650e+05</td>\n",
       "    </tr>\n",
       "    <tr>\n",
       "      <th>mean</th>\n",
       "      <td>0.006875</td>\n",
       "      <td>0.185059</td>\n",
       "      <td>4.685708e+06</td>\n",
       "    </tr>\n",
       "    <tr>\n",
       "      <th>std</th>\n",
       "      <td>0.053262</td>\n",
       "      <td>0.000000</td>\n",
       "      <td>1.621878e+07</td>\n",
       "    </tr>\n",
       "    <tr>\n",
       "      <th>min</th>\n",
       "      <td>0.000000</td>\n",
       "      <td>0.000000</td>\n",
       "      <td>0.000000e+00</td>\n",
       "    </tr>\n",
       "    <tr>\n",
       "      <th>25%</th>\n",
       "      <td>0.000000</td>\n",
       "      <td>0.000000</td>\n",
       "      <td>0.000000e+00</td>\n",
       "    </tr>\n",
       "    <tr>\n",
       "      <th>50%</th>\n",
       "      <td>0.000000</td>\n",
       "      <td>0.000000</td>\n",
       "      <td>7.717050e+04</td>\n",
       "    </tr>\n",
       "    <tr>\n",
       "      <th>75%</th>\n",
       "      <td>0.000000</td>\n",
       "      <td>0.000000</td>\n",
       "      <td>2.548936e+06</td>\n",
       "    </tr>\n",
       "    <tr>\n",
       "      <th>max</th>\n",
       "      <td>3.146667</td>\n",
       "      <td>70.000000</td>\n",
       "      <td>8.207080e+08</td>\n",
       "    </tr>\n",
       "  </tbody>\n",
       "</table>\n",
       "</div>"
      ],
      "text/plain": [
       "       avg_num_purchase  avg_amt_purchased  avg_prev_session\n",
       "count     312316.000000      312316.000000      3.115650e+05\n",
       "mean           0.006875           0.185059      4.685708e+06\n",
       "std            0.053262           0.000000      1.621878e+07\n",
       "min            0.000000           0.000000      0.000000e+00\n",
       "25%            0.000000           0.000000      0.000000e+00\n",
       "50%            0.000000           0.000000      7.717050e+04\n",
       "75%            0.000000           0.000000      2.548936e+06\n",
       "max            3.146667          70.000000      8.207080e+08"
      ]
     },
     "execution_count": 607,
     "metadata": {},
     "output_type": "execute_result"
    }
   ],
   "source": [
    "users_test.describe()"
   ]
  },
  {
   "cell_type": "markdown",
   "metadata": {},
   "source": [
    "#### Feature 4: avg num of sessions"
   ]
  },
  {
   "cell_type": "code",
   "execution_count": 608,
   "metadata": {},
   "outputs": [],
   "source": [
    "f4_test = avgNumSessions(features_test2[[\"user_id_hash\", \"session_id\"]])\n",
    "f4_test.session_id = f4_test.session_id/day_count2\n",
    "\n",
    "users_test = users_test.join(f4_test.set_index(\"user_id_hash\"), on=\"user_id_hash\", how=\"left\")\n",
    "users_test.columns = [\"user_id_hash\", \"avg_num_purchase\", \"avg_amt_purchased\", \"avg_prev_session\", \\\n",
    "                       \"avg_session_count\"]"
   ]
  },
  {
   "cell_type": "code",
   "execution_count": 609,
   "metadata": {},
   "outputs": [
    {
     "data": {
      "text/html": [
       "<div>\n",
       "<style scoped>\n",
       "    .dataframe tbody tr th:only-of-type {\n",
       "        vertical-align: middle;\n",
       "    }\n",
       "\n",
       "    .dataframe tbody tr th {\n",
       "        vertical-align: top;\n",
       "    }\n",
       "\n",
       "    .dataframe thead th {\n",
       "        text-align: right;\n",
       "    }\n",
       "</style>\n",
       "<table border=\"1\" class=\"dataframe\">\n",
       "  <thead>\n",
       "    <tr style=\"text-align: right;\">\n",
       "      <th></th>\n",
       "      <th>user_id_hash</th>\n",
       "      <th>avg_num_purchase</th>\n",
       "      <th>avg_amt_purchased</th>\n",
       "      <th>avg_prev_session</th>\n",
       "      <th>avg_session_count</th>\n",
       "    </tr>\n",
       "  </thead>\n",
       "  <tbody>\n",
       "    <tr>\n",
       "      <th>0</th>\n",
       "      <td>e469dfaed039ead9110165d9bc457acb11609ca34057dc...</td>\n",
       "      <td>0.0</td>\n",
       "      <td>0.0</td>\n",
       "      <td>356544.00</td>\n",
       "      <td>0.026667</td>\n",
       "    </tr>\n",
       "    <tr>\n",
       "      <th>1</th>\n",
       "      <td>afcc639a324b6c598ef83d360450afa011cb2dd1358bf9...</td>\n",
       "      <td>0.0</td>\n",
       "      <td>0.0</td>\n",
       "      <td>0.00</td>\n",
       "      <td>0.013333</td>\n",
       "    </tr>\n",
       "    <tr>\n",
       "      <th>2</th>\n",
       "      <td>fd5a7cf211d08e3e00f7be6a9df6e6ea3d2e5c22a5d9c3...</td>\n",
       "      <td>0.0</td>\n",
       "      <td>0.0</td>\n",
       "      <td>388631.25</td>\n",
       "      <td>0.053333</td>\n",
       "    </tr>\n",
       "    <tr>\n",
       "      <th>3</th>\n",
       "      <td>00bfff98b9d0329f014c2eeac7ce47cd18b2bc6e10d608...</td>\n",
       "      <td>0.0</td>\n",
       "      <td>0.0</td>\n",
       "      <td>9200582.90</td>\n",
       "      <td>0.133333</td>\n",
       "    </tr>\n",
       "    <tr>\n",
       "      <th>4</th>\n",
       "      <td>0d298f3638c43e915c119d4935e1ce8d168f81b5e3e8c1...</td>\n",
       "      <td>0.0</td>\n",
       "      <td>0.0</td>\n",
       "      <td>0.00</td>\n",
       "      <td>0.013333</td>\n",
       "    </tr>\n",
       "  </tbody>\n",
       "</table>\n",
       "</div>"
      ],
      "text/plain": [
       "                                        user_id_hash  avg_num_purchase  \\\n",
       "0  e469dfaed039ead9110165d9bc457acb11609ca34057dc...               0.0   \n",
       "1  afcc639a324b6c598ef83d360450afa011cb2dd1358bf9...               0.0   \n",
       "2  fd5a7cf211d08e3e00f7be6a9df6e6ea3d2e5c22a5d9c3...               0.0   \n",
       "3  00bfff98b9d0329f014c2eeac7ce47cd18b2bc6e10d608...               0.0   \n",
       "4  0d298f3638c43e915c119d4935e1ce8d168f81b5e3e8c1...               0.0   \n",
       "\n",
       "   avg_amt_purchased  avg_prev_session  avg_session_count  \n",
       "0                0.0         356544.00           0.026667  \n",
       "1                0.0              0.00           0.013333  \n",
       "2                0.0         388631.25           0.053333  \n",
       "3                0.0        9200582.90           0.133333  \n",
       "4                0.0              0.00           0.013333  "
      ]
     },
     "execution_count": 609,
     "metadata": {},
     "output_type": "execute_result"
    }
   ],
   "source": [
    "users_test.head()"
   ]
  },
  {
   "cell_type": "markdown",
   "metadata": {},
   "source": [
    "#### Feature 5: avg num of event5"
   ]
  },
  {
   "cell_type": "code",
   "execution_count": 610,
   "metadata": {},
   "outputs": [],
   "source": [
    "f5_test = numEvent5(features_test[[\"user_id_hash\", \"event\"]])\n",
    "f5_test.event = f5_test.event/day_count2\n",
    "users_test = users_test.join(f5_test.set_index(\"user_id_hash\"), on=\"user_id_hash\", how=\"left\")\n",
    "users_test.columns = [\"user_id_hash\", \"avg_num_purchase\", \"avg_amt_purchased\", \"avg_prev_session\", \\\n",
    "                       \"avg_session_count\", \"avg_num_event5\"]"
   ]
  },
  {
   "cell_type": "code",
   "execution_count": 611,
   "metadata": {},
   "outputs": [
    {
     "data": {
      "text/html": [
       "<div>\n",
       "<style scoped>\n",
       "    .dataframe tbody tr th:only-of-type {\n",
       "        vertical-align: middle;\n",
       "    }\n",
       "\n",
       "    .dataframe tbody tr th {\n",
       "        vertical-align: top;\n",
       "    }\n",
       "\n",
       "    .dataframe thead th {\n",
       "        text-align: right;\n",
       "    }\n",
       "</style>\n",
       "<table border=\"1\" class=\"dataframe\">\n",
       "  <thead>\n",
       "    <tr style=\"text-align: right;\">\n",
       "      <th></th>\n",
       "      <th>user_id_hash</th>\n",
       "      <th>avg_num_purchase</th>\n",
       "      <th>avg_amt_purchased</th>\n",
       "      <th>avg_prev_session</th>\n",
       "      <th>avg_session_count</th>\n",
       "      <th>avg_num_event5</th>\n",
       "    </tr>\n",
       "  </thead>\n",
       "  <tbody>\n",
       "    <tr>\n",
       "      <th>0</th>\n",
       "      <td>e469dfaed039ead9110165d9bc457acb11609ca34057dc...</td>\n",
       "      <td>0.0</td>\n",
       "      <td>0.0</td>\n",
       "      <td>356544.00</td>\n",
       "      <td>0.026667</td>\n",
       "      <td>0.013333</td>\n",
       "    </tr>\n",
       "    <tr>\n",
       "      <th>1</th>\n",
       "      <td>afcc639a324b6c598ef83d360450afa011cb2dd1358bf9...</td>\n",
       "      <td>0.0</td>\n",
       "      <td>0.0</td>\n",
       "      <td>0.00</td>\n",
       "      <td>0.013333</td>\n",
       "      <td>0.040000</td>\n",
       "    </tr>\n",
       "    <tr>\n",
       "      <th>2</th>\n",
       "      <td>fd5a7cf211d08e3e00f7be6a9df6e6ea3d2e5c22a5d9c3...</td>\n",
       "      <td>0.0</td>\n",
       "      <td>0.0</td>\n",
       "      <td>388631.25</td>\n",
       "      <td>0.053333</td>\n",
       "      <td>0.013333</td>\n",
       "    </tr>\n",
       "    <tr>\n",
       "      <th>3</th>\n",
       "      <td>00bfff98b9d0329f014c2eeac7ce47cd18b2bc6e10d608...</td>\n",
       "      <td>0.0</td>\n",
       "      <td>0.0</td>\n",
       "      <td>9200582.90</td>\n",
       "      <td>0.133333</td>\n",
       "      <td>0.120000</td>\n",
       "    </tr>\n",
       "    <tr>\n",
       "      <th>4</th>\n",
       "      <td>0d298f3638c43e915c119d4935e1ce8d168f81b5e3e8c1...</td>\n",
       "      <td>0.0</td>\n",
       "      <td>0.0</td>\n",
       "      <td>0.00</td>\n",
       "      <td>0.013333</td>\n",
       "      <td>0.000000</td>\n",
       "    </tr>\n",
       "  </tbody>\n",
       "</table>\n",
       "</div>"
      ],
      "text/plain": [
       "                                        user_id_hash  avg_num_purchase  \\\n",
       "0  e469dfaed039ead9110165d9bc457acb11609ca34057dc...               0.0   \n",
       "1  afcc639a324b6c598ef83d360450afa011cb2dd1358bf9...               0.0   \n",
       "2  fd5a7cf211d08e3e00f7be6a9df6e6ea3d2e5c22a5d9c3...               0.0   \n",
       "3  00bfff98b9d0329f014c2eeac7ce47cd18b2bc6e10d608...               0.0   \n",
       "4  0d298f3638c43e915c119d4935e1ce8d168f81b5e3e8c1...               0.0   \n",
       "\n",
       "   avg_amt_purchased  avg_prev_session  avg_session_count  avg_num_event5  \n",
       "0                0.0         356544.00           0.026667        0.013333  \n",
       "1                0.0              0.00           0.013333        0.040000  \n",
       "2                0.0         388631.25           0.053333        0.013333  \n",
       "3                0.0        9200582.90           0.133333        0.120000  \n",
       "4                0.0              0.00           0.013333        0.000000  "
      ]
     },
     "execution_count": 611,
     "metadata": {},
     "output_type": "execute_result"
    }
   ],
   "source": [
    "users_test.head()"
   ]
  },
  {
   "cell_type": "markdown",
   "metadata": {},
   "source": [
    "#### Feature 6: avg amt of event5"
   ]
  },
  {
   "cell_type": "code",
   "execution_count": 612,
   "metadata": {},
   "outputs": [],
   "source": [
    "f6_test = event5Amt(features_test[[\"user_id_hash\", \"event\", \"event_value\"]])\n",
    "f6_test = f6_test.replace([np.inf, -np.inf], np.nan)\n",
    "f6_test[\"event_value\"] = f6_test[\"event_value\"].fillna(0)\n",
    "users_test = users_test.join(f6_test.set_index(\"user_id_hash\"), on=\"user_id_hash\", how=\"left\")"
   ]
  },
  {
   "cell_type": "code",
   "execution_count": 613,
   "metadata": {},
   "outputs": [],
   "source": [
    "users_test.columns = [\"user_id_hash\", \"avg_num_purchase\", \"avg_amt_purchased\", \"avg_prev_session\", \\\n",
    "                       \"avg_session_count\", \"avg_num_event5\", \"avg_amt_event5\"]"
   ]
  },
  {
   "cell_type": "code",
   "execution_count": 614,
   "metadata": {},
   "outputs": [
    {
     "data": {
      "text/html": [
       "<div>\n",
       "<style scoped>\n",
       "    .dataframe tbody tr th:only-of-type {\n",
       "        vertical-align: middle;\n",
       "    }\n",
       "\n",
       "    .dataframe tbody tr th {\n",
       "        vertical-align: top;\n",
       "    }\n",
       "\n",
       "    .dataframe thead th {\n",
       "        text-align: right;\n",
       "    }\n",
       "</style>\n",
       "<table border=\"1\" class=\"dataframe\">\n",
       "  <thead>\n",
       "    <tr style=\"text-align: right;\">\n",
       "      <th></th>\n",
       "      <th>avg_num_purchase</th>\n",
       "      <th>avg_amt_purchased</th>\n",
       "      <th>avg_prev_session</th>\n",
       "      <th>avg_session_count</th>\n",
       "      <th>avg_num_event5</th>\n",
       "      <th>avg_amt_event5</th>\n",
       "    </tr>\n",
       "  </thead>\n",
       "  <tbody>\n",
       "    <tr>\n",
       "      <th>count</th>\n",
       "      <td>312316.000000</td>\n",
       "      <td>312316.000000</td>\n",
       "      <td>3.115650e+05</td>\n",
       "      <td>312368.000000</td>\n",
       "      <td>312316.000000</td>\n",
       "      <td>312316.000000</td>\n",
       "    </tr>\n",
       "    <tr>\n",
       "      <th>mean</th>\n",
       "      <td>0.006875</td>\n",
       "      <td>0.185059</td>\n",
       "      <td>4.685708e+06</td>\n",
       "      <td>0.115584</td>\n",
       "      <td>0.109689</td>\n",
       "      <td>NaN</td>\n",
       "    </tr>\n",
       "    <tr>\n",
       "      <th>std</th>\n",
       "      <td>0.053262</td>\n",
       "      <td>0.000000</td>\n",
       "      <td>1.621878e+07</td>\n",
       "      <td>0.334684</td>\n",
       "      <td>0.298179</td>\n",
       "      <td>0.000000</td>\n",
       "    </tr>\n",
       "    <tr>\n",
       "      <th>min</th>\n",
       "      <td>0.000000</td>\n",
       "      <td>0.000000</td>\n",
       "      <td>0.000000e+00</td>\n",
       "      <td>0.000000</td>\n",
       "      <td>0.000000</td>\n",
       "      <td>0.000000</td>\n",
       "    </tr>\n",
       "    <tr>\n",
       "      <th>25%</th>\n",
       "      <td>0.000000</td>\n",
       "      <td>0.000000</td>\n",
       "      <td>0.000000e+00</td>\n",
       "      <td>0.013333</td>\n",
       "      <td>0.013333</td>\n",
       "      <td>0.000000</td>\n",
       "    </tr>\n",
       "    <tr>\n",
       "      <th>50%</th>\n",
       "      <td>0.000000</td>\n",
       "      <td>0.000000</td>\n",
       "      <td>7.717050e+04</td>\n",
       "      <td>0.026667</td>\n",
       "      <td>0.026667</td>\n",
       "      <td>0.000000</td>\n",
       "    </tr>\n",
       "    <tr>\n",
       "      <th>75%</th>\n",
       "      <td>0.000000</td>\n",
       "      <td>0.000000</td>\n",
       "      <td>2.548936e+06</td>\n",
       "      <td>0.066667</td>\n",
       "      <td>0.080000</td>\n",
       "      <td>0.666504</td>\n",
       "    </tr>\n",
       "    <tr>\n",
       "      <th>max</th>\n",
       "      <td>3.146667</td>\n",
       "      <td>70.000000</td>\n",
       "      <td>8.207080e+08</td>\n",
       "      <td>18.693333</td>\n",
       "      <td>11.746667</td>\n",
       "      <td>1.000000</td>\n",
       "    </tr>\n",
       "  </tbody>\n",
       "</table>\n",
       "</div>"
      ],
      "text/plain": [
       "       avg_num_purchase  avg_amt_purchased  avg_prev_session  \\\n",
       "count     312316.000000      312316.000000      3.115650e+05   \n",
       "mean           0.006875           0.185059      4.685708e+06   \n",
       "std            0.053262           0.000000      1.621878e+07   \n",
       "min            0.000000           0.000000      0.000000e+00   \n",
       "25%            0.000000           0.000000      0.000000e+00   \n",
       "50%            0.000000           0.000000      7.717050e+04   \n",
       "75%            0.000000           0.000000      2.548936e+06   \n",
       "max            3.146667          70.000000      8.207080e+08   \n",
       "\n",
       "       avg_session_count  avg_num_event5  avg_amt_event5  \n",
       "count      312368.000000   312316.000000   312316.000000  \n",
       "mean            0.115584        0.109689             NaN  \n",
       "std             0.334684        0.298179        0.000000  \n",
       "min             0.000000        0.000000        0.000000  \n",
       "25%             0.013333        0.013333        0.000000  \n",
       "50%             0.026667        0.026667        0.000000  \n",
       "75%             0.066667        0.080000        0.666504  \n",
       "max            18.693333       11.746667        1.000000  "
      ]
     },
     "execution_count": 614,
     "metadata": {},
     "output_type": "execute_result"
    }
   ],
   "source": [
    "users_test.describe()"
   ]
  },
  {
   "cell_type": "markdown",
   "metadata": {},
   "source": [
    "#### Feature 7: avg num of event0"
   ]
  },
  {
   "cell_type": "code",
   "execution_count": 615,
   "metadata": {},
   "outputs": [],
   "source": [
    "f7_test = numEvent0(features_test[[\"user_id_hash\", \"event\"]])\n",
    "f7_test.event = f7_test.event/day_count2\n",
    "users_test = users_test.join(f7_test.set_index(\"user_id_hash\"), on=\"user_id_hash\", how=\"left\")\n",
    "users_test.columns = [\"user_id_hash\", \"avg_num_purchase\", \"avg_amt_purchased\", \"avg_prev_session\", \\\n",
    "                       \"avg_session_count\", \"avg_num_event5\", \"avg_amt_event5\", \"avg_num_event0\"]"
   ]
  },
  {
   "cell_type": "code",
   "execution_count": null,
   "metadata": {},
   "outputs": [],
   "source": []
  },
  {
   "cell_type": "code",
   "execution_count": 616,
   "metadata": {},
   "outputs": [
    {
     "data": {
      "text/html": [
       "<div>\n",
       "<style scoped>\n",
       "    .dataframe tbody tr th:only-of-type {\n",
       "        vertical-align: middle;\n",
       "    }\n",
       "\n",
       "    .dataframe tbody tr th {\n",
       "        vertical-align: top;\n",
       "    }\n",
       "\n",
       "    .dataframe thead th {\n",
       "        text-align: right;\n",
       "    }\n",
       "</style>\n",
       "<table border=\"1\" class=\"dataframe\">\n",
       "  <thead>\n",
       "    <tr style=\"text-align: right;\">\n",
       "      <th></th>\n",
       "      <th>avg_num_purchase</th>\n",
       "      <th>avg_amt_purchased</th>\n",
       "      <th>avg_prev_session</th>\n",
       "      <th>avg_session_count</th>\n",
       "      <th>avg_num_event5</th>\n",
       "      <th>avg_amt_event5</th>\n",
       "      <th>avg_num_event0</th>\n",
       "    </tr>\n",
       "  </thead>\n",
       "  <tbody>\n",
       "    <tr>\n",
       "      <th>count</th>\n",
       "      <td>312316.000000</td>\n",
       "      <td>312316.000000</td>\n",
       "      <td>3.115650e+05</td>\n",
       "      <td>312368.000000</td>\n",
       "      <td>312316.000000</td>\n",
       "      <td>312316.000000</td>\n",
       "      <td>312316.000000</td>\n",
       "    </tr>\n",
       "    <tr>\n",
       "      <th>mean</th>\n",
       "      <td>0.006875</td>\n",
       "      <td>0.185059</td>\n",
       "      <td>4.685708e+06</td>\n",
       "      <td>0.115584</td>\n",
       "      <td>0.109689</td>\n",
       "      <td>NaN</td>\n",
       "      <td>0.008688</td>\n",
       "    </tr>\n",
       "    <tr>\n",
       "      <th>std</th>\n",
       "      <td>0.053262</td>\n",
       "      <td>0.000000</td>\n",
       "      <td>1.621878e+07</td>\n",
       "      <td>0.334684</td>\n",
       "      <td>0.298179</td>\n",
       "      <td>0.000000</td>\n",
       "      <td>0.007628</td>\n",
       "    </tr>\n",
       "    <tr>\n",
       "      <th>min</th>\n",
       "      <td>0.000000</td>\n",
       "      <td>0.000000</td>\n",
       "      <td>0.000000e+00</td>\n",
       "      <td>0.000000</td>\n",
       "      <td>0.000000</td>\n",
       "      <td>0.000000</td>\n",
       "      <td>0.000000</td>\n",
       "    </tr>\n",
       "    <tr>\n",
       "      <th>25%</th>\n",
       "      <td>0.000000</td>\n",
       "      <td>0.000000</td>\n",
       "      <td>0.000000e+00</td>\n",
       "      <td>0.013333</td>\n",
       "      <td>0.013333</td>\n",
       "      <td>0.000000</td>\n",
       "      <td>0.000000</td>\n",
       "    </tr>\n",
       "    <tr>\n",
       "      <th>50%</th>\n",
       "      <td>0.000000</td>\n",
       "      <td>0.000000</td>\n",
       "      <td>7.717050e+04</td>\n",
       "      <td>0.026667</td>\n",
       "      <td>0.026667</td>\n",
       "      <td>0.000000</td>\n",
       "      <td>0.013333</td>\n",
       "    </tr>\n",
       "    <tr>\n",
       "      <th>75%</th>\n",
       "      <td>0.000000</td>\n",
       "      <td>0.000000</td>\n",
       "      <td>2.548936e+06</td>\n",
       "      <td>0.066667</td>\n",
       "      <td>0.080000</td>\n",
       "      <td>0.666504</td>\n",
       "      <td>0.013333</td>\n",
       "    </tr>\n",
       "    <tr>\n",
       "      <th>max</th>\n",
       "      <td>3.146667</td>\n",
       "      <td>70.000000</td>\n",
       "      <td>8.207080e+08</td>\n",
       "      <td>18.693333</td>\n",
       "      <td>11.746667</td>\n",
       "      <td>1.000000</td>\n",
       "      <td>0.440000</td>\n",
       "    </tr>\n",
       "  </tbody>\n",
       "</table>\n",
       "</div>"
      ],
      "text/plain": [
       "       avg_num_purchase  avg_amt_purchased  avg_prev_session  \\\n",
       "count     312316.000000      312316.000000      3.115650e+05   \n",
       "mean           0.006875           0.185059      4.685708e+06   \n",
       "std            0.053262           0.000000      1.621878e+07   \n",
       "min            0.000000           0.000000      0.000000e+00   \n",
       "25%            0.000000           0.000000      0.000000e+00   \n",
       "50%            0.000000           0.000000      7.717050e+04   \n",
       "75%            0.000000           0.000000      2.548936e+06   \n",
       "max            3.146667          70.000000      8.207080e+08   \n",
       "\n",
       "       avg_session_count  avg_num_event5  avg_amt_event5  avg_num_event0  \n",
       "count      312368.000000   312316.000000   312316.000000   312316.000000  \n",
       "mean            0.115584        0.109689             NaN        0.008688  \n",
       "std             0.334684        0.298179        0.000000        0.007628  \n",
       "min             0.000000        0.000000        0.000000        0.000000  \n",
       "25%             0.013333        0.013333        0.000000        0.000000  \n",
       "50%             0.026667        0.026667        0.000000        0.013333  \n",
       "75%             0.066667        0.080000        0.666504        0.013333  \n",
       "max            18.693333       11.746667        1.000000        0.440000  "
      ]
     },
     "execution_count": 616,
     "metadata": {},
     "output_type": "execute_result"
    }
   ],
   "source": [
    "users_test.describe()"
   ]
  },
  {
   "cell_type": "markdown",
   "metadata": {},
   "source": [
    "#### Impute Missing Values"
   ]
  },
  {
   "cell_type": "code",
   "execution_count": 617,
   "metadata": {},
   "outputs": [],
   "source": [
    "users_test['avg_amt_purchased'] = users_test['avg_amt_purchased'].astype(np.float32)\n",
    "users_test['avg_amt_event5'] = users_test['avg_amt_event5'].astype(np.float32)\n",
    "users_test['avg_prev_session'] = users_test['avg_prev_session'].fillna(users_test['avg_prev_session'].mean())"
   ]
  },
  {
   "cell_type": "code",
   "execution_count": 618,
   "metadata": {},
   "outputs": [],
   "source": [
    "users_test[\"avg_num_purchase\"].fillna(users_test[\"avg_num_purchase\"].mean(), inplace=True)\n",
    "users_test[\"avg_amt_purchased\"].fillna(users_test[\"avg_amt_purchased\"].mean(), inplace=True)\n",
    "users_test[\"avg_prev_session\"].fillna(users_test[\"avg_prev_session\"].mean(), inplace=True)\n",
    "users_test[\"avg_session_count\"].fillna(users_test[\"avg_session_count\"].mean(), inplace=True)\n",
    "users_test[\"avg_num_event5\"].fillna(users_test[\"avg_num_event5\"].mean(), inplace=True)\n",
    "users_test[\"avg_amt_event5\"].fillna(users_test[\"avg_amt_event5\"].mean(), inplace=True)"
   ]
  },
  {
   "cell_type": "code",
   "execution_count": 619,
   "metadata": {},
   "outputs": [],
   "source": [
    "users_test['avg_amt_event5'] = users_test['avg_amt_event5'].astype(np.float32)\n",
    "users_test['avg_num_purchase'] = users_test['avg_num_purchase'].astype(np.float32)\n",
    "users_test['avg_amt_purchased'] = users_test['avg_amt_purchased'].astype(np.float32)\n",
    "users_test['avg_prev_session'] = users_test['avg_prev_session'].astype(np.float32)\n",
    "users_test['avg_session_count'] = users_test['avg_session_count'].astype(np.float32)\n",
    "users_test['avg_num_event5'] = users_test['avg_num_event5'].astype(np.float32)"
   ]
  },
  {
   "cell_type": "code",
   "execution_count": 620,
   "metadata": {},
   "outputs": [
    {
     "data": {
      "text/html": [
       "<div>\n",
       "<style scoped>\n",
       "    .dataframe tbody tr th:only-of-type {\n",
       "        vertical-align: middle;\n",
       "    }\n",
       "\n",
       "    .dataframe tbody tr th {\n",
       "        vertical-align: top;\n",
       "    }\n",
       "\n",
       "    .dataframe thead th {\n",
       "        text-align: right;\n",
       "    }\n",
       "</style>\n",
       "<table border=\"1\" class=\"dataframe\">\n",
       "  <thead>\n",
       "    <tr style=\"text-align: right;\">\n",
       "      <th></th>\n",
       "      <th>avg_num_purchase</th>\n",
       "      <th>avg_amt_purchased</th>\n",
       "      <th>avg_prev_session</th>\n",
       "      <th>avg_session_count</th>\n",
       "      <th>avg_num_event5</th>\n",
       "      <th>avg_amt_event5</th>\n",
       "      <th>avg_num_event0</th>\n",
       "    </tr>\n",
       "  </thead>\n",
       "  <tbody>\n",
       "    <tr>\n",
       "      <th>count</th>\n",
       "      <td>312568.000000</td>\n",
       "      <td>312568.000000</td>\n",
       "      <td>3.125680e+05</td>\n",
       "      <td>312568.000000</td>\n",
       "      <td>312568.000000</td>\n",
       "      <td>312568.000000</td>\n",
       "      <td>312316.000000</td>\n",
       "    </tr>\n",
       "    <tr>\n",
       "      <th>mean</th>\n",
       "      <td>0.006874</td>\n",
       "      <td>0.185145</td>\n",
       "      <td>4.685477e+06</td>\n",
       "      <td>0.115615</td>\n",
       "      <td>0.109732</td>\n",
       "      <td>0.314556</td>\n",
       "      <td>0.008688</td>\n",
       "    </tr>\n",
       "    <tr>\n",
       "      <th>std</th>\n",
       "      <td>0.053323</td>\n",
       "      <td>1.100851</td>\n",
       "      <td>1.618528e+07</td>\n",
       "      <td>0.334409</td>\n",
       "      <td>0.298229</td>\n",
       "      <td>0.359175</td>\n",
       "      <td>0.007628</td>\n",
       "    </tr>\n",
       "    <tr>\n",
       "      <th>min</th>\n",
       "      <td>0.000000</td>\n",
       "      <td>0.000000</td>\n",
       "      <td>0.000000e+00</td>\n",
       "      <td>0.000000</td>\n",
       "      <td>0.000000</td>\n",
       "      <td>0.000000</td>\n",
       "      <td>0.000000</td>\n",
       "    </tr>\n",
       "    <tr>\n",
       "      <th>25%</th>\n",
       "      <td>0.000000</td>\n",
       "      <td>0.000000</td>\n",
       "      <td>0.000000e+00</td>\n",
       "      <td>0.013333</td>\n",
       "      <td>0.013333</td>\n",
       "      <td>0.000000</td>\n",
       "      <td>0.000000</td>\n",
       "    </tr>\n",
       "    <tr>\n",
       "      <th>50%</th>\n",
       "      <td>0.000000</td>\n",
       "      <td>0.000000</td>\n",
       "      <td>8.170842e+04</td>\n",
       "      <td>0.026667</td>\n",
       "      <td>0.026667</td>\n",
       "      <td>0.000000</td>\n",
       "      <td>0.013333</td>\n",
       "    </tr>\n",
       "    <tr>\n",
       "      <th>75%</th>\n",
       "      <td>0.000000</td>\n",
       "      <td>0.000000</td>\n",
       "      <td>2.603084e+06</td>\n",
       "      <td>0.066667</td>\n",
       "      <td>0.080000</td>\n",
       "      <td>0.666504</td>\n",
       "      <td>0.013333</td>\n",
       "    </tr>\n",
       "    <tr>\n",
       "      <th>max</th>\n",
       "      <td>3.146667</td>\n",
       "      <td>70.000000</td>\n",
       "      <td>8.207080e+08</td>\n",
       "      <td>18.693333</td>\n",
       "      <td>11.746667</td>\n",
       "      <td>1.000000</td>\n",
       "      <td>0.440000</td>\n",
       "    </tr>\n",
       "  </tbody>\n",
       "</table>\n",
       "</div>"
      ],
      "text/plain": [
       "       avg_num_purchase  avg_amt_purchased  avg_prev_session  \\\n",
       "count     312568.000000      312568.000000      3.125680e+05   \n",
       "mean           0.006874           0.185145      4.685477e+06   \n",
       "std            0.053323           1.100851      1.618528e+07   \n",
       "min            0.000000           0.000000      0.000000e+00   \n",
       "25%            0.000000           0.000000      0.000000e+00   \n",
       "50%            0.000000           0.000000      8.170842e+04   \n",
       "75%            0.000000           0.000000      2.603084e+06   \n",
       "max            3.146667          70.000000      8.207080e+08   \n",
       "\n",
       "       avg_session_count  avg_num_event5  avg_amt_event5  avg_num_event0  \n",
       "count      312568.000000   312568.000000   312568.000000   312316.000000  \n",
       "mean            0.115615        0.109732        0.314556        0.008688  \n",
       "std             0.334409        0.298229        0.359175        0.007628  \n",
       "min             0.000000        0.000000        0.000000        0.000000  \n",
       "25%             0.013333        0.013333        0.000000        0.000000  \n",
       "50%             0.026667        0.026667        0.000000        0.013333  \n",
       "75%             0.066667        0.080000        0.666504        0.013333  \n",
       "max            18.693333       11.746667        1.000000        0.440000  "
      ]
     },
     "execution_count": 620,
     "metadata": {},
     "output_type": "execute_result"
    }
   ],
   "source": [
    "users_test.describe()"
   ]
  },
  {
   "cell_type": "code",
   "execution_count": 621,
   "metadata": {},
   "outputs": [],
   "source": [
    "X_test = users_test[users_test.columns.difference(['user_id_hash'])]"
   ]
  },
  {
   "cell_type": "code",
   "execution_count": 625,
   "metadata": {},
   "outputs": [],
   "source": [
    "X_test[\"avg_num_purchase\"].fillna(X_test[\"avg_num_purchase\"].mean(), inplace=True)\n",
    "X_test[\"avg_amt_purchased\"].fillna(X_test[\"avg_amt_purchased\"].mean(), inplace=True)\n",
    "X_test[\"avg_prev_session\"].fillna(X_test[\"avg_prev_session\"].mean(), inplace=True)\n",
    "X_test[\"avg_session_count\"].fillna(X_test[\"avg_session_count\"].mean(), inplace=True)\n",
    "X_test[\"avg_num_event5\"].fillna(X_test[\"avg_num_event5\"].mean(), inplace=True)\n",
    "X_test[\"avg_amt_event5\"].fillna(X_test[\"avg_amt_event5\"].mean(), inplace=True)\n",
    "X_test[\"avg_num_event0\"].fillna(X_test[\"avg_num_event0\"].mean(), inplace=True)"
   ]
  },
  {
   "cell_type": "code",
   "execution_count": 626,
   "metadata": {},
   "outputs": [],
   "source": [
    "X_test['avg_amt_event5'] = X_test['avg_amt_event5'].astype(np.float32)\n",
    "X_test['avg_num_purchase'] = X_test['avg_num_purchase'].astype(np.float32)\n",
    "X_test['avg_amt_purchased'] = X_test['avg_amt_purchased'].astype(np.float32)\n",
    "X_test['avg_prev_session'] = X_test['avg_prev_session'].astype(np.float32)\n",
    "X_test['avg_session_count'] = X_test['avg_session_count'].astype(np.float32)\n",
    "X_test['avg_num_event5'] = X_test['avg_num_event5'].astype(np.float32)\n",
    "X_test['avg_num_event0'] = X_test['avg_num_event0'].astype(np.float32)"
   ]
  },
  {
   "cell_type": "code",
   "execution_count": 627,
   "metadata": {},
   "outputs": [
    {
     "name": "stderr",
     "output_type": "stream",
     "text": [
      "[Parallel(n_jobs=8)]: Using backend ThreadingBackend with 8 concurrent workers.\n",
      "[Parallel(n_jobs=8)]: Done  34 tasks      | elapsed:    0.2s\n",
      "[Parallel(n_jobs=8)]: Done 184 tasks      | elapsed:    0.9s\n",
      "[Parallel(n_jobs=8)]: Done 434 tasks      | elapsed:    2.1s\n",
      "[Parallel(n_jobs=8)]: Done 784 tasks      | elapsed:    3.8s\n",
      "[Parallel(n_jobs=8)]: Done 1000 out of 1000 | elapsed:    4.9s finished\n",
      "[Parallel(n_jobs=8)]: Using backend ThreadingBackend with 8 concurrent workers.\n",
      "[Parallel(n_jobs=8)]: Done  34 tasks      | elapsed:    0.2s\n",
      "[Parallel(n_jobs=8)]: Done 184 tasks      | elapsed:    1.2s\n",
      "[Parallel(n_jobs=8)]: Done 434 tasks      | elapsed:    2.8s\n",
      "[Parallel(n_jobs=8)]: Done 784 tasks      | elapsed:    5.1s\n",
      "[Parallel(n_jobs=8)]: Done 1000 out of 1000 | elapsed:    6.6s finished\n"
     ]
    }
   ],
   "source": [
    "pred_1 = rf.predict_proba(X_test)\n",
    "pred_2 = rf2.predict_proba(X_test)"
   ]
  },
  {
   "cell_type": "code",
   "execution_count": 628,
   "metadata": {},
   "outputs": [],
   "source": [
    "sample[\"user_purchase_binary_7_days\"] = pd.DataFrame(pred_1[:,-1])\n",
    "sample[\"user_purchase_binary_14_days\"] = pd.DataFrame(pred_2[:,-1])"
   ]
  },
  {
   "cell_type": "code",
   "execution_count": 629,
   "metadata": {},
   "outputs": [
    {
     "data": {
      "text/html": [
       "<div>\n",
       "<style scoped>\n",
       "    .dataframe tbody tr th:only-of-type {\n",
       "        vertical-align: middle;\n",
       "    }\n",
       "\n",
       "    .dataframe tbody tr th {\n",
       "        vertical-align: top;\n",
       "    }\n",
       "\n",
       "    .dataframe thead th {\n",
       "        text-align: right;\n",
       "    }\n",
       "</style>\n",
       "<table border=\"1\" class=\"dataframe\">\n",
       "  <thead>\n",
       "    <tr style=\"text-align: right;\">\n",
       "      <th></th>\n",
       "      <th>user_id_hash</th>\n",
       "      <th>user_purchase_binary_7_days</th>\n",
       "      <th>user_purchase_binary_14_days</th>\n",
       "    </tr>\n",
       "  </thead>\n",
       "  <tbody>\n",
       "    <tr>\n",
       "      <th>0</th>\n",
       "      <td>e469dfaed039ead9110165d9bc457acb11609ca34057dc...</td>\n",
       "      <td>2.825331e-03</td>\n",
       "      <td>0.003155</td>\n",
       "    </tr>\n",
       "    <tr>\n",
       "      <th>1</th>\n",
       "      <td>afcc639a324b6c598ef83d360450afa011cb2dd1358bf9...</td>\n",
       "      <td>1.250990e-04</td>\n",
       "      <td>0.000215</td>\n",
       "    </tr>\n",
       "    <tr>\n",
       "      <th>2</th>\n",
       "      <td>fd5a7cf211d08e3e00f7be6a9df6e6ea3d2e5c22a5d9c3...</td>\n",
       "      <td>3.431668e-05</td>\n",
       "      <td>0.000058</td>\n",
       "    </tr>\n",
       "    <tr>\n",
       "      <th>3</th>\n",
       "      <td>00bfff98b9d0329f014c2eeac7ce47cd18b2bc6e10d608...</td>\n",
       "      <td>1.174442e-02</td>\n",
       "      <td>0.013906</td>\n",
       "    </tr>\n",
       "    <tr>\n",
       "      <th>4</th>\n",
       "      <td>0d298f3638c43e915c119d4935e1ce8d168f81b5e3e8c1...</td>\n",
       "      <td>9.729984e-07</td>\n",
       "      <td>0.000003</td>\n",
       "    </tr>\n",
       "  </tbody>\n",
       "</table>\n",
       "</div>"
      ],
      "text/plain": [
       "                                        user_id_hash  \\\n",
       "0  e469dfaed039ead9110165d9bc457acb11609ca34057dc...   \n",
       "1  afcc639a324b6c598ef83d360450afa011cb2dd1358bf9...   \n",
       "2  fd5a7cf211d08e3e00f7be6a9df6e6ea3d2e5c22a5d9c3...   \n",
       "3  00bfff98b9d0329f014c2eeac7ce47cd18b2bc6e10d608...   \n",
       "4  0d298f3638c43e915c119d4935e1ce8d168f81b5e3e8c1...   \n",
       "\n",
       "   user_purchase_binary_7_days  user_purchase_binary_14_days  \n",
       "0                 2.825331e-03                      0.003155  \n",
       "1                 1.250990e-04                      0.000215  \n",
       "2                 3.431668e-05                      0.000058  \n",
       "3                 1.174442e-02                      0.013906  \n",
       "4                 9.729984e-07                      0.000003  "
      ]
     },
     "execution_count": 629,
     "metadata": {},
     "output_type": "execute_result"
    }
   ],
   "source": [
    "sample.head()"
   ]
  },
  {
   "cell_type": "code",
   "execution_count": 630,
   "metadata": {},
   "outputs": [],
   "source": [
    "sample[\"user_purchase_binary_7_days\"] = sample[\"user_purchase_binary_7_days\"].astype('double', copy=False)\n",
    "sample[\"user_purchase_binary_14_days\"] = sample[\"user_purchase_binary_14_days\"].astype('double', copy=False)"
   ]
  },
  {
   "cell_type": "code",
   "execution_count": 631,
   "metadata": {},
   "outputs": [],
   "source": [
    "sample.to_csv(\"/Users/gracezhang/Desktop/submission2.csv\", index=False)"
   ]
  },
  {
   "cell_type": "code",
   "execution_count": null,
   "metadata": {},
   "outputs": [],
   "source": []
  }
 ],
 "metadata": {
  "kernelspec": {
   "display_name": "Python 3",
   "language": "python",
   "name": "python3"
  },
  "language_info": {
   "codemirror_mode": {
    "name": "ipython",
    "version": 3
   },
   "file_extension": ".py",
   "mimetype": "text/x-python",
   "name": "python",
   "nbconvert_exporter": "python",
   "pygments_lexer": "ipython3",
   "version": "3.6.8"
  }
 },
 "nbformat": 4,
 "nbformat_minor": 2
}
