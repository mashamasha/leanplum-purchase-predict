{
 "cells": [
  {
   "cell_type": "code",
   "execution_count": 3,
   "metadata": {
    "ExecuteTime": {
     "end_time": "2019-02-23T04:27:15.437041Z",
     "start_time": "2019-02-23T04:27:14.539617Z"
    }
   },
   "outputs": [],
   "source": [
    "import numpy as np\n",
    "import pandas as pd\n",
    "import pickle"
   ]
  },
  {
   "cell_type": "code",
   "execution_count": 4,
   "metadata": {
    "ExecuteTime": {
     "end_time": "2019-02-23T04:27:16.196182Z",
     "start_time": "2019-02-23T04:27:15.531111Z"
    }
   },
   "outputs": [],
   "source": [
    "import xgboost"
   ]
  },
  {
   "cell_type": "code",
   "execution_count": 5,
   "metadata": {
    "ExecuteTime": {
     "end_time": "2019-02-23T04:27:18.138631Z",
     "start_time": "2019-02-23T04:27:16.276274Z"
    }
   },
   "outputs": [
    {
     "name": "stderr",
     "output_type": "stream",
     "text": [
      "/anaconda3/envs/ml/lib/python3.6/site-packages/ipykernel_launcher.py:2: FutureWarning: 'pandas.core' is private. Use 'pandas.Categorical'\n",
      "  \n"
     ]
    }
   ],
   "source": [
    "with open (\"/Users/nanlin/msds/Adv_ML/leanplum/data/LeanPlum/session.pkl\", \"rb\") as f:\n",
    "    sessions = pickle.load(f)"
   ]
  },
  {
   "cell_type": "code",
   "execution_count": 6,
   "metadata": {
    "ExecuteTime": {
     "end_time": "2019-02-23T04:27:22.596429Z",
     "start_time": "2019-02-23T04:27:22.555837Z"
    }
   },
   "outputs": [
    {
     "data": {
      "text/html": [
       "<div>\n",
       "<style scoped>\n",
       "    .dataframe tbody tr th:only-of-type {\n",
       "        vertical-align: middle;\n",
       "    }\n",
       "\n",
       "    .dataframe tbody tr th {\n",
       "        vertical-align: top;\n",
       "    }\n",
       "\n",
       "    .dataframe thead th {\n",
       "        text-align: right;\n",
       "    }\n",
       "</style>\n",
       "<table border=\"1\" class=\"dataframe\">\n",
       "  <thead>\n",
       "    <tr style=\"text-align: right;\">\n",
       "      <th></th>\n",
       "      <th>session_id</th>\n",
       "      <th>start_timestamp</th>\n",
       "      <th>timezone</th>\n",
       "      <th>timezone_offset</th>\n",
       "      <th>previous_sessions_duration</th>\n",
       "      <th>user_created_timestamp</th>\n",
       "      <th>is_user_first_session</th>\n",
       "      <th>country</th>\n",
       "      <th>region</th>\n",
       "      <th>city</th>\n",
       "      <th>latitude</th>\n",
       "      <th>longitude</th>\n",
       "      <th>locale</th>\n",
       "      <th>os_name</th>\n",
       "      <th>session_index</th>\n",
       "      <th>device_id</th>\n",
       "      <th>user_id_hash</th>\n",
       "    </tr>\n",
       "  </thead>\n",
       "  <tbody>\n",
       "    <tr>\n",
       "      <th>0</th>\n",
       "      <td>5558845121177764917</td>\n",
       "      <td>1542215364580</td>\n",
       "      <td>Asia/Manila</td>\n",
       "      <td>28800000.0</td>\n",
       "      <td>25837591</td>\n",
       "      <td>1538874289458</td>\n",
       "      <td>False</td>\n",
       "      <td>PH</td>\n",
       "      <td>00</td>\n",
       "      <td>makati</td>\n",
       "      <td>14.554729</td>\n",
       "      <td>121.024445</td>\n",
       "      <td>en_GB</td>\n",
       "      <td>Android OS</td>\n",
       "      <td>30</td>\n",
       "      <td>546a3d98-d540-4e72-ad82-9ebd64e0839b</td>\n",
       "      <td>9943447915df3a45fd6720a026af905b6da6b56a37701b...</td>\n",
       "    </tr>\n",
       "    <tr>\n",
       "      <th>1</th>\n",
       "      <td>18781111175537580</td>\n",
       "      <td>1539215568666</td>\n",
       "      <td>Asia/Manila</td>\n",
       "      <td>28800000.0</td>\n",
       "      <td>11343848</td>\n",
       "      <td>1538874289458</td>\n",
       "      <td>False</td>\n",
       "      <td>PH</td>\n",
       "      <td>00</td>\n",
       "      <td>makati</td>\n",
       "      <td>14.554729</td>\n",
       "      <td>121.024445</td>\n",
       "      <td>en_GB</td>\n",
       "      <td>Android OS</td>\n",
       "      <td>10</td>\n",
       "      <td>546a3d98-d540-4e72-ad82-9ebd64e0839b</td>\n",
       "      <td>9943447915df3a45fd6720a026af905b6da6b56a37701b...</td>\n",
       "    </tr>\n",
       "    <tr>\n",
       "      <th>2</th>\n",
       "      <td>1477540082628742048</td>\n",
       "      <td>1540120743010</td>\n",
       "      <td>Asia/Manila</td>\n",
       "      <td>28800000.0</td>\n",
       "      <td>13499724</td>\n",
       "      <td>1538874289458</td>\n",
       "      <td>False</td>\n",
       "      <td>PH</td>\n",
       "      <td>11</td>\n",
       "      <td>davao city</td>\n",
       "      <td>7.190708</td>\n",
       "      <td>125.455338</td>\n",
       "      <td>en_GB</td>\n",
       "      <td>Android OS</td>\n",
       "      <td>13</td>\n",
       "      <td>546a3d98-d540-4e72-ad82-9ebd64e0839b</td>\n",
       "      <td>9943447915df3a45fd6720a026af905b6da6b56a37701b...</td>\n",
       "    </tr>\n",
       "    <tr>\n",
       "      <th>3</th>\n",
       "      <td>8184875317380844086</td>\n",
       "      <td>1542671625528</td>\n",
       "      <td>Asia/Manila</td>\n",
       "      <td>28800000.0</td>\n",
       "      <td>32788010</td>\n",
       "      <td>1538874289458</td>\n",
       "      <td>False</td>\n",
       "      <td>PH</td>\n",
       "      <td>00</td>\n",
       "      <td>makati</td>\n",
       "      <td>14.554729</td>\n",
       "      <td>121.024445</td>\n",
       "      <td>en_GB</td>\n",
       "      <td>Android OS</td>\n",
       "      <td>41</td>\n",
       "      <td>546a3d98-d540-4e72-ad82-9ebd64e0839b</td>\n",
       "      <td>9943447915df3a45fd6720a026af905b6da6b56a37701b...</td>\n",
       "    </tr>\n",
       "    <tr>\n",
       "      <th>4</th>\n",
       "      <td>4706180700083856343</td>\n",
       "      <td>1538997913013</td>\n",
       "      <td>Asia/Manila</td>\n",
       "      <td>28800000.0</td>\n",
       "      <td>5872534</td>\n",
       "      <td>1538874289458</td>\n",
       "      <td>False</td>\n",
       "      <td>PH</td>\n",
       "      <td>11</td>\n",
       "      <td>davao city</td>\n",
       "      <td>7.190708</td>\n",
       "      <td>125.455338</td>\n",
       "      <td>en_GB</td>\n",
       "      <td>Android OS</td>\n",
       "      <td>4</td>\n",
       "      <td>546a3d98-d540-4e72-ad82-9ebd64e0839b</td>\n",
       "      <td>9943447915df3a45fd6720a026af905b6da6b56a37701b...</td>\n",
       "    </tr>\n",
       "  </tbody>\n",
       "</table>\n",
       "</div>"
      ],
      "text/plain": [
       "            session_id  start_timestamp     timezone  timezone_offset  \\\n",
       "0  5558845121177764917    1542215364580  Asia/Manila       28800000.0   \n",
       "1    18781111175537580    1539215568666  Asia/Manila       28800000.0   \n",
       "2  1477540082628742048    1540120743010  Asia/Manila       28800000.0   \n",
       "3  8184875317380844086    1542671625528  Asia/Manila       28800000.0   \n",
       "4  4706180700083856343    1538997913013  Asia/Manila       28800000.0   \n",
       "\n",
       "   previous_sessions_duration  user_created_timestamp  is_user_first_session  \\\n",
       "0                    25837591           1538874289458                  False   \n",
       "1                    11343848           1538874289458                  False   \n",
       "2                    13499724           1538874289458                  False   \n",
       "3                    32788010           1538874289458                  False   \n",
       "4                     5872534           1538874289458                  False   \n",
       "\n",
       "  country region        city   latitude   longitude locale     os_name  \\\n",
       "0      PH     00      makati  14.554729  121.024445  en_GB  Android OS   \n",
       "1      PH     00      makati  14.554729  121.024445  en_GB  Android OS   \n",
       "2      PH     11  davao city   7.190708  125.455338  en_GB  Android OS   \n",
       "3      PH     00      makati  14.554729  121.024445  en_GB  Android OS   \n",
       "4      PH     11  davao city   7.190708  125.455338  en_GB  Android OS   \n",
       "\n",
       "   session_index                             device_id  \\\n",
       "0             30  546a3d98-d540-4e72-ad82-9ebd64e0839b   \n",
       "1             10  546a3d98-d540-4e72-ad82-9ebd64e0839b   \n",
       "2             13  546a3d98-d540-4e72-ad82-9ebd64e0839b   \n",
       "3             41  546a3d98-d540-4e72-ad82-9ebd64e0839b   \n",
       "4              4  546a3d98-d540-4e72-ad82-9ebd64e0839b   \n",
       "\n",
       "                                        user_id_hash  \n",
       "0  9943447915df3a45fd6720a026af905b6da6b56a37701b...  \n",
       "1  9943447915df3a45fd6720a026af905b6da6b56a37701b...  \n",
       "2  9943447915df3a45fd6720a026af905b6da6b56a37701b...  \n",
       "3  9943447915df3a45fd6720a026af905b6da6b56a37701b...  \n",
       "4  9943447915df3a45fd6720a026af905b6da6b56a37701b...  "
      ]
     },
     "execution_count": 6,
     "metadata": {},
     "output_type": "execute_result"
    }
   ],
   "source": [
    "sessions.head()"
   ]
  },
  {
   "cell_type": "code",
   "execution_count": 35,
   "metadata": {
    "ExecuteTime": {
     "end_time": "2019-02-23T05:13:32.218075Z",
     "start_time": "2019-02-23T05:13:23.015936Z"
    }
   },
   "outputs": [],
   "source": [
    "with open (\"/Users/nanlin/msds/Adv_ML/leanplum/data/LeanPlum/events.pkl\", \"rb\") as f:\n",
    "    events = pickle.load(f)"
   ]
  },
  {
   "cell_type": "code",
   "execution_count": 36,
   "metadata": {
    "ExecuteTime": {
     "end_time": "2019-02-23T05:13:32.249258Z",
     "start_time": "2019-02-23T05:13:32.224779Z"
    }
   },
   "outputs": [
    {
     "data": {
      "text/html": [
       "<div>\n",
       "<style scoped>\n",
       "    .dataframe tbody tr th:only-of-type {\n",
       "        vertical-align: middle;\n",
       "    }\n",
       "\n",
       "    .dataframe tbody tr th {\n",
       "        vertical-align: top;\n",
       "    }\n",
       "\n",
       "    .dataframe thead th {\n",
       "        text-align: right;\n",
       "    }\n",
       "</style>\n",
       "<table border=\"1\" class=\"dataframe\">\n",
       "  <thead>\n",
       "    <tr style=\"text-align: right;\">\n",
       "      <th></th>\n",
       "      <th>session_id</th>\n",
       "      <th>event</th>\n",
       "      <th>event_timestamp</th>\n",
       "      <th>event_value</th>\n",
       "      <th>user_id_hash</th>\n",
       "    </tr>\n",
       "  </thead>\n",
       "  <tbody>\n",
       "    <tr>\n",
       "      <th>0</th>\n",
       "      <td>5558845121177764917</td>\n",
       "      <td>45</td>\n",
       "      <td>1542215397132</td>\n",
       "      <td>0.0</td>\n",
       "      <td>9943447915df3a45fd6720a026af905b6da6b56a37701b...</td>\n",
       "    </tr>\n",
       "    <tr>\n",
       "      <th>1</th>\n",
       "      <td>5558845121177764917</td>\n",
       "      <td>45</td>\n",
       "      <td>1542215484895</td>\n",
       "      <td>0.0</td>\n",
       "      <td>9943447915df3a45fd6720a026af905b6da6b56a37701b...</td>\n",
       "    </tr>\n",
       "    <tr>\n",
       "      <th>2</th>\n",
       "      <td>7689508378645584666</td>\n",
       "      <td>.m5100869650219008</td>\n",
       "      <td>1541124410372</td>\n",
       "      <td>0.0</td>\n",
       "      <td>9943447915df3a45fd6720a026af905b6da6b56a37701b...</td>\n",
       "    </tr>\n",
       "    <tr>\n",
       "      <th>3</th>\n",
       "      <td>2201961907282901522</td>\n",
       "      <td>4</td>\n",
       "      <td>1543713091129</td>\n",
       "      <td>0.0</td>\n",
       "      <td>9943447915df3a45fd6720a026af905b6da6b56a37701b...</td>\n",
       "    </tr>\n",
       "    <tr>\n",
       "      <th>4</th>\n",
       "      <td>2201961907282901522</td>\n",
       "      <td>6</td>\n",
       "      <td>1543713093116</td>\n",
       "      <td>0.0</td>\n",
       "      <td>9943447915df3a45fd6720a026af905b6da6b56a37701b...</td>\n",
       "    </tr>\n",
       "  </tbody>\n",
       "</table>\n",
       "</div>"
      ],
      "text/plain": [
       "            session_id               event  event_timestamp  event_value  \\\n",
       "0  5558845121177764917                  45    1542215397132          0.0   \n",
       "1  5558845121177764917                  45    1542215484895          0.0   \n",
       "2  7689508378645584666  .m5100869650219008    1541124410372          0.0   \n",
       "3  2201961907282901522                   4    1543713091129          0.0   \n",
       "4  2201961907282901522                   6    1543713093116          0.0   \n",
       "\n",
       "                                        user_id_hash  \n",
       "0  9943447915df3a45fd6720a026af905b6da6b56a37701b...  \n",
       "1  9943447915df3a45fd6720a026af905b6da6b56a37701b...  \n",
       "2  9943447915df3a45fd6720a026af905b6da6b56a37701b...  \n",
       "3  9943447915df3a45fd6720a026af905b6da6b56a37701b...  \n",
       "4  9943447915df3a45fd6720a026af905b6da6b56a37701b...  "
      ]
     },
     "execution_count": 36,
     "metadata": {},
     "output_type": "execute_result"
    }
   ],
   "source": [
    "events.head()"
   ]
  },
  {
   "cell_type": "code",
   "execution_count": 37,
   "metadata": {
    "ExecuteTime": {
     "end_time": "2019-02-23T05:13:39.046876Z",
     "start_time": "2019-02-23T05:13:38.965600Z"
    }
   },
   "outputs": [],
   "source": [
    "df1 = sessions[[\"user_id_hash\", \"previous_sessions_duration\"]]"
   ]
  },
  {
   "cell_type": "code",
   "execution_count": 38,
   "metadata": {
    "ExecuteTime": {
     "end_time": "2019-02-23T05:13:42.847947Z",
     "start_time": "2019-02-23T05:13:39.981267Z"
    }
   },
   "outputs": [],
   "source": [
    "# events\n",
    "df2 = events[[\"user_id_hash\", \"event_timestamp\", \"event\", \"event_value\"]]"
   ]
  },
  {
   "cell_type": "code",
   "execution_count": 39,
   "metadata": {
    "ExecuteTime": {
     "end_time": "2019-02-23T05:13:43.766839Z",
     "start_time": "2019-02-23T05:13:43.758847Z"
    }
   },
   "outputs": [
    {
     "data": {
      "text/html": [
       "<div>\n",
       "<style scoped>\n",
       "    .dataframe tbody tr th:only-of-type {\n",
       "        vertical-align: middle;\n",
       "    }\n",
       "\n",
       "    .dataframe tbody tr th {\n",
       "        vertical-align: top;\n",
       "    }\n",
       "\n",
       "    .dataframe thead th {\n",
       "        text-align: right;\n",
       "    }\n",
       "</style>\n",
       "<table border=\"1\" class=\"dataframe\">\n",
       "  <thead>\n",
       "    <tr style=\"text-align: right;\">\n",
       "      <th></th>\n",
       "      <th>user_id_hash</th>\n",
       "      <th>previous_sessions_duration</th>\n",
       "    </tr>\n",
       "  </thead>\n",
       "  <tbody>\n",
       "    <tr>\n",
       "      <th>0</th>\n",
       "      <td>9943447915df3a45fd6720a026af905b6da6b56a37701b...</td>\n",
       "      <td>25837591</td>\n",
       "    </tr>\n",
       "    <tr>\n",
       "      <th>1</th>\n",
       "      <td>9943447915df3a45fd6720a026af905b6da6b56a37701b...</td>\n",
       "      <td>11343848</td>\n",
       "    </tr>\n",
       "    <tr>\n",
       "      <th>2</th>\n",
       "      <td>9943447915df3a45fd6720a026af905b6da6b56a37701b...</td>\n",
       "      <td>13499724</td>\n",
       "    </tr>\n",
       "    <tr>\n",
       "      <th>3</th>\n",
       "      <td>9943447915df3a45fd6720a026af905b6da6b56a37701b...</td>\n",
       "      <td>32788010</td>\n",
       "    </tr>\n",
       "    <tr>\n",
       "      <th>4</th>\n",
       "      <td>9943447915df3a45fd6720a026af905b6da6b56a37701b...</td>\n",
       "      <td>5872534</td>\n",
       "    </tr>\n",
       "  </tbody>\n",
       "</table>\n",
       "</div>"
      ],
      "text/plain": [
       "                                        user_id_hash  \\\n",
       "0  9943447915df3a45fd6720a026af905b6da6b56a37701b...   \n",
       "1  9943447915df3a45fd6720a026af905b6da6b56a37701b...   \n",
       "2  9943447915df3a45fd6720a026af905b6da6b56a37701b...   \n",
       "3  9943447915df3a45fd6720a026af905b6da6b56a37701b...   \n",
       "4  9943447915df3a45fd6720a026af905b6da6b56a37701b...   \n",
       "\n",
       "   previous_sessions_duration  \n",
       "0                    25837591  \n",
       "1                    11343848  \n",
       "2                    13499724  \n",
       "3                    32788010  \n",
       "4                     5872534  "
      ]
     },
     "execution_count": 39,
     "metadata": {},
     "output_type": "execute_result"
    }
   ],
   "source": [
    "df1.head()"
   ]
  },
  {
   "cell_type": "code",
   "execution_count": 40,
   "metadata": {
    "ExecuteTime": {
     "end_time": "2019-02-23T05:13:46.155667Z",
     "start_time": "2019-02-23T05:13:46.145279Z"
    }
   },
   "outputs": [
    {
     "data": {
      "text/html": [
       "<div>\n",
       "<style scoped>\n",
       "    .dataframe tbody tr th:only-of-type {\n",
       "        vertical-align: middle;\n",
       "    }\n",
       "\n",
       "    .dataframe tbody tr th {\n",
       "        vertical-align: top;\n",
       "    }\n",
       "\n",
       "    .dataframe thead th {\n",
       "        text-align: right;\n",
       "    }\n",
       "</style>\n",
       "<table border=\"1\" class=\"dataframe\">\n",
       "  <thead>\n",
       "    <tr style=\"text-align: right;\">\n",
       "      <th></th>\n",
       "      <th>user_id_hash</th>\n",
       "      <th>event_timestamp</th>\n",
       "      <th>event</th>\n",
       "      <th>event_value</th>\n",
       "    </tr>\n",
       "  </thead>\n",
       "  <tbody>\n",
       "    <tr>\n",
       "      <th>0</th>\n",
       "      <td>9943447915df3a45fd6720a026af905b6da6b56a37701b...</td>\n",
       "      <td>1542215397132</td>\n",
       "      <td>45</td>\n",
       "      <td>0.0</td>\n",
       "    </tr>\n",
       "    <tr>\n",
       "      <th>1</th>\n",
       "      <td>9943447915df3a45fd6720a026af905b6da6b56a37701b...</td>\n",
       "      <td>1542215484895</td>\n",
       "      <td>45</td>\n",
       "      <td>0.0</td>\n",
       "    </tr>\n",
       "    <tr>\n",
       "      <th>2</th>\n",
       "      <td>9943447915df3a45fd6720a026af905b6da6b56a37701b...</td>\n",
       "      <td>1541124410372</td>\n",
       "      <td>.m5100869650219008</td>\n",
       "      <td>0.0</td>\n",
       "    </tr>\n",
       "    <tr>\n",
       "      <th>3</th>\n",
       "      <td>9943447915df3a45fd6720a026af905b6da6b56a37701b...</td>\n",
       "      <td>1543713091129</td>\n",
       "      <td>4</td>\n",
       "      <td>0.0</td>\n",
       "    </tr>\n",
       "    <tr>\n",
       "      <th>4</th>\n",
       "      <td>9943447915df3a45fd6720a026af905b6da6b56a37701b...</td>\n",
       "      <td>1543713093116</td>\n",
       "      <td>6</td>\n",
       "      <td>0.0</td>\n",
       "    </tr>\n",
       "  </tbody>\n",
       "</table>\n",
       "</div>"
      ],
      "text/plain": [
       "                                        user_id_hash  event_timestamp  \\\n",
       "0  9943447915df3a45fd6720a026af905b6da6b56a37701b...    1542215397132   \n",
       "1  9943447915df3a45fd6720a026af905b6da6b56a37701b...    1542215484895   \n",
       "2  9943447915df3a45fd6720a026af905b6da6b56a37701b...    1541124410372   \n",
       "3  9943447915df3a45fd6720a026af905b6da6b56a37701b...    1543713091129   \n",
       "4  9943447915df3a45fd6720a026af905b6da6b56a37701b...    1543713093116   \n",
       "\n",
       "                event  event_value  \n",
       "0                  45          0.0  \n",
       "1                  45          0.0  \n",
       "2  .m5100869650219008          0.0  \n",
       "3                   4          0.0  \n",
       "4                   6          0.0  "
      ]
     },
     "execution_count": 40,
     "metadata": {},
     "output_type": "execute_result"
    }
   ],
   "source": [
    "df2.head()"
   ]
  },
  {
   "cell_type": "code",
   "execution_count": 41,
   "metadata": {
    "ExecuteTime": {
     "end_time": "2019-02-23T05:13:49.944896Z",
     "start_time": "2019-02-23T05:13:48.334234Z"
    }
   },
   "outputs": [],
   "source": [
    "# get unique user list\n",
    "users = pd.DataFrame(list(events.user_id_hash.unique()))"
   ]
  },
  {
   "cell_type": "code",
   "execution_count": 42,
   "metadata": {
    "ExecuteTime": {
     "end_time": "2019-02-23T05:13:49.952176Z",
     "start_time": "2019-02-23T05:13:49.947800Z"
    }
   },
   "outputs": [],
   "source": [
    "users.columns = [\"user_id_hash\"]"
   ]
  },
  {
   "cell_type": "markdown",
   "metadata": {},
   "source": [
    "#### Use Dec-1 to Dec-7 and Dec-1 to Dec-14 to get labels for the validation set"
   ]
  },
  {
   "cell_type": "code",
   "execution_count": 43,
   "metadata": {
    "ExecuteTime": {
     "end_time": "2019-02-23T05:14:01.628778Z",
     "start_time": "2019-02-23T05:14:00.225290Z"
    }
   },
   "outputs": [],
   "source": [
    "dec1 = df2[(df2[\"event_timestamp\"] >= 1543651199000) & (df2[\"event_timestamp\"] < 1544255999000)]"
   ]
  },
  {
   "cell_type": "code",
   "execution_count": 44,
   "metadata": {
    "ExecuteTime": {
     "end_time": "2019-02-23T05:14:04.348354Z",
     "start_time": "2019-02-23T05:14:04.256196Z"
    }
   },
   "outputs": [],
   "source": [
    "puser1 = set(dec1[dec1[\"event\"] == \"8\"].user_id_hash.unique())"
   ]
  },
  {
   "cell_type": "code",
   "execution_count": 45,
   "metadata": {
    "ExecuteTime": {
     "end_time": "2019-02-23T05:14:05.185064Z",
     "start_time": "2019-02-23T05:14:05.181389Z"
    }
   },
   "outputs": [],
   "source": [
    "users_val = users"
   ]
  },
  {
   "cell_type": "code",
   "execution_count": 46,
   "metadata": {
    "ExecuteTime": {
     "end_time": "2019-02-23T05:14:08.985259Z",
     "start_time": "2019-02-23T05:14:07.189866Z"
    }
   },
   "outputs": [],
   "source": [
    "labels1 = []\n",
    "for user in list(events.user_id_hash.unique()):\n",
    "    if user in puser1:\n",
    "        labels1.append(1)\n",
    "    else:\n",
    "        labels1.append(0)"
   ]
  },
  {
   "cell_type": "code",
   "execution_count": 47,
   "metadata": {
    "ExecuteTime": {
     "end_time": "2019-02-23T05:14:08.991578Z",
     "start_time": "2019-02-23T05:14:08.987624Z"
    }
   },
   "outputs": [
    {
     "data": {
      "text/plain": [
       "[0, 0, 0, 0, 0, 0, 0, 0, 0, 0]"
      ]
     },
     "execution_count": 47,
     "metadata": {},
     "output_type": "execute_result"
    }
   ],
   "source": [
    "labels1[:10]"
   ]
  },
  {
   "cell_type": "code",
   "execution_count": 48,
   "metadata": {
    "ExecuteTime": {
     "end_time": "2019-02-23T05:14:09.094320Z",
     "start_time": "2019-02-23T05:14:08.993601Z"
    }
   },
   "outputs": [],
   "source": [
    "users_val[\"purchased1\"] = pd.DataFrame(labels1)"
   ]
  },
  {
   "cell_type": "code",
   "execution_count": 49,
   "metadata": {
    "ExecuteTime": {
     "end_time": "2019-02-23T05:14:09.104754Z",
     "start_time": "2019-02-23T05:14:09.096692Z"
    }
   },
   "outputs": [
    {
     "data": {
      "text/html": [
       "<div>\n",
       "<style scoped>\n",
       "    .dataframe tbody tr th:only-of-type {\n",
       "        vertical-align: middle;\n",
       "    }\n",
       "\n",
       "    .dataframe tbody tr th {\n",
       "        vertical-align: top;\n",
       "    }\n",
       "\n",
       "    .dataframe thead th {\n",
       "        text-align: right;\n",
       "    }\n",
       "</style>\n",
       "<table border=\"1\" class=\"dataframe\">\n",
       "  <thead>\n",
       "    <tr style=\"text-align: right;\">\n",
       "      <th></th>\n",
       "      <th>user_id_hash</th>\n",
       "      <th>purchased1</th>\n",
       "    </tr>\n",
       "  </thead>\n",
       "  <tbody>\n",
       "    <tr>\n",
       "      <th>0</th>\n",
       "      <td>9943447915df3a45fd6720a026af905b6da6b56a37701b...</td>\n",
       "      <td>0</td>\n",
       "    </tr>\n",
       "    <tr>\n",
       "      <th>1</th>\n",
       "      <td>43f75f8042d3c80c45e222bdd09267f4584684c54d6fae...</td>\n",
       "      <td>0</td>\n",
       "    </tr>\n",
       "    <tr>\n",
       "      <th>2</th>\n",
       "      <td>999524249720812f2d8c0390293efd58e1ac84d587a01c...</td>\n",
       "      <td>0</td>\n",
       "    </tr>\n",
       "    <tr>\n",
       "      <th>3</th>\n",
       "      <td>4e6bc35cf7fd79a5312047651e7865915f4a6bec193cf2...</td>\n",
       "      <td>0</td>\n",
       "    </tr>\n",
       "    <tr>\n",
       "      <th>4</th>\n",
       "      <td>dc009148ee26d658e0240c7b7f6a258790a457737f96e8...</td>\n",
       "      <td>0</td>\n",
       "    </tr>\n",
       "  </tbody>\n",
       "</table>\n",
       "</div>"
      ],
      "text/plain": [
       "                                        user_id_hash  purchased1\n",
       "0  9943447915df3a45fd6720a026af905b6da6b56a37701b...           0\n",
       "1  43f75f8042d3c80c45e222bdd09267f4584684c54d6fae...           0\n",
       "2  999524249720812f2d8c0390293efd58e1ac84d587a01c...           0\n",
       "3  4e6bc35cf7fd79a5312047651e7865915f4a6bec193cf2...           0\n",
       "4  dc009148ee26d658e0240c7b7f6a258790a457737f96e8...           0"
      ]
     },
     "execution_count": 49,
     "metadata": {},
     "output_type": "execute_result"
    }
   ],
   "source": [
    "users_val.head()"
   ]
  },
  {
   "cell_type": "code",
   "execution_count": 50,
   "metadata": {
    "ExecuteTime": {
     "end_time": "2019-02-23T05:14:12.323426Z",
     "start_time": "2019-02-23T05:14:11.805719Z"
    }
   },
   "outputs": [],
   "source": [
    "dec2 = df2[(df2[\"event_timestamp\"] >= 1544255999000)]"
   ]
  },
  {
   "cell_type": "code",
   "execution_count": 51,
   "metadata": {
    "ExecuteTime": {
     "end_time": "2019-02-23T05:14:12.672136Z",
     "start_time": "2019-02-23T05:14:12.572323Z"
    }
   },
   "outputs": [],
   "source": [
    "puser2 = set(dec2[dec2[\"event\"] == \"8\"].user_id_hash.unique())"
   ]
  },
  {
   "cell_type": "code",
   "execution_count": 52,
   "metadata": {
    "ExecuteTime": {
     "end_time": "2019-02-23T05:14:15.293834Z",
     "start_time": "2019-02-23T05:14:13.390451Z"
    }
   },
   "outputs": [],
   "source": [
    "labels2 = []\n",
    "for user in list(events.user_id_hash.unique()):\n",
    "    if user in puser2:\n",
    "        labels2.append(1)\n",
    "    else:\n",
    "        labels2.append(0)"
   ]
  },
  {
   "cell_type": "code",
   "execution_count": 53,
   "metadata": {
    "ExecuteTime": {
     "end_time": "2019-02-23T05:14:15.394019Z",
     "start_time": "2019-02-23T05:14:15.296134Z"
    }
   },
   "outputs": [],
   "source": [
    "users_val[\"purchased2\"] = pd.DataFrame(labels2)"
   ]
  },
  {
   "cell_type": "code",
   "execution_count": 54,
   "metadata": {
    "ExecuteTime": {
     "end_time": "2019-02-23T05:14:15.698618Z",
     "start_time": "2019-02-23T05:14:15.690927Z"
    }
   },
   "outputs": [
    {
     "data": {
      "text/html": [
       "<div>\n",
       "<style scoped>\n",
       "    .dataframe tbody tr th:only-of-type {\n",
       "        vertical-align: middle;\n",
       "    }\n",
       "\n",
       "    .dataframe tbody tr th {\n",
       "        vertical-align: top;\n",
       "    }\n",
       "\n",
       "    .dataframe thead th {\n",
       "        text-align: right;\n",
       "    }\n",
       "</style>\n",
       "<table border=\"1\" class=\"dataframe\">\n",
       "  <thead>\n",
       "    <tr style=\"text-align: right;\">\n",
       "      <th></th>\n",
       "      <th>user_id_hash</th>\n",
       "      <th>purchased1</th>\n",
       "      <th>purchased2</th>\n",
       "    </tr>\n",
       "  </thead>\n",
       "  <tbody>\n",
       "    <tr>\n",
       "      <th>0</th>\n",
       "      <td>9943447915df3a45fd6720a026af905b6da6b56a37701b...</td>\n",
       "      <td>0</td>\n",
       "      <td>0</td>\n",
       "    </tr>\n",
       "    <tr>\n",
       "      <th>1</th>\n",
       "      <td>43f75f8042d3c80c45e222bdd09267f4584684c54d6fae...</td>\n",
       "      <td>0</td>\n",
       "      <td>0</td>\n",
       "    </tr>\n",
       "    <tr>\n",
       "      <th>2</th>\n",
       "      <td>999524249720812f2d8c0390293efd58e1ac84d587a01c...</td>\n",
       "      <td>0</td>\n",
       "      <td>0</td>\n",
       "    </tr>\n",
       "    <tr>\n",
       "      <th>3</th>\n",
       "      <td>4e6bc35cf7fd79a5312047651e7865915f4a6bec193cf2...</td>\n",
       "      <td>0</td>\n",
       "      <td>0</td>\n",
       "    </tr>\n",
       "    <tr>\n",
       "      <th>4</th>\n",
       "      <td>dc009148ee26d658e0240c7b7f6a258790a457737f96e8...</td>\n",
       "      <td>0</td>\n",
       "      <td>0</td>\n",
       "    </tr>\n",
       "  </tbody>\n",
       "</table>\n",
       "</div>"
      ],
      "text/plain": [
       "                                        user_id_hash  purchased1  purchased2\n",
       "0  9943447915df3a45fd6720a026af905b6da6b56a37701b...           0           0\n",
       "1  43f75f8042d3c80c45e222bdd09267f4584684c54d6fae...           0           0\n",
       "2  999524249720812f2d8c0390293efd58e1ac84d587a01c...           0           0\n",
       "3  4e6bc35cf7fd79a5312047651e7865915f4a6bec193cf2...           0           0\n",
       "4  dc009148ee26d658e0240c7b7f6a258790a457737f96e8...           0           0"
      ]
     },
     "execution_count": 54,
     "metadata": {},
     "output_type": "execute_result"
    }
   ],
   "source": [
    "users_val.head()"
   ]
  },
  {
   "cell_type": "markdown",
   "metadata": {},
   "source": [
    "#### Use Oct-15 to Nov-30 to get features for users labeled in December"
   ]
  },
  {
   "cell_type": "code",
   "execution_count": null,
   "metadata": {},
   "outputs": [],
   "source": []
  },
  {
   "cell_type": "code",
   "execution_count": 56,
   "metadata": {
    "ExecuteTime": {
     "end_time": "2019-02-23T05:18:04.330000Z",
     "start_time": "2019-02-23T05:17:57.257377Z"
    }
   },
   "outputs": [],
   "source": [
    "nov = df2[(df2[\"event_timestamp\"] >= 1539586800000) & (df2[\"event_timestamp\"] < 1543651199000)]"
   ]
  },
  {
   "cell_type": "code",
   "execution_count": 57,
   "metadata": {
    "ExecuteTime": {
     "end_time": "2019-02-23T05:18:34.130727Z",
     "start_time": "2019-02-23T05:18:34.095351Z"
    },
    "scrolled": true
   },
   "outputs": [
    {
     "data": {
      "text/html": [
       "<div>\n",
       "<style scoped>\n",
       "    .dataframe tbody tr th:only-of-type {\n",
       "        vertical-align: middle;\n",
       "    }\n",
       "\n",
       "    .dataframe tbody tr th {\n",
       "        vertical-align: top;\n",
       "    }\n",
       "\n",
       "    .dataframe thead th {\n",
       "        text-align: right;\n",
       "    }\n",
       "</style>\n",
       "<table border=\"1\" class=\"dataframe\">\n",
       "  <thead>\n",
       "    <tr style=\"text-align: right;\">\n",
       "      <th></th>\n",
       "      <th>user_id_hash</th>\n",
       "      <th>event_timestamp</th>\n",
       "      <th>event</th>\n",
       "      <th>event_value</th>\n",
       "    </tr>\n",
       "  </thead>\n",
       "  <tbody>\n",
       "    <tr>\n",
       "      <th>0</th>\n",
       "      <td>9943447915df3a45fd6720a026af905b6da6b56a37701b...</td>\n",
       "      <td>1542215397132</td>\n",
       "      <td>45</td>\n",
       "      <td>0.0</td>\n",
       "    </tr>\n",
       "    <tr>\n",
       "      <th>1</th>\n",
       "      <td>9943447915df3a45fd6720a026af905b6da6b56a37701b...</td>\n",
       "      <td>1542215484895</td>\n",
       "      <td>45</td>\n",
       "      <td>0.0</td>\n",
       "    </tr>\n",
       "    <tr>\n",
       "      <th>2</th>\n",
       "      <td>9943447915df3a45fd6720a026af905b6da6b56a37701b...</td>\n",
       "      <td>1541124410372</td>\n",
       "      <td>.m5100869650219008</td>\n",
       "      <td>0.0</td>\n",
       "    </tr>\n",
       "    <tr>\n",
       "      <th>118</th>\n",
       "      <td>9943447915df3a45fd6720a026af905b6da6b56a37701b...</td>\n",
       "      <td>1541320475697</td>\n",
       "      <td>45</td>\n",
       "      <td>0.0</td>\n",
       "    </tr>\n",
       "    <tr>\n",
       "      <th>119</th>\n",
       "      <td>9943447915df3a45fd6720a026af905b6da6b56a37701b...</td>\n",
       "      <td>1541320589748</td>\n",
       "      <td>45</td>\n",
       "      <td>0.0</td>\n",
       "    </tr>\n",
       "  </tbody>\n",
       "</table>\n",
       "</div>"
      ],
      "text/plain": [
       "                                          user_id_hash  event_timestamp  \\\n",
       "0    9943447915df3a45fd6720a026af905b6da6b56a37701b...    1542215397132   \n",
       "1    9943447915df3a45fd6720a026af905b6da6b56a37701b...    1542215484895   \n",
       "2    9943447915df3a45fd6720a026af905b6da6b56a37701b...    1541124410372   \n",
       "118  9943447915df3a45fd6720a026af905b6da6b56a37701b...    1541320475697   \n",
       "119  9943447915df3a45fd6720a026af905b6da6b56a37701b...    1541320589748   \n",
       "\n",
       "                  event  event_value  \n",
       "0                    45          0.0  \n",
       "1                    45          0.0  \n",
       "2    .m5100869650219008          0.0  \n",
       "118                  45          0.0  \n",
       "119                  45          0.0  "
      ]
     },
     "execution_count": 57,
     "metadata": {},
     "output_type": "execute_result"
    }
   ],
   "source": [
    "nov.head()"
   ]
  },
  {
   "cell_type": "markdown",
   "metadata": {},
   "source": [
    "##### Feature 1: amount purchased by user"
   ]
  },
  {
   "cell_type": "code",
   "execution_count": 58,
   "metadata": {
    "ExecuteTime": {
     "end_time": "2019-02-23T05:18:37.025174Z",
     "start_time": "2019-02-23T05:18:37.018458Z"
    }
   },
   "outputs": [],
   "source": [
    "def purchaseAmt(df):\n",
    "    df = df[df[\"event\"]==\"8\"][[\"user_id_hash\", \"event_value\"]].groupby(\"user_id_hash\").sum().reset_index()\n",
    "    return df"
   ]
  },
  {
   "cell_type": "code",
   "execution_count": 59,
   "metadata": {
    "ExecuteTime": {
     "end_time": "2019-02-23T05:18:38.089779Z",
     "start_time": "2019-02-23T05:18:37.657926Z"
    }
   },
   "outputs": [],
   "source": [
    "feature1 = nov[[\"user_id_hash\", \"event\", \"event_value\"]]"
   ]
  },
  {
   "cell_type": "code",
   "execution_count": 60,
   "metadata": {
    "ExecuteTime": {
     "end_time": "2019-02-23T05:18:38.548561Z",
     "start_time": "2019-02-23T05:18:38.538016Z"
    }
   },
   "outputs": [
    {
     "data": {
      "text/html": [
       "<div>\n",
       "<style scoped>\n",
       "    .dataframe tbody tr th:only-of-type {\n",
       "        vertical-align: middle;\n",
       "    }\n",
       "\n",
       "    .dataframe tbody tr th {\n",
       "        vertical-align: top;\n",
       "    }\n",
       "\n",
       "    .dataframe thead th {\n",
       "        text-align: right;\n",
       "    }\n",
       "</style>\n",
       "<table border=\"1\" class=\"dataframe\">\n",
       "  <thead>\n",
       "    <tr style=\"text-align: right;\">\n",
       "      <th></th>\n",
       "      <th>user_id_hash</th>\n",
       "      <th>event</th>\n",
       "      <th>event_value</th>\n",
       "    </tr>\n",
       "  </thead>\n",
       "  <tbody>\n",
       "    <tr>\n",
       "      <th>0</th>\n",
       "      <td>9943447915df3a45fd6720a026af905b6da6b56a37701b...</td>\n",
       "      <td>45</td>\n",
       "      <td>0.0</td>\n",
       "    </tr>\n",
       "    <tr>\n",
       "      <th>1</th>\n",
       "      <td>9943447915df3a45fd6720a026af905b6da6b56a37701b...</td>\n",
       "      <td>45</td>\n",
       "      <td>0.0</td>\n",
       "    </tr>\n",
       "    <tr>\n",
       "      <th>2</th>\n",
       "      <td>9943447915df3a45fd6720a026af905b6da6b56a37701b...</td>\n",
       "      <td>.m5100869650219008</td>\n",
       "      <td>0.0</td>\n",
       "    </tr>\n",
       "    <tr>\n",
       "      <th>118</th>\n",
       "      <td>9943447915df3a45fd6720a026af905b6da6b56a37701b...</td>\n",
       "      <td>45</td>\n",
       "      <td>0.0</td>\n",
       "    </tr>\n",
       "    <tr>\n",
       "      <th>119</th>\n",
       "      <td>9943447915df3a45fd6720a026af905b6da6b56a37701b...</td>\n",
       "      <td>45</td>\n",
       "      <td>0.0</td>\n",
       "    </tr>\n",
       "  </tbody>\n",
       "</table>\n",
       "</div>"
      ],
      "text/plain": [
       "                                          user_id_hash               event  \\\n",
       "0    9943447915df3a45fd6720a026af905b6da6b56a37701b...                  45   \n",
       "1    9943447915df3a45fd6720a026af905b6da6b56a37701b...                  45   \n",
       "2    9943447915df3a45fd6720a026af905b6da6b56a37701b...  .m5100869650219008   \n",
       "118  9943447915df3a45fd6720a026af905b6da6b56a37701b...                  45   \n",
       "119  9943447915df3a45fd6720a026af905b6da6b56a37701b...                  45   \n",
       "\n",
       "     event_value  \n",
       "0            0.0  \n",
       "1            0.0  \n",
       "2            0.0  \n",
       "118          0.0  \n",
       "119          0.0  "
      ]
     },
     "execution_count": 60,
     "metadata": {},
     "output_type": "execute_result"
    }
   ],
   "source": [
    "feature1.head()"
   ]
  },
  {
   "cell_type": "code",
   "execution_count": 61,
   "metadata": {
    "ExecuteTime": {
     "end_time": "2019-02-23T05:18:42.151244Z",
     "start_time": "2019-02-23T05:18:41.199158Z"
    }
   },
   "outputs": [],
   "source": [
    "feature1 = feature1[feature1[\"event\"]==\"8\"][[\"user_id_hash\", \"event_value\"]].groupby(\"user_id_hash\").sum()"
   ]
  },
  {
   "cell_type": "code",
   "execution_count": 62,
   "metadata": {
    "ExecuteTime": {
     "end_time": "2019-02-23T05:18:42.163151Z",
     "start_time": "2019-02-23T05:18:42.154424Z"
    }
   },
   "outputs": [],
   "source": [
    "feature1 = feature1.reset_index()"
   ]
  },
  {
   "cell_type": "code",
   "execution_count": 63,
   "metadata": {
    "ExecuteTime": {
     "end_time": "2019-02-23T05:18:42.568155Z",
     "start_time": "2019-02-23T05:18:42.559768Z"
    }
   },
   "outputs": [
    {
     "data": {
      "text/html": [
       "<div>\n",
       "<style scoped>\n",
       "    .dataframe tbody tr th:only-of-type {\n",
       "        vertical-align: middle;\n",
       "    }\n",
       "\n",
       "    .dataframe tbody tr th {\n",
       "        vertical-align: top;\n",
       "    }\n",
       "\n",
       "    .dataframe thead th {\n",
       "        text-align: right;\n",
       "    }\n",
       "</style>\n",
       "<table border=\"1\" class=\"dataframe\">\n",
       "  <thead>\n",
       "    <tr style=\"text-align: right;\">\n",
       "      <th></th>\n",
       "      <th>user_id_hash</th>\n",
       "      <th>event_value</th>\n",
       "    </tr>\n",
       "  </thead>\n",
       "  <tbody>\n",
       "    <tr>\n",
       "      <th>0</th>\n",
       "      <td>002e447aed33ed4c51a68743cc293ef2148058b6a6239e...</td>\n",
       "      <td>0.0</td>\n",
       "    </tr>\n",
       "    <tr>\n",
       "      <th>1</th>\n",
       "      <td>005c9d79cf18efc6c8b5fa767964b1def9b8e2f8abd23f...</td>\n",
       "      <td>0.0</td>\n",
       "    </tr>\n",
       "    <tr>\n",
       "      <th>2</th>\n",
       "      <td>0061b4d30e8a9935b2ebeec954ff509b4f0cb500cd725c...</td>\n",
       "      <td>0.0</td>\n",
       "    </tr>\n",
       "    <tr>\n",
       "      <th>3</th>\n",
       "      <td>00fbbf507c7d3c2f259cd3329d241c29d35712e2d4699f...</td>\n",
       "      <td>0.0</td>\n",
       "    </tr>\n",
       "    <tr>\n",
       "      <th>4</th>\n",
       "      <td>0107a0017873efc2dea9a9155832363ceacf6fe97bd428...</td>\n",
       "      <td>0.0</td>\n",
       "    </tr>\n",
       "  </tbody>\n",
       "</table>\n",
       "</div>"
      ],
      "text/plain": [
       "                                        user_id_hash  event_value\n",
       "0  002e447aed33ed4c51a68743cc293ef2148058b6a6239e...          0.0\n",
       "1  005c9d79cf18efc6c8b5fa767964b1def9b8e2f8abd23f...          0.0\n",
       "2  0061b4d30e8a9935b2ebeec954ff509b4f0cb500cd725c...          0.0\n",
       "3  00fbbf507c7d3c2f259cd3329d241c29d35712e2d4699f...          0.0\n",
       "4  0107a0017873efc2dea9a9155832363ceacf6fe97bd428...          0.0"
      ]
     },
     "execution_count": 63,
     "metadata": {},
     "output_type": "execute_result"
    }
   ],
   "source": [
    "feature1.head()"
   ]
  },
  {
   "cell_type": "code",
   "execution_count": 64,
   "metadata": {
    "ExecuteTime": {
     "end_time": "2019-02-23T05:18:46.663987Z",
     "start_time": "2019-02-23T05:18:45.966522Z"
    }
   },
   "outputs": [],
   "source": [
    "users_val = users_val.join(feature1.set_index(\"user_id_hash\"), on=\"user_id_hash\", how=\"left\")"
   ]
  },
  {
   "cell_type": "code",
   "execution_count": 65,
   "metadata": {
    "ExecuteTime": {
     "end_time": "2019-02-23T05:18:46.738166Z",
     "start_time": "2019-02-23T05:18:46.665864Z"
    }
   },
   "outputs": [
    {
     "data": {
      "text/html": [
       "<div>\n",
       "<style scoped>\n",
       "    .dataframe tbody tr th:only-of-type {\n",
       "        vertical-align: middle;\n",
       "    }\n",
       "\n",
       "    .dataframe tbody tr th {\n",
       "        vertical-align: top;\n",
       "    }\n",
       "\n",
       "    .dataframe thead th {\n",
       "        text-align: right;\n",
       "    }\n",
       "</style>\n",
       "<table border=\"1\" class=\"dataframe\">\n",
       "  <thead>\n",
       "    <tr style=\"text-align: right;\">\n",
       "      <th></th>\n",
       "      <th>user_id_hash</th>\n",
       "      <th>purchased1</th>\n",
       "      <th>purchased2</th>\n",
       "      <th>event_value</th>\n",
       "    </tr>\n",
       "  </thead>\n",
       "  <tbody>\n",
       "    <tr>\n",
       "      <th>0</th>\n",
       "      <td>9943447915df3a45fd6720a026af905b6da6b56a37701b...</td>\n",
       "      <td>0</td>\n",
       "      <td>0</td>\n",
       "      <td>3.492188</td>\n",
       "    </tr>\n",
       "    <tr>\n",
       "      <th>1</th>\n",
       "      <td>43f75f8042d3c80c45e222bdd09267f4584684c54d6fae...</td>\n",
       "      <td>0</td>\n",
       "      <td>0</td>\n",
       "      <td>0.000000</td>\n",
       "    </tr>\n",
       "    <tr>\n",
       "      <th>2</th>\n",
       "      <td>999524249720812f2d8c0390293efd58e1ac84d587a01c...</td>\n",
       "      <td>0</td>\n",
       "      <td>0</td>\n",
       "      <td>0.000000</td>\n",
       "    </tr>\n",
       "    <tr>\n",
       "      <th>3</th>\n",
       "      <td>4e6bc35cf7fd79a5312047651e7865915f4a6bec193cf2...</td>\n",
       "      <td>0</td>\n",
       "      <td>0</td>\n",
       "      <td>0.000000</td>\n",
       "    </tr>\n",
       "    <tr>\n",
       "      <th>4</th>\n",
       "      <td>dc009148ee26d658e0240c7b7f6a258790a457737f96e8...</td>\n",
       "      <td>0</td>\n",
       "      <td>0</td>\n",
       "      <td>0.000000</td>\n",
       "    </tr>\n",
       "  </tbody>\n",
       "</table>\n",
       "</div>"
      ],
      "text/plain": [
       "                                        user_id_hash  purchased1  purchased2  \\\n",
       "0  9943447915df3a45fd6720a026af905b6da6b56a37701b...           0           0   \n",
       "1  43f75f8042d3c80c45e222bdd09267f4584684c54d6fae...           0           0   \n",
       "2  999524249720812f2d8c0390293efd58e1ac84d587a01c...           0           0   \n",
       "3  4e6bc35cf7fd79a5312047651e7865915f4a6bec193cf2...           0           0   \n",
       "4  dc009148ee26d658e0240c7b7f6a258790a457737f96e8...           0           0   \n",
       "\n",
       "   event_value  \n",
       "0     3.492188  \n",
       "1     0.000000  \n",
       "2     0.000000  \n",
       "3     0.000000  \n",
       "4     0.000000  "
      ]
     },
     "execution_count": 65,
     "metadata": {},
     "output_type": "execute_result"
    }
   ],
   "source": [
    "users_val.head()"
   ]
  },
  {
   "cell_type": "code",
   "execution_count": 66,
   "metadata": {
    "ExecuteTime": {
     "end_time": "2019-02-23T05:18:49.652602Z",
     "start_time": "2019-02-23T05:18:49.557364Z"
    }
   },
   "outputs": [
    {
     "data": {
      "text/plain": [
       "user_id_hash    620988\n",
       "purchased1      620988\n",
       "purchased2      620988\n",
       "event_value     620988\n",
       "dtype: int64"
      ]
     },
     "execution_count": 66,
     "metadata": {},
     "output_type": "execute_result"
    }
   ],
   "source": [
    "users_val.count()"
   ]
  },
  {
   "cell_type": "code",
   "execution_count": 67,
   "metadata": {
    "ExecuteTime": {
     "end_time": "2019-02-23T05:18:55.629892Z",
     "start_time": "2019-02-23T05:18:55.626268Z"
    }
   },
   "outputs": [],
   "source": [
    "users_val.columns = [\"user_id_hash\", \"purchase1\", \"purchased2\", \"amt_purchased\"]"
   ]
  },
  {
   "cell_type": "markdown",
   "metadata": {},
   "source": [
    "##### feature 2: distinct number of purchases made by user"
   ]
  },
  {
   "cell_type": "code",
   "execution_count": 27,
   "metadata": {},
   "outputs": [],
   "source": [
    "def distinctPurchase(df):\n",
    "    df = df[df[\"event\"]==\"8\"].groupby(\"user_id_hash\").count().reset_index()\n",
    "    return df"
   ]
  },
  {
   "cell_type": "code",
   "execution_count": 28,
   "metadata": {},
   "outputs": [],
   "source": [
    "feature2 = nov[[\"user_id_hash\", \"event\"]]"
   ]
  },
  {
   "cell_type": "code",
   "execution_count": 29,
   "metadata": {},
   "outputs": [],
   "source": [
    "feature2 = feature2[feature2[\"event\"]==\"8\"].groupby(\"user_id_hash\").count()"
   ]
  },
  {
   "cell_type": "code",
   "execution_count": 30,
   "metadata": {},
   "outputs": [],
   "source": [
    "feature2 = feature2.reset_index()"
   ]
  },
  {
   "cell_type": "code",
   "execution_count": 41,
   "metadata": {},
   "outputs": [
    {
     "data": {
      "text/html": [
       "<div>\n",
       "<style scoped>\n",
       "    .dataframe tbody tr th:only-of-type {\n",
       "        vertical-align: middle;\n",
       "    }\n",
       "\n",
       "    .dataframe tbody tr th {\n",
       "        vertical-align: top;\n",
       "    }\n",
       "\n",
       "    .dataframe thead th {\n",
       "        text-align: right;\n",
       "    }\n",
       "</style>\n",
       "<table border=\"1\" class=\"dataframe\">\n",
       "  <thead>\n",
       "    <tr style=\"text-align: right;\">\n",
       "      <th></th>\n",
       "      <th>user_id_hash</th>\n",
       "      <th>event</th>\n",
       "    </tr>\n",
       "  </thead>\n",
       "  <tbody>\n",
       "    <tr>\n",
       "      <th>0</th>\n",
       "      <td>002e447aed33ed4c51a68743cc293ef2148058b6a6239e...</td>\n",
       "      <td>0</td>\n",
       "    </tr>\n",
       "    <tr>\n",
       "      <th>1</th>\n",
       "      <td>005c9d79cf18efc6c8b5fa767964b1def9b8e2f8abd23f...</td>\n",
       "      <td>0</td>\n",
       "    </tr>\n",
       "    <tr>\n",
       "      <th>2</th>\n",
       "      <td>0061b4d30e8a9935b2ebeec954ff509b4f0cb500cd725c...</td>\n",
       "      <td>0</td>\n",
       "    </tr>\n",
       "    <tr>\n",
       "      <th>3</th>\n",
       "      <td>00fbbf507c7d3c2f259cd3329d241c29d35712e2d4699f...</td>\n",
       "      <td>0</td>\n",
       "    </tr>\n",
       "    <tr>\n",
       "      <th>4</th>\n",
       "      <td>0107a0017873efc2dea9a9155832363ceacf6fe97bd428...</td>\n",
       "      <td>0</td>\n",
       "    </tr>\n",
       "  </tbody>\n",
       "</table>\n",
       "</div>"
      ],
      "text/plain": [
       "                                        user_id_hash  event\n",
       "0  002e447aed33ed4c51a68743cc293ef2148058b6a6239e...      0\n",
       "1  005c9d79cf18efc6c8b5fa767964b1def9b8e2f8abd23f...      0\n",
       "2  0061b4d30e8a9935b2ebeec954ff509b4f0cb500cd725c...      0\n",
       "3  00fbbf507c7d3c2f259cd3329d241c29d35712e2d4699f...      0\n",
       "4  0107a0017873efc2dea9a9155832363ceacf6fe97bd428...      0"
      ]
     },
     "execution_count": 41,
     "metadata": {},
     "output_type": "execute_result"
    }
   ],
   "source": [
    "feature2.head()"
   ]
  },
  {
   "cell_type": "code",
   "execution_count": 42,
   "metadata": {},
   "outputs": [
    {
     "data": {
      "text/html": [
       "<div>\n",
       "<style scoped>\n",
       "    .dataframe tbody tr th:only-of-type {\n",
       "        vertical-align: middle;\n",
       "    }\n",
       "\n",
       "    .dataframe tbody tr th {\n",
       "        vertical-align: top;\n",
       "    }\n",
       "\n",
       "    .dataframe thead th {\n",
       "        text-align: right;\n",
       "    }\n",
       "</style>\n",
       "<table border=\"1\" class=\"dataframe\">\n",
       "  <thead>\n",
       "    <tr style=\"text-align: right;\">\n",
       "      <th></th>\n",
       "      <th>event</th>\n",
       "    </tr>\n",
       "  </thead>\n",
       "  <tbody>\n",
       "    <tr>\n",
       "      <th>count</th>\n",
       "      <td>621001.000000</td>\n",
       "    </tr>\n",
       "    <tr>\n",
       "      <th>mean</th>\n",
       "      <td>0.211467</td>\n",
       "    </tr>\n",
       "    <tr>\n",
       "      <th>std</th>\n",
       "      <td>2.111923</td>\n",
       "    </tr>\n",
       "    <tr>\n",
       "      <th>min</th>\n",
       "      <td>0.000000</td>\n",
       "    </tr>\n",
       "    <tr>\n",
       "      <th>25%</th>\n",
       "      <td>0.000000</td>\n",
       "    </tr>\n",
       "    <tr>\n",
       "      <th>50%</th>\n",
       "      <td>0.000000</td>\n",
       "    </tr>\n",
       "    <tr>\n",
       "      <th>75%</th>\n",
       "      <td>0.000000</td>\n",
       "    </tr>\n",
       "    <tr>\n",
       "      <th>max</th>\n",
       "      <td>205.000000</td>\n",
       "    </tr>\n",
       "  </tbody>\n",
       "</table>\n",
       "</div>"
      ],
      "text/plain": [
       "               event\n",
       "count  621001.000000\n",
       "mean        0.211467\n",
       "std         2.111923\n",
       "min         0.000000\n",
       "25%         0.000000\n",
       "50%         0.000000\n",
       "75%         0.000000\n",
       "max       205.000000"
      ]
     },
     "execution_count": 42,
     "metadata": {},
     "output_type": "execute_result"
    }
   ],
   "source": [
    "feature2.describe()"
   ]
  },
  {
   "cell_type": "code",
   "execution_count": 31,
   "metadata": {},
   "outputs": [],
   "source": [
    "users_val = users_val.join(feature2.set_index(\"user_id_hash\"), on=\"user_id_hash\", how=\"left\")"
   ]
  },
  {
   "cell_type": "code",
   "execution_count": 44,
   "metadata": {},
   "outputs": [
    {
     "data": {
      "text/plain": [
       "user_id_hash     620988\n",
       "purchase1        620988\n",
       "purchased2       620988\n",
       "amt_purchased    620988\n",
       "event            620988\n",
       "dtype: int64"
      ]
     },
     "execution_count": 44,
     "metadata": {},
     "output_type": "execute_result"
    }
   ],
   "source": [
    "users_val.count()"
   ]
  },
  {
   "cell_type": "code",
   "execution_count": 45,
   "metadata": {},
   "outputs": [
    {
     "data": {
      "text/html": [
       "<div>\n",
       "<style scoped>\n",
       "    .dataframe tbody tr th:only-of-type {\n",
       "        vertical-align: middle;\n",
       "    }\n",
       "\n",
       "    .dataframe tbody tr th {\n",
       "        vertical-align: top;\n",
       "    }\n",
       "\n",
       "    .dataframe thead th {\n",
       "        text-align: right;\n",
       "    }\n",
       "</style>\n",
       "<table border=\"1\" class=\"dataframe\">\n",
       "  <thead>\n",
       "    <tr style=\"text-align: right;\">\n",
       "      <th></th>\n",
       "      <th>user_id_hash</th>\n",
       "      <th>purchase1</th>\n",
       "      <th>purchased2</th>\n",
       "      <th>amt_purchased</th>\n",
       "      <th>event</th>\n",
       "    </tr>\n",
       "  </thead>\n",
       "  <tbody>\n",
       "    <tr>\n",
       "      <th>0</th>\n",
       "      <td>9943447915df3a45fd6720a026af905b6da6b56a37701b...</td>\n",
       "      <td>0</td>\n",
       "      <td>0</td>\n",
       "      <td>3.492188</td>\n",
       "      <td>1</td>\n",
       "    </tr>\n",
       "    <tr>\n",
       "      <th>1</th>\n",
       "      <td>43f75f8042d3c80c45e222bdd09267f4584684c54d6fae...</td>\n",
       "      <td>0</td>\n",
       "      <td>0</td>\n",
       "      <td>0.000000</td>\n",
       "      <td>0</td>\n",
       "    </tr>\n",
       "    <tr>\n",
       "      <th>2</th>\n",
       "      <td>999524249720812f2d8c0390293efd58e1ac84d587a01c...</td>\n",
       "      <td>0</td>\n",
       "      <td>0</td>\n",
       "      <td>0.000000</td>\n",
       "      <td>0</td>\n",
       "    </tr>\n",
       "    <tr>\n",
       "      <th>3</th>\n",
       "      <td>4e6bc35cf7fd79a5312047651e7865915f4a6bec193cf2...</td>\n",
       "      <td>0</td>\n",
       "      <td>0</td>\n",
       "      <td>0.000000</td>\n",
       "      <td>0</td>\n",
       "    </tr>\n",
       "    <tr>\n",
       "      <th>4</th>\n",
       "      <td>dc009148ee26d658e0240c7b7f6a258790a457737f96e8...</td>\n",
       "      <td>0</td>\n",
       "      <td>0</td>\n",
       "      <td>0.000000</td>\n",
       "      <td>0</td>\n",
       "    </tr>\n",
       "  </tbody>\n",
       "</table>\n",
       "</div>"
      ],
      "text/plain": [
       "                                        user_id_hash  purchase1  purchased2  \\\n",
       "0  9943447915df3a45fd6720a026af905b6da6b56a37701b...          0           0   \n",
       "1  43f75f8042d3c80c45e222bdd09267f4584684c54d6fae...          0           0   \n",
       "2  999524249720812f2d8c0390293efd58e1ac84d587a01c...          0           0   \n",
       "3  4e6bc35cf7fd79a5312047651e7865915f4a6bec193cf2...          0           0   \n",
       "4  dc009148ee26d658e0240c7b7f6a258790a457737f96e8...          0           0   \n",
       "\n",
       "   amt_purchased  event  \n",
       "0       3.492188      1  \n",
       "1       0.000000      0  \n",
       "2       0.000000      0  \n",
       "3       0.000000      0  \n",
       "4       0.000000      0  "
      ]
     },
     "execution_count": 45,
     "metadata": {},
     "output_type": "execute_result"
    }
   ],
   "source": [
    "users_val.head()"
   ]
  },
  {
   "cell_type": "markdown",
   "metadata": {},
   "source": [
    "##### Feature 3: total previous session duration"
   ]
  },
  {
   "cell_type": "code",
   "execution_count": 46,
   "metadata": {},
   "outputs": [
    {
     "data": {
      "text/html": [
       "<div>\n",
       "<style scoped>\n",
       "    .dataframe tbody tr th:only-of-type {\n",
       "        vertical-align: middle;\n",
       "    }\n",
       "\n",
       "    .dataframe tbody tr th {\n",
       "        vertical-align: top;\n",
       "    }\n",
       "\n",
       "    .dataframe thead th {\n",
       "        text-align: right;\n",
       "    }\n",
       "</style>\n",
       "<table border=\"1\" class=\"dataframe\">\n",
       "  <thead>\n",
       "    <tr style=\"text-align: right;\">\n",
       "      <th></th>\n",
       "      <th>session_id</th>\n",
       "      <th>start_timestamp</th>\n",
       "      <th>timezone</th>\n",
       "      <th>timezone_offset</th>\n",
       "      <th>previous_sessions_duration</th>\n",
       "      <th>user_created_timestamp</th>\n",
       "      <th>is_user_first_session</th>\n",
       "      <th>country</th>\n",
       "      <th>region</th>\n",
       "      <th>city</th>\n",
       "      <th>latitude</th>\n",
       "      <th>longitude</th>\n",
       "      <th>locale</th>\n",
       "      <th>os_name</th>\n",
       "      <th>session_index</th>\n",
       "      <th>device_id</th>\n",
       "      <th>user_id_hash</th>\n",
       "    </tr>\n",
       "  </thead>\n",
       "  <tbody>\n",
       "    <tr>\n",
       "      <th>0</th>\n",
       "      <td>5558845121177764917</td>\n",
       "      <td>1542215364580</td>\n",
       "      <td>Asia/Manila</td>\n",
       "      <td>28800000.0</td>\n",
       "      <td>25837591</td>\n",
       "      <td>1538874289458</td>\n",
       "      <td>False</td>\n",
       "      <td>PH</td>\n",
       "      <td>00</td>\n",
       "      <td>makati</td>\n",
       "      <td>14.554729</td>\n",
       "      <td>121.024445</td>\n",
       "      <td>en_GB</td>\n",
       "      <td>Android OS</td>\n",
       "      <td>30</td>\n",
       "      <td>546a3d98-d540-4e72-ad82-9ebd64e0839b</td>\n",
       "      <td>9943447915df3a45fd6720a026af905b6da6b56a37701b...</td>\n",
       "    </tr>\n",
       "    <tr>\n",
       "      <th>1</th>\n",
       "      <td>18781111175537580</td>\n",
       "      <td>1539215568666</td>\n",
       "      <td>Asia/Manila</td>\n",
       "      <td>28800000.0</td>\n",
       "      <td>11343848</td>\n",
       "      <td>1538874289458</td>\n",
       "      <td>False</td>\n",
       "      <td>PH</td>\n",
       "      <td>00</td>\n",
       "      <td>makati</td>\n",
       "      <td>14.554729</td>\n",
       "      <td>121.024445</td>\n",
       "      <td>en_GB</td>\n",
       "      <td>Android OS</td>\n",
       "      <td>10</td>\n",
       "      <td>546a3d98-d540-4e72-ad82-9ebd64e0839b</td>\n",
       "      <td>9943447915df3a45fd6720a026af905b6da6b56a37701b...</td>\n",
       "    </tr>\n",
       "    <tr>\n",
       "      <th>2</th>\n",
       "      <td>1477540082628742048</td>\n",
       "      <td>1540120743010</td>\n",
       "      <td>Asia/Manila</td>\n",
       "      <td>28800000.0</td>\n",
       "      <td>13499724</td>\n",
       "      <td>1538874289458</td>\n",
       "      <td>False</td>\n",
       "      <td>PH</td>\n",
       "      <td>11</td>\n",
       "      <td>davao city</td>\n",
       "      <td>7.190708</td>\n",
       "      <td>125.455338</td>\n",
       "      <td>en_GB</td>\n",
       "      <td>Android OS</td>\n",
       "      <td>13</td>\n",
       "      <td>546a3d98-d540-4e72-ad82-9ebd64e0839b</td>\n",
       "      <td>9943447915df3a45fd6720a026af905b6da6b56a37701b...</td>\n",
       "    </tr>\n",
       "    <tr>\n",
       "      <th>3</th>\n",
       "      <td>8184875317380844086</td>\n",
       "      <td>1542671625528</td>\n",
       "      <td>Asia/Manila</td>\n",
       "      <td>28800000.0</td>\n",
       "      <td>32788010</td>\n",
       "      <td>1538874289458</td>\n",
       "      <td>False</td>\n",
       "      <td>PH</td>\n",
       "      <td>00</td>\n",
       "      <td>makati</td>\n",
       "      <td>14.554729</td>\n",
       "      <td>121.024445</td>\n",
       "      <td>en_GB</td>\n",
       "      <td>Android OS</td>\n",
       "      <td>41</td>\n",
       "      <td>546a3d98-d540-4e72-ad82-9ebd64e0839b</td>\n",
       "      <td>9943447915df3a45fd6720a026af905b6da6b56a37701b...</td>\n",
       "    </tr>\n",
       "    <tr>\n",
       "      <th>4</th>\n",
       "      <td>4706180700083856343</td>\n",
       "      <td>1538997913013</td>\n",
       "      <td>Asia/Manila</td>\n",
       "      <td>28800000.0</td>\n",
       "      <td>5872534</td>\n",
       "      <td>1538874289458</td>\n",
       "      <td>False</td>\n",
       "      <td>PH</td>\n",
       "      <td>11</td>\n",
       "      <td>davao city</td>\n",
       "      <td>7.190708</td>\n",
       "      <td>125.455338</td>\n",
       "      <td>en_GB</td>\n",
       "      <td>Android OS</td>\n",
       "      <td>4</td>\n",
       "      <td>546a3d98-d540-4e72-ad82-9ebd64e0839b</td>\n",
       "      <td>9943447915df3a45fd6720a026af905b6da6b56a37701b...</td>\n",
       "    </tr>\n",
       "  </tbody>\n",
       "</table>\n",
       "</div>"
      ],
      "text/plain": [
       "            session_id  start_timestamp     timezone  timezone_offset  \\\n",
       "0  5558845121177764917    1542215364580  Asia/Manila       28800000.0   \n",
       "1    18781111175537580    1539215568666  Asia/Manila       28800000.0   \n",
       "2  1477540082628742048    1540120743010  Asia/Manila       28800000.0   \n",
       "3  8184875317380844086    1542671625528  Asia/Manila       28800000.0   \n",
       "4  4706180700083856343    1538997913013  Asia/Manila       28800000.0   \n",
       "\n",
       "   previous_sessions_duration  user_created_timestamp  is_user_first_session  \\\n",
       "0                    25837591           1538874289458                  False   \n",
       "1                    11343848           1538874289458                  False   \n",
       "2                    13499724           1538874289458                  False   \n",
       "3                    32788010           1538874289458                  False   \n",
       "4                     5872534           1538874289458                  False   \n",
       "\n",
       "  country region        city   latitude   longitude locale     os_name  \\\n",
       "0      PH     00      makati  14.554729  121.024445  en_GB  Android OS   \n",
       "1      PH     00      makati  14.554729  121.024445  en_GB  Android OS   \n",
       "2      PH     11  davao city   7.190708  125.455338  en_GB  Android OS   \n",
       "3      PH     00      makati  14.554729  121.024445  en_GB  Android OS   \n",
       "4      PH     11  davao city   7.190708  125.455338  en_GB  Android OS   \n",
       "\n",
       "   session_index                             device_id  \\\n",
       "0             30  546a3d98-d540-4e72-ad82-9ebd64e0839b   \n",
       "1             10  546a3d98-d540-4e72-ad82-9ebd64e0839b   \n",
       "2             13  546a3d98-d540-4e72-ad82-9ebd64e0839b   \n",
       "3             41  546a3d98-d540-4e72-ad82-9ebd64e0839b   \n",
       "4              4  546a3d98-d540-4e72-ad82-9ebd64e0839b   \n",
       "\n",
       "                                        user_id_hash  \n",
       "0  9943447915df3a45fd6720a026af905b6da6b56a37701b...  \n",
       "1  9943447915df3a45fd6720a026af905b6da6b56a37701b...  \n",
       "2  9943447915df3a45fd6720a026af905b6da6b56a37701b...  \n",
       "3  9943447915df3a45fd6720a026af905b6da6b56a37701b...  \n",
       "4  9943447915df3a45fd6720a026af905b6da6b56a37701b...  "
      ]
     },
     "execution_count": 46,
     "metadata": {},
     "output_type": "execute_result"
    }
   ],
   "source": [
    "sessions.head()"
   ]
  },
  {
   "cell_type": "code",
   "execution_count": 32,
   "metadata": {},
   "outputs": [],
   "source": [
    "tmp = sessions[[\"user_id_hash\", \"previous_sessions_duration\", \"start_timestamp\"]]"
   ]
  },
  {
   "cell_type": "code",
   "execution_count": 48,
   "metadata": {},
   "outputs": [
    {
     "data": {
      "text/html": [
       "<div>\n",
       "<style scoped>\n",
       "    .dataframe tbody tr th:only-of-type {\n",
       "        vertical-align: middle;\n",
       "    }\n",
       "\n",
       "    .dataframe tbody tr th {\n",
       "        vertical-align: top;\n",
       "    }\n",
       "\n",
       "    .dataframe thead th {\n",
       "        text-align: right;\n",
       "    }\n",
       "</style>\n",
       "<table border=\"1\" class=\"dataframe\">\n",
       "  <thead>\n",
       "    <tr style=\"text-align: right;\">\n",
       "      <th></th>\n",
       "      <th>user_id_hash</th>\n",
       "      <th>previous_sessions_duration</th>\n",
       "      <th>start_timestamp</th>\n",
       "    </tr>\n",
       "  </thead>\n",
       "  <tbody>\n",
       "    <tr>\n",
       "      <th>0</th>\n",
       "      <td>9943447915df3a45fd6720a026af905b6da6b56a37701b...</td>\n",
       "      <td>25837591</td>\n",
       "      <td>1542215364580</td>\n",
       "    </tr>\n",
       "    <tr>\n",
       "      <th>1</th>\n",
       "      <td>9943447915df3a45fd6720a026af905b6da6b56a37701b...</td>\n",
       "      <td>11343848</td>\n",
       "      <td>1539215568666</td>\n",
       "    </tr>\n",
       "    <tr>\n",
       "      <th>2</th>\n",
       "      <td>9943447915df3a45fd6720a026af905b6da6b56a37701b...</td>\n",
       "      <td>13499724</td>\n",
       "      <td>1540120743010</td>\n",
       "    </tr>\n",
       "    <tr>\n",
       "      <th>3</th>\n",
       "      <td>9943447915df3a45fd6720a026af905b6da6b56a37701b...</td>\n",
       "      <td>32788010</td>\n",
       "      <td>1542671625528</td>\n",
       "    </tr>\n",
       "    <tr>\n",
       "      <th>4</th>\n",
       "      <td>9943447915df3a45fd6720a026af905b6da6b56a37701b...</td>\n",
       "      <td>5872534</td>\n",
       "      <td>1538997913013</td>\n",
       "    </tr>\n",
       "  </tbody>\n",
       "</table>\n",
       "</div>"
      ],
      "text/plain": [
       "                                        user_id_hash  \\\n",
       "0  9943447915df3a45fd6720a026af905b6da6b56a37701b...   \n",
       "1  9943447915df3a45fd6720a026af905b6da6b56a37701b...   \n",
       "2  9943447915df3a45fd6720a026af905b6da6b56a37701b...   \n",
       "3  9943447915df3a45fd6720a026af905b6da6b56a37701b...   \n",
       "4  9943447915df3a45fd6720a026af905b6da6b56a37701b...   \n",
       "\n",
       "   previous_sessions_duration  start_timestamp  \n",
       "0                    25837591    1542215364580  \n",
       "1                    11343848    1539215568666  \n",
       "2                    13499724    1540120743010  \n",
       "3                    32788010    1542671625528  \n",
       "4                     5872534    1538997913013  "
      ]
     },
     "execution_count": 48,
     "metadata": {},
     "output_type": "execute_result"
    }
   ],
   "source": [
    "tmp.head()"
   ]
  },
  {
   "cell_type": "code",
   "execution_count": 33,
   "metadata": {},
   "outputs": [],
   "source": [
    "tmp = tmp[(tmp[\"start_timestamp\"] >= 1539586800000) & (tmp[\"start_timestamp\"] < 1543651199000)]"
   ]
  },
  {
   "cell_type": "code",
   "execution_count": 50,
   "metadata": {},
   "outputs": [
    {
     "data": {
      "text/html": [
       "<div>\n",
       "<style scoped>\n",
       "    .dataframe tbody tr th:only-of-type {\n",
       "        vertical-align: middle;\n",
       "    }\n",
       "\n",
       "    .dataframe tbody tr th {\n",
       "        vertical-align: top;\n",
       "    }\n",
       "\n",
       "    .dataframe thead th {\n",
       "        text-align: right;\n",
       "    }\n",
       "</style>\n",
       "<table border=\"1\" class=\"dataframe\">\n",
       "  <thead>\n",
       "    <tr style=\"text-align: right;\">\n",
       "      <th></th>\n",
       "      <th>user_id_hash</th>\n",
       "      <th>previous_sessions_duration</th>\n",
       "      <th>start_timestamp</th>\n",
       "    </tr>\n",
       "  </thead>\n",
       "  <tbody>\n",
       "    <tr>\n",
       "      <th>0</th>\n",
       "      <td>9943447915df3a45fd6720a026af905b6da6b56a37701b...</td>\n",
       "      <td>25837591</td>\n",
       "      <td>1542215364580</td>\n",
       "    </tr>\n",
       "    <tr>\n",
       "      <th>3</th>\n",
       "      <td>9943447915df3a45fd6720a026af905b6da6b56a37701b...</td>\n",
       "      <td>32788010</td>\n",
       "      <td>1542671625528</td>\n",
       "    </tr>\n",
       "    <tr>\n",
       "      <th>7</th>\n",
       "      <td>9943447915df3a45fd6720a026af905b6da6b56a37701b...</td>\n",
       "      <td>14113619</td>\n",
       "      <td>1541320437287</td>\n",
       "    </tr>\n",
       "    <tr>\n",
       "      <th>8</th>\n",
       "      <td>9943447915df3a45fd6720a026af905b6da6b56a37701b...</td>\n",
       "      <td>32827242</td>\n",
       "      <td>1542674647158</td>\n",
       "    </tr>\n",
       "    <tr>\n",
       "      <th>9</th>\n",
       "      <td>9943447915df3a45fd6720a026af905b6da6b56a37701b...</td>\n",
       "      <td>28049619</td>\n",
       "      <td>1542496808264</td>\n",
       "    </tr>\n",
       "  </tbody>\n",
       "</table>\n",
       "</div>"
      ],
      "text/plain": [
       "                                        user_id_hash  \\\n",
       "0  9943447915df3a45fd6720a026af905b6da6b56a37701b...   \n",
       "3  9943447915df3a45fd6720a026af905b6da6b56a37701b...   \n",
       "7  9943447915df3a45fd6720a026af905b6da6b56a37701b...   \n",
       "8  9943447915df3a45fd6720a026af905b6da6b56a37701b...   \n",
       "9  9943447915df3a45fd6720a026af905b6da6b56a37701b...   \n",
       "\n",
       "   previous_sessions_duration  start_timestamp  \n",
       "0                    25837591    1542215364580  \n",
       "3                    32788010    1542671625528  \n",
       "7                    14113619    1541320437287  \n",
       "8                    32827242    1542674647158  \n",
       "9                    28049619    1542496808264  "
      ]
     },
     "execution_count": 50,
     "metadata": {},
     "output_type": "execute_result"
    }
   ],
   "source": [
    "tmp.head()"
   ]
  },
  {
   "cell_type": "code",
   "execution_count": 34,
   "metadata": {},
   "outputs": [],
   "source": [
    "feature3 = tmp[[\"user_id_hash\", \"previous_sessions_duration\"]].groupby(\"user_id_hash\").sum()"
   ]
  },
  {
   "cell_type": "code",
   "execution_count": 35,
   "metadata": {},
   "outputs": [
    {
     "data": {
      "text/html": [
       "<div>\n",
       "<style scoped>\n",
       "    .dataframe tbody tr th:only-of-type {\n",
       "        vertical-align: middle;\n",
       "    }\n",
       "\n",
       "    .dataframe tbody tr th {\n",
       "        vertical-align: top;\n",
       "    }\n",
       "\n",
       "    .dataframe thead th {\n",
       "        text-align: right;\n",
       "    }\n",
       "</style>\n",
       "<table border=\"1\" class=\"dataframe\">\n",
       "  <thead>\n",
       "    <tr style=\"text-align: right;\">\n",
       "      <th></th>\n",
       "      <th>user_id_hash</th>\n",
       "      <th>previous_sessions_duration</th>\n",
       "    </tr>\n",
       "  </thead>\n",
       "  <tbody>\n",
       "    <tr>\n",
       "      <th>0</th>\n",
       "      <td>0013ae7e9f73194aeb0d350f1de1f441625825efe403c4...</td>\n",
       "      <td>4346056.0</td>\n",
       "    </tr>\n",
       "    <tr>\n",
       "      <th>1</th>\n",
       "      <td>0025a6c398e0ec7c471342188141853877f94a76b51270...</td>\n",
       "      <td>43615420.0</td>\n",
       "    </tr>\n",
       "    <tr>\n",
       "      <th>2</th>\n",
       "      <td>002e3b6443aef897fc35486e072c5781d087943cdb9dff...</td>\n",
       "      <td>0.0</td>\n",
       "    </tr>\n",
       "    <tr>\n",
       "      <th>3</th>\n",
       "      <td>002e447aed33ed4c51a68743cc293ef2148058b6a6239e...</td>\n",
       "      <td>7557137.0</td>\n",
       "    </tr>\n",
       "    <tr>\n",
       "      <th>4</th>\n",
       "      <td>005c9d79cf18efc6c8b5fa767964b1def9b8e2f8abd23f...</td>\n",
       "      <td>0.0</td>\n",
       "    </tr>\n",
       "  </tbody>\n",
       "</table>\n",
       "</div>"
      ],
      "text/plain": [
       "                                        user_id_hash  \\\n",
       "0  0013ae7e9f73194aeb0d350f1de1f441625825efe403c4...   \n",
       "1  0025a6c398e0ec7c471342188141853877f94a76b51270...   \n",
       "2  002e3b6443aef897fc35486e072c5781d087943cdb9dff...   \n",
       "3  002e447aed33ed4c51a68743cc293ef2148058b6a6239e...   \n",
       "4  005c9d79cf18efc6c8b5fa767964b1def9b8e2f8abd23f...   \n",
       "\n",
       "   previous_sessions_duration  \n",
       "0                   4346056.0  \n",
       "1                  43615420.0  \n",
       "2                         0.0  \n",
       "3                   7557137.0  \n",
       "4                         0.0  "
      ]
     },
     "execution_count": 35,
     "metadata": {},
     "output_type": "execute_result"
    }
   ],
   "source": [
    "feature3 = feature3.reset_index()\n",
    "feature3.head()"
   ]
  },
  {
   "cell_type": "code",
   "execution_count": 36,
   "metadata": {},
   "outputs": [],
   "source": [
    "users_val = users_val.join(feature3.set_index(\"user_id_hash\"), on=\"user_id_hash\", how=\"left\")"
   ]
  },
  {
   "cell_type": "code",
   "execution_count": 37,
   "metadata": {},
   "outputs": [
    {
     "data": {
      "text/html": [
       "<div>\n",
       "<style scoped>\n",
       "    .dataframe tbody tr th:only-of-type {\n",
       "        vertical-align: middle;\n",
       "    }\n",
       "\n",
       "    .dataframe tbody tr th {\n",
       "        vertical-align: top;\n",
       "    }\n",
       "\n",
       "    .dataframe thead th {\n",
       "        text-align: right;\n",
       "    }\n",
       "</style>\n",
       "<table border=\"1\" class=\"dataframe\">\n",
       "  <thead>\n",
       "    <tr style=\"text-align: right;\">\n",
       "      <th></th>\n",
       "      <th>user_id_hash</th>\n",
       "      <th>purchase1</th>\n",
       "      <th>purchased2</th>\n",
       "      <th>amt_purchased</th>\n",
       "      <th>event</th>\n",
       "      <th>previous_sessions_duration</th>\n",
       "    </tr>\n",
       "  </thead>\n",
       "  <tbody>\n",
       "    <tr>\n",
       "      <th>0</th>\n",
       "      <td>9943447915df3a45fd6720a026af905b6da6b56a37701b...</td>\n",
       "      <td>0</td>\n",
       "      <td>0</td>\n",
       "      <td>3.492188</td>\n",
       "      <td>1</td>\n",
       "      <td>857156805.0</td>\n",
       "    </tr>\n",
       "    <tr>\n",
       "      <th>1</th>\n",
       "      <td>43f75f8042d3c80c45e222bdd09267f4584684c54d6fae...</td>\n",
       "      <td>0</td>\n",
       "      <td>0</td>\n",
       "      <td>0.000000</td>\n",
       "      <td>0</td>\n",
       "      <td>6074816.0</td>\n",
       "    </tr>\n",
       "    <tr>\n",
       "      <th>2</th>\n",
       "      <td>999524249720812f2d8c0390293efd58e1ac84d587a01c...</td>\n",
       "      <td>0</td>\n",
       "      <td>0</td>\n",
       "      <td>0.000000</td>\n",
       "      <td>0</td>\n",
       "      <td>0.0</td>\n",
       "    </tr>\n",
       "    <tr>\n",
       "      <th>3</th>\n",
       "      <td>4e6bc35cf7fd79a5312047651e7865915f4a6bec193cf2...</td>\n",
       "      <td>0</td>\n",
       "      <td>0</td>\n",
       "      <td>0.000000</td>\n",
       "      <td>0</td>\n",
       "      <td>0.0</td>\n",
       "    </tr>\n",
       "    <tr>\n",
       "      <th>4</th>\n",
       "      <td>dc009148ee26d658e0240c7b7f6a258790a457737f96e8...</td>\n",
       "      <td>0</td>\n",
       "      <td>0</td>\n",
       "      <td>0.000000</td>\n",
       "      <td>0</td>\n",
       "      <td>0.0</td>\n",
       "    </tr>\n",
       "  </tbody>\n",
       "</table>\n",
       "</div>"
      ],
      "text/plain": [
       "                                        user_id_hash  purchase1  purchased2  \\\n",
       "0  9943447915df3a45fd6720a026af905b6da6b56a37701b...          0           0   \n",
       "1  43f75f8042d3c80c45e222bdd09267f4584684c54d6fae...          0           0   \n",
       "2  999524249720812f2d8c0390293efd58e1ac84d587a01c...          0           0   \n",
       "3  4e6bc35cf7fd79a5312047651e7865915f4a6bec193cf2...          0           0   \n",
       "4  dc009148ee26d658e0240c7b7f6a258790a457737f96e8...          0           0   \n",
       "\n",
       "   amt_purchased  event  previous_sessions_duration  \n",
       "0       3.492188      1                 857156805.0  \n",
       "1       0.000000      0                   6074816.0  \n",
       "2       0.000000      0                         0.0  \n",
       "3       0.000000      0                         0.0  \n",
       "4       0.000000      0                         0.0  "
      ]
     },
     "execution_count": 37,
     "metadata": {},
     "output_type": "execute_result"
    }
   ],
   "source": [
    "users_val.head()"
   ]
  },
  {
   "cell_type": "code",
   "execution_count": 38,
   "metadata": {},
   "outputs": [],
   "source": [
    "users_val.columns = [\"user_id_hash\", \"purchase1\", \"purchase2\", \"amt_purchased\", \\\n",
    "                     \"num_of_purchase\", \"total_prev_session_duration\"]"
   ]
  },
  {
   "cell_type": "code",
   "execution_count": 39,
   "metadata": {},
   "outputs": [
    {
     "data": {
      "text/html": [
       "<div>\n",
       "<style scoped>\n",
       "    .dataframe tbody tr th:only-of-type {\n",
       "        vertical-align: middle;\n",
       "    }\n",
       "\n",
       "    .dataframe tbody tr th {\n",
       "        vertical-align: top;\n",
       "    }\n",
       "\n",
       "    .dataframe thead th {\n",
       "        text-align: right;\n",
       "    }\n",
       "</style>\n",
       "<table border=\"1\" class=\"dataframe\">\n",
       "  <thead>\n",
       "    <tr style=\"text-align: right;\">\n",
       "      <th></th>\n",
       "      <th>user_id_hash</th>\n",
       "      <th>purchase1</th>\n",
       "      <th>purchase2</th>\n",
       "      <th>amt_purchased</th>\n",
       "      <th>num_of_purchase</th>\n",
       "      <th>total_prev_session_duration</th>\n",
       "    </tr>\n",
       "  </thead>\n",
       "  <tbody>\n",
       "    <tr>\n",
       "      <th>0</th>\n",
       "      <td>9943447915df3a45fd6720a026af905b6da6b56a37701b...</td>\n",
       "      <td>0</td>\n",
       "      <td>0</td>\n",
       "      <td>3.492188</td>\n",
       "      <td>1</td>\n",
       "      <td>857156805.0</td>\n",
       "    </tr>\n",
       "    <tr>\n",
       "      <th>1</th>\n",
       "      <td>43f75f8042d3c80c45e222bdd09267f4584684c54d6fae...</td>\n",
       "      <td>0</td>\n",
       "      <td>0</td>\n",
       "      <td>0.000000</td>\n",
       "      <td>0</td>\n",
       "      <td>6074816.0</td>\n",
       "    </tr>\n",
       "    <tr>\n",
       "      <th>2</th>\n",
       "      <td>999524249720812f2d8c0390293efd58e1ac84d587a01c...</td>\n",
       "      <td>0</td>\n",
       "      <td>0</td>\n",
       "      <td>0.000000</td>\n",
       "      <td>0</td>\n",
       "      <td>0.0</td>\n",
       "    </tr>\n",
       "    <tr>\n",
       "      <th>3</th>\n",
       "      <td>4e6bc35cf7fd79a5312047651e7865915f4a6bec193cf2...</td>\n",
       "      <td>0</td>\n",
       "      <td>0</td>\n",
       "      <td>0.000000</td>\n",
       "      <td>0</td>\n",
       "      <td>0.0</td>\n",
       "    </tr>\n",
       "    <tr>\n",
       "      <th>4</th>\n",
       "      <td>dc009148ee26d658e0240c7b7f6a258790a457737f96e8...</td>\n",
       "      <td>0</td>\n",
       "      <td>0</td>\n",
       "      <td>0.000000</td>\n",
       "      <td>0</td>\n",
       "      <td>0.0</td>\n",
       "    </tr>\n",
       "  </tbody>\n",
       "</table>\n",
       "</div>"
      ],
      "text/plain": [
       "                                        user_id_hash  purchase1  purchase2  \\\n",
       "0  9943447915df3a45fd6720a026af905b6da6b56a37701b...          0          0   \n",
       "1  43f75f8042d3c80c45e222bdd09267f4584684c54d6fae...          0          0   \n",
       "2  999524249720812f2d8c0390293efd58e1ac84d587a01c...          0          0   \n",
       "3  4e6bc35cf7fd79a5312047651e7865915f4a6bec193cf2...          0          0   \n",
       "4  dc009148ee26d658e0240c7b7f6a258790a457737f96e8...          0          0   \n",
       "\n",
       "   amt_purchased  num_of_purchase  total_prev_session_duration  \n",
       "0       3.492188                1                  857156805.0  \n",
       "1       0.000000                0                    6074816.0  \n",
       "2       0.000000                0                          0.0  \n",
       "3       0.000000                0                          0.0  \n",
       "4       0.000000                0                          0.0  "
      ]
     },
     "execution_count": 39,
     "metadata": {},
     "output_type": "execute_result"
    }
   ],
   "source": [
    "users_val.head()"
   ]
  },
  {
   "cell_type": "code",
   "execution_count": 57,
   "metadata": {},
   "outputs": [],
   "source": [
    "users_val.to_csv(\"users_val.csv\", index=False)"
   ]
  },
  {
   "cell_type": "code",
   "execution_count": 40,
   "metadata": {},
   "outputs": [
    {
     "data": {
      "text/html": [
       "<div>\n",
       "<style scoped>\n",
       "    .dataframe tbody tr th:only-of-type {\n",
       "        vertical-align: middle;\n",
       "    }\n",
       "\n",
       "    .dataframe tbody tr th {\n",
       "        vertical-align: top;\n",
       "    }\n",
       "\n",
       "    .dataframe thead th {\n",
       "        text-align: right;\n",
       "    }\n",
       "</style>\n",
       "<table border=\"1\" class=\"dataframe\">\n",
       "  <thead>\n",
       "    <tr style=\"text-align: right;\">\n",
       "      <th></th>\n",
       "      <th>purchase1</th>\n",
       "      <th>purchase2</th>\n",
       "      <th>amt_purchased</th>\n",
       "      <th>num_of_purchase</th>\n",
       "      <th>total_prev_session_duration</th>\n",
       "    </tr>\n",
       "  </thead>\n",
       "  <tbody>\n",
       "    <tr>\n",
       "      <th>count</th>\n",
       "      <td>620988.000000</td>\n",
       "      <td>620988.000000</td>\n",
       "      <td>620988.0</td>\n",
       "      <td>620988.000000</td>\n",
       "      <td>6.209880e+05</td>\n",
       "    </tr>\n",
       "    <tr>\n",
       "      <th>mean</th>\n",
       "      <td>0.007383</td>\n",
       "      <td>0.004979</td>\n",
       "      <td>NaN</td>\n",
       "      <td>0.322644</td>\n",
       "      <td>2.461968e+08</td>\n",
       "    </tr>\n",
       "    <tr>\n",
       "      <th>std</th>\n",
       "      <td>0.085609</td>\n",
       "      <td>0.070387</td>\n",
       "      <td>NaN</td>\n",
       "      <td>2.788809</td>\n",
       "      <td>2.796797e+09</td>\n",
       "    </tr>\n",
       "    <tr>\n",
       "      <th>min</th>\n",
       "      <td>0.000000</td>\n",
       "      <td>0.000000</td>\n",
       "      <td>0.0</td>\n",
       "      <td>0.000000</td>\n",
       "      <td>0.000000e+00</td>\n",
       "    </tr>\n",
       "    <tr>\n",
       "      <th>25%</th>\n",
       "      <td>0.000000</td>\n",
       "      <td>0.000000</td>\n",
       "      <td>0.0</td>\n",
       "      <td>0.000000</td>\n",
       "      <td>0.000000e+00</td>\n",
       "    </tr>\n",
       "    <tr>\n",
       "      <th>50%</th>\n",
       "      <td>0.000000</td>\n",
       "      <td>0.000000</td>\n",
       "      <td>0.0</td>\n",
       "      <td>0.000000</td>\n",
       "      <td>0.000000e+00</td>\n",
       "    </tr>\n",
       "    <tr>\n",
       "      <th>75%</th>\n",
       "      <td>0.000000</td>\n",
       "      <td>0.000000</td>\n",
       "      <td>0.0</td>\n",
       "      <td>0.000000</td>\n",
       "      <td>6.770604e+06</td>\n",
       "    </tr>\n",
       "    <tr>\n",
       "      <th>max</th>\n",
       "      <td>1.000000</td>\n",
       "      <td>1.000000</td>\n",
       "      <td>1054.0</td>\n",
       "      <td>445.000000</td>\n",
       "      <td>6.370117e+11</td>\n",
       "    </tr>\n",
       "  </tbody>\n",
       "</table>\n",
       "</div>"
      ],
      "text/plain": [
       "           purchase1      purchase2  amt_purchased  num_of_purchase  \\\n",
       "count  620988.000000  620988.000000       620988.0    620988.000000   \n",
       "mean        0.007383       0.004979            NaN         0.322644   \n",
       "std         0.085609       0.070387            NaN         2.788809   \n",
       "min         0.000000       0.000000            0.0         0.000000   \n",
       "25%         0.000000       0.000000            0.0         0.000000   \n",
       "50%         0.000000       0.000000            0.0         0.000000   \n",
       "75%         0.000000       0.000000            0.0         0.000000   \n",
       "max         1.000000       1.000000         1054.0       445.000000   \n",
       "\n",
       "       total_prev_session_duration  \n",
       "count                 6.209880e+05  \n",
       "mean                  2.461968e+08  \n",
       "std                   2.796797e+09  \n",
       "min                   0.000000e+00  \n",
       "25%                   0.000000e+00  \n",
       "50%                   0.000000e+00  \n",
       "75%                   6.770604e+06  \n",
       "max                   6.370117e+11  "
      ]
     },
     "execution_count": 40,
     "metadata": {},
     "output_type": "execute_result"
    }
   ],
   "source": [
    "users_val.describe()"
   ]
  },
  {
   "cell_type": "markdown",
   "metadata": {},
   "source": [
    "##### Feature 4: total count of different events in event"
   ]
  },
  {
   "cell_type": "code",
   "execution_count": 134,
   "metadata": {},
   "outputs": [
    {
     "data": {
      "text/html": [
       "<div>\n",
       "<style scoped>\n",
       "    .dataframe tbody tr th:only-of-type {\n",
       "        vertical-align: middle;\n",
       "    }\n",
       "\n",
       "    .dataframe tbody tr th {\n",
       "        vertical-align: top;\n",
       "    }\n",
       "\n",
       "    .dataframe thead th {\n",
       "        text-align: right;\n",
       "    }\n",
       "</style>\n",
       "<table border=\"1\" class=\"dataframe\">\n",
       "  <thead>\n",
       "    <tr style=\"text-align: right;\">\n",
       "      <th></th>\n",
       "      <th>session_id</th>\n",
       "      <th>event</th>\n",
       "      <th>event_timestamp</th>\n",
       "      <th>event_value</th>\n",
       "      <th>user_id_hash</th>\n",
       "    </tr>\n",
       "  </thead>\n",
       "  <tbody>\n",
       "    <tr>\n",
       "      <th>0</th>\n",
       "      <td>5558845121177764917</td>\n",
       "      <td>45</td>\n",
       "      <td>1542215397132</td>\n",
       "      <td>0.0</td>\n",
       "      <td>9943447915df3a45fd6720a026af905b6da6b56a37701b...</td>\n",
       "    </tr>\n",
       "    <tr>\n",
       "      <th>1</th>\n",
       "      <td>5558845121177764917</td>\n",
       "      <td>45</td>\n",
       "      <td>1542215484895</td>\n",
       "      <td>0.0</td>\n",
       "      <td>9943447915df3a45fd6720a026af905b6da6b56a37701b...</td>\n",
       "    </tr>\n",
       "    <tr>\n",
       "      <th>2</th>\n",
       "      <td>7689508378645584666</td>\n",
       "      <td>.m5100869650219008</td>\n",
       "      <td>1541124410372</td>\n",
       "      <td>0.0</td>\n",
       "      <td>9943447915df3a45fd6720a026af905b6da6b56a37701b...</td>\n",
       "    </tr>\n",
       "    <tr>\n",
       "      <th>3</th>\n",
       "      <td>2201961907282901522</td>\n",
       "      <td>4</td>\n",
       "      <td>1543713091129</td>\n",
       "      <td>0.0</td>\n",
       "      <td>9943447915df3a45fd6720a026af905b6da6b56a37701b...</td>\n",
       "    </tr>\n",
       "    <tr>\n",
       "      <th>4</th>\n",
       "      <td>2201961907282901522</td>\n",
       "      <td>6</td>\n",
       "      <td>1543713093116</td>\n",
       "      <td>0.0</td>\n",
       "      <td>9943447915df3a45fd6720a026af905b6da6b56a37701b...</td>\n",
       "    </tr>\n",
       "  </tbody>\n",
       "</table>\n",
       "</div>"
      ],
      "text/plain": [
       "            session_id               event  event_timestamp  event_value  \\\n",
       "0  5558845121177764917                  45    1542215397132          0.0   \n",
       "1  5558845121177764917                  45    1542215484895          0.0   \n",
       "2  7689508378645584666  .m5100869650219008    1541124410372          0.0   \n",
       "3  2201961907282901522                   4    1543713091129          0.0   \n",
       "4  2201961907282901522                   6    1543713093116          0.0   \n",
       "\n",
       "                                        user_id_hash  \n",
       "0  9943447915df3a45fd6720a026af905b6da6b56a37701b...  \n",
       "1  9943447915df3a45fd6720a026af905b6da6b56a37701b...  \n",
       "2  9943447915df3a45fd6720a026af905b6da6b56a37701b...  \n",
       "3  9943447915df3a45fd6720a026af905b6da6b56a37701b...  \n",
       "4  9943447915df3a45fd6720a026af905b6da6b56a37701b...  "
      ]
     },
     "execution_count": 134,
     "metadata": {},
     "output_type": "execute_result"
    }
   ],
   "source": [
    "events.head()"
   ]
  },
  {
   "cell_type": "code",
   "execution_count": 41,
   "metadata": {},
   "outputs": [],
   "source": [
    "tmp2 = events[[\"user_id_hash\", \"event\", \"event_value\", \"event_timestamp\"]]"
   ]
  },
  {
   "cell_type": "code",
   "execution_count": 198,
   "metadata": {},
   "outputs": [
    {
     "data": {
      "text/html": [
       "<div>\n",
       "<style scoped>\n",
       "    .dataframe tbody tr th:only-of-type {\n",
       "        vertical-align: middle;\n",
       "    }\n",
       "\n",
       "    .dataframe tbody tr th {\n",
       "        vertical-align: top;\n",
       "    }\n",
       "\n",
       "    .dataframe thead th {\n",
       "        text-align: right;\n",
       "    }\n",
       "</style>\n",
       "<table border=\"1\" class=\"dataframe\">\n",
       "  <thead>\n",
       "    <tr style=\"text-align: right;\">\n",
       "      <th></th>\n",
       "      <th>user_id_hash</th>\n",
       "      <th>event</th>\n",
       "      <th>event_value</th>\n",
       "      <th>event_timestamp</th>\n",
       "    </tr>\n",
       "  </thead>\n",
       "  <tbody>\n",
       "    <tr>\n",
       "      <th>0</th>\n",
       "      <td>9943447915df3a45fd6720a026af905b6da6b56a37701b...</td>\n",
       "      <td>45</td>\n",
       "      <td>0.0</td>\n",
       "      <td>1542215397132</td>\n",
       "    </tr>\n",
       "    <tr>\n",
       "      <th>1</th>\n",
       "      <td>9943447915df3a45fd6720a026af905b6da6b56a37701b...</td>\n",
       "      <td>45</td>\n",
       "      <td>0.0</td>\n",
       "      <td>1542215484895</td>\n",
       "    </tr>\n",
       "    <tr>\n",
       "      <th>2</th>\n",
       "      <td>9943447915df3a45fd6720a026af905b6da6b56a37701b...</td>\n",
       "      <td>.m5100869650219008</td>\n",
       "      <td>0.0</td>\n",
       "      <td>1541124410372</td>\n",
       "    </tr>\n",
       "    <tr>\n",
       "      <th>3</th>\n",
       "      <td>9943447915df3a45fd6720a026af905b6da6b56a37701b...</td>\n",
       "      <td>4</td>\n",
       "      <td>0.0</td>\n",
       "      <td>1543713091129</td>\n",
       "    </tr>\n",
       "    <tr>\n",
       "      <th>4</th>\n",
       "      <td>9943447915df3a45fd6720a026af905b6da6b56a37701b...</td>\n",
       "      <td>6</td>\n",
       "      <td>0.0</td>\n",
       "      <td>1543713093116</td>\n",
       "    </tr>\n",
       "  </tbody>\n",
       "</table>\n",
       "</div>"
      ],
      "text/plain": [
       "                                        user_id_hash               event  \\\n",
       "0  9943447915df3a45fd6720a026af905b6da6b56a37701b...                  45   \n",
       "1  9943447915df3a45fd6720a026af905b6da6b56a37701b...                  45   \n",
       "2  9943447915df3a45fd6720a026af905b6da6b56a37701b...  .m5100869650219008   \n",
       "3  9943447915df3a45fd6720a026af905b6da6b56a37701b...                   4   \n",
       "4  9943447915df3a45fd6720a026af905b6da6b56a37701b...                   6   \n",
       "\n",
       "   event_value  event_timestamp  \n",
       "0          0.0    1542215397132  \n",
       "1          0.0    1542215484895  \n",
       "2          0.0    1541124410372  \n",
       "3          0.0    1543713091129  \n",
       "4          0.0    1543713093116  "
      ]
     },
     "execution_count": 198,
     "metadata": {},
     "output_type": "execute_result"
    }
   ],
   "source": [
    "tmp2.head()"
   ]
  },
  {
   "cell_type": "code",
   "execution_count": 42,
   "metadata": {},
   "outputs": [],
   "source": [
    "tmp3 = tmp2[tmp2[\"event_value\"]!=0]"
   ]
  },
  {
   "cell_type": "code",
   "execution_count": 43,
   "metadata": {},
   "outputs": [
    {
     "data": {
      "text/plain": [
       "[5, 7, 11, 8, 9, 10]\n",
       "Categories (6, object): [5, 7, 11, 8, 9, 10]"
      ]
     },
     "execution_count": 43,
     "metadata": {},
     "output_type": "execute_result"
    }
   ],
   "source": [
    "tmp3.event.unique()"
   ]
  },
  {
   "cell_type": "code",
   "execution_count": 202,
   "metadata": {},
   "outputs": [
    {
     "data": {
      "text/html": [
       "<div>\n",
       "<style scoped>\n",
       "    .dataframe tbody tr th:only-of-type {\n",
       "        vertical-align: middle;\n",
       "    }\n",
       "\n",
       "    .dataframe tbody tr th {\n",
       "        vertical-align: top;\n",
       "    }\n",
       "\n",
       "    .dataframe thead th {\n",
       "        text-align: right;\n",
       "    }\n",
       "</style>\n",
       "<table border=\"1\" class=\"dataframe\">\n",
       "  <thead>\n",
       "    <tr style=\"text-align: right;\">\n",
       "      <th></th>\n",
       "      <th>user_id_hash</th>\n",
       "      <th>event</th>\n",
       "      <th>event_value</th>\n",
       "      <th>event_timestamp</th>\n",
       "    </tr>\n",
       "  </thead>\n",
       "  <tbody>\n",
       "    <tr>\n",
       "      <th>5</th>\n",
       "      <td>9943447915df3a45fd6720a026af905b6da6b56a37701b...</td>\n",
       "      <td>5</td>\n",
       "      <td>1.0</td>\n",
       "      <td>1543713101700</td>\n",
       "    </tr>\n",
       "    <tr>\n",
       "      <th>25</th>\n",
       "      <td>9943447915df3a45fd6720a026af905b6da6b56a37701b...</td>\n",
       "      <td>5</td>\n",
       "      <td>1.0</td>\n",
       "      <td>1543714449189</td>\n",
       "    </tr>\n",
       "    <tr>\n",
       "      <th>32</th>\n",
       "      <td>9943447915df3a45fd6720a026af905b6da6b56a37701b...</td>\n",
       "      <td>5</td>\n",
       "      <td>1.0</td>\n",
       "      <td>1539215610646</td>\n",
       "    </tr>\n",
       "    <tr>\n",
       "      <th>67</th>\n",
       "      <td>9943447915df3a45fd6720a026af905b6da6b56a37701b...</td>\n",
       "      <td>7</td>\n",
       "      <td>12.0</td>\n",
       "      <td>1538875188252</td>\n",
       "    </tr>\n",
       "    <tr>\n",
       "      <th>74</th>\n",
       "      <td>9943447915df3a45fd6720a026af905b6da6b56a37701b...</td>\n",
       "      <td>7</td>\n",
       "      <td>20.0</td>\n",
       "      <td>1538875448149</td>\n",
       "    </tr>\n",
       "  </tbody>\n",
       "</table>\n",
       "</div>"
      ],
      "text/plain": [
       "                                         user_id_hash event  event_value  \\\n",
       "5   9943447915df3a45fd6720a026af905b6da6b56a37701b...     5          1.0   \n",
       "25  9943447915df3a45fd6720a026af905b6da6b56a37701b...     5          1.0   \n",
       "32  9943447915df3a45fd6720a026af905b6da6b56a37701b...     5          1.0   \n",
       "67  9943447915df3a45fd6720a026af905b6da6b56a37701b...     7         12.0   \n",
       "74  9943447915df3a45fd6720a026af905b6da6b56a37701b...     7         20.0   \n",
       "\n",
       "    event_timestamp  \n",
       "5     1543713101700  \n",
       "25    1543714449189  \n",
       "32    1539215610646  \n",
       "67    1538875188252  \n",
       "74    1538875448149  "
      ]
     },
     "execution_count": 202,
     "metadata": {},
     "output_type": "execute_result"
    }
   ],
   "source": [
    "tmp3.head()"
   ]
  },
  {
   "cell_type": "code",
   "execution_count": 44,
   "metadata": {},
   "outputs": [],
   "source": [
    "# count event=5\n",
    "tmp3 = tmp3[tmp3[\"event\"]==\"5\"][[\"user_id_hash\", \"event\"]].groupby(\"user_id_hash\").count().reset_index()"
   ]
  },
  {
   "cell_type": "code",
   "execution_count": 44,
   "metadata": {},
   "outputs": [
    {
     "data": {
      "text/html": [
       "<div>\n",
       "<style scoped>\n",
       "    .dataframe tbody tr th:only-of-type {\n",
       "        vertical-align: middle;\n",
       "    }\n",
       "\n",
       "    .dataframe tbody tr th {\n",
       "        vertical-align: top;\n",
       "    }\n",
       "\n",
       "    .dataframe thead th {\n",
       "        text-align: right;\n",
       "    }\n",
       "</style>\n",
       "<table border=\"1\" class=\"dataframe\">\n",
       "  <thead>\n",
       "    <tr style=\"text-align: right;\">\n",
       "      <th></th>\n",
       "      <th>user_id_hash</th>\n",
       "      <th>event</th>\n",
       "    </tr>\n",
       "  </thead>\n",
       "  <tbody>\n",
       "    <tr>\n",
       "      <th>0</th>\n",
       "      <td>002e447aed33ed4c51a68743cc293ef2148058b6a6239e...</td>\n",
       "      <td>4</td>\n",
       "    </tr>\n",
       "    <tr>\n",
       "      <th>1</th>\n",
       "      <td>005c9d79cf18efc6c8b5fa767964b1def9b8e2f8abd23f...</td>\n",
       "      <td>0</td>\n",
       "    </tr>\n",
       "    <tr>\n",
       "      <th>2</th>\n",
       "      <td>0061b4d30e8a9935b2ebeec954ff509b4f0cb500cd725c...</td>\n",
       "      <td>0</td>\n",
       "    </tr>\n",
       "    <tr>\n",
       "      <th>3</th>\n",
       "      <td>00fbbf507c7d3c2f259cd3329d241c29d35712e2d4699f...</td>\n",
       "      <td>1</td>\n",
       "    </tr>\n",
       "    <tr>\n",
       "      <th>4</th>\n",
       "      <td>0107a0017873efc2dea9a9155832363ceacf6fe97bd428...</td>\n",
       "      <td>0</td>\n",
       "    </tr>\n",
       "  </tbody>\n",
       "</table>\n",
       "</div>"
      ],
      "text/plain": [
       "                                        user_id_hash  event\n",
       "0  002e447aed33ed4c51a68743cc293ef2148058b6a6239e...      4\n",
       "1  005c9d79cf18efc6c8b5fa767964b1def9b8e2f8abd23f...      0\n",
       "2  0061b4d30e8a9935b2ebeec954ff509b4f0cb500cd725c...      0\n",
       "3  00fbbf507c7d3c2f259cd3329d241c29d35712e2d4699f...      1\n",
       "4  0107a0017873efc2dea9a9155832363ceacf6fe97bd428...      0"
      ]
     },
     "execution_count": 44,
     "metadata": {},
     "output_type": "execute_result"
    }
   ],
   "source": [
    "tmp3.head()"
   ]
  },
  {
   "cell_type": "code",
   "execution_count": 45,
   "metadata": {},
   "outputs": [],
   "source": [
    "feature4 = tmp3"
   ]
  },
  {
   "cell_type": "code",
   "execution_count": 46,
   "metadata": {},
   "outputs": [],
   "source": [
    "users_val = users_val.join(feature4.set_index(\"user_id_hash\"), on=\"user_id_hash\", how=\"left\")"
   ]
  },
  {
   "cell_type": "code",
   "execution_count": 208,
   "metadata": {},
   "outputs": [
    {
     "data": {
      "text/html": [
       "<div>\n",
       "<style scoped>\n",
       "    .dataframe tbody tr th:only-of-type {\n",
       "        vertical-align: middle;\n",
       "    }\n",
       "\n",
       "    .dataframe tbody tr th {\n",
       "        vertical-align: top;\n",
       "    }\n",
       "\n",
       "    .dataframe thead th {\n",
       "        text-align: right;\n",
       "    }\n",
       "</style>\n",
       "<table border=\"1\" class=\"dataframe\">\n",
       "  <thead>\n",
       "    <tr style=\"text-align: right;\">\n",
       "      <th></th>\n",
       "      <th>user_id_hash</th>\n",
       "      <th>purchase1</th>\n",
       "      <th>purchase2</th>\n",
       "      <th>amt_purchased</th>\n",
       "      <th>num_of_purchase</th>\n",
       "      <th>total_prev_session_duration</th>\n",
       "      <th>event</th>\n",
       "    </tr>\n",
       "  </thead>\n",
       "  <tbody>\n",
       "    <tr>\n",
       "      <th>0</th>\n",
       "      <td>9943447915df3a45fd6720a026af905b6da6b56a37701b...</td>\n",
       "      <td>0</td>\n",
       "      <td>0</td>\n",
       "      <td>3.492188</td>\n",
       "      <td>1</td>\n",
       "      <td>817125640.0</td>\n",
       "      <td>28</td>\n",
       "    </tr>\n",
       "    <tr>\n",
       "      <th>1</th>\n",
       "      <td>43f75f8042d3c80c45e222bdd09267f4584684c54d6fae...</td>\n",
       "      <td>0</td>\n",
       "      <td>0</td>\n",
       "      <td>0.000000</td>\n",
       "      <td>0</td>\n",
       "      <td>6074816.0</td>\n",
       "      <td>2</td>\n",
       "    </tr>\n",
       "    <tr>\n",
       "      <th>2</th>\n",
       "      <td>999524249720812f2d8c0390293efd58e1ac84d587a01c...</td>\n",
       "      <td>0</td>\n",
       "      <td>0</td>\n",
       "      <td>0.000000</td>\n",
       "      <td>0</td>\n",
       "      <td>0.0</td>\n",
       "      <td>0</td>\n",
       "    </tr>\n",
       "    <tr>\n",
       "      <th>3</th>\n",
       "      <td>4e6bc35cf7fd79a5312047651e7865915f4a6bec193cf2...</td>\n",
       "      <td>0</td>\n",
       "      <td>0</td>\n",
       "      <td>0.000000</td>\n",
       "      <td>0</td>\n",
       "      <td>0.0</td>\n",
       "      <td>0</td>\n",
       "    </tr>\n",
       "    <tr>\n",
       "      <th>4</th>\n",
       "      <td>dc009148ee26d658e0240c7b7f6a258790a457737f96e8...</td>\n",
       "      <td>0</td>\n",
       "      <td>0</td>\n",
       "      <td>0.000000</td>\n",
       "      <td>0</td>\n",
       "      <td>0.0</td>\n",
       "      <td>0</td>\n",
       "    </tr>\n",
       "  </tbody>\n",
       "</table>\n",
       "</div>"
      ],
      "text/plain": [
       "                                        user_id_hash  purchase1  purchase2  \\\n",
       "0  9943447915df3a45fd6720a026af905b6da6b56a37701b...          0          0   \n",
       "1  43f75f8042d3c80c45e222bdd09267f4584684c54d6fae...          0          0   \n",
       "2  999524249720812f2d8c0390293efd58e1ac84d587a01c...          0          0   \n",
       "3  4e6bc35cf7fd79a5312047651e7865915f4a6bec193cf2...          0          0   \n",
       "4  dc009148ee26d658e0240c7b7f6a258790a457737f96e8...          0          0   \n",
       "\n",
       "   amt_purchased  num_of_purchase  total_prev_session_duration  event  \n",
       "0       3.492188                1                  817125640.0     28  \n",
       "1       0.000000                0                    6074816.0      2  \n",
       "2       0.000000                0                          0.0      0  \n",
       "3       0.000000                0                          0.0      0  \n",
       "4       0.000000                0                          0.0      0  "
      ]
     },
     "execution_count": 208,
     "metadata": {},
     "output_type": "execute_result"
    }
   ],
   "source": [
    "users_val.head()"
   ]
  },
  {
   "cell_type": "code",
   "execution_count": 47,
   "metadata": {},
   "outputs": [],
   "source": [
    "users_val.columns = [\"user_id_hash\", \"purchase1\", \"purchase2\", \"amt_purchased\", \"num_of_purchase\", \\\n",
    "                    \"total_prev_session_duration\", \"num_of_event5\"]"
   ]
  },
  {
   "cell_type": "code",
   "execution_count": 48,
   "metadata": {},
   "outputs": [],
   "source": [
    "def distinctEvent(df, value):\n",
    "    df = df[df[\"event\"]==value].groupby(\"user_id_hash\").count().reset_index()\n",
    "    return df"
   ]
  },
  {
   "cell_type": "code",
   "execution_count": 49,
   "metadata": {},
   "outputs": [],
   "source": [
    "feature5 = distinctEvent(tmp2[[\"user_id_hash\", \"event\"]], \"7\")"
   ]
  },
  {
   "cell_type": "code",
   "execution_count": 50,
   "metadata": {},
   "outputs": [],
   "source": [
    "feature5.columns = [\"user_id_hash\", \"num_of_event7\"]"
   ]
  },
  {
   "cell_type": "code",
   "execution_count": 51,
   "metadata": {},
   "outputs": [],
   "source": [
    "users_val = users_val.join(feature5.set_index(\"user_id_hash\"), on=\"user_id_hash\", how=\"left\")"
   ]
  },
  {
   "cell_type": "code",
   "execution_count": 52,
   "metadata": {},
   "outputs": [
    {
     "data": {
      "text/html": [
       "<div>\n",
       "<style scoped>\n",
       "    .dataframe tbody tr th:only-of-type {\n",
       "        vertical-align: middle;\n",
       "    }\n",
       "\n",
       "    .dataframe tbody tr th {\n",
       "        vertical-align: top;\n",
       "    }\n",
       "\n",
       "    .dataframe thead th {\n",
       "        text-align: right;\n",
       "    }\n",
       "</style>\n",
       "<table border=\"1\" class=\"dataframe\">\n",
       "  <thead>\n",
       "    <tr style=\"text-align: right;\">\n",
       "      <th></th>\n",
       "      <th>user_id_hash</th>\n",
       "      <th>purchase1</th>\n",
       "      <th>purchase2</th>\n",
       "      <th>amt_purchased</th>\n",
       "      <th>num_of_purchase</th>\n",
       "      <th>total_prev_session_duration</th>\n",
       "      <th>num_of_event5</th>\n",
       "      <th>num_of_event7</th>\n",
       "    </tr>\n",
       "  </thead>\n",
       "  <tbody>\n",
       "    <tr>\n",
       "      <th>0</th>\n",
       "      <td>9943447915df3a45fd6720a026af905b6da6b56a37701b...</td>\n",
       "      <td>0</td>\n",
       "      <td>0</td>\n",
       "      <td>3.492188</td>\n",
       "      <td>1</td>\n",
       "      <td>817125640.0</td>\n",
       "      <td>28</td>\n",
       "      <td>9</td>\n",
       "    </tr>\n",
       "    <tr>\n",
       "      <th>1</th>\n",
       "      <td>43f75f8042d3c80c45e222bdd09267f4584684c54d6fae...</td>\n",
       "      <td>0</td>\n",
       "      <td>0</td>\n",
       "      <td>0.000000</td>\n",
       "      <td>0</td>\n",
       "      <td>6074816.0</td>\n",
       "      <td>2</td>\n",
       "      <td>2</td>\n",
       "    </tr>\n",
       "    <tr>\n",
       "      <th>2</th>\n",
       "      <td>999524249720812f2d8c0390293efd58e1ac84d587a01c...</td>\n",
       "      <td>0</td>\n",
       "      <td>0</td>\n",
       "      <td>0.000000</td>\n",
       "      <td>0</td>\n",
       "      <td>0.0</td>\n",
       "      <td>0</td>\n",
       "      <td>3</td>\n",
       "    </tr>\n",
       "    <tr>\n",
       "      <th>3</th>\n",
       "      <td>4e6bc35cf7fd79a5312047651e7865915f4a6bec193cf2...</td>\n",
       "      <td>0</td>\n",
       "      <td>0</td>\n",
       "      <td>0.000000</td>\n",
       "      <td>0</td>\n",
       "      <td>0.0</td>\n",
       "      <td>0</td>\n",
       "      <td>0</td>\n",
       "    </tr>\n",
       "    <tr>\n",
       "      <th>4</th>\n",
       "      <td>dc009148ee26d658e0240c7b7f6a258790a457737f96e8...</td>\n",
       "      <td>0</td>\n",
       "      <td>0</td>\n",
       "      <td>0.000000</td>\n",
       "      <td>0</td>\n",
       "      <td>0.0</td>\n",
       "      <td>0</td>\n",
       "      <td>0</td>\n",
       "    </tr>\n",
       "  </tbody>\n",
       "</table>\n",
       "</div>"
      ],
      "text/plain": [
       "                                        user_id_hash  purchase1  purchase2  \\\n",
       "0  9943447915df3a45fd6720a026af905b6da6b56a37701b...          0          0   \n",
       "1  43f75f8042d3c80c45e222bdd09267f4584684c54d6fae...          0          0   \n",
       "2  999524249720812f2d8c0390293efd58e1ac84d587a01c...          0          0   \n",
       "3  4e6bc35cf7fd79a5312047651e7865915f4a6bec193cf2...          0          0   \n",
       "4  dc009148ee26d658e0240c7b7f6a258790a457737f96e8...          0          0   \n",
       "\n",
       "   amt_purchased  num_of_purchase  total_prev_session_duration  num_of_event5  \\\n",
       "0       3.492188                1                  817125640.0             28   \n",
       "1       0.000000                0                    6074816.0              2   \n",
       "2       0.000000                0                          0.0              0   \n",
       "3       0.000000                0                          0.0              0   \n",
       "4       0.000000                0                          0.0              0   \n",
       "\n",
       "   num_of_event7  \n",
       "0              9  \n",
       "1              2  \n",
       "2              3  \n",
       "3              0  \n",
       "4              0  "
      ]
     },
     "execution_count": 52,
     "metadata": {},
     "output_type": "execute_result"
    }
   ],
   "source": [
    "users_val.head()"
   ]
  },
  {
   "cell_type": "code",
   "execution_count": 52,
   "metadata": {},
   "outputs": [],
   "source": [
    "feature6 = distinctEvent(tmp2[[\"user_id_hash\", \"event\"]], \"9\")\n",
    "feature6.columns = [\"user_id_hash\", \"num_of_event9\"]\n",
    "users_val = users_val.join(feature6.set_index(\"user_id_hash\"), on=\"user_id_hash\", how=\"left\")"
   ]
  },
  {
   "cell_type": "code",
   "execution_count": 53,
   "metadata": {},
   "outputs": [],
   "source": [
    "users_val.columns = [\"user_id_hash\", \"purchase1\", \"purchase2\", \"amt_purchased\", \"num_of_purchase\", \\\n",
    "                    \"total_prev_session_duration\", \"num_of_event5\",\"num_of_event7\", \"num_of_event9\"]"
   ]
  },
  {
   "cell_type": "code",
   "execution_count": 54,
   "metadata": {},
   "outputs": [],
   "source": [
    "feature7 = distinctEvent(tmp2[[\"user_id_hash\", \"event\"]], \"10\")\n",
    "feature7.columns = [\"user_id_hash\", \"num_of_event10\"]\n",
    "users_val = users_val.join(feature7.set_index(\"user_id_hash\"), on=\"user_id_hash\", how=\"left\")"
   ]
  },
  {
   "cell_type": "code",
   "execution_count": 55,
   "metadata": {},
   "outputs": [],
   "source": [
    "users_val.columns = [\"user_id_hash\", \"purchase1\", \"purchase2\", \"amt_purchased\", \"num_of_purchase\", \\\n",
    "                    \"total_prev_session_duration\", \"num_of_event5\",\"num_of_event7\", \"num_of_event9\", \"num_of_event10\"]"
   ]
  },
  {
   "cell_type": "code",
   "execution_count": 56,
   "metadata": {},
   "outputs": [],
   "source": [
    "feature8 = distinctEvent(tmp2[[\"user_id_hash\", \"event\"]], \"11\")\n",
    "feature8.columns = [\"user_id_hash\", \"num_of_event11\"]\n",
    "users_val = users_val.join(feature8.set_index(\"user_id_hash\"), on=\"user_id_hash\", how=\"left\")"
   ]
  },
  {
   "cell_type": "code",
   "execution_count": 57,
   "metadata": {},
   "outputs": [],
   "source": [
    "def eventAmt(df, value):\n",
    "    df = df[df[\"event\"]==value][[\"user_id_hash\", \"event_value\"]].groupby(\"user_id_hash\").sum().reset_index()\n",
    "    return df"
   ]
  },
  {
   "cell_type": "code",
   "execution_count": 58,
   "metadata": {},
   "outputs": [],
   "source": [
    "# feature 9\n",
    "feature9 = eventAmt(df2[[\"user_id_hash\", \"event_value\", \"event\"]], \"5\")\n",
    "feature9.columns = [\"user_id_hash\", \"amt_of_event5\"]\n",
    "users_val = users_val.join(feature9.set_index(\"user_id_hash\"), on=\"user_id_hash\", how=\"left\")"
   ]
  },
  {
   "cell_type": "code",
   "execution_count": 59,
   "metadata": {},
   "outputs": [],
   "source": [
    "feature10 = eventAmt(df2[[\"user_id_hash\", \"event_value\", \"event\"]], \"7\")\n",
    "feature10.columns = [\"user_id_hash\", \"amt_of_event7\"]\n",
    "users_val = users_val.join(feature10.set_index(\"user_id_hash\"), on=\"user_id_hash\", how=\"left\")"
   ]
  },
  {
   "cell_type": "code",
   "execution_count": 60,
   "metadata": {},
   "outputs": [],
   "source": [
    "feature11 = eventAmt(df2[[\"user_id_hash\", \"event_value\", \"event\"]], \"9\")\n",
    "feature11.columns = [\"user_id_hash\", \"amt_of_event9\"]\n",
    "users_val = users_val.join(feature11.set_index(\"user_id_hash\"), on=\"user_id_hash\", how=\"left\")"
   ]
  },
  {
   "cell_type": "code",
   "execution_count": 61,
   "metadata": {},
   "outputs": [],
   "source": [
    "feature12 = eventAmt(df2[[\"user_id_hash\", \"event_value\", \"event\"]], \"10\")\n",
    "feature12.columns = [\"user_id_hash\", \"amt_of_event10\"]\n",
    "users_val = users_val.join(feature12.set_index(\"user_id_hash\"), on=\"user_id_hash\", how=\"left\")"
   ]
  },
  {
   "cell_type": "code",
   "execution_count": 62,
   "metadata": {},
   "outputs": [],
   "source": [
    "feature13 = eventAmt(df2[[\"user_id_hash\", \"event_value\", \"event\"]], \"11\")\n",
    "feature13.columns = [\"user_id_hash\", \"amt_of_event11\"]\n",
    "users_val = users_val.join(feature13.set_index(\"user_id_hash\"), on=\"user_id_hash\", how=\"left\")"
   ]
  },
  {
   "cell_type": "code",
   "execution_count": 63,
   "metadata": {},
   "outputs": [
    {
     "data": {
      "text/html": [
       "<div>\n",
       "<style scoped>\n",
       "    .dataframe tbody tr th:only-of-type {\n",
       "        vertical-align: middle;\n",
       "    }\n",
       "\n",
       "    .dataframe tbody tr th {\n",
       "        vertical-align: top;\n",
       "    }\n",
       "\n",
       "    .dataframe thead th {\n",
       "        text-align: right;\n",
       "    }\n",
       "</style>\n",
       "<table border=\"1\" class=\"dataframe\">\n",
       "  <thead>\n",
       "    <tr style=\"text-align: right;\">\n",
       "      <th></th>\n",
       "      <th>user_id_hash</th>\n",
       "      <th>purchase1</th>\n",
       "      <th>purchase2</th>\n",
       "      <th>amt_purchased</th>\n",
       "      <th>num_of_purchase</th>\n",
       "      <th>total_prev_session_duration</th>\n",
       "      <th>num_of_event5</th>\n",
       "      <th>num_of_event7</th>\n",
       "      <th>num_of_event9</th>\n",
       "      <th>num_of_event10</th>\n",
       "      <th>num_of_event11</th>\n",
       "      <th>amt_of_event5</th>\n",
       "      <th>amt_of_event7</th>\n",
       "      <th>amt_of_event9</th>\n",
       "      <th>amt_of_event10</th>\n",
       "      <th>amt_of_event11</th>\n",
       "    </tr>\n",
       "  </thead>\n",
       "  <tbody>\n",
       "    <tr>\n",
       "      <th>0</th>\n",
       "      <td>9943447915df3a45fd6720a026af905b6da6b56a37701b...</td>\n",
       "      <td>0</td>\n",
       "      <td>0</td>\n",
       "      <td>3.492188</td>\n",
       "      <td>1</td>\n",
       "      <td>857156805.0</td>\n",
       "      <td>28</td>\n",
       "      <td>9</td>\n",
       "      <td>0</td>\n",
       "      <td>0</td>\n",
       "      <td>1</td>\n",
       "      <td>28.0</td>\n",
       "      <td>167.0</td>\n",
       "      <td>0.0</td>\n",
       "      <td>0.0</td>\n",
       "      <td>5.0</td>\n",
       "    </tr>\n",
       "    <tr>\n",
       "      <th>1</th>\n",
       "      <td>43f75f8042d3c80c45e222bdd09267f4584684c54d6fae...</td>\n",
       "      <td>0</td>\n",
       "      <td>0</td>\n",
       "      <td>0.000000</td>\n",
       "      <td>0</td>\n",
       "      <td>6074816.0</td>\n",
       "      <td>2</td>\n",
       "      <td>2</td>\n",
       "      <td>0</td>\n",
       "      <td>0</td>\n",
       "      <td>1</td>\n",
       "      <td>2.0</td>\n",
       "      <td>45.0</td>\n",
       "      <td>0.0</td>\n",
       "      <td>0.0</td>\n",
       "      <td>5.0</td>\n",
       "    </tr>\n",
       "    <tr>\n",
       "      <th>2</th>\n",
       "      <td>999524249720812f2d8c0390293efd58e1ac84d587a01c...</td>\n",
       "      <td>0</td>\n",
       "      <td>0</td>\n",
       "      <td>0.000000</td>\n",
       "      <td>0</td>\n",
       "      <td>0.0</td>\n",
       "      <td>0</td>\n",
       "      <td>3</td>\n",
       "      <td>0</td>\n",
       "      <td>0</td>\n",
       "      <td>0</td>\n",
       "      <td>0.0</td>\n",
       "      <td>47.0</td>\n",
       "      <td>0.0</td>\n",
       "      <td>0.0</td>\n",
       "      <td>0.0</td>\n",
       "    </tr>\n",
       "    <tr>\n",
       "      <th>3</th>\n",
       "      <td>4e6bc35cf7fd79a5312047651e7865915f4a6bec193cf2...</td>\n",
       "      <td>0</td>\n",
       "      <td>0</td>\n",
       "      <td>0.000000</td>\n",
       "      <td>0</td>\n",
       "      <td>0.0</td>\n",
       "      <td>0</td>\n",
       "      <td>0</td>\n",
       "      <td>0</td>\n",
       "      <td>0</td>\n",
       "      <td>0</td>\n",
       "      <td>0.0</td>\n",
       "      <td>0.0</td>\n",
       "      <td>0.0</td>\n",
       "      <td>0.0</td>\n",
       "      <td>0.0</td>\n",
       "    </tr>\n",
       "    <tr>\n",
       "      <th>4</th>\n",
       "      <td>dc009148ee26d658e0240c7b7f6a258790a457737f96e8...</td>\n",
       "      <td>0</td>\n",
       "      <td>0</td>\n",
       "      <td>0.000000</td>\n",
       "      <td>0</td>\n",
       "      <td>0.0</td>\n",
       "      <td>0</td>\n",
       "      <td>0</td>\n",
       "      <td>0</td>\n",
       "      <td>0</td>\n",
       "      <td>0</td>\n",
       "      <td>0.0</td>\n",
       "      <td>0.0</td>\n",
       "      <td>0.0</td>\n",
       "      <td>0.0</td>\n",
       "      <td>0.0</td>\n",
       "    </tr>\n",
       "  </tbody>\n",
       "</table>\n",
       "</div>"
      ],
      "text/plain": [
       "                                        user_id_hash  purchase1  purchase2  \\\n",
       "0  9943447915df3a45fd6720a026af905b6da6b56a37701b...          0          0   \n",
       "1  43f75f8042d3c80c45e222bdd09267f4584684c54d6fae...          0          0   \n",
       "2  999524249720812f2d8c0390293efd58e1ac84d587a01c...          0          0   \n",
       "3  4e6bc35cf7fd79a5312047651e7865915f4a6bec193cf2...          0          0   \n",
       "4  dc009148ee26d658e0240c7b7f6a258790a457737f96e8...          0          0   \n",
       "\n",
       "   amt_purchased  num_of_purchase  total_prev_session_duration  num_of_event5  \\\n",
       "0       3.492188                1                  857156805.0             28   \n",
       "1       0.000000                0                    6074816.0              2   \n",
       "2       0.000000                0                          0.0              0   \n",
       "3       0.000000                0                          0.0              0   \n",
       "4       0.000000                0                          0.0              0   \n",
       "\n",
       "   num_of_event7  num_of_event9  num_of_event10  num_of_event11  \\\n",
       "0              9              0               0               1   \n",
       "1              2              0               0               1   \n",
       "2              3              0               0               0   \n",
       "3              0              0               0               0   \n",
       "4              0              0               0               0   \n",
       "\n",
       "   amt_of_event5  amt_of_event7  amt_of_event9  amt_of_event10  amt_of_event11  \n",
       "0           28.0          167.0            0.0             0.0             5.0  \n",
       "1            2.0           45.0            0.0             0.0             5.0  \n",
       "2            0.0           47.0            0.0             0.0             0.0  \n",
       "3            0.0            0.0            0.0             0.0             0.0  \n",
       "4            0.0            0.0            0.0             0.0             0.0  "
      ]
     },
     "execution_count": 63,
     "metadata": {},
     "output_type": "execute_result"
    }
   ],
   "source": [
    "users_val.head()"
   ]
  },
  {
   "cell_type": "code",
   "execution_count": 347,
   "metadata": {},
   "outputs": [
    {
     "data": {
      "text/html": [
       "<div>\n",
       "<style scoped>\n",
       "    .dataframe tbody tr th:only-of-type {\n",
       "        vertical-align: middle;\n",
       "    }\n",
       "\n",
       "    .dataframe tbody tr th {\n",
       "        vertical-align: top;\n",
       "    }\n",
       "\n",
       "    .dataframe thead th {\n",
       "        text-align: right;\n",
       "    }\n",
       "</style>\n",
       "<table border=\"1\" class=\"dataframe\">\n",
       "  <thead>\n",
       "    <tr style=\"text-align: right;\">\n",
       "      <th></th>\n",
       "      <th>purchase1</th>\n",
       "      <th>purchase2</th>\n",
       "      <th>amt_purchased</th>\n",
       "      <th>num_of_purchase</th>\n",
       "      <th>total_prev_session_duration</th>\n",
       "      <th>num_of_event5</th>\n",
       "      <th>num_of_event7</th>\n",
       "      <th>num_of_event9</th>\n",
       "      <th>num_of_event10</th>\n",
       "      <th>num_of_event11</th>\n",
       "      <th>amt_of_event5</th>\n",
       "      <th>amt_of_event7</th>\n",
       "      <th>amt_of_event9</th>\n",
       "      <th>amt_of_event10</th>\n",
       "      <th>amt_of_event11</th>\n",
       "    </tr>\n",
       "  </thead>\n",
       "  <tbody>\n",
       "    <tr>\n",
       "      <th>count</th>\n",
       "      <td>620988.000000</td>\n",
       "      <td>620988.000000</td>\n",
       "      <td>620988.0</td>\n",
       "      <td>620988.000000</td>\n",
       "      <td>6.209880e+05</td>\n",
       "      <td>620988.000000</td>\n",
       "      <td>620988.000000</td>\n",
       "      <td>620988.000000</td>\n",
       "      <td>620988.000000</td>\n",
       "      <td>620988.000000</td>\n",
       "      <td>620988.0</td>\n",
       "      <td>620988.0</td>\n",
       "      <td>620988.0</td>\n",
       "      <td>620988.0</td>\n",
       "      <td>620988.0</td>\n",
       "    </tr>\n",
       "    <tr>\n",
       "      <th>mean</th>\n",
       "      <td>0.007383</td>\n",
       "      <td>0.004979</td>\n",
       "      <td>NaN</td>\n",
       "      <td>0.211471</td>\n",
       "      <td>1.888030e+08</td>\n",
       "      <td>5.705094</td>\n",
       "      <td>3.173818</td>\n",
       "      <td>0.138218</td>\n",
       "      <td>0.003804</td>\n",
       "      <td>0.110031</td>\n",
       "      <td>NaN</td>\n",
       "      <td>NaN</td>\n",
       "      <td>NaN</td>\n",
       "      <td>NaN</td>\n",
       "      <td>NaN</td>\n",
       "    </tr>\n",
       "    <tr>\n",
       "      <th>std</th>\n",
       "      <td>0.085609</td>\n",
       "      <td>0.070387</td>\n",
       "      <td>NaN</td>\n",
       "      <td>2.111945</td>\n",
       "      <td>2.285150e+09</td>\n",
       "      <td>18.352764</td>\n",
       "      <td>12.581608</td>\n",
       "      <td>0.699218</td>\n",
       "      <td>0.067591</td>\n",
       "      <td>0.316062</td>\n",
       "      <td>NaN</td>\n",
       "      <td>NaN</td>\n",
       "      <td>NaN</td>\n",
       "      <td>NaN</td>\n",
       "      <td>0.0</td>\n",
       "    </tr>\n",
       "    <tr>\n",
       "      <th>min</th>\n",
       "      <td>0.000000</td>\n",
       "      <td>0.000000</td>\n",
       "      <td>0.0</td>\n",
       "      <td>0.000000</td>\n",
       "      <td>0.000000e+00</td>\n",
       "      <td>0.000000</td>\n",
       "      <td>0.000000</td>\n",
       "      <td>0.000000</td>\n",
       "      <td>0.000000</td>\n",
       "      <td>0.000000</td>\n",
       "      <td>0.0</td>\n",
       "      <td>0.0</td>\n",
       "      <td>0.0</td>\n",
       "      <td>0.0</td>\n",
       "      <td>0.0</td>\n",
       "    </tr>\n",
       "    <tr>\n",
       "      <th>25%</th>\n",
       "      <td>0.000000</td>\n",
       "      <td>0.000000</td>\n",
       "      <td>0.0</td>\n",
       "      <td>0.000000</td>\n",
       "      <td>0.000000e+00</td>\n",
       "      <td>0.000000</td>\n",
       "      <td>0.000000</td>\n",
       "      <td>0.000000</td>\n",
       "      <td>0.000000</td>\n",
       "      <td>0.000000</td>\n",
       "      <td>0.0</td>\n",
       "      <td>0.0</td>\n",
       "      <td>0.0</td>\n",
       "      <td>0.0</td>\n",
       "      <td>0.0</td>\n",
       "    </tr>\n",
       "    <tr>\n",
       "      <th>50%</th>\n",
       "      <td>0.000000</td>\n",
       "      <td>0.000000</td>\n",
       "      <td>0.0</td>\n",
       "      <td>0.000000</td>\n",
       "      <td>0.000000e+00</td>\n",
       "      <td>0.000000</td>\n",
       "      <td>2.000000</td>\n",
       "      <td>0.000000</td>\n",
       "      <td>0.000000</td>\n",
       "      <td>0.000000</td>\n",
       "      <td>0.0</td>\n",
       "      <td>27.0</td>\n",
       "      <td>0.0</td>\n",
       "      <td>0.0</td>\n",
       "      <td>0.0</td>\n",
       "    </tr>\n",
       "    <tr>\n",
       "      <th>75%</th>\n",
       "      <td>0.000000</td>\n",
       "      <td>0.000000</td>\n",
       "      <td>0.0</td>\n",
       "      <td>0.000000</td>\n",
       "      <td>1.978582e+06</td>\n",
       "      <td>3.000000</td>\n",
       "      <td>3.000000</td>\n",
       "      <td>0.000000</td>\n",
       "      <td>0.000000</td>\n",
       "      <td>0.000000</td>\n",
       "      <td>3.0</td>\n",
       "      <td>58.0</td>\n",
       "      <td>0.0</td>\n",
       "      <td>0.0</td>\n",
       "      <td>0.0</td>\n",
       "    </tr>\n",
       "    <tr>\n",
       "      <th>max</th>\n",
       "      <td>1.000000</td>\n",
       "      <td>1.000000</td>\n",
       "      <td>997.0</td>\n",
       "      <td>205.000000</td>\n",
       "      <td>5.160220e+11</td>\n",
       "      <td>777.000000</td>\n",
       "      <td>1579.000000</td>\n",
       "      <td>110.000000</td>\n",
       "      <td>5.000000</td>\n",
       "      <td>6.000000</td>\n",
       "      <td>inf</td>\n",
       "      <td>inf</td>\n",
       "      <td>inf</td>\n",
       "      <td>inf</td>\n",
       "      <td>30.0</td>\n",
       "    </tr>\n",
       "  </tbody>\n",
       "</table>\n",
       "</div>"
      ],
      "text/plain": [
       "           purchase1      purchase2  amt_purchased  num_of_purchase  \\\n",
       "count  620988.000000  620988.000000       620988.0    620988.000000   \n",
       "mean        0.007383       0.004979            NaN         0.211471   \n",
       "std         0.085609       0.070387            NaN         2.111945   \n",
       "min         0.000000       0.000000            0.0         0.000000   \n",
       "25%         0.000000       0.000000            0.0         0.000000   \n",
       "50%         0.000000       0.000000            0.0         0.000000   \n",
       "75%         0.000000       0.000000            0.0         0.000000   \n",
       "max         1.000000       1.000000          997.0       205.000000   \n",
       "\n",
       "       total_prev_session_duration  num_of_event5  num_of_event7  \\\n",
       "count                 6.209880e+05  620988.000000  620988.000000   \n",
       "mean                  1.888030e+08       5.705094       3.173818   \n",
       "std                   2.285150e+09      18.352764      12.581608   \n",
       "min                   0.000000e+00       0.000000       0.000000   \n",
       "25%                   0.000000e+00       0.000000       0.000000   \n",
       "50%                   0.000000e+00       0.000000       2.000000   \n",
       "75%                   1.978582e+06       3.000000       3.000000   \n",
       "max                   5.160220e+11     777.000000    1579.000000   \n",
       "\n",
       "       num_of_event9  num_of_event10  num_of_event11  amt_of_event5  \\\n",
       "count  620988.000000   620988.000000   620988.000000       620988.0   \n",
       "mean        0.138218        0.003804        0.110031            NaN   \n",
       "std         0.699218        0.067591        0.316062            NaN   \n",
       "min         0.000000        0.000000        0.000000            0.0   \n",
       "25%         0.000000        0.000000        0.000000            0.0   \n",
       "50%         0.000000        0.000000        0.000000            0.0   \n",
       "75%         0.000000        0.000000        0.000000            3.0   \n",
       "max       110.000000        5.000000        6.000000            inf   \n",
       "\n",
       "       amt_of_event7  amt_of_event9  amt_of_event10  amt_of_event11  \n",
       "count       620988.0       620988.0        620988.0        620988.0  \n",
       "mean             NaN            NaN             NaN             NaN  \n",
       "std              NaN            NaN             NaN             0.0  \n",
       "min              0.0            0.0             0.0             0.0  \n",
       "25%              0.0            0.0             0.0             0.0  \n",
       "50%             27.0            0.0             0.0             0.0  \n",
       "75%             58.0            0.0             0.0             0.0  \n",
       "max              inf            inf             inf            30.0  "
      ]
     },
     "execution_count": 347,
     "metadata": {},
     "output_type": "execute_result"
    }
   ],
   "source": [
    "users_val.describe()"
   ]
  },
  {
   "cell_type": "code",
   "execution_count": 104,
   "metadata": {},
   "outputs": [],
   "source": [
    "users_val[users_val[\"amt_of_event5\"]==float(\"inf\")] = 0\n",
    "users_val[users_val[\"amt_of_event7\"]==float(\"inf\")] = 0\n",
    "users_val[users_val[\"amt_of_event9\"]==float(\"inf\")] = 0\n",
    "users_val[users_val[\"amt_of_event10\"]==float(\"inf\")] = 0\n",
    "users_val[users_val[\"amt_of_event11\"]==float(\"inf\")] = 0"
   ]
  },
  {
   "cell_type": "code",
   "execution_count": 105,
   "metadata": {},
   "outputs": [],
   "source": [
    "users_val[\"amt_purchased\"].fillna(0, inplace=True)\n",
    "users_val[\"num_of_purchase\"].fillna(0, inplace=True)\n",
    "users_val[\"total_prev_session_duration\"].fillna(0, inplace=True)\n",
    "users_val[\"num_of_event5\"].fillna(0, inplace=True)\n",
    "users_val[\"num_of_event7\"].fillna(0, inplace=True)\n",
    "users_val[\"num_of_event9\"].fillna(0, inplace=True)\n",
    "users_val[\"num_of_event10\"].fillna(0, inplace=True)\n",
    "users_val[\"num_of_event11\"].fillna(0, inplace=True)\n",
    "users_val[\"amt_of_event5\"].fillna(0, inplace=True)\n",
    "users_val[\"amt_of_event7\"].fillna(0, inplace=True)\n",
    "users_val[\"amt_of_event9\"].fillna(0, inplace=True)\n",
    "users_val[\"amt_of_event10\"].fillna(0, inplace=True)\n",
    "users_val[\"amt_of_event11\"].fillna(0, inplace=True)"
   ]
  },
  {
   "cell_type": "code",
   "execution_count": 106,
   "metadata": {},
   "outputs": [],
   "source": [
    "X_val = users_val[[\"amt_purchased\", \"num_of_purchase\", \"total_prev_session_duration\", \"num_of_event5\", \\\n",
    "                       \"num_of_event7\", \"num_of_event9\", \"num_of_event10\", \"num_of_event11\",\\\n",
    "                      \"amt_of_event5\", \"amt_of_event7\", \"amt_of_event9\", \"amt_of_event10\", \"amt_of_event11\"]]\n",
    "y_val_1 = users_val[[\"purchase1\"]]\n",
    "y_val_2 = users_val[[\"purchase2\"]]"
   ]
  },
  {
   "cell_type": "markdown",
   "metadata": {},
   "source": [
    "## feature 5: count day of user"
   ]
  },
  {
   "cell_type": "code",
   "execution_count": 69,
   "metadata": {
    "ExecuteTime": {
     "end_time": "2019-02-23T05:24:10.074318Z",
     "start_time": "2019-02-23T05:24:10.035739Z"
    }
   },
   "outputs": [
    {
     "data": {
      "text/html": [
       "<div>\n",
       "<style scoped>\n",
       "    .dataframe tbody tr th:only-of-type {\n",
       "        vertical-align: middle;\n",
       "    }\n",
       "\n",
       "    .dataframe tbody tr th {\n",
       "        vertical-align: top;\n",
       "    }\n",
       "\n",
       "    .dataframe thead th {\n",
       "        text-align: right;\n",
       "    }\n",
       "</style>\n",
       "<table border=\"1\" class=\"dataframe\">\n",
       "  <thead>\n",
       "    <tr style=\"text-align: right;\">\n",
       "      <th></th>\n",
       "      <th>session_id</th>\n",
       "      <th>start_timestamp</th>\n",
       "      <th>timezone</th>\n",
       "      <th>timezone_offset</th>\n",
       "      <th>previous_sessions_duration</th>\n",
       "      <th>user_created_timestamp</th>\n",
       "      <th>is_user_first_session</th>\n",
       "      <th>country</th>\n",
       "      <th>region</th>\n",
       "      <th>city</th>\n",
       "      <th>latitude</th>\n",
       "      <th>longitude</th>\n",
       "      <th>locale</th>\n",
       "      <th>os_name</th>\n",
       "      <th>session_index</th>\n",
       "      <th>device_id</th>\n",
       "      <th>user_id_hash</th>\n",
       "    </tr>\n",
       "  </thead>\n",
       "  <tbody>\n",
       "    <tr>\n",
       "      <th>0</th>\n",
       "      <td>5558845121177764917</td>\n",
       "      <td>1542215364580</td>\n",
       "      <td>Asia/Manila</td>\n",
       "      <td>28800000.0</td>\n",
       "      <td>25837591</td>\n",
       "      <td>1538874289458</td>\n",
       "      <td>False</td>\n",
       "      <td>PH</td>\n",
       "      <td>00</td>\n",
       "      <td>makati</td>\n",
       "      <td>14.554729</td>\n",
       "      <td>121.024445</td>\n",
       "      <td>en_GB</td>\n",
       "      <td>Android OS</td>\n",
       "      <td>30</td>\n",
       "      <td>546a3d98-d540-4e72-ad82-9ebd64e0839b</td>\n",
       "      <td>9943447915df3a45fd6720a026af905b6da6b56a37701b...</td>\n",
       "    </tr>\n",
       "    <tr>\n",
       "      <th>1</th>\n",
       "      <td>18781111175537580</td>\n",
       "      <td>1539215568666</td>\n",
       "      <td>Asia/Manila</td>\n",
       "      <td>28800000.0</td>\n",
       "      <td>11343848</td>\n",
       "      <td>1538874289458</td>\n",
       "      <td>False</td>\n",
       "      <td>PH</td>\n",
       "      <td>00</td>\n",
       "      <td>makati</td>\n",
       "      <td>14.554729</td>\n",
       "      <td>121.024445</td>\n",
       "      <td>en_GB</td>\n",
       "      <td>Android OS</td>\n",
       "      <td>10</td>\n",
       "      <td>546a3d98-d540-4e72-ad82-9ebd64e0839b</td>\n",
       "      <td>9943447915df3a45fd6720a026af905b6da6b56a37701b...</td>\n",
       "    </tr>\n",
       "    <tr>\n",
       "      <th>2</th>\n",
       "      <td>1477540082628742048</td>\n",
       "      <td>1540120743010</td>\n",
       "      <td>Asia/Manila</td>\n",
       "      <td>28800000.0</td>\n",
       "      <td>13499724</td>\n",
       "      <td>1538874289458</td>\n",
       "      <td>False</td>\n",
       "      <td>PH</td>\n",
       "      <td>11</td>\n",
       "      <td>davao city</td>\n",
       "      <td>7.190708</td>\n",
       "      <td>125.455338</td>\n",
       "      <td>en_GB</td>\n",
       "      <td>Android OS</td>\n",
       "      <td>13</td>\n",
       "      <td>546a3d98-d540-4e72-ad82-9ebd64e0839b</td>\n",
       "      <td>9943447915df3a45fd6720a026af905b6da6b56a37701b...</td>\n",
       "    </tr>\n",
       "    <tr>\n",
       "      <th>3</th>\n",
       "      <td>8184875317380844086</td>\n",
       "      <td>1542671625528</td>\n",
       "      <td>Asia/Manila</td>\n",
       "      <td>28800000.0</td>\n",
       "      <td>32788010</td>\n",
       "      <td>1538874289458</td>\n",
       "      <td>False</td>\n",
       "      <td>PH</td>\n",
       "      <td>00</td>\n",
       "      <td>makati</td>\n",
       "      <td>14.554729</td>\n",
       "      <td>121.024445</td>\n",
       "      <td>en_GB</td>\n",
       "      <td>Android OS</td>\n",
       "      <td>41</td>\n",
       "      <td>546a3d98-d540-4e72-ad82-9ebd64e0839b</td>\n",
       "      <td>9943447915df3a45fd6720a026af905b6da6b56a37701b...</td>\n",
       "    </tr>\n",
       "    <tr>\n",
       "      <th>4</th>\n",
       "      <td>4706180700083856343</td>\n",
       "      <td>1538997913013</td>\n",
       "      <td>Asia/Manila</td>\n",
       "      <td>28800000.0</td>\n",
       "      <td>5872534</td>\n",
       "      <td>1538874289458</td>\n",
       "      <td>False</td>\n",
       "      <td>PH</td>\n",
       "      <td>11</td>\n",
       "      <td>davao city</td>\n",
       "      <td>7.190708</td>\n",
       "      <td>125.455338</td>\n",
       "      <td>en_GB</td>\n",
       "      <td>Android OS</td>\n",
       "      <td>4</td>\n",
       "      <td>546a3d98-d540-4e72-ad82-9ebd64e0839b</td>\n",
       "      <td>9943447915df3a45fd6720a026af905b6da6b56a37701b...</td>\n",
       "    </tr>\n",
       "  </tbody>\n",
       "</table>\n",
       "</div>"
      ],
      "text/plain": [
       "            session_id  start_timestamp     timezone  timezone_offset  \\\n",
       "0  5558845121177764917    1542215364580  Asia/Manila       28800000.0   \n",
       "1    18781111175537580    1539215568666  Asia/Manila       28800000.0   \n",
       "2  1477540082628742048    1540120743010  Asia/Manila       28800000.0   \n",
       "3  8184875317380844086    1542671625528  Asia/Manila       28800000.0   \n",
       "4  4706180700083856343    1538997913013  Asia/Manila       28800000.0   \n",
       "\n",
       "   previous_sessions_duration  user_created_timestamp  is_user_first_session  \\\n",
       "0                    25837591           1538874289458                  False   \n",
       "1                    11343848           1538874289458                  False   \n",
       "2                    13499724           1538874289458                  False   \n",
       "3                    32788010           1538874289458                  False   \n",
       "4                     5872534           1538874289458                  False   \n",
       "\n",
       "  country region        city   latitude   longitude locale     os_name  \\\n",
       "0      PH     00      makati  14.554729  121.024445  en_GB  Android OS   \n",
       "1      PH     00      makati  14.554729  121.024445  en_GB  Android OS   \n",
       "2      PH     11  davao city   7.190708  125.455338  en_GB  Android OS   \n",
       "3      PH     00      makati  14.554729  121.024445  en_GB  Android OS   \n",
       "4      PH     11  davao city   7.190708  125.455338  en_GB  Android OS   \n",
       "\n",
       "   session_index                             device_id  \\\n",
       "0             30  546a3d98-d540-4e72-ad82-9ebd64e0839b   \n",
       "1             10  546a3d98-d540-4e72-ad82-9ebd64e0839b   \n",
       "2             13  546a3d98-d540-4e72-ad82-9ebd64e0839b   \n",
       "3             41  546a3d98-d540-4e72-ad82-9ebd64e0839b   \n",
       "4              4  546a3d98-d540-4e72-ad82-9ebd64e0839b   \n",
       "\n",
       "                                        user_id_hash  \n",
       "0  9943447915df3a45fd6720a026af905b6da6b56a37701b...  \n",
       "1  9943447915df3a45fd6720a026af905b6da6b56a37701b...  \n",
       "2  9943447915df3a45fd6720a026af905b6da6b56a37701b...  \n",
       "3  9943447915df3a45fd6720a026af905b6da6b56a37701b...  \n",
       "4  9943447915df3a45fd6720a026af905b6da6b56a37701b...  "
      ]
     },
     "execution_count": 69,
     "metadata": {},
     "output_type": "execute_result"
    }
   ],
   "source": [
    "sessions.head()"
   ]
  },
  {
   "cell_type": "code",
   "execution_count": null,
   "metadata": {},
   "outputs": [],
   "source": []
  },
  {
   "cell_type": "markdown",
   "metadata": {},
   "source": [
    "#### Using Nov-15 to Nov-22 and Nov-22 to Nov-28 to get training labels"
   ]
  },
  {
   "cell_type": "code",
   "execution_count": 68,
   "metadata": {},
   "outputs": [],
   "source": [
    "nov1 = df2[(df2[\"event_timestamp\"] >= 1542268800000) & (df2[\"event_timestamp\"] < 1542960000000)]\n",
    "\n",
    "puser1 = set(nov1[nov1[\"event\"] == \"8\"].user_id_hash.unique())\n",
    "\n",
    "users_train = users\n",
    "\n",
    "labels1 = []\n",
    "for user in list(events.user_id_hash.unique()):\n",
    "    if user in puser1:\n",
    "        labels1.append(1)\n",
    "    else:\n",
    "        labels1.append(0)\n",
    "\n",
    "labels1[:10]\n",
    "\n",
    "users_train[\"purchased1\"] = pd.DataFrame(labels1)"
   ]
  },
  {
   "cell_type": "code",
   "execution_count": 69,
   "metadata": {},
   "outputs": [
    {
     "data": {
      "text/html": [
       "<div>\n",
       "<style scoped>\n",
       "    .dataframe tbody tr th:only-of-type {\n",
       "        vertical-align: middle;\n",
       "    }\n",
       "\n",
       "    .dataframe tbody tr th {\n",
       "        vertical-align: top;\n",
       "    }\n",
       "\n",
       "    .dataframe thead th {\n",
       "        text-align: right;\n",
       "    }\n",
       "</style>\n",
       "<table border=\"1\" class=\"dataframe\">\n",
       "  <thead>\n",
       "    <tr style=\"text-align: right;\">\n",
       "      <th></th>\n",
       "      <th>user_id_hash</th>\n",
       "      <th>purchased1</th>\n",
       "      <th>purchased2</th>\n",
       "    </tr>\n",
       "  </thead>\n",
       "  <tbody>\n",
       "    <tr>\n",
       "      <th>0</th>\n",
       "      <td>9943447915df3a45fd6720a026af905b6da6b56a37701b...</td>\n",
       "      <td>0</td>\n",
       "      <td>0</td>\n",
       "    </tr>\n",
       "    <tr>\n",
       "      <th>1</th>\n",
       "      <td>43f75f8042d3c80c45e222bdd09267f4584684c54d6fae...</td>\n",
       "      <td>0</td>\n",
       "      <td>0</td>\n",
       "    </tr>\n",
       "    <tr>\n",
       "      <th>2</th>\n",
       "      <td>999524249720812f2d8c0390293efd58e1ac84d587a01c...</td>\n",
       "      <td>0</td>\n",
       "      <td>0</td>\n",
       "    </tr>\n",
       "    <tr>\n",
       "      <th>3</th>\n",
       "      <td>4e6bc35cf7fd79a5312047651e7865915f4a6bec193cf2...</td>\n",
       "      <td>0</td>\n",
       "      <td>0</td>\n",
       "    </tr>\n",
       "    <tr>\n",
       "      <th>4</th>\n",
       "      <td>dc009148ee26d658e0240c7b7f6a258790a457737f96e8...</td>\n",
       "      <td>0</td>\n",
       "      <td>0</td>\n",
       "    </tr>\n",
       "  </tbody>\n",
       "</table>\n",
       "</div>"
      ],
      "text/plain": [
       "                                        user_id_hash  purchased1  purchased2\n",
       "0  9943447915df3a45fd6720a026af905b6da6b56a37701b...           0           0\n",
       "1  43f75f8042d3c80c45e222bdd09267f4584684c54d6fae...           0           0\n",
       "2  999524249720812f2d8c0390293efd58e1ac84d587a01c...           0           0\n",
       "3  4e6bc35cf7fd79a5312047651e7865915f4a6bec193cf2...           0           0\n",
       "4  dc009148ee26d658e0240c7b7f6a258790a457737f96e8...           0           0"
      ]
     },
     "execution_count": 69,
     "metadata": {},
     "output_type": "execute_result"
    }
   ],
   "source": [
    "nov2 = df2[(df2[\"event_timestamp\"] >= 1542268800000) & (df2[\"event_timestamp\"] < 1543478400000)]\n",
    "\n",
    "puser2 = set(nov2[nov2[\"event\"] == \"8\"].user_id_hash.unique())\n",
    "\n",
    "labels2 = []\n",
    "for user in list(events.user_id_hash.unique()):\n",
    "    if user in puser2:\n",
    "        labels2.append(1)\n",
    "    else:\n",
    "        labels2.append(0)\n",
    "\n",
    "users_train[\"purchased2\"] = pd.DataFrame(labels2)\n",
    "\n",
    "users_train.head()"
   ]
  },
  {
   "cell_type": "markdown",
   "metadata": {},
   "source": [
    "#### Use data before Nov-15 to get features"
   ]
  },
  {
   "cell_type": "code",
   "execution_count": null,
   "metadata": {},
   "outputs": [],
   "source": []
  },
  {
   "cell_type": "code",
   "execution_count": null,
   "metadata": {},
   "outputs": [],
   "source": []
  },
  {
   "cell_type": "code",
   "execution_count": 70,
   "metadata": {},
   "outputs": [
    {
     "data": {
      "text/html": [
       "<div>\n",
       "<style scoped>\n",
       "    .dataframe tbody tr th:only-of-type {\n",
       "        vertical-align: middle;\n",
       "    }\n",
       "\n",
       "    .dataframe tbody tr th {\n",
       "        vertical-align: top;\n",
       "    }\n",
       "\n",
       "    .dataframe thead th {\n",
       "        text-align: right;\n",
       "    }\n",
       "</style>\n",
       "<table border=\"1\" class=\"dataframe\">\n",
       "  <thead>\n",
       "    <tr style=\"text-align: right;\">\n",
       "      <th></th>\n",
       "      <th>user_id_hash</th>\n",
       "      <th>event_timestamp</th>\n",
       "      <th>event</th>\n",
       "      <th>event_value</th>\n",
       "    </tr>\n",
       "  </thead>\n",
       "  <tbody>\n",
       "    <tr>\n",
       "      <th>0</th>\n",
       "      <td>9943447915df3a45fd6720a026af905b6da6b56a37701b...</td>\n",
       "      <td>1542215397132</td>\n",
       "      <td>45</td>\n",
       "      <td>0.0</td>\n",
       "    </tr>\n",
       "    <tr>\n",
       "      <th>1</th>\n",
       "      <td>9943447915df3a45fd6720a026af905b6da6b56a37701b...</td>\n",
       "      <td>1542215484895</td>\n",
       "      <td>45</td>\n",
       "      <td>0.0</td>\n",
       "    </tr>\n",
       "    <tr>\n",
       "      <th>2</th>\n",
       "      <td>9943447915df3a45fd6720a026af905b6da6b56a37701b...</td>\n",
       "      <td>1541124410372</td>\n",
       "      <td>.m5100869650219008</td>\n",
       "      <td>0.0</td>\n",
       "    </tr>\n",
       "    <tr>\n",
       "      <th>30</th>\n",
       "      <td>9943447915df3a45fd6720a026af905b6da6b56a37701b...</td>\n",
       "      <td>1539215572790</td>\n",
       "      <td>.m6335456823869440</td>\n",
       "      <td>0.0</td>\n",
       "    </tr>\n",
       "    <tr>\n",
       "      <th>31</th>\n",
       "      <td>9943447915df3a45fd6720a026af905b6da6b56a37701b...</td>\n",
       "      <td>1539215608399</td>\n",
       "      <td>1</td>\n",
       "      <td>0.0</td>\n",
       "    </tr>\n",
       "  </tbody>\n",
       "</table>\n",
       "</div>"
      ],
      "text/plain": [
       "                                         user_id_hash  event_timestamp  \\\n",
       "0   9943447915df3a45fd6720a026af905b6da6b56a37701b...    1542215397132   \n",
       "1   9943447915df3a45fd6720a026af905b6da6b56a37701b...    1542215484895   \n",
       "2   9943447915df3a45fd6720a026af905b6da6b56a37701b...    1541124410372   \n",
       "30  9943447915df3a45fd6720a026af905b6da6b56a37701b...    1539215572790   \n",
       "31  9943447915df3a45fd6720a026af905b6da6b56a37701b...    1539215608399   \n",
       "\n",
       "                 event  event_value  \n",
       "0                   45          0.0  \n",
       "1                   45          0.0  \n",
       "2   .m5100869650219008          0.0  \n",
       "30  .m6335456823869440          0.0  \n",
       "31                   1          0.0  "
      ]
     },
     "execution_count": 70,
     "metadata": {},
     "output_type": "execute_result"
    }
   ],
   "source": [
    "october = df2[(df2[\"event_timestamp\"] < 1542268800000)]\n",
    "october.head()"
   ]
  },
  {
   "cell_type": "code",
   "execution_count": 71,
   "metadata": {},
   "outputs": [
    {
     "data": {
      "text/html": [
       "<div>\n",
       "<style scoped>\n",
       "    .dataframe tbody tr th:only-of-type {\n",
       "        vertical-align: middle;\n",
       "    }\n",
       "\n",
       "    .dataframe tbody tr th {\n",
       "        vertical-align: top;\n",
       "    }\n",
       "\n",
       "    .dataframe thead th {\n",
       "        text-align: right;\n",
       "    }\n",
       "</style>\n",
       "<table border=\"1\" class=\"dataframe\">\n",
       "  <thead>\n",
       "    <tr style=\"text-align: right;\">\n",
       "      <th></th>\n",
       "      <th>user_id_hash</th>\n",
       "      <th>event_value</th>\n",
       "    </tr>\n",
       "  </thead>\n",
       "  <tbody>\n",
       "    <tr>\n",
       "      <th>0</th>\n",
       "      <td>002e447aed33ed4c51a68743cc293ef2148058b6a6239e...</td>\n",
       "      <td>0.0</td>\n",
       "    </tr>\n",
       "    <tr>\n",
       "      <th>1</th>\n",
       "      <td>005c9d79cf18efc6c8b5fa767964b1def9b8e2f8abd23f...</td>\n",
       "      <td>0.0</td>\n",
       "    </tr>\n",
       "    <tr>\n",
       "      <th>2</th>\n",
       "      <td>0061b4d30e8a9935b2ebeec954ff509b4f0cb500cd725c...</td>\n",
       "      <td>0.0</td>\n",
       "    </tr>\n",
       "    <tr>\n",
       "      <th>3</th>\n",
       "      <td>00fbbf507c7d3c2f259cd3329d241c29d35712e2d4699f...</td>\n",
       "      <td>0.0</td>\n",
       "    </tr>\n",
       "    <tr>\n",
       "      <th>4</th>\n",
       "      <td>0107a0017873efc2dea9a9155832363ceacf6fe97bd428...</td>\n",
       "      <td>0.0</td>\n",
       "    </tr>\n",
       "  </tbody>\n",
       "</table>\n",
       "</div>"
      ],
      "text/plain": [
       "                                        user_id_hash  event_value\n",
       "0  002e447aed33ed4c51a68743cc293ef2148058b6a6239e...          0.0\n",
       "1  005c9d79cf18efc6c8b5fa767964b1def9b8e2f8abd23f...          0.0\n",
       "2  0061b4d30e8a9935b2ebeec954ff509b4f0cb500cd725c...          0.0\n",
       "3  00fbbf507c7d3c2f259cd3329d241c29d35712e2d4699f...          0.0\n",
       "4  0107a0017873efc2dea9a9155832363ceacf6fe97bd428...          0.0"
      ]
     },
     "execution_count": 71,
     "metadata": {},
     "output_type": "execute_result"
    }
   ],
   "source": [
    "# feature 1\n",
    "feature1_train = purchaseAmt(october[[\"user_id_hash\", \"event\", \"event_value\"]])\n",
    "feature1_train.head()"
   ]
  },
  {
   "cell_type": "code",
   "execution_count": 72,
   "metadata": {},
   "outputs": [],
   "source": [
    "users_train = users_train.join(feature1_train.set_index(\"user_id_hash\"), on=\"user_id_hash\", how=\"left\")"
   ]
  },
  {
   "cell_type": "code",
   "execution_count": 73,
   "metadata": {},
   "outputs": [],
   "source": [
    "users_train.columns = [\"user_id_hash\", \"purchased1\", \"purchased2\", \"amt_purchased\"]"
   ]
  },
  {
   "cell_type": "code",
   "execution_count": 74,
   "metadata": {},
   "outputs": [
    {
     "data": {
      "text/html": [
       "<div>\n",
       "<style scoped>\n",
       "    .dataframe tbody tr th:only-of-type {\n",
       "        vertical-align: middle;\n",
       "    }\n",
       "\n",
       "    .dataframe tbody tr th {\n",
       "        vertical-align: top;\n",
       "    }\n",
       "\n",
       "    .dataframe thead th {\n",
       "        text-align: right;\n",
       "    }\n",
       "</style>\n",
       "<table border=\"1\" class=\"dataframe\">\n",
       "  <thead>\n",
       "    <tr style=\"text-align: right;\">\n",
       "      <th></th>\n",
       "      <th>user_id_hash</th>\n",
       "      <th>purchased1</th>\n",
       "      <th>purchased2</th>\n",
       "      <th>amt_purchased</th>\n",
       "    </tr>\n",
       "  </thead>\n",
       "  <tbody>\n",
       "    <tr>\n",
       "      <th>0</th>\n",
       "      <td>9943447915df3a45fd6720a026af905b6da6b56a37701b...</td>\n",
       "      <td>0</td>\n",
       "      <td>0</td>\n",
       "      <td>3.492188</td>\n",
       "    </tr>\n",
       "    <tr>\n",
       "      <th>1</th>\n",
       "      <td>43f75f8042d3c80c45e222bdd09267f4584684c54d6fae...</td>\n",
       "      <td>0</td>\n",
       "      <td>0</td>\n",
       "      <td>0.000000</td>\n",
       "    </tr>\n",
       "    <tr>\n",
       "      <th>2</th>\n",
       "      <td>999524249720812f2d8c0390293efd58e1ac84d587a01c...</td>\n",
       "      <td>0</td>\n",
       "      <td>0</td>\n",
       "      <td>0.000000</td>\n",
       "    </tr>\n",
       "    <tr>\n",
       "      <th>3</th>\n",
       "      <td>4e6bc35cf7fd79a5312047651e7865915f4a6bec193cf2...</td>\n",
       "      <td>0</td>\n",
       "      <td>0</td>\n",
       "      <td>0.000000</td>\n",
       "    </tr>\n",
       "    <tr>\n",
       "      <th>4</th>\n",
       "      <td>dc009148ee26d658e0240c7b7f6a258790a457737f96e8...</td>\n",
       "      <td>0</td>\n",
       "      <td>0</td>\n",
       "      <td>0.000000</td>\n",
       "    </tr>\n",
       "  </tbody>\n",
       "</table>\n",
       "</div>"
      ],
      "text/plain": [
       "                                        user_id_hash  purchased1  purchased2  \\\n",
       "0  9943447915df3a45fd6720a026af905b6da6b56a37701b...           0           0   \n",
       "1  43f75f8042d3c80c45e222bdd09267f4584684c54d6fae...           0           0   \n",
       "2  999524249720812f2d8c0390293efd58e1ac84d587a01c...           0           0   \n",
       "3  4e6bc35cf7fd79a5312047651e7865915f4a6bec193cf2...           0           0   \n",
       "4  dc009148ee26d658e0240c7b7f6a258790a457737f96e8...           0           0   \n",
       "\n",
       "   amt_purchased  \n",
       "0       3.492188  \n",
       "1       0.000000  \n",
       "2       0.000000  \n",
       "3       0.000000  \n",
       "4       0.000000  "
      ]
     },
     "execution_count": 74,
     "metadata": {},
     "output_type": "execute_result"
    }
   ],
   "source": [
    "users_train.head()"
   ]
  },
  {
   "cell_type": "code",
   "execution_count": 75,
   "metadata": {},
   "outputs": [
    {
     "data": {
      "text/html": [
       "<div>\n",
       "<style scoped>\n",
       "    .dataframe tbody tr th:only-of-type {\n",
       "        vertical-align: middle;\n",
       "    }\n",
       "\n",
       "    .dataframe tbody tr th {\n",
       "        vertical-align: top;\n",
       "    }\n",
       "\n",
       "    .dataframe thead th {\n",
       "        text-align: right;\n",
       "    }\n",
       "</style>\n",
       "<table border=\"1\" class=\"dataframe\">\n",
       "  <thead>\n",
       "    <tr style=\"text-align: right;\">\n",
       "      <th></th>\n",
       "      <th>user_id_hash</th>\n",
       "      <th>event</th>\n",
       "    </tr>\n",
       "  </thead>\n",
       "  <tbody>\n",
       "    <tr>\n",
       "      <th>0</th>\n",
       "      <td>002e447aed33ed4c51a68743cc293ef2148058b6a6239e...</td>\n",
       "      <td>0</td>\n",
       "    </tr>\n",
       "    <tr>\n",
       "      <th>1</th>\n",
       "      <td>005c9d79cf18efc6c8b5fa767964b1def9b8e2f8abd23f...</td>\n",
       "      <td>0</td>\n",
       "    </tr>\n",
       "    <tr>\n",
       "      <th>2</th>\n",
       "      <td>0061b4d30e8a9935b2ebeec954ff509b4f0cb500cd725c...</td>\n",
       "      <td>0</td>\n",
       "    </tr>\n",
       "    <tr>\n",
       "      <th>3</th>\n",
       "      <td>00fbbf507c7d3c2f259cd3329d241c29d35712e2d4699f...</td>\n",
       "      <td>0</td>\n",
       "    </tr>\n",
       "    <tr>\n",
       "      <th>4</th>\n",
       "      <td>0107a0017873efc2dea9a9155832363ceacf6fe97bd428...</td>\n",
       "      <td>0</td>\n",
       "    </tr>\n",
       "  </tbody>\n",
       "</table>\n",
       "</div>"
      ],
      "text/plain": [
       "                                        user_id_hash  event\n",
       "0  002e447aed33ed4c51a68743cc293ef2148058b6a6239e...      0\n",
       "1  005c9d79cf18efc6c8b5fa767964b1def9b8e2f8abd23f...      0\n",
       "2  0061b4d30e8a9935b2ebeec954ff509b4f0cb500cd725c...      0\n",
       "3  00fbbf507c7d3c2f259cd3329d241c29d35712e2d4699f...      0\n",
       "4  0107a0017873efc2dea9a9155832363ceacf6fe97bd428...      0"
      ]
     },
     "execution_count": 75,
     "metadata": {},
     "output_type": "execute_result"
    }
   ],
   "source": [
    "# feature 2\n",
    "feature2_train = distinctPurchase(october[[\"user_id_hash\", \"event\"]])\n",
    "feature2_train.head()"
   ]
  },
  {
   "cell_type": "code",
   "execution_count": 76,
   "metadata": {},
   "outputs": [],
   "source": [
    "users_train = users_train.join(feature2_train.set_index(\"user_id_hash\"), on=\"user_id_hash\", how=\"left\")"
   ]
  },
  {
   "cell_type": "code",
   "execution_count": 77,
   "metadata": {},
   "outputs": [],
   "source": [
    "users_train.columns = [\"user_id_hash\", \"purchased1\", \"purchased2\", \"amt_purchased\", \"num_of_purchase\"]"
   ]
  },
  {
   "cell_type": "code",
   "execution_count": 78,
   "metadata": {},
   "outputs": [
    {
     "data": {
      "text/html": [
       "<div>\n",
       "<style scoped>\n",
       "    .dataframe tbody tr th:only-of-type {\n",
       "        vertical-align: middle;\n",
       "    }\n",
       "\n",
       "    .dataframe tbody tr th {\n",
       "        vertical-align: top;\n",
       "    }\n",
       "\n",
       "    .dataframe thead th {\n",
       "        text-align: right;\n",
       "    }\n",
       "</style>\n",
       "<table border=\"1\" class=\"dataframe\">\n",
       "  <thead>\n",
       "    <tr style=\"text-align: right;\">\n",
       "      <th></th>\n",
       "      <th>user_id_hash</th>\n",
       "      <th>purchased1</th>\n",
       "      <th>purchased2</th>\n",
       "      <th>amt_purchased</th>\n",
       "      <th>num_of_purchase</th>\n",
       "    </tr>\n",
       "  </thead>\n",
       "  <tbody>\n",
       "    <tr>\n",
       "      <th>0</th>\n",
       "      <td>9943447915df3a45fd6720a026af905b6da6b56a37701b...</td>\n",
       "      <td>0</td>\n",
       "      <td>0</td>\n",
       "      <td>3.492188</td>\n",
       "      <td>1</td>\n",
       "    </tr>\n",
       "    <tr>\n",
       "      <th>1</th>\n",
       "      <td>43f75f8042d3c80c45e222bdd09267f4584684c54d6fae...</td>\n",
       "      <td>0</td>\n",
       "      <td>0</td>\n",
       "      <td>0.000000</td>\n",
       "      <td>0</td>\n",
       "    </tr>\n",
       "    <tr>\n",
       "      <th>2</th>\n",
       "      <td>999524249720812f2d8c0390293efd58e1ac84d587a01c...</td>\n",
       "      <td>0</td>\n",
       "      <td>0</td>\n",
       "      <td>0.000000</td>\n",
       "      <td>0</td>\n",
       "    </tr>\n",
       "    <tr>\n",
       "      <th>3</th>\n",
       "      <td>4e6bc35cf7fd79a5312047651e7865915f4a6bec193cf2...</td>\n",
       "      <td>0</td>\n",
       "      <td>0</td>\n",
       "      <td>0.000000</td>\n",
       "      <td>0</td>\n",
       "    </tr>\n",
       "    <tr>\n",
       "      <th>4</th>\n",
       "      <td>dc009148ee26d658e0240c7b7f6a258790a457737f96e8...</td>\n",
       "      <td>0</td>\n",
       "      <td>0</td>\n",
       "      <td>0.000000</td>\n",
       "      <td>0</td>\n",
       "    </tr>\n",
       "  </tbody>\n",
       "</table>\n",
       "</div>"
      ],
      "text/plain": [
       "                                        user_id_hash  purchased1  purchased2  \\\n",
       "0  9943447915df3a45fd6720a026af905b6da6b56a37701b...           0           0   \n",
       "1  43f75f8042d3c80c45e222bdd09267f4584684c54d6fae...           0           0   \n",
       "2  999524249720812f2d8c0390293efd58e1ac84d587a01c...           0           0   \n",
       "3  4e6bc35cf7fd79a5312047651e7865915f4a6bec193cf2...           0           0   \n",
       "4  dc009148ee26d658e0240c7b7f6a258790a457737f96e8...           0           0   \n",
       "\n",
       "   amt_purchased  num_of_purchase  \n",
       "0       3.492188                1  \n",
       "1       0.000000                0  \n",
       "2       0.000000                0  \n",
       "3       0.000000                0  \n",
       "4       0.000000                0  "
      ]
     },
     "execution_count": 78,
     "metadata": {},
     "output_type": "execute_result"
    }
   ],
   "source": [
    "users_train.head()"
   ]
  },
  {
   "cell_type": "code",
   "execution_count": 79,
   "metadata": {},
   "outputs": [
    {
     "data": {
      "text/html": [
       "<div>\n",
       "<style scoped>\n",
       "    .dataframe tbody tr th:only-of-type {\n",
       "        vertical-align: middle;\n",
       "    }\n",
       "\n",
       "    .dataframe tbody tr th {\n",
       "        vertical-align: top;\n",
       "    }\n",
       "\n",
       "    .dataframe thead th {\n",
       "        text-align: right;\n",
       "    }\n",
       "</style>\n",
       "<table border=\"1\" class=\"dataframe\">\n",
       "  <thead>\n",
       "    <tr style=\"text-align: right;\">\n",
       "      <th></th>\n",
       "      <th>user_id_hash</th>\n",
       "      <th>purchase1</th>\n",
       "      <th>purchase2</th>\n",
       "      <th>amt_purchased</th>\n",
       "      <th>num_of_purchase</th>\n",
       "      <th>total_prev_session_duration</th>\n",
       "    </tr>\n",
       "  </thead>\n",
       "  <tbody>\n",
       "    <tr>\n",
       "      <th>0</th>\n",
       "      <td>9943447915df3a45fd6720a026af905b6da6b56a37701b...</td>\n",
       "      <td>0</td>\n",
       "      <td>0</td>\n",
       "      <td>3.492188</td>\n",
       "      <td>1</td>\n",
       "      <td>471711092.0</td>\n",
       "    </tr>\n",
       "    <tr>\n",
       "      <th>1</th>\n",
       "      <td>43f75f8042d3c80c45e222bdd09267f4584684c54d6fae...</td>\n",
       "      <td>0</td>\n",
       "      <td>0</td>\n",
       "      <td>0.000000</td>\n",
       "      <td>0</td>\n",
       "      <td>6074816.0</td>\n",
       "    </tr>\n",
       "    <tr>\n",
       "      <th>2</th>\n",
       "      <td>999524249720812f2d8c0390293efd58e1ac84d587a01c...</td>\n",
       "      <td>0</td>\n",
       "      <td>0</td>\n",
       "      <td>0.000000</td>\n",
       "      <td>0</td>\n",
       "      <td>0.0</td>\n",
       "    </tr>\n",
       "    <tr>\n",
       "      <th>3</th>\n",
       "      <td>4e6bc35cf7fd79a5312047651e7865915f4a6bec193cf2...</td>\n",
       "      <td>0</td>\n",
       "      <td>0</td>\n",
       "      <td>0.000000</td>\n",
       "      <td>0</td>\n",
       "      <td>0.0</td>\n",
       "    </tr>\n",
       "    <tr>\n",
       "      <th>4</th>\n",
       "      <td>dc009148ee26d658e0240c7b7f6a258790a457737f96e8...</td>\n",
       "      <td>0</td>\n",
       "      <td>0</td>\n",
       "      <td>0.000000</td>\n",
       "      <td>0</td>\n",
       "      <td>0.0</td>\n",
       "    </tr>\n",
       "  </tbody>\n",
       "</table>\n",
       "</div>"
      ],
      "text/plain": [
       "                                        user_id_hash  purchase1  purchase2  \\\n",
       "0  9943447915df3a45fd6720a026af905b6da6b56a37701b...          0          0   \n",
       "1  43f75f8042d3c80c45e222bdd09267f4584684c54d6fae...          0          0   \n",
       "2  999524249720812f2d8c0390293efd58e1ac84d587a01c...          0          0   \n",
       "3  4e6bc35cf7fd79a5312047651e7865915f4a6bec193cf2...          0          0   \n",
       "4  dc009148ee26d658e0240c7b7f6a258790a457737f96e8...          0          0   \n",
       "\n",
       "   amt_purchased  num_of_purchase  total_prev_session_duration  \n",
       "0       3.492188                1                  471711092.0  \n",
       "1       0.000000                0                    6074816.0  \n",
       "2       0.000000                0                          0.0  \n",
       "3       0.000000                0                          0.0  \n",
       "4       0.000000                0                          0.0  "
      ]
     },
     "execution_count": 79,
     "metadata": {},
     "output_type": "execute_result"
    }
   ],
   "source": [
    "# feature 3\n",
    "tmp = sessions[[\"user_id_hash\", \"previous_sessions_duration\", \"start_timestamp\"]]\n",
    "tmp = tmp[(tmp[\"start_timestamp\"] < 1542268800000)]\n",
    "feature3_train = tmp[[\"user_id_hash\", \"previous_sessions_duration\"]].groupby(\"user_id_hash\").sum()\n",
    "feature3_train = feature3_train.reset_index()\n",
    "users_train = users_train.join(feature3_train.set_index(\"user_id_hash\"), on=\"user_id_hash\", how=\"left\")\n",
    "users_train.columns = [\"user_id_hash\", \"purchase1\", \"purchase2\", \"amt_purchased\", \\\n",
    "                     \"num_of_purchase\", \"total_prev_session_duration\"]\n",
    "users_train.head()"
   ]
  },
  {
   "cell_type": "code",
   "execution_count": 80,
   "metadata": {},
   "outputs": [
    {
     "data": {
      "text/html": [
       "<div>\n",
       "<style scoped>\n",
       "    .dataframe tbody tr th:only-of-type {\n",
       "        vertical-align: middle;\n",
       "    }\n",
       "\n",
       "    .dataframe tbody tr th {\n",
       "        vertical-align: top;\n",
       "    }\n",
       "\n",
       "    .dataframe thead th {\n",
       "        text-align: right;\n",
       "    }\n",
       "</style>\n",
       "<table border=\"1\" class=\"dataframe\">\n",
       "  <thead>\n",
       "    <tr style=\"text-align: right;\">\n",
       "      <th></th>\n",
       "      <th>user_id_hash</th>\n",
       "      <th>event</th>\n",
       "      <th>event_value</th>\n",
       "      <th>event_timestamp</th>\n",
       "    </tr>\n",
       "  </thead>\n",
       "  <tbody>\n",
       "    <tr>\n",
       "      <th>0</th>\n",
       "      <td>9943447915df3a45fd6720a026af905b6da6b56a37701b...</td>\n",
       "      <td>45</td>\n",
       "      <td>0.0</td>\n",
       "      <td>1542215397132</td>\n",
       "    </tr>\n",
       "    <tr>\n",
       "      <th>1</th>\n",
       "      <td>9943447915df3a45fd6720a026af905b6da6b56a37701b...</td>\n",
       "      <td>45</td>\n",
       "      <td>0.0</td>\n",
       "      <td>1542215484895</td>\n",
       "    </tr>\n",
       "    <tr>\n",
       "      <th>2</th>\n",
       "      <td>9943447915df3a45fd6720a026af905b6da6b56a37701b...</td>\n",
       "      <td>.m5100869650219008</td>\n",
       "      <td>0.0</td>\n",
       "      <td>1541124410372</td>\n",
       "    </tr>\n",
       "    <tr>\n",
       "      <th>30</th>\n",
       "      <td>9943447915df3a45fd6720a026af905b6da6b56a37701b...</td>\n",
       "      <td>.m6335456823869440</td>\n",
       "      <td>0.0</td>\n",
       "      <td>1539215572790</td>\n",
       "    </tr>\n",
       "    <tr>\n",
       "      <th>31</th>\n",
       "      <td>9943447915df3a45fd6720a026af905b6da6b56a37701b...</td>\n",
       "      <td>1</td>\n",
       "      <td>0.0</td>\n",
       "      <td>1539215608399</td>\n",
       "    </tr>\n",
       "  </tbody>\n",
       "</table>\n",
       "</div>"
      ],
      "text/plain": [
       "                                         user_id_hash               event  \\\n",
       "0   9943447915df3a45fd6720a026af905b6da6b56a37701b...                  45   \n",
       "1   9943447915df3a45fd6720a026af905b6da6b56a37701b...                  45   \n",
       "2   9943447915df3a45fd6720a026af905b6da6b56a37701b...  .m5100869650219008   \n",
       "30  9943447915df3a45fd6720a026af905b6da6b56a37701b...  .m6335456823869440   \n",
       "31  9943447915df3a45fd6720a026af905b6da6b56a37701b...                   1   \n",
       "\n",
       "    event_value  event_timestamp  \n",
       "0           0.0    1542215397132  \n",
       "1           0.0    1542215484895  \n",
       "2           0.0    1541124410372  \n",
       "30          0.0    1539215572790  \n",
       "31          0.0    1539215608399  "
      ]
     },
     "execution_count": 80,
     "metadata": {},
     "output_type": "execute_result"
    }
   ],
   "source": [
    "train_features = october[[\"user_id_hash\", \"event\", \"event_value\", \"event_timestamp\"]]\n",
    "train_features.head()"
   ]
  },
  {
   "cell_type": "code",
   "execution_count": 81,
   "metadata": {},
   "outputs": [],
   "source": [
    "feature5_train = distinctEvent(train_features[[\"user_id_hash\", \"event\"]], \"5\")\n",
    "feature5_train.columns = [\"user_id_hash\", \"num_of_event5\"]\n",
    "users_train = users_train.join(feature5_train.set_index(\"user_id_hash\"), on=\"user_id_hash\", how=\"left\")"
   ]
  },
  {
   "cell_type": "code",
   "execution_count": 82,
   "metadata": {},
   "outputs": [],
   "source": [
    "feature7_train = distinctEvent(train_features[[\"user_id_hash\", \"event\"]], \"7\")\n",
    "feature7_train.columns = [\"user_id_hash\", \"num_of_event7\"]\n",
    "users_train = users_train.join(feature7_train.set_index(\"user_id_hash\"), on=\"user_id_hash\", how=\"left\")"
   ]
  },
  {
   "cell_type": "code",
   "execution_count": 83,
   "metadata": {},
   "outputs": [],
   "source": [
    "feature9_train = distinctEvent(train_features[[\"user_id_hash\", \"event\"]], \"9\")\n",
    "feature9_train.columns = [\"user_id_hash\", \"num_of_event9\"]\n",
    "users_train = users_train.join(feature9_train.set_index(\"user_id_hash\"), on=\"user_id_hash\", how=\"left\")"
   ]
  },
  {
   "cell_type": "code",
   "execution_count": 84,
   "metadata": {},
   "outputs": [],
   "source": [
    "feature10_train = distinctEvent(train_features[[\"user_id_hash\", \"event\"]], \"10\")\n",
    "feature10_train.columns = [\"user_id_hash\", \"num_of_event10\"]\n",
    "users_train = users_train.join(feature10_train.set_index(\"user_id_hash\"), on=\"user_id_hash\", how=\"left\")"
   ]
  },
  {
   "cell_type": "code",
   "execution_count": 85,
   "metadata": {},
   "outputs": [],
   "source": [
    "feature11_train = distinctEvent(train_features[[\"user_id_hash\", \"event\"]], \"11\")\n",
    "feature11_train.columns = [\"user_id_hash\", \"num_of_event11\"]\n",
    "users_train = users_train.join(feature11_train.set_index(\"user_id_hash\"), on=\"user_id_hash\", how=\"left\")"
   ]
  },
  {
   "cell_type": "code",
   "execution_count": 86,
   "metadata": {},
   "outputs": [],
   "source": [
    "feature12_train = eventAmt(train_features[[\"user_id_hash\", \"event_value\", \"event\"]], \"5\")\n",
    "feature12_train.columns = [\"user_id_hash\", \"amt_of_event5\"]\n",
    "users_train = users_train.join(feature12_train.set_index(\"user_id_hash\"), on=\"user_id_hash\", how=\"left\")"
   ]
  },
  {
   "cell_type": "code",
   "execution_count": 87,
   "metadata": {},
   "outputs": [],
   "source": [
    "feature13_train = eventAmt(train_features[[\"user_id_hash\", \"event_value\", \"event\"]], \"7\")\n",
    "feature13_train.columns = [\"user_id_hash\", \"amt_of_event7\"]\n",
    "users_train = users_train.join(feature13_train.set_index(\"user_id_hash\"), on=\"user_id_hash\", how=\"left\")"
   ]
  },
  {
   "cell_type": "code",
   "execution_count": 88,
   "metadata": {},
   "outputs": [],
   "source": [
    "feature14_train = eventAmt(train_features[[\"user_id_hash\", \"event_value\", \"event\"]], \"9\")\n",
    "feature14_train.columns = [\"user_id_hash\", \"amt_of_event9\"]\n",
    "users_train = users_train.join(feature14_train.set_index(\"user_id_hash\"), on=\"user_id_hash\", how=\"left\")"
   ]
  },
  {
   "cell_type": "code",
   "execution_count": 89,
   "metadata": {},
   "outputs": [],
   "source": [
    "feature15_train = eventAmt(train_features[[\"user_id_hash\", \"event_value\", \"event\"]], \"10\")\n",
    "feature15_train.columns = [\"user_id_hash\", \"amt_of_event10\"]\n",
    "users_train = users_train.join(feature15_train.set_index(\"user_id_hash\"), on=\"user_id_hash\", how=\"left\")"
   ]
  },
  {
   "cell_type": "code",
   "execution_count": 90,
   "metadata": {},
   "outputs": [],
   "source": [
    "feature16_train = eventAmt(train_features[[\"user_id_hash\", \"event_value\", \"event\"]], \"11\")\n",
    "feature16_train.columns = [\"user_id_hash\", \"amt_of_event11\"]\n",
    "users_train = users_train.join(feature16_train.set_index(\"user_id_hash\"), on=\"user_id_hash\", how=\"left\")"
   ]
  },
  {
   "cell_type": "code",
   "execution_count": 91,
   "metadata": {},
   "outputs": [],
   "source": [
    "users_train[users_train[\"amt_of_event5\"]==float(\"inf\")] = 0"
   ]
  },
  {
   "cell_type": "code",
   "execution_count": 92,
   "metadata": {},
   "outputs": [],
   "source": [
    "users_train[users_train[\"amt_of_event7\"]==float(\"inf\")] = 0"
   ]
  },
  {
   "cell_type": "code",
   "execution_count": 93,
   "metadata": {},
   "outputs": [],
   "source": [
    "users_train[users_train[\"amt_of_event9\"]==float(\"inf\")] = 0"
   ]
  },
  {
   "cell_type": "code",
   "execution_count": 94,
   "metadata": {},
   "outputs": [],
   "source": [
    "users_train[users_train[\"amt_of_event10\"]==float(\"inf\")] = 0"
   ]
  },
  {
   "cell_type": "code",
   "execution_count": 95,
   "metadata": {},
   "outputs": [
    {
     "data": {
      "text/html": [
       "<div>\n",
       "<style scoped>\n",
       "    .dataframe tbody tr th:only-of-type {\n",
       "        vertical-align: middle;\n",
       "    }\n",
       "\n",
       "    .dataframe tbody tr th {\n",
       "        vertical-align: top;\n",
       "    }\n",
       "\n",
       "    .dataframe thead th {\n",
       "        text-align: right;\n",
       "    }\n",
       "</style>\n",
       "<table border=\"1\" class=\"dataframe\">\n",
       "  <thead>\n",
       "    <tr style=\"text-align: right;\">\n",
       "      <th></th>\n",
       "      <th>purchase1</th>\n",
       "      <th>purchase2</th>\n",
       "      <th>amt_purchased</th>\n",
       "      <th>num_of_purchase</th>\n",
       "      <th>total_prev_session_duration</th>\n",
       "      <th>num_of_event5</th>\n",
       "      <th>num_of_event7</th>\n",
       "      <th>num_of_event9</th>\n",
       "      <th>num_of_event10</th>\n",
       "      <th>num_of_event11</th>\n",
       "      <th>amt_of_event5</th>\n",
       "      <th>amt_of_event7</th>\n",
       "      <th>amt_of_event9</th>\n",
       "      <th>amt_of_event10</th>\n",
       "      <th>amt_of_event11</th>\n",
       "    </tr>\n",
       "  </thead>\n",
       "  <tbody>\n",
       "    <tr>\n",
       "      <th>count</th>\n",
       "      <td>620988.000000</td>\n",
       "      <td>620988.000000</td>\n",
       "      <td>620988.0</td>\n",
       "      <td>620988.000000</td>\n",
       "      <td>6.209880e+05</td>\n",
       "      <td>620988.000000</td>\n",
       "      <td>620988.000000</td>\n",
       "      <td>620988.000000</td>\n",
       "      <td>620988.000000</td>\n",
       "      <td>620988.000000</td>\n",
       "      <td>620988.0</td>\n",
       "      <td>620988.0</td>\n",
       "      <td>620988.0</td>\n",
       "      <td>620988.0</td>\n",
       "      <td>620988.0</td>\n",
       "    </tr>\n",
       "    <tr>\n",
       "      <th>mean</th>\n",
       "      <td>0.012372</td>\n",
       "      <td>0.018818</td>\n",
       "      <td>NaN</td>\n",
       "      <td>0.266522</td>\n",
       "      <td>1.476713e+08</td>\n",
       "      <td>4.915942</td>\n",
       "      <td>2.100202</td>\n",
       "      <td>0.090230</td>\n",
       "      <td>0.002705</td>\n",
       "      <td>0.080731</td>\n",
       "      <td>NaN</td>\n",
       "      <td>NaN</td>\n",
       "      <td>0.0</td>\n",
       "      <td>0.0</td>\n",
       "      <td>NaN</td>\n",
       "    </tr>\n",
       "    <tr>\n",
       "      <th>std</th>\n",
       "      <td>0.110540</td>\n",
       "      <td>0.135883</td>\n",
       "      <td>NaN</td>\n",
       "      <td>2.477481</td>\n",
       "      <td>1.707691e+09</td>\n",
       "      <td>13.970800</td>\n",
       "      <td>8.252592</td>\n",
       "      <td>0.496252</td>\n",
       "      <td>0.056715</td>\n",
       "      <td>0.275016</td>\n",
       "      <td>NaN</td>\n",
       "      <td>NaN</td>\n",
       "      <td>0.0</td>\n",
       "      <td>NaN</td>\n",
       "      <td>0.0</td>\n",
       "    </tr>\n",
       "    <tr>\n",
       "      <th>min</th>\n",
       "      <td>0.000000</td>\n",
       "      <td>0.000000</td>\n",
       "      <td>0.0</td>\n",
       "      <td>0.000000</td>\n",
       "      <td>0.000000e+00</td>\n",
       "      <td>0.000000</td>\n",
       "      <td>0.000000</td>\n",
       "      <td>0.000000</td>\n",
       "      <td>0.000000</td>\n",
       "      <td>0.000000</td>\n",
       "      <td>0.0</td>\n",
       "      <td>0.0</td>\n",
       "      <td>0.0</td>\n",
       "      <td>0.0</td>\n",
       "      <td>0.0</td>\n",
       "    </tr>\n",
       "    <tr>\n",
       "      <th>25%</th>\n",
       "      <td>0.000000</td>\n",
       "      <td>0.000000</td>\n",
       "      <td>0.0</td>\n",
       "      <td>0.000000</td>\n",
       "      <td>0.000000e+00</td>\n",
       "      <td>0.000000</td>\n",
       "      <td>0.000000</td>\n",
       "      <td>0.000000</td>\n",
       "      <td>0.000000</td>\n",
       "      <td>0.000000</td>\n",
       "      <td>0.0</td>\n",
       "      <td>0.0</td>\n",
       "      <td>0.0</td>\n",
       "      <td>0.0</td>\n",
       "      <td>0.0</td>\n",
       "    </tr>\n",
       "    <tr>\n",
       "      <th>50%</th>\n",
       "      <td>0.000000</td>\n",
       "      <td>0.000000</td>\n",
       "      <td>0.0</td>\n",
       "      <td>0.000000</td>\n",
       "      <td>0.000000e+00</td>\n",
       "      <td>1.000000</td>\n",
       "      <td>0.000000</td>\n",
       "      <td>0.000000</td>\n",
       "      <td>0.000000</td>\n",
       "      <td>0.000000</td>\n",
       "      <td>0.0</td>\n",
       "      <td>0.0</td>\n",
       "      <td>0.0</td>\n",
       "      <td>0.0</td>\n",
       "      <td>0.0</td>\n",
       "    </tr>\n",
       "    <tr>\n",
       "      <th>75%</th>\n",
       "      <td>0.000000</td>\n",
       "      <td>0.000000</td>\n",
       "      <td>0.0</td>\n",
       "      <td>0.000000</td>\n",
       "      <td>2.868456e+06</td>\n",
       "      <td>3.000000</td>\n",
       "      <td>3.000000</td>\n",
       "      <td>0.000000</td>\n",
       "      <td>0.000000</td>\n",
       "      <td>0.000000</td>\n",
       "      <td>2.0</td>\n",
       "      <td>52.0</td>\n",
       "      <td>0.0</td>\n",
       "      <td>0.0</td>\n",
       "      <td>0.0</td>\n",
       "    </tr>\n",
       "    <tr>\n",
       "      <th>max</th>\n",
       "      <td>1.000000</td>\n",
       "      <td>1.000000</td>\n",
       "      <td>826.0</td>\n",
       "      <td>444.000000</td>\n",
       "      <td>4.742721e+11</td>\n",
       "      <td>604.000000</td>\n",
       "      <td>1027.000000</td>\n",
       "      <td>60.000000</td>\n",
       "      <td>5.000000</td>\n",
       "      <td>6.000000</td>\n",
       "      <td>560.0</td>\n",
       "      <td>13008.0</td>\n",
       "      <td>60.0</td>\n",
       "      <td>1950.0</td>\n",
       "      <td>30.0</td>\n",
       "    </tr>\n",
       "  </tbody>\n",
       "</table>\n",
       "</div>"
      ],
      "text/plain": [
       "           purchase1      purchase2  amt_purchased  num_of_purchase  \\\n",
       "count  620988.000000  620988.000000       620988.0    620988.000000   \n",
       "mean        0.012372       0.018818            NaN         0.266522   \n",
       "std         0.110540       0.135883            NaN         2.477481   \n",
       "min         0.000000       0.000000            0.0         0.000000   \n",
       "25%         0.000000       0.000000            0.0         0.000000   \n",
       "50%         0.000000       0.000000            0.0         0.000000   \n",
       "75%         0.000000       0.000000            0.0         0.000000   \n",
       "max         1.000000       1.000000          826.0       444.000000   \n",
       "\n",
       "       total_prev_session_duration  num_of_event5  num_of_event7  \\\n",
       "count                 6.209880e+05  620988.000000  620988.000000   \n",
       "mean                  1.476713e+08       4.915942       2.100202   \n",
       "std                   1.707691e+09      13.970800       8.252592   \n",
       "min                   0.000000e+00       0.000000       0.000000   \n",
       "25%                   0.000000e+00       0.000000       0.000000   \n",
       "50%                   0.000000e+00       1.000000       0.000000   \n",
       "75%                   2.868456e+06       3.000000       3.000000   \n",
       "max                   4.742721e+11     604.000000    1027.000000   \n",
       "\n",
       "       num_of_event9  num_of_event10  num_of_event11  amt_of_event5  \\\n",
       "count  620988.000000   620988.000000   620988.000000       620988.0   \n",
       "mean        0.090230        0.002705        0.080731            NaN   \n",
       "std         0.496252        0.056715        0.275016            NaN   \n",
       "min         0.000000        0.000000        0.000000            0.0   \n",
       "25%         0.000000        0.000000        0.000000            0.0   \n",
       "50%         0.000000        0.000000        0.000000            0.0   \n",
       "75%         0.000000        0.000000        0.000000            2.0   \n",
       "max        60.000000        5.000000        6.000000          560.0   \n",
       "\n",
       "       amt_of_event7  amt_of_event9  amt_of_event10  amt_of_event11  \n",
       "count       620988.0       620988.0        620988.0        620988.0  \n",
       "mean             NaN            0.0             0.0             NaN  \n",
       "std              NaN            0.0             NaN             0.0  \n",
       "min              0.0            0.0             0.0             0.0  \n",
       "25%              0.0            0.0             0.0             0.0  \n",
       "50%              0.0            0.0             0.0             0.0  \n",
       "75%             52.0            0.0             0.0             0.0  \n",
       "max          13008.0           60.0          1950.0            30.0  "
      ]
     },
     "execution_count": 95,
     "metadata": {},
     "output_type": "execute_result"
    }
   ],
   "source": [
    "users_train.describe()"
   ]
  },
  {
   "cell_type": "code",
   "execution_count": 96,
   "metadata": {},
   "outputs": [
    {
     "data": {
      "text/plain": [
       "user_id_hash                   620988\n",
       "purchase1                      620988\n",
       "purchase2                      620988\n",
       "amt_purchased                  620988\n",
       "num_of_purchase                620988\n",
       "total_prev_session_duration    620988\n",
       "num_of_event5                  620988\n",
       "num_of_event7                  620988\n",
       "num_of_event9                  620988\n",
       "num_of_event10                 620988\n",
       "num_of_event11                 620988\n",
       "amt_of_event5                  620988\n",
       "amt_of_event7                  620988\n",
       "amt_of_event9                  620988\n",
       "amt_of_event10                 620988\n",
       "amt_of_event11                 620988\n",
       "dtype: int64"
      ]
     },
     "execution_count": 96,
     "metadata": {},
     "output_type": "execute_result"
    }
   ],
   "source": [
    "users_train.count()"
   ]
  },
  {
   "cell_type": "code",
   "execution_count": 107,
   "metadata": {},
   "outputs": [],
   "source": [
    "users_train[\"amt_purchased\"].fillna(0, inplace=True)\n",
    "users_train[\"num_of_purchase\"].fillna(0, inplace=True)\n",
    "users_train[\"total_prev_session_duration\"].fillna(0, inplace=True)\n",
    "users_train[\"num_of_event5\"].fillna(0, inplace=True)\n",
    "users_train[\"num_of_event7\"].fillna(0, inplace=True)\n",
    "users_train[\"num_of_event9\"].fillna(0, inplace=True)\n",
    "users_train[\"num_of_event10\"].fillna(0, inplace=True)\n",
    "users_train[\"num_of_event11\"].fillna(0, inplace=True)\n",
    "users_train[\"amt_of_event5\"].fillna(0, inplace=True)\n",
    "users_train[\"amt_of_event7\"].fillna(0, inplace=True)\n",
    "users_train[\"amt_of_event9\"].fillna(0, inplace=True)\n",
    "users_train[\"amt_of_event10\"].fillna(0, inplace=True)\n",
    "users_train[\"amt_of_event11\"].fillna(0, inplace=True)"
   ]
  },
  {
   "cell_type": "code",
   "execution_count": 108,
   "metadata": {},
   "outputs": [],
   "source": [
    "X_train = users_train[[\"amt_purchased\", \"num_of_purchase\", \"total_prev_session_duration\", \"num_of_event5\", \\\n",
    "                       \"num_of_event7\", \"num_of_event9\", \"num_of_event10\", \"num_of_event11\",\\\n",
    "                      \"amt_of_event5\", \"amt_of_event7\", \"amt_of_event9\", \"amt_of_event10\", \"amt_of_event11\"]]\n",
    "y_train_1 = users_train[[\"purchase1\"]]\n",
    "y_train_2 = users_train[[\"purchase2\"]]"
   ]
  },
  {
   "cell_type": "code",
   "execution_count": 109,
   "metadata": {},
   "outputs": [
    {
     "data": {
      "text/html": [
       "<div>\n",
       "<style scoped>\n",
       "    .dataframe tbody tr th:only-of-type {\n",
       "        vertical-align: middle;\n",
       "    }\n",
       "\n",
       "    .dataframe tbody tr th {\n",
       "        vertical-align: top;\n",
       "    }\n",
       "\n",
       "    .dataframe thead th {\n",
       "        text-align: right;\n",
       "    }\n",
       "</style>\n",
       "<table border=\"1\" class=\"dataframe\">\n",
       "  <thead>\n",
       "    <tr style=\"text-align: right;\">\n",
       "      <th></th>\n",
       "      <th>amt_purchased</th>\n",
       "      <th>num_of_purchase</th>\n",
       "      <th>total_prev_session_duration</th>\n",
       "      <th>num_of_event5</th>\n",
       "      <th>num_of_event7</th>\n",
       "      <th>num_of_event9</th>\n",
       "      <th>num_of_event10</th>\n",
       "      <th>num_of_event11</th>\n",
       "      <th>amt_of_event5</th>\n",
       "      <th>amt_of_event7</th>\n",
       "      <th>amt_of_event9</th>\n",
       "      <th>amt_of_event10</th>\n",
       "      <th>amt_of_event11</th>\n",
       "    </tr>\n",
       "  </thead>\n",
       "  <tbody>\n",
       "    <tr>\n",
       "      <th>count</th>\n",
       "      <td>620988.0</td>\n",
       "      <td>620988.000000</td>\n",
       "      <td>6.209880e+05</td>\n",
       "      <td>620988.000000</td>\n",
       "      <td>620988.000000</td>\n",
       "      <td>620988.000000</td>\n",
       "      <td>620988.000000</td>\n",
       "      <td>620988.000000</td>\n",
       "      <td>620988.0</td>\n",
       "      <td>620988.0</td>\n",
       "      <td>620988.0</td>\n",
       "      <td>620988.0</td>\n",
       "      <td>620988.0</td>\n",
       "    </tr>\n",
       "    <tr>\n",
       "      <th>mean</th>\n",
       "      <td>NaN</td>\n",
       "      <td>0.266522</td>\n",
       "      <td>1.476713e+08</td>\n",
       "      <td>4.915942</td>\n",
       "      <td>2.100202</td>\n",
       "      <td>0.090230</td>\n",
       "      <td>0.002705</td>\n",
       "      <td>0.080731</td>\n",
       "      <td>NaN</td>\n",
       "      <td>NaN</td>\n",
       "      <td>0.0</td>\n",
       "      <td>0.0</td>\n",
       "      <td>NaN</td>\n",
       "    </tr>\n",
       "    <tr>\n",
       "      <th>std</th>\n",
       "      <td>NaN</td>\n",
       "      <td>2.477481</td>\n",
       "      <td>1.707691e+09</td>\n",
       "      <td>13.970800</td>\n",
       "      <td>8.252592</td>\n",
       "      <td>0.496252</td>\n",
       "      <td>0.056715</td>\n",
       "      <td>0.275016</td>\n",
       "      <td>NaN</td>\n",
       "      <td>NaN</td>\n",
       "      <td>0.0</td>\n",
       "      <td>NaN</td>\n",
       "      <td>0.0</td>\n",
       "    </tr>\n",
       "    <tr>\n",
       "      <th>min</th>\n",
       "      <td>0.0</td>\n",
       "      <td>0.000000</td>\n",
       "      <td>0.000000e+00</td>\n",
       "      <td>0.000000</td>\n",
       "      <td>0.000000</td>\n",
       "      <td>0.000000</td>\n",
       "      <td>0.000000</td>\n",
       "      <td>0.000000</td>\n",
       "      <td>0.0</td>\n",
       "      <td>0.0</td>\n",
       "      <td>0.0</td>\n",
       "      <td>0.0</td>\n",
       "      <td>0.0</td>\n",
       "    </tr>\n",
       "    <tr>\n",
       "      <th>25%</th>\n",
       "      <td>0.0</td>\n",
       "      <td>0.000000</td>\n",
       "      <td>0.000000e+00</td>\n",
       "      <td>0.000000</td>\n",
       "      <td>0.000000</td>\n",
       "      <td>0.000000</td>\n",
       "      <td>0.000000</td>\n",
       "      <td>0.000000</td>\n",
       "      <td>0.0</td>\n",
       "      <td>0.0</td>\n",
       "      <td>0.0</td>\n",
       "      <td>0.0</td>\n",
       "      <td>0.0</td>\n",
       "    </tr>\n",
       "    <tr>\n",
       "      <th>50%</th>\n",
       "      <td>0.0</td>\n",
       "      <td>0.000000</td>\n",
       "      <td>0.000000e+00</td>\n",
       "      <td>1.000000</td>\n",
       "      <td>0.000000</td>\n",
       "      <td>0.000000</td>\n",
       "      <td>0.000000</td>\n",
       "      <td>0.000000</td>\n",
       "      <td>0.0</td>\n",
       "      <td>0.0</td>\n",
       "      <td>0.0</td>\n",
       "      <td>0.0</td>\n",
       "      <td>0.0</td>\n",
       "    </tr>\n",
       "    <tr>\n",
       "      <th>75%</th>\n",
       "      <td>0.0</td>\n",
       "      <td>0.000000</td>\n",
       "      <td>2.868456e+06</td>\n",
       "      <td>3.000000</td>\n",
       "      <td>3.000000</td>\n",
       "      <td>0.000000</td>\n",
       "      <td>0.000000</td>\n",
       "      <td>0.000000</td>\n",
       "      <td>2.0</td>\n",
       "      <td>52.0</td>\n",
       "      <td>0.0</td>\n",
       "      <td>0.0</td>\n",
       "      <td>0.0</td>\n",
       "    </tr>\n",
       "    <tr>\n",
       "      <th>max</th>\n",
       "      <td>826.0</td>\n",
       "      <td>444.000000</td>\n",
       "      <td>4.742721e+11</td>\n",
       "      <td>604.000000</td>\n",
       "      <td>1027.000000</td>\n",
       "      <td>60.000000</td>\n",
       "      <td>5.000000</td>\n",
       "      <td>6.000000</td>\n",
       "      <td>560.0</td>\n",
       "      <td>13008.0</td>\n",
       "      <td>60.0</td>\n",
       "      <td>1950.0</td>\n",
       "      <td>30.0</td>\n",
       "    </tr>\n",
       "  </tbody>\n",
       "</table>\n",
       "</div>"
      ],
      "text/plain": [
       "       amt_purchased  num_of_purchase  total_prev_session_duration  \\\n",
       "count       620988.0    620988.000000                 6.209880e+05   \n",
       "mean             NaN         0.266522                 1.476713e+08   \n",
       "std              NaN         2.477481                 1.707691e+09   \n",
       "min              0.0         0.000000                 0.000000e+00   \n",
       "25%              0.0         0.000000                 0.000000e+00   \n",
       "50%              0.0         0.000000                 0.000000e+00   \n",
       "75%              0.0         0.000000                 2.868456e+06   \n",
       "max            826.0       444.000000                 4.742721e+11   \n",
       "\n",
       "       num_of_event5  num_of_event7  num_of_event9  num_of_event10  \\\n",
       "count  620988.000000  620988.000000  620988.000000   620988.000000   \n",
       "mean        4.915942       2.100202       0.090230        0.002705   \n",
       "std        13.970800       8.252592       0.496252        0.056715   \n",
       "min         0.000000       0.000000       0.000000        0.000000   \n",
       "25%         0.000000       0.000000       0.000000        0.000000   \n",
       "50%         1.000000       0.000000       0.000000        0.000000   \n",
       "75%         3.000000       3.000000       0.000000        0.000000   \n",
       "max       604.000000    1027.000000      60.000000        5.000000   \n",
       "\n",
       "       num_of_event11  amt_of_event5  amt_of_event7  amt_of_event9  \\\n",
       "count   620988.000000       620988.0       620988.0       620988.0   \n",
       "mean         0.080731            NaN            NaN            0.0   \n",
       "std          0.275016            NaN            NaN            0.0   \n",
       "min          0.000000            0.0            0.0            0.0   \n",
       "25%          0.000000            0.0            0.0            0.0   \n",
       "50%          0.000000            0.0            0.0            0.0   \n",
       "75%          0.000000            2.0           52.0            0.0   \n",
       "max          6.000000          560.0        13008.0           60.0   \n",
       "\n",
       "       amt_of_event10  amt_of_event11  \n",
       "count        620988.0        620988.0  \n",
       "mean              0.0             NaN  \n",
       "std               NaN             0.0  \n",
       "min               0.0             0.0  \n",
       "25%               0.0             0.0  \n",
       "50%               0.0             0.0  \n",
       "75%               0.0             0.0  \n",
       "max            1950.0            30.0  "
      ]
     },
     "execution_count": 109,
     "metadata": {},
     "output_type": "execute_result"
    }
   ],
   "source": [
    "X_train.describe()"
   ]
  },
  {
   "cell_type": "markdown",
   "metadata": {},
   "source": [
    "#### Model Training"
   ]
  },
  {
   "cell_type": "code",
   "execution_count": 98,
   "metadata": {},
   "outputs": [],
   "source": [
    "from sklearn.ensemble import RandomForestClassifier\n",
    "import sklearn.metrics"
   ]
  },
  {
   "cell_type": "code",
   "execution_count": 205,
   "metadata": {},
   "outputs": [],
   "source": [
    "rf = RandomForestClassifier(n_jobs=-1, n_estimators=1000, min_samples_leaf=50, max_features=5, verbose=1)"
   ]
  },
  {
   "cell_type": "code",
   "execution_count": 206,
   "metadata": {},
   "outputs": [
    {
     "name": "stderr",
     "output_type": "stream",
     "text": [
      "/anaconda3/envs/ml/lib/python3.6/site-packages/ipykernel_launcher.py:1: DataConversionWarning: A column-vector y was passed when a 1d array was expected. Please change the shape of y to (n_samples,), for example using ravel().\n",
      "  \"\"\"Entry point for launching an IPython kernel.\n",
      "[Parallel(n_jobs=-1)]: Using backend ThreadingBackend with 4 concurrent workers.\n",
      "[Parallel(n_jobs=-1)]: Done  42 tasks      | elapsed:   25.3s\n",
      "[Parallel(n_jobs=-1)]: Done 192 tasks      | elapsed:  1.8min\n",
      "[Parallel(n_jobs=-1)]: Done 442 tasks      | elapsed:  4.2min\n",
      "[Parallel(n_jobs=-1)]: Done 792 tasks      | elapsed:  7.8min\n",
      "[Parallel(n_jobs=-1)]: Done 1000 out of 1000 | elapsed:  9.6min finished\n"
     ]
    },
    {
     "data": {
      "text/plain": [
       "RandomForestClassifier(bootstrap=True, class_weight=None, criterion='gini',\n",
       "            max_depth=None, max_features=5, max_leaf_nodes=None,\n",
       "            min_impurity_decrease=0.0, min_impurity_split=None,\n",
       "            min_samples_leaf=50, min_samples_split=2,\n",
       "            min_weight_fraction_leaf=0.0, n_estimators=1000, n_jobs=-1,\n",
       "            oob_score=False, random_state=None, verbose=1,\n",
       "            warm_start=False)"
      ]
     },
     "execution_count": 206,
     "metadata": {},
     "output_type": "execute_result"
    }
   ],
   "source": [
    "rf.fit(X_train, y_train_1)"
   ]
  },
  {
   "cell_type": "code",
   "execution_count": 207,
   "metadata": {},
   "outputs": [
    {
     "data": {
      "text/plain": [
       "array([2.37887949e-01, 2.86829317e-01, 8.14205286e-02, 7.23285002e-02,\n",
       "       7.70338082e-02, 4.98469217e-03, 3.58145299e-06, 3.93574769e-03,\n",
       "       6.91657050e-02, 1.53823071e-01, 5.04695147e-03, 3.90333377e-06,\n",
       "       7.53624477e-03])"
      ]
     },
     "execution_count": 207,
     "metadata": {},
     "output_type": "execute_result"
    }
   ],
   "source": [
    "rf.feature_importances_"
   ]
  },
  {
   "cell_type": "code",
   "execution_count": 208,
   "metadata": {},
   "outputs": [
    {
     "name": "stderr",
     "output_type": "stream",
     "text": [
      "[Parallel(n_jobs=4)]: Using backend ThreadingBackend with 4 concurrent workers.\n",
      "[Parallel(n_jobs=4)]: Done  42 tasks      | elapsed:    1.5s\n",
      "[Parallel(n_jobs=4)]: Done 192 tasks      | elapsed:    5.7s\n",
      "[Parallel(n_jobs=4)]: Done 442 tasks      | elapsed:   12.7s\n",
      "[Parallel(n_jobs=4)]: Done 792 tasks      | elapsed:   21.8s\n",
      "[Parallel(n_jobs=4)]: Done 1000 out of 1000 | elapsed:   27.7s finished\n",
      "[Parallel(n_jobs=4)]: Using backend ThreadingBackend with 4 concurrent workers.\n",
      "[Parallel(n_jobs=4)]: Done  42 tasks      | elapsed:    1.2s\n",
      "[Parallel(n_jobs=4)]: Done 192 tasks      | elapsed:    5.2s\n",
      "[Parallel(n_jobs=4)]: Done 442 tasks      | elapsed:   11.6s\n",
      "[Parallel(n_jobs=4)]: Done 792 tasks      | elapsed:   20.4s\n",
      "[Parallel(n_jobs=4)]: Done 1000 out of 1000 | elapsed:   25.7s finished\n"
     ]
    }
   ],
   "source": [
    "pred_train=rf.predict_proba(X_train)\n",
    "pred_val1 = rf.predict_proba(X_val)"
   ]
  },
  {
   "cell_type": "code",
   "execution_count": 209,
   "metadata": {},
   "outputs": [
    {
     "data": {
      "text/plain": [
       "0.8870712526538618"
      ]
     },
     "execution_count": 209,
     "metadata": {},
     "output_type": "execute_result"
    }
   ],
   "source": [
    "# Training AUC 7 day \n",
    "sklearn.metrics.roc_auc_score(y_train_1, pred_train[:,-1])"
   ]
  },
  {
   "cell_type": "code",
   "execution_count": 210,
   "metadata": {},
   "outputs": [
    {
     "data": {
      "text/plain": [
       "0.951670385815893"
      ]
     },
     "execution_count": 210,
     "metadata": {},
     "output_type": "execute_result"
    }
   ],
   "source": [
    "# Validation AUC 7 day \n",
    "sklearn.metrics.roc_auc_score(y_val_1, pred_val1[:,-1])"
   ]
  },
  {
   "cell_type": "code",
   "execution_count": 113,
   "metadata": {},
   "outputs": [
    {
     "name": "stderr",
     "output_type": "stream",
     "text": [
      "/anaconda3/envs/ml/lib/python3.6/site-packages/ipykernel_launcher.py:2: DataConversionWarning: A column-vector y was passed when a 1d array was expected. Please change the shape of y to (n_samples,), for example using ravel().\n",
      "  \n",
      "[Parallel(n_jobs=-1)]: Using backend ThreadingBackend with 4 concurrent workers.\n",
      "[Parallel(n_jobs=-1)]: Done  42 tasks      | elapsed:   24.8s\n",
      "[Parallel(n_jobs=-1)]: Done 192 tasks      | elapsed:  1.6min\n",
      "[Parallel(n_jobs=-1)]: Done 442 tasks      | elapsed:  3.6min\n",
      "[Parallel(n_jobs=-1)]: Done 792 tasks      | elapsed:  6.8min\n",
      "[Parallel(n_jobs=-1)]: Done 1000 out of 1000 | elapsed:  9.1min finished\n",
      "[Parallel(n_jobs=4)]: Using backend ThreadingBackend with 4 concurrent workers.\n",
      "[Parallel(n_jobs=4)]: Done  42 tasks      | elapsed:    1.5s\n",
      "[Parallel(n_jobs=4)]: Done 192 tasks      | elapsed:    7.3s\n",
      "[Parallel(n_jobs=4)]: Done 442 tasks      | elapsed:   16.0s\n",
      "[Parallel(n_jobs=4)]: Done 792 tasks      | elapsed:   33.6s\n",
      "[Parallel(n_jobs=4)]: Done 1000 out of 1000 | elapsed:   43.2s finished\n",
      "[Parallel(n_jobs=4)]: Using backend ThreadingBackend with 4 concurrent workers.\n",
      "[Parallel(n_jobs=4)]: Done  42 tasks      | elapsed:    2.1s\n",
      "[Parallel(n_jobs=4)]: Done 192 tasks      | elapsed:    7.7s\n",
      "[Parallel(n_jobs=4)]: Done 442 tasks      | elapsed:   16.6s\n",
      "[Parallel(n_jobs=4)]: Done 792 tasks      | elapsed:   26.9s\n",
      "[Parallel(n_jobs=4)]: Done 1000 out of 1000 | elapsed:   33.1s finished\n"
     ]
    }
   ],
   "source": [
    "rf2 = RandomForestClassifier(n_jobs=-1, n_estimators=1000, min_samples_leaf=50, max_features=5, verbose=1)\n",
    "rf2.fit(X_train, y_train_2)\n",
    "pred_train2 = rf.predict_proba(X_train)\n",
    "pred_val2 = rf.predict_proba(X_val)"
   ]
  },
  {
   "cell_type": "code",
   "execution_count": 114,
   "metadata": {},
   "outputs": [
    {
     "data": {
      "text/plain": [
       "array([2.39172241e-01, 2.64090139e-01, 7.61888361e-02, 1.09146279e-01,\n",
       "       8.02599894e-02, 4.43765561e-03, 7.72960917e-06, 3.15124762e-03,\n",
       "       6.70038868e-02, 1.45475406e-01, 4.60605327e-03, 6.95549300e-06,\n",
       "       6.45358162e-03])"
      ]
     },
     "execution_count": 114,
     "metadata": {},
     "output_type": "execute_result"
    }
   ],
   "source": [
    "rf2.feature_importances_"
   ]
  },
  {
   "cell_type": "code",
   "execution_count": 115,
   "metadata": {},
   "outputs": [
    {
     "name": "stdout",
     "output_type": "stream",
     "text": [
      "AUC For Training set 14 days purchase is: 0.8591736726263093\n"
     ]
    }
   ],
   "source": [
    "print(f\"AUC For Training set 14 days purchase is: {sklearn.metrics.roc_auc_score(y_train_2, pred_train2[:,-1])}\")"
   ]
  },
  {
   "cell_type": "code",
   "execution_count": 116,
   "metadata": {
    "scrolled": true
   },
   "outputs": [
    {
     "name": "stdout",
     "output_type": "stream",
     "text": [
      "AUC For Val set 14 days purchase is: 0.9500080526797494\n"
     ]
    }
   ],
   "source": [
    "print(f\"AUC For Val set 14 days purchase is: {sklearn.metrics.roc_auc_score(y_val_2, pred_val2[:,-1])}\")"
   ]
  },
  {
   "cell_type": "code",
   "execution_count": null,
   "metadata": {},
   "outputs": [],
   "source": [
    "from sklearn.model_selection import GridSearchCV"
   ]
  },
  {
   "cell_type": "code",
   "execution_count": null,
   "metadata": {},
   "outputs": [],
   "source": []
  },
  {
   "cell_type": "code",
   "execution_count": null,
   "metadata": {},
   "outputs": [],
   "source": []
  },
  {
   "cell_type": "code",
   "execution_count": null,
   "metadata": {},
   "outputs": [],
   "source": []
  },
  {
   "cell_type": "markdown",
   "metadata": {},
   "source": [
    "##### XGBoost"
   ]
  },
  {
   "cell_type": "code",
   "execution_count": 145,
   "metadata": {},
   "outputs": [],
   "source": [
    "import xgboost as xgb\n",
    "from datetime import timedelta\n",
    "import datetime as dt"
   ]
  },
  {
   "cell_type": "code",
   "execution_count": 146,
   "metadata": {},
   "outputs": [],
   "source": [
    "from xgboost import XGBClassifier\n",
    "from xgboost import XGBRegressor"
   ]
  },
  {
   "cell_type": "code",
   "execution_count": 147,
   "metadata": {},
   "outputs": [],
   "source": [
    "train_dmatrix1 = xgb.DMatrix(data=X_train,label=y_train_1)\n",
    "train_dmatrix2 = xgb.DMatrix(data=X_train,label=y_train_2)\n",
    "val_dmatrix1 = xgb.DMatrix(data=X_val,label=y_val_1)\n",
    "val_dmatrix2 = xgb.DMatrix(data=X_val,label=y_val_2)"
   ]
  },
  {
   "cell_type": "code",
   "execution_count": 155,
   "metadata": {},
   "outputs": [],
   "source": [
    "clf = XGBClassifier(learning_rate = 0.01, max_depth = 3, n_estimators = 500, n_jobs=-1, \\\n",
    "                    colsample_bytree=1, gamma=1, subsample=0.8)"
   ]
  },
  {
   "cell_type": "code",
   "execution_count": 156,
   "metadata": {},
   "outputs": [
    {
     "name": "stderr",
     "output_type": "stream",
     "text": [
      "/anaconda3/envs/ml/lib/python3.6/site-packages/sklearn/preprocessing/label.py:219: DataConversionWarning: A column-vector y was passed when a 1d array was expected. Please change the shape of y to (n_samples, ), for example using ravel().\n",
      "  y = column_or_1d(y, warn=True)\n",
      "/anaconda3/envs/ml/lib/python3.6/site-packages/sklearn/preprocessing/label.py:252: DataConversionWarning: A column-vector y was passed when a 1d array was expected. Please change the shape of y to (n_samples, ), for example using ravel().\n",
      "  y = column_or_1d(y, warn=True)\n"
     ]
    },
    {
     "data": {
      "text/plain": [
       "XGBClassifier(base_score=0.5, booster='gbtree', colsample_bylevel=1,\n",
       "       colsample_bytree=1, gamma=1, learning_rate=0.01, max_delta_step=0,\n",
       "       max_depth=3, min_child_weight=1, missing=None, n_estimators=500,\n",
       "       n_jobs=-1, nthread=None, objective='binary:logistic',\n",
       "       random_state=0, reg_alpha=0, reg_lambda=1, scale_pos_weight=1,\n",
       "       seed=None, silent=True, subsample=0.8)"
      ]
     },
     "execution_count": 156,
     "metadata": {},
     "output_type": "execute_result"
    }
   ],
   "source": [
    "clf.fit(X_train, y_train_1)"
   ]
  },
  {
   "cell_type": "code",
   "execution_count": 157,
   "metadata": {},
   "outputs": [],
   "source": [
    "pred_train_xgb = clf.predict_proba(X_train)\n",
    "pred_val1_xgb = clf.predict_proba(X_val)"
   ]
  },
  {
   "cell_type": "code",
   "execution_count": 158,
   "metadata": {},
   "outputs": [
    {
     "data": {
      "text/plain": [
       "array([0.17697595, 0.08591066, 0.21821305, 0.19329897, 0.0083047 ,\n",
       "       0.00200458, 0.00429553, 0.00744559, 0.19043528, 0.10538373,\n",
       "       0.        , 0.        , 0.00773196], dtype=float32)"
      ]
     },
     "execution_count": 158,
     "metadata": {},
     "output_type": "execute_result"
    }
   ],
   "source": [
    "clf.feature_importances_"
   ]
  },
  {
   "cell_type": "code",
   "execution_count": 159,
   "metadata": {},
   "outputs": [
    {
     "name": "stdout",
     "output_type": "stream",
     "text": [
      "AUC For Training set 7 days purchase is: 0.8421454804803913\n"
     ]
    }
   ],
   "source": [
    "print(f\"AUC For Training set 7 days purchase is: {sklearn.metrics.roc_auc_score(y_train_1, pred_train_xgb[:,-1])}\")"
   ]
  },
  {
   "cell_type": "code",
   "execution_count": 160,
   "metadata": {},
   "outputs": [
    {
     "name": "stdout",
     "output_type": "stream",
     "text": [
      "AUC For Val set 7 days purchase is: 0.8708249566916312\n"
     ]
    }
   ],
   "source": [
    "print(f\"AUC For Val set 7 days purchase is: {sklearn.metrics.roc_auc_score(y_val_1, pred_val1_xgb[:,-1])}\")"
   ]
  },
  {
   "cell_type": "code",
   "execution_count": 161,
   "metadata": {},
   "outputs": [
    {
     "name": "stderr",
     "output_type": "stream",
     "text": [
      "/anaconda3/envs/ml/lib/python3.6/site-packages/sklearn/preprocessing/label.py:219: DataConversionWarning: A column-vector y was passed when a 1d array was expected. Please change the shape of y to (n_samples, ), for example using ravel().\n",
      "  y = column_or_1d(y, warn=True)\n",
      "/anaconda3/envs/ml/lib/python3.6/site-packages/sklearn/preprocessing/label.py:252: DataConversionWarning: A column-vector y was passed when a 1d array was expected. Please change the shape of y to (n_samples, ), for example using ravel().\n",
      "  y = column_or_1d(y, warn=True)\n"
     ]
    },
    {
     "data": {
      "text/plain": [
       "XGBClassifier(base_score=0.5, booster='gbtree', colsample_bylevel=1,\n",
       "       colsample_bytree=1, gamma=1, learning_rate=0.01, max_delta_step=0,\n",
       "       max_depth=3, min_child_weight=1, missing=None, n_estimators=500,\n",
       "       n_jobs=-1, nthread=None, objective='binary:logistic',\n",
       "       random_state=0, reg_alpha=0, reg_lambda=1, scale_pos_weight=1,\n",
       "       seed=None, silent=True, subsample=0.8)"
      ]
     },
     "execution_count": 161,
     "metadata": {},
     "output_type": "execute_result"
    }
   ],
   "source": [
    "# 14 days purchase\n",
    "clf2 = XGBClassifier(learning_rate = 0.01, max_depth = 3, n_estimators = 500, n_jobs=-1, \\\n",
    "                    colsample_bytree=1, gamma=1, subsample=0.8)\n",
    "clf2.fit(X_train, y_train_2)"
   ]
  },
  {
   "cell_type": "code",
   "execution_count": 162,
   "metadata": {},
   "outputs": [],
   "source": [
    "pred_train2_xgb = clf2.predict_proba(X_train)\n",
    "pred_val2_xgb = clf2.predict_proba(X_val)"
   ]
  },
  {
   "cell_type": "code",
   "execution_count": 163,
   "metadata": {},
   "outputs": [
    {
     "name": "stdout",
     "output_type": "stream",
     "text": [
      "AUC For Training set 14 days purchase is: 0.833297996471884\n",
      "AUC For Training set 14 days purchase is: 0.8635433134592677\n"
     ]
    }
   ],
   "source": [
    "print(f\"AUC For Training set 14 days purchase is: {sklearn.metrics.roc_auc_score(y_train_2, pred_train2_xgb[:,-1])}\")\n",
    "print(f\"AUC For Training set 14 days purchase is: {sklearn.metrics.roc_auc_score(y_val_2, pred_val2_xgb[:,-1])}\")"
   ]
  },
  {
   "cell_type": "markdown",
   "metadata": {},
   "source": [
    "Random Tuning Hyperparameters"
   ]
  },
  {
   "cell_type": "code",
   "execution_count": 211,
   "metadata": {},
   "outputs": [
    {
     "name": "stderr",
     "output_type": "stream",
     "text": [
      "/anaconda3/envs/ml/lib/python3.6/site-packages/sklearn/preprocessing/label.py:219: DataConversionWarning: A column-vector y was passed when a 1d array was expected. Please change the shape of y to (n_samples, ), for example using ravel().\n",
      "  y = column_or_1d(y, warn=True)\n",
      "/anaconda3/envs/ml/lib/python3.6/site-packages/sklearn/preprocessing/label.py:252: DataConversionWarning: A column-vector y was passed when a 1d array was expected. Please change the shape of y to (n_samples, ), for example using ravel().\n",
      "  y = column_or_1d(y, warn=True)\n"
     ]
    }
   ],
   "source": [
    "clf = XGBClassifier(learning_rate = 0.05, max_depth = 10, n_estimators = 500, n_jobs=-1, \\\n",
    "                    colsample_bytree=0.6, gamma=1, subsample=0.8)\n",
    "clf.fit(X_train, y_train_1)\n",
    "pred_train_xgb = clf.predict_proba(X_train)\n",
    "pred_val1_xgb = clf.predict_proba(X_val)"
   ]
  },
  {
   "cell_type": "code",
   "execution_count": 212,
   "metadata": {},
   "outputs": [
    {
     "name": "stdout",
     "output_type": "stream",
     "text": [
      "AUC For Training set 7 days purchase is: 0.877319837989774\n",
      "AUC For Val set 7 days purchase is: 0.9216035539046179\n"
     ]
    }
   ],
   "source": [
    "print(f\"AUC For Training set 7 days purchase is: {sklearn.metrics.roc_auc_score(y_train_1, pred_train_xgb[:,-1])}\")\n",
    "print(f\"AUC For Val set 7 days purchase is: {sklearn.metrics.roc_auc_score(y_val_1, pred_val1_xgb[:,-1])}\")"
   ]
  },
  {
   "cell_type": "code",
   "execution_count": 213,
   "metadata": {},
   "outputs": [
    {
     "name": "stderr",
     "output_type": "stream",
     "text": [
      "/anaconda3/envs/ml/lib/python3.6/site-packages/sklearn/preprocessing/label.py:219: DataConversionWarning: A column-vector y was passed when a 1d array was expected. Please change the shape of y to (n_samples, ), for example using ravel().\n",
      "  y = column_or_1d(y, warn=True)\n",
      "/anaconda3/envs/ml/lib/python3.6/site-packages/sklearn/preprocessing/label.py:252: DataConversionWarning: A column-vector y was passed when a 1d array was expected. Please change the shape of y to (n_samples, ), for example using ravel().\n",
      "  y = column_or_1d(y, warn=True)\n"
     ]
    },
    {
     "name": "stdout",
     "output_type": "stream",
     "text": [
      "AUC For Training set 14 days purchase is: 0.8554503530064015\n",
      "AUC For Training set 14 days purchase is: 0.9024786789805543\n"
     ]
    }
   ],
   "source": [
    "# 14 days purchase\n",
    "clf2 = XGBClassifier(learning_rate = 0.05, max_depth = 10, n_estimators = 500, n_jobs=-1, \\\n",
    "                    colsample_bytree=0.6, gamma=1, subsample=0.8)\n",
    "clf2.fit(X_train, y_train_2)\n",
    "\n",
    "pred_train2_xgb = clf2.predict_proba(X_train)\n",
    "pred_val2_xgb = clf2.predict_proba(X_val)\n",
    "\n",
    "print(f\"AUC For Training set 14 days purchase is: {sklearn.metrics.roc_auc_score(y_train_2, pred_train2_xgb[:,-1])}\")\n",
    "print(f\"AUC For Training set 14 days purchase is: {sklearn.metrics.roc_auc_score(y_val_2, pred_val2_xgb[:,-1])}\")"
   ]
  },
  {
   "cell_type": "code",
   "execution_count": 218,
   "metadata": {},
   "outputs": [
    {
     "data": {
      "text/plain": [
       "array([0.0958171 , 0.0655936 , 0.24459709, 0.12103752, 0.08939922,\n",
       "       0.03506254, 0.00102522, 0.01584991, 0.11029321, 0.1786344 ,\n",
       "       0.01490671, 0.00036908, 0.02741439], dtype=float32)"
      ]
     },
     "execution_count": 218,
     "metadata": {},
     "output_type": "execute_result"
    }
   ],
   "source": [
    "clf.feature_importances_"
   ]
  },
  {
   "cell_type": "code",
   "execution_count": 219,
   "metadata": {},
   "outputs": [
    {
     "data": {
      "text/plain": [
       "array([0.0946563 , 0.06313091, 0.24278961, 0.12303717, 0.09002964,\n",
       "       0.03591171, 0.00114164, 0.01588287, 0.10841612, 0.18178177,\n",
       "       0.01560247, 0.00042061, 0.02719917], dtype=float32)"
      ]
     },
     "execution_count": 219,
     "metadata": {},
     "output_type": "execute_result"
    }
   ],
   "source": [
    "clf2.feature_importances_"
   ]
  },
  {
   "cell_type": "code",
   "execution_count": 167,
   "metadata": {},
   "outputs": [
    {
     "name": "stderr",
     "output_type": "stream",
     "text": [
      "/anaconda3/envs/ml/lib/python3.6/site-packages/sklearn/preprocessing/label.py:219: DataConversionWarning: A column-vector y was passed when a 1d array was expected. Please change the shape of y to (n_samples, ), for example using ravel().\n",
      "  y = column_or_1d(y, warn=True)\n",
      "/anaconda3/envs/ml/lib/python3.6/site-packages/sklearn/preprocessing/label.py:252: DataConversionWarning: A column-vector y was passed when a 1d array was expected. Please change the shape of y to (n_samples, ), for example using ravel().\n",
      "  y = column_or_1d(y, warn=True)\n"
     ]
    },
    {
     "name": "stdout",
     "output_type": "stream",
     "text": [
      "AUC For Training set 7 days purchase is: 0.8865725330292712\n",
      "AUC For Val set 7 days purchase is: 0.885915965527597\n"
     ]
    }
   ],
   "source": [
    "clf = XGBClassifier(learning_rate = 0.05, max_depth = 10, n_estimators = 1000, n_jobs=-1, \\\n",
    "                    colsample_bytree=0.5, gamma=1, subsample=0.8)\n",
    "clf.fit(X_train, y_train_1)\n",
    "pred_train_xgb = clf.predict_proba(X_train)\n",
    "pred_val1_xgb = clf.predict_proba(X_val)\n",
    "\n",
    "print(f\"AUC For Training set 7 days purchase is: {sklearn.metrics.roc_auc_score(y_train_1, pred_train_xgb[:,-1])}\")\n",
    "print(f\"AUC For Val set 7 days purchase is: {sklearn.metrics.roc_auc_score(y_val_1, pred_val1_xgb[:,-1])}\")"
   ]
  },
  {
   "cell_type": "code",
   "execution_count": 168,
   "metadata": {},
   "outputs": [
    {
     "name": "stderr",
     "output_type": "stream",
     "text": [
      "/anaconda3/envs/ml/lib/python3.6/site-packages/sklearn/preprocessing/label.py:219: DataConversionWarning: A column-vector y was passed when a 1d array was expected. Please change the shape of y to (n_samples, ), for example using ravel().\n",
      "  y = column_or_1d(y, warn=True)\n",
      "/anaconda3/envs/ml/lib/python3.6/site-packages/sklearn/preprocessing/label.py:252: DataConversionWarning: A column-vector y was passed when a 1d array was expected. Please change the shape of y to (n_samples, ), for example using ravel().\n",
      "  y = column_or_1d(y, warn=True)\n"
     ]
    },
    {
     "name": "stdout",
     "output_type": "stream",
     "text": [
      "AUC For Training set 14 days purchase is: 0.8640035590327249\n",
      "AUC For Training set 14 days purchase is: 0.8842745661002024\n"
     ]
    }
   ],
   "source": [
    "# 14 days purchase\n",
    "clf2 = XGBClassifier(learning_rate = 0.05, max_depth = 10, n_estimators = 1000, n_jobs=-1, \\\n",
    "                    colsample_bytree=0.5, gamma=1, subsample=0.8)\n",
    "clf2.fit(X_train, y_train_2)\n",
    "\n",
    "pred_train2_xgb = clf2.predict_proba(X_train)\n",
    "pred_val2_xgb = clf2.predict_proba(X_val)\n",
    "\n",
    "print(f\"AUC For Training set 14 days purchase is: {sklearn.metrics.roc_auc_score(y_train_2, pred_train2_xgb[:,-1])}\")\n",
    "print(f\"AUC For Training set 14 days purchase is: {sklearn.metrics.roc_auc_score(y_val_2, pred_val2_xgb[:,-1])}\")"
   ]
  },
  {
   "cell_type": "markdown",
   "metadata": {},
   "source": [
    "#### Compute Targets"
   ]
  },
  {
   "cell_type": "code",
   "execution_count": 169,
   "metadata": {},
   "outputs": [
    {
     "data": {
      "text/html": [
       "<div>\n",
       "<style scoped>\n",
       "    .dataframe tbody tr th:only-of-type {\n",
       "        vertical-align: middle;\n",
       "    }\n",
       "\n",
       "    .dataframe tbody tr th {\n",
       "        vertical-align: top;\n",
       "    }\n",
       "\n",
       "    .dataframe thead th {\n",
       "        text-align: right;\n",
       "    }\n",
       "</style>\n",
       "<table border=\"1\" class=\"dataframe\">\n",
       "  <thead>\n",
       "    <tr style=\"text-align: right;\">\n",
       "      <th></th>\n",
       "      <th>user_id_hash</th>\n",
       "      <th>user_purchase_binary_7_days</th>\n",
       "      <th>user_purchase_binary_14_days</th>\n",
       "    </tr>\n",
       "  </thead>\n",
       "  <tbody>\n",
       "    <tr>\n",
       "      <th>0</th>\n",
       "      <td>e469dfaed039ead9110165d9bc457acb11609ca34057dc...</td>\n",
       "      <td>0.01</td>\n",
       "      <td>0.02</td>\n",
       "    </tr>\n",
       "    <tr>\n",
       "      <th>1</th>\n",
       "      <td>afcc639a324b6c598ef83d360450afa011cb2dd1358bf9...</td>\n",
       "      <td>0.01</td>\n",
       "      <td>0.02</td>\n",
       "    </tr>\n",
       "    <tr>\n",
       "      <th>2</th>\n",
       "      <td>fd5a7cf211d08e3e00f7be6a9df6e6ea3d2e5c22a5d9c3...</td>\n",
       "      <td>0.01</td>\n",
       "      <td>0.02</td>\n",
       "    </tr>\n",
       "    <tr>\n",
       "      <th>3</th>\n",
       "      <td>00bfff98b9d0329f014c2eeac7ce47cd18b2bc6e10d608...</td>\n",
       "      <td>0.01</td>\n",
       "      <td>0.02</td>\n",
       "    </tr>\n",
       "    <tr>\n",
       "      <th>4</th>\n",
       "      <td>0d298f3638c43e915c119d4935e1ce8d168f81b5e3e8c1...</td>\n",
       "      <td>0.01</td>\n",
       "      <td>0.02</td>\n",
       "    </tr>\n",
       "  </tbody>\n",
       "</table>\n",
       "</div>"
      ],
      "text/plain": [
       "                                        user_id_hash  \\\n",
       "0  e469dfaed039ead9110165d9bc457acb11609ca34057dc...   \n",
       "1  afcc639a324b6c598ef83d360450afa011cb2dd1358bf9...   \n",
       "2  fd5a7cf211d08e3e00f7be6a9df6e6ea3d2e5c22a5d9c3...   \n",
       "3  00bfff98b9d0329f014c2eeac7ce47cd18b2bc6e10d608...   \n",
       "4  0d298f3638c43e915c119d4935e1ce8d168f81b5e3e8c1...   \n",
       "\n",
       "   user_purchase_binary_7_days  user_purchase_binary_14_days  \n",
       "0                         0.01                          0.02  \n",
       "1                         0.01                          0.02  \n",
       "2                         0.01                          0.02  \n",
       "3                         0.01                          0.02  \n",
       "4                         0.01                          0.02  "
      ]
     },
     "execution_count": 169,
     "metadata": {},
     "output_type": "execute_result"
    }
   ],
   "source": [
    "# getting users\n",
    "sample = pd.read_csv(\"/Users/zhangxinran/msds630_adv_ML/leanplum/sample_submission_2.csv\")\n",
    "sample.head()"
   ]
  },
  {
   "cell_type": "code",
   "execution_count": 171,
   "metadata": {},
   "outputs": [],
   "source": [
    "users_test = sample[[\"user_id_hash\"]]"
   ]
  },
  {
   "cell_type": "markdown",
   "metadata": {},
   "source": [
    "##### Getting target feature using data from Nov-1 to Dec-14"
   ]
  },
  {
   "cell_type": "code",
   "execution_count": 172,
   "metadata": {},
   "outputs": [
    {
     "data": {
      "text/html": [
       "<div>\n",
       "<style scoped>\n",
       "    .dataframe tbody tr th:only-of-type {\n",
       "        vertical-align: middle;\n",
       "    }\n",
       "\n",
       "    .dataframe tbody tr th {\n",
       "        vertical-align: top;\n",
       "    }\n",
       "\n",
       "    .dataframe thead th {\n",
       "        text-align: right;\n",
       "    }\n",
       "</style>\n",
       "<table border=\"1\" class=\"dataframe\">\n",
       "  <thead>\n",
       "    <tr style=\"text-align: right;\">\n",
       "      <th></th>\n",
       "      <th>user_id_hash</th>\n",
       "      <th>event_value</th>\n",
       "    </tr>\n",
       "  </thead>\n",
       "  <tbody>\n",
       "    <tr>\n",
       "      <th>0</th>\n",
       "      <td>002e447aed33ed4c51a68743cc293ef2148058b6a6239e...</td>\n",
       "      <td>0.0</td>\n",
       "    </tr>\n",
       "    <tr>\n",
       "      <th>1</th>\n",
       "      <td>005c9d79cf18efc6c8b5fa767964b1def9b8e2f8abd23f...</td>\n",
       "      <td>0.0</td>\n",
       "    </tr>\n",
       "    <tr>\n",
       "      <th>2</th>\n",
       "      <td>0061b4d30e8a9935b2ebeec954ff509b4f0cb500cd725c...</td>\n",
       "      <td>0.0</td>\n",
       "    </tr>\n",
       "    <tr>\n",
       "      <th>3</th>\n",
       "      <td>00fbbf507c7d3c2f259cd3329d241c29d35712e2d4699f...</td>\n",
       "      <td>0.0</td>\n",
       "    </tr>\n",
       "    <tr>\n",
       "      <th>4</th>\n",
       "      <td>0107a0017873efc2dea9a9155832363ceacf6fe97bd428...</td>\n",
       "      <td>0.0</td>\n",
       "    </tr>\n",
       "  </tbody>\n",
       "</table>\n",
       "</div>"
      ],
      "text/plain": [
       "                                        user_id_hash  event_value\n",
       "0  002e447aed33ed4c51a68743cc293ef2148058b6a6239e...          0.0\n",
       "1  005c9d79cf18efc6c8b5fa767964b1def9b8e2f8abd23f...          0.0\n",
       "2  0061b4d30e8a9935b2ebeec954ff509b4f0cb500cd725c...          0.0\n",
       "3  00fbbf507c7d3c2f259cd3329d241c29d35712e2d4699f...          0.0\n",
       "4  0107a0017873efc2dea9a9155832363ceacf6fe97bd428...          0.0"
      ]
     },
     "execution_count": 172,
     "metadata": {},
     "output_type": "execute_result"
    }
   ],
   "source": [
    "test_features = df2[(df2[\"event_timestamp\"] >= 1541055600000)]\n",
    "test_features.head()\n",
    "\n",
    "# feature 1\n",
    "test_feature1 = purchaseAmt(test_features[[\"user_id_hash\", \"event\", \"event_value\"]])\n",
    "test_feature1.head()"
   ]
  },
  {
   "cell_type": "code",
   "execution_count": 173,
   "metadata": {},
   "outputs": [],
   "source": [
    "users_test = users_test.join(test_feature1.set_index(\"user_id_hash\"), on=\"user_id_hash\", how=\"left\")\n",
    "users_test.columns = [\"user_id_hash\", \"amt_purchased\"]\n",
    "# feature 2\n",
    "test_feature2 = distinctPurchase(test_features[[\"user_id_hash\", \"event\"]])\n",
    "users_test = users_test.join(test_feature2.set_index(\"user_id_hash\"), on=\"user_id_hash\", how=\"left\")\n",
    "users_test.columns = [\"user_id_hash\", \"amt_purchased\", \"num_of_purchase\"]"
   ]
  },
  {
   "cell_type": "code",
   "execution_count": 174,
   "metadata": {},
   "outputs": [
    {
     "data": {
      "text/html": [
       "<div>\n",
       "<style scoped>\n",
       "    .dataframe tbody tr th:only-of-type {\n",
       "        vertical-align: middle;\n",
       "    }\n",
       "\n",
       "    .dataframe tbody tr th {\n",
       "        vertical-align: top;\n",
       "    }\n",
       "\n",
       "    .dataframe thead th {\n",
       "        text-align: right;\n",
       "    }\n",
       "</style>\n",
       "<table border=\"1\" class=\"dataframe\">\n",
       "  <thead>\n",
       "    <tr style=\"text-align: right;\">\n",
       "      <th></th>\n",
       "      <th>user_id_hash</th>\n",
       "      <th>amt_purchased</th>\n",
       "      <th>num_of_purchase</th>\n",
       "    </tr>\n",
       "  </thead>\n",
       "  <tbody>\n",
       "    <tr>\n",
       "      <th>0</th>\n",
       "      <td>e469dfaed039ead9110165d9bc457acb11609ca34057dc...</td>\n",
       "      <td>0.0</td>\n",
       "      <td>0.0</td>\n",
       "    </tr>\n",
       "    <tr>\n",
       "      <th>1</th>\n",
       "      <td>afcc639a324b6c598ef83d360450afa011cb2dd1358bf9...</td>\n",
       "      <td>0.0</td>\n",
       "      <td>0.0</td>\n",
       "    </tr>\n",
       "    <tr>\n",
       "      <th>2</th>\n",
       "      <td>fd5a7cf211d08e3e00f7be6a9df6e6ea3d2e5c22a5d9c3...</td>\n",
       "      <td>0.0</td>\n",
       "      <td>0.0</td>\n",
       "    </tr>\n",
       "    <tr>\n",
       "      <th>3</th>\n",
       "      <td>00bfff98b9d0329f014c2eeac7ce47cd18b2bc6e10d608...</td>\n",
       "      <td>0.0</td>\n",
       "      <td>0.0</td>\n",
       "    </tr>\n",
       "    <tr>\n",
       "      <th>4</th>\n",
       "      <td>0d298f3638c43e915c119d4935e1ce8d168f81b5e3e8c1...</td>\n",
       "      <td>0.0</td>\n",
       "      <td>0.0</td>\n",
       "    </tr>\n",
       "  </tbody>\n",
       "</table>\n",
       "</div>"
      ],
      "text/plain": [
       "                                        user_id_hash  amt_purchased  \\\n",
       "0  e469dfaed039ead9110165d9bc457acb11609ca34057dc...            0.0   \n",
       "1  afcc639a324b6c598ef83d360450afa011cb2dd1358bf9...            0.0   \n",
       "2  fd5a7cf211d08e3e00f7be6a9df6e6ea3d2e5c22a5d9c3...            0.0   \n",
       "3  00bfff98b9d0329f014c2eeac7ce47cd18b2bc6e10d608...            0.0   \n",
       "4  0d298f3638c43e915c119d4935e1ce8d168f81b5e3e8c1...            0.0   \n",
       "\n",
       "   num_of_purchase  \n",
       "0              0.0  \n",
       "1              0.0  \n",
       "2              0.0  \n",
       "3              0.0  \n",
       "4              0.0  "
      ]
     },
     "execution_count": 174,
     "metadata": {},
     "output_type": "execute_result"
    }
   ],
   "source": [
    "users_test.head()"
   ]
  },
  {
   "cell_type": "code",
   "execution_count": 175,
   "metadata": {},
   "outputs": [],
   "source": [
    "# feature 3\n",
    "tmp = sessions[[\"user_id_hash\", \"previous_sessions_duration\", \"start_timestamp\"]]\n",
    "tmp = tmp[(tmp[\"start_timestamp\"] >= 1542268801000)]\n",
    "test_feature3 = tmp[[\"user_id_hash\", \"previous_sessions_duration\"]].groupby(\"user_id_hash\").sum()\n",
    "test_feature3 = test_feature3.reset_index()\n",
    "users_test = users_test.join(test_feature3.set_index(\"user_id_hash\"), on=\"user_id_hash\", how=\"left\")\n",
    "users_test.columns = [\"user_id_hash\", \"amt_purchased\", \"num_of_purchase\", \"total_prev_session_duration\"]"
   ]
  },
  {
   "cell_type": "code",
   "execution_count": 176,
   "metadata": {},
   "outputs": [],
   "source": [
    "# feature 4 - 9\n",
    "feature5_test = distinctEvent(test_features[[\"user_id_hash\", \"event\"]], \"5\")\n",
    "feature5_test.columns = [\"user_id_hash\", \"num_of_event5\"]\n",
    "users_test = users_test.join(feature5_test.set_index(\"user_id_hash\"), on=\"user_id_hash\", how=\"left\")"
   ]
  },
  {
   "cell_type": "code",
   "execution_count": 177,
   "metadata": {},
   "outputs": [],
   "source": [
    "feature7_test = distinctEvent(test_features[[\"user_id_hash\", \"event\"]], \"7\")\n",
    "feature7_test.columns = [\"user_id_hash\", \"num_of_event7\"]\n",
    "users_test = users_test.join(feature7_test.set_index(\"user_id_hash\"), on=\"user_id_hash\", how=\"left\")"
   ]
  },
  {
   "cell_type": "code",
   "execution_count": 178,
   "metadata": {},
   "outputs": [],
   "source": [
    "feature9_test = distinctEvent(test_features[[\"user_id_hash\", \"event\"]], \"9\")\n",
    "feature9_test.columns = [\"user_id_hash\", \"num_of_event9\"]\n",
    "users_test = users_test.join(feature9_test.set_index(\"user_id_hash\"), on=\"user_id_hash\", how=\"left\")"
   ]
  },
  {
   "cell_type": "code",
   "execution_count": 179,
   "metadata": {},
   "outputs": [],
   "source": [
    "feature10_test = distinctEvent(test_features[[\"user_id_hash\", \"event\"]], \"10\")\n",
    "feature10_test.columns = [\"user_id_hash\", \"num_of_event10\"]\n",
    "users_test = users_test.join(feature10_test.set_index(\"user_id_hash\"), on=\"user_id_hash\", how=\"left\")"
   ]
  },
  {
   "cell_type": "code",
   "execution_count": 180,
   "metadata": {},
   "outputs": [],
   "source": [
    "feature11_test = distinctEvent(test_features[[\"user_id_hash\", \"event\"]], \"11\")\n",
    "feature11_test.columns = [\"user_id_hash\", \"num_of_event11\"]\n",
    "users_test = users_test.join(feature11_test.set_index(\"user_id_hash\"), on=\"user_id_hash\", how=\"left\")"
   ]
  },
  {
   "cell_type": "code",
   "execution_count": 181,
   "metadata": {},
   "outputs": [],
   "source": [
    "feature12_test = eventAmt(test_features[[\"user_id_hash\", \"event_value\", \"event\"]], \"5\")\n",
    "feature12_test.columns = [\"user_id_hash\", \"amt_of_event5\"]\n",
    "users_test = users_test.join(feature12_test.set_index(\"user_id_hash\"), on=\"user_id_hash\", how=\"left\")"
   ]
  },
  {
   "cell_type": "code",
   "execution_count": 182,
   "metadata": {},
   "outputs": [],
   "source": [
    "feature13_test = eventAmt(test_features[[\"user_id_hash\", \"event_value\", \"event\"]], \"7\")\n",
    "feature13_test.columns = [\"user_id_hash\", \"amt_of_event7\"]\n",
    "users_test = users_test.join(feature13_test.set_index(\"user_id_hash\"), on=\"user_id_hash\", how=\"left\")"
   ]
  },
  {
   "cell_type": "code",
   "execution_count": 183,
   "metadata": {},
   "outputs": [],
   "source": [
    "feature14_test = eventAmt(test_features[[\"user_id_hash\", \"event_value\", \"event\"]], \"9\")\n",
    "feature14_test.columns = [\"user_id_hash\", \"amt_of_event9\"]\n",
    "users_test = users_test.join(feature14_test.set_index(\"user_id_hash\"), on=\"user_id_hash\", how=\"left\")"
   ]
  },
  {
   "cell_type": "code",
   "execution_count": 184,
   "metadata": {},
   "outputs": [],
   "source": [
    "feature15_test = eventAmt(test_features[[\"user_id_hash\", \"event_value\", \"event\"]], \"10\")\n",
    "feature15_test.columns = [\"user_id_hash\", \"amt_of_event10\"]\n",
    "users_test = users_test.join(feature15_test.set_index(\"user_id_hash\"), on=\"user_id_hash\", how=\"left\")"
   ]
  },
  {
   "cell_type": "code",
   "execution_count": 185,
   "metadata": {},
   "outputs": [],
   "source": [
    "feature16_test = eventAmt(test_features[[\"user_id_hash\", \"event_value\", \"event\"]], \"11\")\n",
    "feature16_test.columns = [\"user_id_hash\", \"amt_of_event11\"]\n",
    "users_test = users_test.join(feature16_test.set_index(\"user_id_hash\"), on=\"user_id_hash\", how=\"left\")"
   ]
  },
  {
   "cell_type": "code",
   "execution_count": 186,
   "metadata": {},
   "outputs": [
    {
     "data": {
      "text/html": [
       "<div>\n",
       "<style scoped>\n",
       "    .dataframe tbody tr th:only-of-type {\n",
       "        vertical-align: middle;\n",
       "    }\n",
       "\n",
       "    .dataframe tbody tr th {\n",
       "        vertical-align: top;\n",
       "    }\n",
       "\n",
       "    .dataframe thead th {\n",
       "        text-align: right;\n",
       "    }\n",
       "</style>\n",
       "<table border=\"1\" class=\"dataframe\">\n",
       "  <thead>\n",
       "    <tr style=\"text-align: right;\">\n",
       "      <th></th>\n",
       "      <th>user_id_hash</th>\n",
       "      <th>amt_purchased</th>\n",
       "      <th>num_of_purchase</th>\n",
       "      <th>total_prev_session_duration</th>\n",
       "      <th>num_of_event5</th>\n",
       "      <th>num_of_event7</th>\n",
       "      <th>num_of_event9</th>\n",
       "      <th>num_of_event10</th>\n",
       "      <th>num_of_event11</th>\n",
       "      <th>amt_of_event5</th>\n",
       "      <th>amt_of_event7</th>\n",
       "      <th>amt_of_event9</th>\n",
       "      <th>amt_of_event10</th>\n",
       "      <th>amt_of_event11</th>\n",
       "    </tr>\n",
       "  </thead>\n",
       "  <tbody>\n",
       "    <tr>\n",
       "      <th>0</th>\n",
       "      <td>e469dfaed039ead9110165d9bc457acb11609ca34057dc...</td>\n",
       "      <td>0.0</td>\n",
       "      <td>0.0</td>\n",
       "      <td>0.0</td>\n",
       "      <td>0.0</td>\n",
       "      <td>0.0</td>\n",
       "      <td>0.0</td>\n",
       "      <td>0.0</td>\n",
       "      <td>0.0</td>\n",
       "      <td>0.0</td>\n",
       "      <td>0.0</td>\n",
       "      <td>0.0</td>\n",
       "      <td>0.0</td>\n",
       "      <td>0.0</td>\n",
       "    </tr>\n",
       "    <tr>\n",
       "      <th>1</th>\n",
       "      <td>afcc639a324b6c598ef83d360450afa011cb2dd1358bf9...</td>\n",
       "      <td>0.0</td>\n",
       "      <td>0.0</td>\n",
       "      <td>0.0</td>\n",
       "      <td>3.0</td>\n",
       "      <td>1.0</td>\n",
       "      <td>0.0</td>\n",
       "      <td>0.0</td>\n",
       "      <td>0.0</td>\n",
       "      <td>2.0</td>\n",
       "      <td>17.0</td>\n",
       "      <td>0.0</td>\n",
       "      <td>0.0</td>\n",
       "      <td>0.0</td>\n",
       "    </tr>\n",
       "    <tr>\n",
       "      <th>2</th>\n",
       "      <td>fd5a7cf211d08e3e00f7be6a9df6e6ea3d2e5c22a5d9c3...</td>\n",
       "      <td>0.0</td>\n",
       "      <td>0.0</td>\n",
       "      <td>0.0</td>\n",
       "      <td>0.0</td>\n",
       "      <td>1.0</td>\n",
       "      <td>0.0</td>\n",
       "      <td>0.0</td>\n",
       "      <td>0.0</td>\n",
       "      <td>0.0</td>\n",
       "      <td>12.0</td>\n",
       "      <td>0.0</td>\n",
       "      <td>0.0</td>\n",
       "      <td>0.0</td>\n",
       "    </tr>\n",
       "    <tr>\n",
       "      <th>3</th>\n",
       "      <td>00bfff98b9d0329f014c2eeac7ce47cd18b2bc6e10d608...</td>\n",
       "      <td>0.0</td>\n",
       "      <td>0.0</td>\n",
       "      <td>0.0</td>\n",
       "      <td>1.0</td>\n",
       "      <td>1.0</td>\n",
       "      <td>0.0</td>\n",
       "      <td>0.0</td>\n",
       "      <td>0.0</td>\n",
       "      <td>1.0</td>\n",
       "      <td>17.0</td>\n",
       "      <td>0.0</td>\n",
       "      <td>0.0</td>\n",
       "      <td>0.0</td>\n",
       "    </tr>\n",
       "    <tr>\n",
       "      <th>4</th>\n",
       "      <td>0d298f3638c43e915c119d4935e1ce8d168f81b5e3e8c1...</td>\n",
       "      <td>0.0</td>\n",
       "      <td>0.0</td>\n",
       "      <td>0.0</td>\n",
       "      <td>0.0</td>\n",
       "      <td>0.0</td>\n",
       "      <td>0.0</td>\n",
       "      <td>0.0</td>\n",
       "      <td>0.0</td>\n",
       "      <td>0.0</td>\n",
       "      <td>0.0</td>\n",
       "      <td>0.0</td>\n",
       "      <td>0.0</td>\n",
       "      <td>0.0</td>\n",
       "    </tr>\n",
       "  </tbody>\n",
       "</table>\n",
       "</div>"
      ],
      "text/plain": [
       "                                        user_id_hash  amt_purchased  \\\n",
       "0  e469dfaed039ead9110165d9bc457acb11609ca34057dc...            0.0   \n",
       "1  afcc639a324b6c598ef83d360450afa011cb2dd1358bf9...            0.0   \n",
       "2  fd5a7cf211d08e3e00f7be6a9df6e6ea3d2e5c22a5d9c3...            0.0   \n",
       "3  00bfff98b9d0329f014c2eeac7ce47cd18b2bc6e10d608...            0.0   \n",
       "4  0d298f3638c43e915c119d4935e1ce8d168f81b5e3e8c1...            0.0   \n",
       "\n",
       "   num_of_purchase  total_prev_session_duration  num_of_event5  num_of_event7  \\\n",
       "0              0.0                          0.0            0.0            0.0   \n",
       "1              0.0                          0.0            3.0            1.0   \n",
       "2              0.0                          0.0            0.0            1.0   \n",
       "3              0.0                          0.0            1.0            1.0   \n",
       "4              0.0                          0.0            0.0            0.0   \n",
       "\n",
       "   num_of_event9  num_of_event10  num_of_event11  amt_of_event5  \\\n",
       "0            0.0             0.0             0.0            0.0   \n",
       "1            0.0             0.0             0.0            2.0   \n",
       "2            0.0             0.0             0.0            0.0   \n",
       "3            0.0             0.0             0.0            1.0   \n",
       "4            0.0             0.0             0.0            0.0   \n",
       "\n",
       "   amt_of_event7  amt_of_event9  amt_of_event10  amt_of_event11  \n",
       "0            0.0            0.0             0.0             0.0  \n",
       "1           17.0            0.0             0.0             0.0  \n",
       "2           12.0            0.0             0.0             0.0  \n",
       "3           17.0            0.0             0.0             0.0  \n",
       "4            0.0            0.0             0.0             0.0  "
      ]
     },
     "execution_count": 186,
     "metadata": {},
     "output_type": "execute_result"
    }
   ],
   "source": [
    "users_test.head()"
   ]
  },
  {
   "cell_type": "code",
   "execution_count": 187,
   "metadata": {},
   "outputs": [],
   "source": [
    "users_test[users_test[\"amt_of_event5\"]==float(\"inf\")] = 0\n",
    "users_test[users_test[\"amt_of_event7\"]==float(\"inf\")] = 0\n",
    "users_test[users_test[\"amt_of_event9\"]==float(\"inf\")] = 0\n",
    "users_test[users_test[\"amt_of_event10\"]==float(\"inf\")] = 0\n",
    "users_test[users_test[\"amt_of_event11\"]==float(\"inf\")] = 0"
   ]
  },
  {
   "cell_type": "code",
   "execution_count": 188,
   "metadata": {},
   "outputs": [
    {
     "data": {
      "text/html": [
       "<div>\n",
       "<style scoped>\n",
       "    .dataframe tbody tr th:only-of-type {\n",
       "        vertical-align: middle;\n",
       "    }\n",
       "\n",
       "    .dataframe tbody tr th {\n",
       "        vertical-align: top;\n",
       "    }\n",
       "\n",
       "    .dataframe thead th {\n",
       "        text-align: right;\n",
       "    }\n",
       "</style>\n",
       "<table border=\"1\" class=\"dataframe\">\n",
       "  <thead>\n",
       "    <tr style=\"text-align: right;\">\n",
       "      <th></th>\n",
       "      <th>amt_purchased</th>\n",
       "      <th>num_of_purchase</th>\n",
       "      <th>total_prev_session_duration</th>\n",
       "      <th>num_of_event5</th>\n",
       "      <th>num_of_event7</th>\n",
       "      <th>num_of_event9</th>\n",
       "      <th>num_of_event10</th>\n",
       "      <th>num_of_event11</th>\n",
       "      <th>amt_of_event5</th>\n",
       "      <th>amt_of_event7</th>\n",
       "      <th>amt_of_event9</th>\n",
       "      <th>amt_of_event10</th>\n",
       "      <th>amt_of_event11</th>\n",
       "    </tr>\n",
       "  </thead>\n",
       "  <tbody>\n",
       "    <tr>\n",
       "      <th>count</th>\n",
       "      <td>312316.0</td>\n",
       "      <td>312316.000000</td>\n",
       "      <td>3.123680e+05</td>\n",
       "      <td>312316.000000</td>\n",
       "      <td>312316.000000</td>\n",
       "      <td>312316.000000</td>\n",
       "      <td>312316.000000</td>\n",
       "      <td>312316.000000</td>\n",
       "      <td>312316.0</td>\n",
       "      <td>312316.0</td>\n",
       "      <td>312316.0</td>\n",
       "      <td>312316.0</td>\n",
       "      <td>312316.0</td>\n",
       "    </tr>\n",
       "    <tr>\n",
       "      <th>mean</th>\n",
       "      <td>NaN</td>\n",
       "      <td>0.324521</td>\n",
       "      <td>2.413255e+08</td>\n",
       "      <td>5.033661</td>\n",
       "      <td>2.044087</td>\n",
       "      <td>0.084764</td>\n",
       "      <td>0.001972</td>\n",
       "      <td>0.056894</td>\n",
       "      <td>NaN</td>\n",
       "      <td>NaN</td>\n",
       "      <td>0.0</td>\n",
       "      <td>0.0</td>\n",
       "      <td>NaN</td>\n",
       "    </tr>\n",
       "    <tr>\n",
       "      <th>std</th>\n",
       "      <td>NaN</td>\n",
       "      <td>3.053174</td>\n",
       "      <td>3.018820e+09</td>\n",
       "      <td>17.130488</td>\n",
       "      <td>11.637891</td>\n",
       "      <td>0.569848</td>\n",
       "      <td>0.047907</td>\n",
       "      <td>0.233897</td>\n",
       "      <td>NaN</td>\n",
       "      <td>NaN</td>\n",
       "      <td>0.0</td>\n",
       "      <td>0.0</td>\n",
       "      <td>0.0</td>\n",
       "    </tr>\n",
       "    <tr>\n",
       "      <th>min</th>\n",
       "      <td>0.0</td>\n",
       "      <td>0.000000</td>\n",
       "      <td>0.000000e+00</td>\n",
       "      <td>0.000000</td>\n",
       "      <td>0.000000</td>\n",
       "      <td>0.000000</td>\n",
       "      <td>0.000000</td>\n",
       "      <td>0.000000</td>\n",
       "      <td>0.0</td>\n",
       "      <td>0.0</td>\n",
       "      <td>0.0</td>\n",
       "      <td>0.0</td>\n",
       "      <td>0.0</td>\n",
       "    </tr>\n",
       "    <tr>\n",
       "      <th>25%</th>\n",
       "      <td>0.0</td>\n",
       "      <td>0.000000</td>\n",
       "      <td>0.000000e+00</td>\n",
       "      <td>0.000000</td>\n",
       "      <td>0.000000</td>\n",
       "      <td>0.000000</td>\n",
       "      <td>0.000000</td>\n",
       "      <td>0.000000</td>\n",
       "      <td>0.0</td>\n",
       "      <td>0.0</td>\n",
       "      <td>0.0</td>\n",
       "      <td>0.0</td>\n",
       "      <td>0.0</td>\n",
       "    </tr>\n",
       "    <tr>\n",
       "      <th>50%</th>\n",
       "      <td>0.0</td>\n",
       "      <td>0.000000</td>\n",
       "      <td>0.000000e+00</td>\n",
       "      <td>1.000000</td>\n",
       "      <td>0.000000</td>\n",
       "      <td>0.000000</td>\n",
       "      <td>0.000000</td>\n",
       "      <td>0.000000</td>\n",
       "      <td>0.0</td>\n",
       "      <td>0.0</td>\n",
       "      <td>0.0</td>\n",
       "      <td>0.0</td>\n",
       "      <td>0.0</td>\n",
       "    </tr>\n",
       "    <tr>\n",
       "      <th>75%</th>\n",
       "      <td>0.0</td>\n",
       "      <td>0.000000</td>\n",
       "      <td>0.000000e+00</td>\n",
       "      <td>3.000000</td>\n",
       "      <td>2.000000</td>\n",
       "      <td>0.000000</td>\n",
       "      <td>0.000000</td>\n",
       "      <td>0.000000</td>\n",
       "      <td>1.0</td>\n",
       "      <td>32.0</td>\n",
       "      <td>0.0</td>\n",
       "      <td>0.0</td>\n",
       "      <td>0.0</td>\n",
       "    </tr>\n",
       "    <tr>\n",
       "      <th>max</th>\n",
       "      <td>1135.0</td>\n",
       "      <td>236.000000</td>\n",
       "      <td>4.960723e+11</td>\n",
       "      <td>820.000000</td>\n",
       "      <td>1540.000000</td>\n",
       "      <td>87.000000</td>\n",
       "      <td>3.000000</td>\n",
       "      <td>4.000000</td>\n",
       "      <td>674.0</td>\n",
       "      <td>19440.0</td>\n",
       "      <td>87.0</td>\n",
       "      <td>90.0</td>\n",
       "      <td>20.0</td>\n",
       "    </tr>\n",
       "  </tbody>\n",
       "</table>\n",
       "</div>"
      ],
      "text/plain": [
       "       amt_purchased  num_of_purchase  total_prev_session_duration  \\\n",
       "count       312316.0    312316.000000                 3.123680e+05   \n",
       "mean             NaN         0.324521                 2.413255e+08   \n",
       "std              NaN         3.053174                 3.018820e+09   \n",
       "min              0.0         0.000000                 0.000000e+00   \n",
       "25%              0.0         0.000000                 0.000000e+00   \n",
       "50%              0.0         0.000000                 0.000000e+00   \n",
       "75%              0.0         0.000000                 0.000000e+00   \n",
       "max           1135.0       236.000000                 4.960723e+11   \n",
       "\n",
       "       num_of_event5  num_of_event7  num_of_event9  num_of_event10  \\\n",
       "count  312316.000000  312316.000000  312316.000000   312316.000000   \n",
       "mean        5.033661       2.044087       0.084764        0.001972   \n",
       "std        17.130488      11.637891       0.569848        0.047907   \n",
       "min         0.000000       0.000000       0.000000        0.000000   \n",
       "25%         0.000000       0.000000       0.000000        0.000000   \n",
       "50%         1.000000       0.000000       0.000000        0.000000   \n",
       "75%         3.000000       2.000000       0.000000        0.000000   \n",
       "max       820.000000    1540.000000      87.000000        3.000000   \n",
       "\n",
       "       num_of_event11  amt_of_event5  amt_of_event7  amt_of_event9  \\\n",
       "count   312316.000000       312316.0       312316.0       312316.0   \n",
       "mean         0.056894            NaN            NaN            0.0   \n",
       "std          0.233897            NaN            NaN            0.0   \n",
       "min          0.000000            0.0            0.0            0.0   \n",
       "25%          0.000000            0.0            0.0            0.0   \n",
       "50%          0.000000            0.0            0.0            0.0   \n",
       "75%          0.000000            1.0           32.0            0.0   \n",
       "max          4.000000          674.0        19440.0           87.0   \n",
       "\n",
       "       amt_of_event10  amt_of_event11  \n",
       "count        312316.0        312316.0  \n",
       "mean              0.0             NaN  \n",
       "std               0.0             0.0  \n",
       "min               0.0             0.0  \n",
       "25%               0.0             0.0  \n",
       "50%               0.0             0.0  \n",
       "75%               0.0             0.0  \n",
       "max              90.0            20.0  "
      ]
     },
     "execution_count": 188,
     "metadata": {},
     "output_type": "execute_result"
    }
   ],
   "source": [
    "users_test.describe()"
   ]
  },
  {
   "cell_type": "code",
   "execution_count": 190,
   "metadata": {},
   "outputs": [
    {
     "data": {
      "text/plain": [
       "user_id_hash                   312568\n",
       "amt_purchased                  312316\n",
       "num_of_purchase                312316\n",
       "total_prev_session_duration    312368\n",
       "num_of_event5                  312316\n",
       "num_of_event7                  312316\n",
       "num_of_event9                  312316\n",
       "num_of_event10                 312316\n",
       "num_of_event11                 312316\n",
       "amt_of_event5                  312316\n",
       "amt_of_event7                  312316\n",
       "amt_of_event9                  312316\n",
       "amt_of_event10                 312316\n",
       "amt_of_event11                 312316\n",
       "dtype: int64"
      ]
     },
     "execution_count": 190,
     "metadata": {},
     "output_type": "execute_result"
    }
   ],
   "source": [
    "users_test.count()"
   ]
  },
  {
   "cell_type": "code",
   "execution_count": 191,
   "metadata": {},
   "outputs": [],
   "source": [
    "users_test[\"amt_purchased\"].fillna(0, inplace=True)\n",
    "users_test[\"num_of_purchase\"].fillna(0, inplace=True)\n",
    "users_test[\"total_prev_session_duration\"].fillna(0, inplace=True)\n",
    "users_test[\"num_of_event5\"].fillna(0, inplace=True)\n",
    "users_test[\"num_of_event7\"].fillna(0, inplace=True)\n",
    "users_test[\"num_of_event9\"].fillna(0, inplace=True)\n",
    "users_test[\"num_of_event10\"].fillna(0, inplace=True)\n",
    "users_test[\"num_of_event11\"].fillna(0, inplace=True)\n",
    "users_test[\"amt_of_event5\"].fillna(0, inplace=True)\n",
    "users_test[\"amt_of_event7\"].fillna(0, inplace=True)\n",
    "users_test[\"amt_of_event9\"].fillna(0, inplace=True)\n",
    "users_test[\"amt_of_event10\"].fillna(0, inplace=True)\n",
    "users_test[\"amt_of_event11\"].fillna(0, inplace=True)"
   ]
  },
  {
   "cell_type": "code",
   "execution_count": 192,
   "metadata": {},
   "outputs": [
    {
     "data": {
      "text/plain": [
       "user_id_hash                   312568\n",
       "amt_purchased                  312568\n",
       "num_of_purchase                312568\n",
       "total_prev_session_duration    312568\n",
       "num_of_event5                  312568\n",
       "num_of_event7                  312568\n",
       "num_of_event9                  312568\n",
       "num_of_event10                 312568\n",
       "num_of_event11                 312568\n",
       "amt_of_event5                  312568\n",
       "amt_of_event7                  312568\n",
       "amt_of_event9                  312568\n",
       "amt_of_event10                 312568\n",
       "amt_of_event11                 312568\n",
       "dtype: int64"
      ]
     },
     "execution_count": 192,
     "metadata": {},
     "output_type": "execute_result"
    }
   ],
   "source": [
    "users_test.count()"
   ]
  },
  {
   "cell_type": "code",
   "execution_count": 193,
   "metadata": {},
   "outputs": [],
   "source": [
    "X_test = users_test[[\"amt_purchased\", \"num_of_purchase\", \"total_prev_session_duration\", \"num_of_event5\", \\\n",
    "                       \"num_of_event7\", \"num_of_event9\", \"num_of_event10\", \"num_of_event11\",\\\n",
    "                      \"amt_of_event5\", \"amt_of_event7\", \"amt_of_event9\", \"amt_of_event10\", \"amt_of_event11\"]]"
   ]
  },
  {
   "cell_type": "code",
   "execution_count": 194,
   "metadata": {},
   "outputs": [
    {
     "name": "stderr",
     "output_type": "stream",
     "text": [
      "[Parallel(n_jobs=4)]: Using backend ThreadingBackend with 4 concurrent workers.\n",
      "[Parallel(n_jobs=4)]: Done  42 tasks      | elapsed:    0.8s\n",
      "[Parallel(n_jobs=4)]: Done 192 tasks      | elapsed:    2.7s\n",
      "[Parallel(n_jobs=4)]: Done 442 tasks      | elapsed:    8.2s\n",
      "[Parallel(n_jobs=4)]: Done 792 tasks      | elapsed:   13.9s\n",
      "[Parallel(n_jobs=4)]: Done 1000 out of 1000 | elapsed:   16.5s finished\n",
      "[Parallel(n_jobs=4)]: Using backend ThreadingBackend with 4 concurrent workers.\n",
      "[Parallel(n_jobs=4)]: Done  42 tasks      | elapsed:    0.6s\n",
      "[Parallel(n_jobs=4)]: Done 192 tasks      | elapsed:    2.6s\n",
      "[Parallel(n_jobs=4)]: Done 442 tasks      | elapsed:    6.4s\n",
      "[Parallel(n_jobs=4)]: Done 792 tasks      | elapsed:   11.9s\n",
      "[Parallel(n_jobs=4)]: Done 1000 out of 1000 | elapsed:   14.6s finished\n"
     ]
    }
   ],
   "source": [
    "pred_1 = rf.predict_proba(X_test)\n",
    "pred_2 = rf2.predict_proba(X_test)"
   ]
  },
  {
   "cell_type": "code",
   "execution_count": 195,
   "metadata": {},
   "outputs": [
    {
     "data": {
      "text/plain": [
       "array([[9.84861514e-01, 1.51384857e-02],\n",
       "       [9.98009572e-01, 1.99042790e-03],\n",
       "       [9.98848114e-01, 1.15188636e-03],\n",
       "       ...,\n",
       "       [9.99377125e-01, 6.22874628e-04],\n",
       "       [9.84861514e-01, 1.51384857e-02],\n",
       "       [9.84861514e-01, 1.51384857e-02]])"
      ]
     },
     "execution_count": 195,
     "metadata": {},
     "output_type": "execute_result"
    }
   ],
   "source": [
    "pred_1"
   ]
  },
  {
   "cell_type": "code",
   "execution_count": 196,
   "metadata": {},
   "outputs": [],
   "source": [
    "sample[\"user_purchase_binary_7_days\"] = pd.DataFrame(pred_1[:,-1])"
   ]
  },
  {
   "cell_type": "code",
   "execution_count": 197,
   "metadata": {},
   "outputs": [],
   "source": [
    "sample[\"user_purchase_binary_14_days\"] = pd.DataFrame(pred_2[:,-1])"
   ]
  },
  {
   "cell_type": "code",
   "execution_count": 198,
   "metadata": {},
   "outputs": [
    {
     "data": {
      "text/html": [
       "<div>\n",
       "<style scoped>\n",
       "    .dataframe tbody tr th:only-of-type {\n",
       "        vertical-align: middle;\n",
       "    }\n",
       "\n",
       "    .dataframe tbody tr th {\n",
       "        vertical-align: top;\n",
       "    }\n",
       "\n",
       "    .dataframe thead th {\n",
       "        text-align: right;\n",
       "    }\n",
       "</style>\n",
       "<table border=\"1\" class=\"dataframe\">\n",
       "  <thead>\n",
       "    <tr style=\"text-align: right;\">\n",
       "      <th></th>\n",
       "      <th>user_id_hash</th>\n",
       "      <th>user_purchase_binary_7_days</th>\n",
       "      <th>user_purchase_binary_14_days</th>\n",
       "    </tr>\n",
       "  </thead>\n",
       "  <tbody>\n",
       "    <tr>\n",
       "      <th>0</th>\n",
       "      <td>e469dfaed039ead9110165d9bc457acb11609ca34057dc...</td>\n",
       "      <td>0.015138</td>\n",
       "      <td>0.029678</td>\n",
       "    </tr>\n",
       "    <tr>\n",
       "      <th>1</th>\n",
       "      <td>afcc639a324b6c598ef83d360450afa011cb2dd1358bf9...</td>\n",
       "      <td>0.001990</td>\n",
       "      <td>0.001558</td>\n",
       "    </tr>\n",
       "    <tr>\n",
       "      <th>2</th>\n",
       "      <td>fd5a7cf211d08e3e00f7be6a9df6e6ea3d2e5c22a5d9c3...</td>\n",
       "      <td>0.001152</td>\n",
       "      <td>0.002654</td>\n",
       "    </tr>\n",
       "    <tr>\n",
       "      <th>3</th>\n",
       "      <td>00bfff98b9d0329f014c2eeac7ce47cd18b2bc6e10d608...</td>\n",
       "      <td>0.000470</td>\n",
       "      <td>0.000307</td>\n",
       "    </tr>\n",
       "    <tr>\n",
       "      <th>4</th>\n",
       "      <td>0d298f3638c43e915c119d4935e1ce8d168f81b5e3e8c1...</td>\n",
       "      <td>0.015138</td>\n",
       "      <td>0.029678</td>\n",
       "    </tr>\n",
       "  </tbody>\n",
       "</table>\n",
       "</div>"
      ],
      "text/plain": [
       "                                        user_id_hash  \\\n",
       "0  e469dfaed039ead9110165d9bc457acb11609ca34057dc...   \n",
       "1  afcc639a324b6c598ef83d360450afa011cb2dd1358bf9...   \n",
       "2  fd5a7cf211d08e3e00f7be6a9df6e6ea3d2e5c22a5d9c3...   \n",
       "3  00bfff98b9d0329f014c2eeac7ce47cd18b2bc6e10d608...   \n",
       "4  0d298f3638c43e915c119d4935e1ce8d168f81b5e3e8c1...   \n",
       "\n",
       "   user_purchase_binary_7_days  user_purchase_binary_14_days  \n",
       "0                     0.015138                      0.029678  \n",
       "1                     0.001990                      0.001558  \n",
       "2                     0.001152                      0.002654  \n",
       "3                     0.000470                      0.000307  \n",
       "4                     0.015138                      0.029678  "
      ]
     },
     "execution_count": 198,
     "metadata": {},
     "output_type": "execute_result"
    }
   ],
   "source": [
    "sample.head()"
   ]
  },
  {
   "cell_type": "code",
   "execution_count": 199,
   "metadata": {},
   "outputs": [],
   "source": [
    "submission = pd.read_csv(\"/Users/zhangxinran/msds630_adv_ML/leanplum/sample_submission_2.csv\")"
   ]
  },
  {
   "cell_type": "code",
   "execution_count": 200,
   "metadata": {},
   "outputs": [],
   "source": [
    "s = sample[[\"user_purchase_binary_7_days\"]].astype('double', copy=False)"
   ]
  },
  {
   "cell_type": "code",
   "execution_count": 201,
   "metadata": {},
   "outputs": [],
   "source": [
    "s2 = sample[[\"user_purchase_binary_14_days\"]].astype('double', copy=False)"
   ]
  },
  {
   "cell_type": "code",
   "execution_count": 202,
   "metadata": {},
   "outputs": [],
   "source": [
    "submission.loc[:, \"user_purchase_binary_7_days\"] = s\n",
    "submission.loc[:, \"user_purchase_binary_14_days\"] = s2"
   ]
  },
  {
   "cell_type": "code",
   "execution_count": 203,
   "metadata": {},
   "outputs": [],
   "source": [
    "submission.to_csv(\"~/Desktop/submission5.csv\", index=False)"
   ]
  },
  {
   "cell_type": "code",
   "execution_count": 204,
   "metadata": {},
   "outputs": [
    {
     "data": {
      "text/html": [
       "<div>\n",
       "<style scoped>\n",
       "    .dataframe tbody tr th:only-of-type {\n",
       "        vertical-align: middle;\n",
       "    }\n",
       "\n",
       "    .dataframe tbody tr th {\n",
       "        vertical-align: top;\n",
       "    }\n",
       "\n",
       "    .dataframe thead th {\n",
       "        text-align: right;\n",
       "    }\n",
       "</style>\n",
       "<table border=\"1\" class=\"dataframe\">\n",
       "  <thead>\n",
       "    <tr style=\"text-align: right;\">\n",
       "      <th></th>\n",
       "      <th>user_id_hash</th>\n",
       "      <th>user_purchase_binary_7_days</th>\n",
       "      <th>user_purchase_binary_14_days</th>\n",
       "    </tr>\n",
       "  </thead>\n",
       "  <tbody>\n",
       "    <tr>\n",
       "      <th>0</th>\n",
       "      <td>e469dfaed039ead9110165d9bc457acb11609ca34057dc...</td>\n",
       "      <td>0.015138</td>\n",
       "      <td>0.029678</td>\n",
       "    </tr>\n",
       "    <tr>\n",
       "      <th>1</th>\n",
       "      <td>afcc639a324b6c598ef83d360450afa011cb2dd1358bf9...</td>\n",
       "      <td>0.001990</td>\n",
       "      <td>0.001558</td>\n",
       "    </tr>\n",
       "    <tr>\n",
       "      <th>2</th>\n",
       "      <td>fd5a7cf211d08e3e00f7be6a9df6e6ea3d2e5c22a5d9c3...</td>\n",
       "      <td>0.001152</td>\n",
       "      <td>0.002654</td>\n",
       "    </tr>\n",
       "    <tr>\n",
       "      <th>3</th>\n",
       "      <td>00bfff98b9d0329f014c2eeac7ce47cd18b2bc6e10d608...</td>\n",
       "      <td>0.000470</td>\n",
       "      <td>0.000307</td>\n",
       "    </tr>\n",
       "    <tr>\n",
       "      <th>4</th>\n",
       "      <td>0d298f3638c43e915c119d4935e1ce8d168f81b5e3e8c1...</td>\n",
       "      <td>0.015138</td>\n",
       "      <td>0.029678</td>\n",
       "    </tr>\n",
       "  </tbody>\n",
       "</table>\n",
       "</div>"
      ],
      "text/plain": [
       "                                        user_id_hash  \\\n",
       "0  e469dfaed039ead9110165d9bc457acb11609ca34057dc...   \n",
       "1  afcc639a324b6c598ef83d360450afa011cb2dd1358bf9...   \n",
       "2  fd5a7cf211d08e3e00f7be6a9df6e6ea3d2e5c22a5d9c3...   \n",
       "3  00bfff98b9d0329f014c2eeac7ce47cd18b2bc6e10d608...   \n",
       "4  0d298f3638c43e915c119d4935e1ce8d168f81b5e3e8c1...   \n",
       "\n",
       "   user_purchase_binary_7_days  user_purchase_binary_14_days  \n",
       "0                     0.015138                      0.029678  \n",
       "1                     0.001990                      0.001558  \n",
       "2                     0.001152                      0.002654  \n",
       "3                     0.000470                      0.000307  \n",
       "4                     0.015138                      0.029678  "
      ]
     },
     "execution_count": 204,
     "metadata": {},
     "output_type": "execute_result"
    }
   ],
   "source": [
    "submission.head()"
   ]
  },
  {
   "cell_type": "code",
   "execution_count": null,
   "metadata": {},
   "outputs": [],
   "source": [
    "submission.describe()"
   ]
  },
  {
   "cell_type": "code",
   "execution_count": 214,
   "metadata": {},
   "outputs": [],
   "source": [
    "pred_1_xgb = clf.predict_proba(X_test)\n",
    "pred_2_xgb = clf2.predict_proba(X_test)"
   ]
  },
  {
   "cell_type": "code",
   "execution_count": 215,
   "metadata": {},
   "outputs": [],
   "source": [
    "sample[\"user_purchase_binary_7_days\"] = pd.DataFrame(pred_1_xgb[:,-1])\n",
    "sample[\"user_purchase_binary_14_days\"] = pd.DataFrame(pred_2_xgb[:,-1])"
   ]
  },
  {
   "cell_type": "code",
   "execution_count": 216,
   "metadata": {},
   "outputs": [],
   "source": [
    "submission = pd.read_csv(\"/Users/zhangxinran/msds630_adv_ML/leanplum/sample_submission_2.csv\")\n",
    "s = sample[[\"user_purchase_binary_7_days\"]].astype('double', copy=False)\n",
    "s2 = sample[[\"user_purchase_binary_14_days\"]].astype('double', copy=False)\n",
    "submission.loc[:, \"user_purchase_binary_7_days\"] = s\n",
    "submission.loc[:, \"user_purchase_binary_14_days\"] = s2\n",
    "submission.to_csv(\"~/Desktop/submission6.csv\", index=False)"
   ]
  },
  {
   "cell_type": "code",
   "execution_count": 217,
   "metadata": {},
   "outputs": [
    {
     "data": {
      "text/html": [
       "<div>\n",
       "<style scoped>\n",
       "    .dataframe tbody tr th:only-of-type {\n",
       "        vertical-align: middle;\n",
       "    }\n",
       "\n",
       "    .dataframe tbody tr th {\n",
       "        vertical-align: top;\n",
       "    }\n",
       "\n",
       "    .dataframe thead th {\n",
       "        text-align: right;\n",
       "    }\n",
       "</style>\n",
       "<table border=\"1\" class=\"dataframe\">\n",
       "  <thead>\n",
       "    <tr style=\"text-align: right;\">\n",
       "      <th></th>\n",
       "      <th>user_id_hash</th>\n",
       "      <th>user_purchase_binary_7_days</th>\n",
       "      <th>user_purchase_binary_14_days</th>\n",
       "    </tr>\n",
       "  </thead>\n",
       "  <tbody>\n",
       "    <tr>\n",
       "      <th>0</th>\n",
       "      <td>e469dfaed039ead9110165d9bc457acb11609ca34057dc...</td>\n",
       "      <td>0.015373</td>\n",
       "      <td>0.030254</td>\n",
       "    </tr>\n",
       "    <tr>\n",
       "      <th>1</th>\n",
       "      <td>afcc639a324b6c598ef83d360450afa011cb2dd1358bf9...</td>\n",
       "      <td>0.003408</td>\n",
       "      <td>0.002802</td>\n",
       "    </tr>\n",
       "    <tr>\n",
       "      <th>2</th>\n",
       "      <td>fd5a7cf211d08e3e00f7be6a9df6e6ea3d2e5c22a5d9c3...</td>\n",
       "      <td>0.001838</td>\n",
       "      <td>0.002779</td>\n",
       "    </tr>\n",
       "    <tr>\n",
       "      <th>3</th>\n",
       "      <td>00bfff98b9d0329f014c2eeac7ce47cd18b2bc6e10d608...</td>\n",
       "      <td>0.001475</td>\n",
       "      <td>0.001443</td>\n",
       "    </tr>\n",
       "    <tr>\n",
       "      <th>4</th>\n",
       "      <td>0d298f3638c43e915c119d4935e1ce8d168f81b5e3e8c1...</td>\n",
       "      <td>0.015373</td>\n",
       "      <td>0.030254</td>\n",
       "    </tr>\n",
       "  </tbody>\n",
       "</table>\n",
       "</div>"
      ],
      "text/plain": [
       "                                        user_id_hash  \\\n",
       "0  e469dfaed039ead9110165d9bc457acb11609ca34057dc...   \n",
       "1  afcc639a324b6c598ef83d360450afa011cb2dd1358bf9...   \n",
       "2  fd5a7cf211d08e3e00f7be6a9df6e6ea3d2e5c22a5d9c3...   \n",
       "3  00bfff98b9d0329f014c2eeac7ce47cd18b2bc6e10d608...   \n",
       "4  0d298f3638c43e915c119d4935e1ce8d168f81b5e3e8c1...   \n",
       "\n",
       "   user_purchase_binary_7_days  user_purchase_binary_14_days  \n",
       "0                     0.015373                      0.030254  \n",
       "1                     0.003408                      0.002802  \n",
       "2                     0.001838                      0.002779  \n",
       "3                     0.001475                      0.001443  \n",
       "4                     0.015373                      0.030254  "
      ]
     },
     "execution_count": 217,
     "metadata": {},
     "output_type": "execute_result"
    }
   ],
   "source": [
    "submission.head()"
   ]
  },
  {
   "cell_type": "code",
   "execution_count": null,
   "metadata": {},
   "outputs": [],
   "source": []
  }
 ],
 "metadata": {
  "kernelspec": {
   "display_name": "Python 3",
   "language": "python",
   "name": "python3"
  },
  "language_info": {
   "codemirror_mode": {
    "name": "ipython",
    "version": 3
   },
   "file_extension": ".py",
   "mimetype": "text/x-python",
   "name": "python",
   "nbconvert_exporter": "python",
   "pygments_lexer": "ipython3",
   "version": "3.6.8"
  }
 },
 "nbformat": 4,
 "nbformat_minor": 2
}
