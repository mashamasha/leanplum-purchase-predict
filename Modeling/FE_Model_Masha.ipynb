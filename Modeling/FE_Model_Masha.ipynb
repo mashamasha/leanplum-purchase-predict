{
 "cells": [
  {
   "cell_type": "code",
   "execution_count": 60,
   "metadata": {
    "ExecuteTime": {
     "end_time": "2019-02-23T06:15:50.544511Z",
     "start_time": "2019-02-23T06:15:49.121743Z"
    }
   },
   "outputs": [],
   "source": [
    "import numpy as np\n",
    "import pandas as pd\n",
    "import pickle\n",
    "import xgboost\n",
    "import time"
   ]
  },
  {
   "cell_type": "code",
   "execution_count": 61,
   "metadata": {
    "ExecuteTime": {
     "end_time": "2019-02-23T09:20:54.753193Z",
     "start_time": "2019-02-23T09:20:54.660216Z"
    }
   },
   "outputs": [],
   "source": [
    "import lightgbm as lgb\n",
    "from xgboost.sklearn import XGBClassifier\n",
    "\n",
    "warnings.filterwarnings('ignore')\n",
    "from sklearn.ensemble import RandomForestClassifier, VotingClassifier\n",
    "from sklearn.metrics import roc_curve, auc, accuracy_score, roc_auc_score, f1_score, confusion_matrix, precision_recall_curve"
   ]
  },
  {
   "cell_type": "code",
   "execution_count": 62,
   "metadata": {
    "ExecuteTime": {
     "end_time": "2019-02-23T09:22:17.819931Z",
     "start_time": "2019-02-23T09:22:17.815173Z"
    }
   },
   "outputs": [],
   "source": [
    "import warnings\n",
    "warnings.filterwarnings('ignore')\n",
    "import numpy as np\n",
    "from collections import Counter, defaultdict\n",
    "from random import choice\n",
    "import os\n"
   ]
  },
  {
   "cell_type": "markdown",
   "metadata": {},
   "source": [
    "### LOADING DATA"
   ]
  },
  {
   "cell_type": "code",
   "execution_count": 6,
   "metadata": {
    "ExecuteTime": {
     "end_time": "2019-02-23T06:16:09.720627Z",
     "start_time": "2019-02-23T06:15:53.651597Z"
    }
   },
   "outputs": [
    {
     "data": {
      "text/plain": [
       "'# choose certain columns    \\nsession_df = sessions[[\"user_id_hash\", \"previous_sessions_duration\"]]\\nevent_df = events[[\"user_id_hash\", \"event_timestamp\", \"event\", \"event_value\"]] '"
      ]
     },
     "execution_count": 6,
     "metadata": {},
     "output_type": "execute_result"
    }
   ],
   "source": [
    "# sessions\n",
    "with open (os.path.expanduser(\"~/USF/adv_ml/final/LeanPlum/session.pkl\"), \"rb\") as f:\n",
    "    sessions = pickle.load(f)\n",
    "\n",
    "# event\n",
    "with open (os.path.expanduser(\"~/USF/adv_ml/final/LeanPlum/events.pkl\"), \"rb\") as f:\n",
    "    events = pickle.load(f)\n",
    "\n",
    "'''# choose certain columns    \n",
    "session_df = sessions[[\"user_id_hash\", \"previous_sessions_duration\"]]\n",
    "event_df = events[[\"user_id_hash\", \"event_timestamp\", \"event\", \"event_value\"]] '''"
   ]
  },
  {
   "cell_type": "code",
   "execution_count": 7,
   "metadata": {},
   "outputs": [
    {
     "data": {
      "text/html": [
       "<div>\n",
       "<style scoped>\n",
       "    .dataframe tbody tr th:only-of-type {\n",
       "        vertical-align: middle;\n",
       "    }\n",
       "\n",
       "    .dataframe tbody tr th {\n",
       "        vertical-align: top;\n",
       "    }\n",
       "\n",
       "    .dataframe thead th {\n",
       "        text-align: right;\n",
       "    }\n",
       "</style>\n",
       "<table border=\"1\" class=\"dataframe\">\n",
       "  <thead>\n",
       "    <tr style=\"text-align: right;\">\n",
       "      <th></th>\n",
       "      <th>session_id</th>\n",
       "      <th>start_timestamp</th>\n",
       "      <th>timezone</th>\n",
       "      <th>timezone_offset</th>\n",
       "      <th>previous_sessions_duration</th>\n",
       "      <th>user_created_timestamp</th>\n",
       "      <th>is_user_first_session</th>\n",
       "      <th>country</th>\n",
       "      <th>region</th>\n",
       "      <th>city</th>\n",
       "      <th>latitude</th>\n",
       "      <th>longitude</th>\n",
       "      <th>locale</th>\n",
       "      <th>os_name</th>\n",
       "      <th>session_index</th>\n",
       "      <th>device_id</th>\n",
       "      <th>user_id_hash</th>\n",
       "    </tr>\n",
       "  </thead>\n",
       "  <tbody>\n",
       "    <tr>\n",
       "      <th>0</th>\n",
       "      <td>5558845121177764917</td>\n",
       "      <td>1542215364580</td>\n",
       "      <td>Asia/Manila</td>\n",
       "      <td>28800000.0</td>\n",
       "      <td>25837591</td>\n",
       "      <td>1538874289458</td>\n",
       "      <td>False</td>\n",
       "      <td>PH</td>\n",
       "      <td>00</td>\n",
       "      <td>makati</td>\n",
       "      <td>14.554729</td>\n",
       "      <td>121.024445</td>\n",
       "      <td>en_GB</td>\n",
       "      <td>Android OS</td>\n",
       "      <td>30</td>\n",
       "      <td>546a3d98-d540-4e72-ad82-9ebd64e0839b</td>\n",
       "      <td>9943447915df3a45fd6720a026af905b6da6b56a37701b...</td>\n",
       "    </tr>\n",
       "    <tr>\n",
       "      <th>1</th>\n",
       "      <td>18781111175537580</td>\n",
       "      <td>1539215568666</td>\n",
       "      <td>Asia/Manila</td>\n",
       "      <td>28800000.0</td>\n",
       "      <td>11343848</td>\n",
       "      <td>1538874289458</td>\n",
       "      <td>False</td>\n",
       "      <td>PH</td>\n",
       "      <td>00</td>\n",
       "      <td>makati</td>\n",
       "      <td>14.554729</td>\n",
       "      <td>121.024445</td>\n",
       "      <td>en_GB</td>\n",
       "      <td>Android OS</td>\n",
       "      <td>10</td>\n",
       "      <td>546a3d98-d540-4e72-ad82-9ebd64e0839b</td>\n",
       "      <td>9943447915df3a45fd6720a026af905b6da6b56a37701b...</td>\n",
       "    </tr>\n",
       "    <tr>\n",
       "      <th>2</th>\n",
       "      <td>1477540082628742048</td>\n",
       "      <td>1540120743010</td>\n",
       "      <td>Asia/Manila</td>\n",
       "      <td>28800000.0</td>\n",
       "      <td>13499724</td>\n",
       "      <td>1538874289458</td>\n",
       "      <td>False</td>\n",
       "      <td>PH</td>\n",
       "      <td>11</td>\n",
       "      <td>davao city</td>\n",
       "      <td>7.190708</td>\n",
       "      <td>125.455338</td>\n",
       "      <td>en_GB</td>\n",
       "      <td>Android OS</td>\n",
       "      <td>13</td>\n",
       "      <td>546a3d98-d540-4e72-ad82-9ebd64e0839b</td>\n",
       "      <td>9943447915df3a45fd6720a026af905b6da6b56a37701b...</td>\n",
       "    </tr>\n",
       "    <tr>\n",
       "      <th>3</th>\n",
       "      <td>8184875317380844086</td>\n",
       "      <td>1542671625528</td>\n",
       "      <td>Asia/Manila</td>\n",
       "      <td>28800000.0</td>\n",
       "      <td>32788010</td>\n",
       "      <td>1538874289458</td>\n",
       "      <td>False</td>\n",
       "      <td>PH</td>\n",
       "      <td>00</td>\n",
       "      <td>makati</td>\n",
       "      <td>14.554729</td>\n",
       "      <td>121.024445</td>\n",
       "      <td>en_GB</td>\n",
       "      <td>Android OS</td>\n",
       "      <td>41</td>\n",
       "      <td>546a3d98-d540-4e72-ad82-9ebd64e0839b</td>\n",
       "      <td>9943447915df3a45fd6720a026af905b6da6b56a37701b...</td>\n",
       "    </tr>\n",
       "    <tr>\n",
       "      <th>4</th>\n",
       "      <td>4706180700083856343</td>\n",
       "      <td>1538997913013</td>\n",
       "      <td>Asia/Manila</td>\n",
       "      <td>28800000.0</td>\n",
       "      <td>5872534</td>\n",
       "      <td>1538874289458</td>\n",
       "      <td>False</td>\n",
       "      <td>PH</td>\n",
       "      <td>11</td>\n",
       "      <td>davao city</td>\n",
       "      <td>7.190708</td>\n",
       "      <td>125.455338</td>\n",
       "      <td>en_GB</td>\n",
       "      <td>Android OS</td>\n",
       "      <td>4</td>\n",
       "      <td>546a3d98-d540-4e72-ad82-9ebd64e0839b</td>\n",
       "      <td>9943447915df3a45fd6720a026af905b6da6b56a37701b...</td>\n",
       "    </tr>\n",
       "  </tbody>\n",
       "</table>\n",
       "</div>"
      ],
      "text/plain": [
       "            session_id  start_timestamp     timezone  timezone_offset  \\\n",
       "0  5558845121177764917    1542215364580  Asia/Manila       28800000.0   \n",
       "1    18781111175537580    1539215568666  Asia/Manila       28800000.0   \n",
       "2  1477540082628742048    1540120743010  Asia/Manila       28800000.0   \n",
       "3  8184875317380844086    1542671625528  Asia/Manila       28800000.0   \n",
       "4  4706180700083856343    1538997913013  Asia/Manila       28800000.0   \n",
       "\n",
       "   previous_sessions_duration  user_created_timestamp  is_user_first_session  \\\n",
       "0                    25837591           1538874289458                  False   \n",
       "1                    11343848           1538874289458                  False   \n",
       "2                    13499724           1538874289458                  False   \n",
       "3                    32788010           1538874289458                  False   \n",
       "4                     5872534           1538874289458                  False   \n",
       "\n",
       "  country region        city   latitude   longitude locale     os_name  \\\n",
       "0      PH     00      makati  14.554729  121.024445  en_GB  Android OS   \n",
       "1      PH     00      makati  14.554729  121.024445  en_GB  Android OS   \n",
       "2      PH     11  davao city   7.190708  125.455338  en_GB  Android OS   \n",
       "3      PH     00      makati  14.554729  121.024445  en_GB  Android OS   \n",
       "4      PH     11  davao city   7.190708  125.455338  en_GB  Android OS   \n",
       "\n",
       "   session_index                             device_id  \\\n",
       "0             30  546a3d98-d540-4e72-ad82-9ebd64e0839b   \n",
       "1             10  546a3d98-d540-4e72-ad82-9ebd64e0839b   \n",
       "2             13  546a3d98-d540-4e72-ad82-9ebd64e0839b   \n",
       "3             41  546a3d98-d540-4e72-ad82-9ebd64e0839b   \n",
       "4              4  546a3d98-d540-4e72-ad82-9ebd64e0839b   \n",
       "\n",
       "                                        user_id_hash  \n",
       "0  9943447915df3a45fd6720a026af905b6da6b56a37701b...  \n",
       "1  9943447915df3a45fd6720a026af905b6da6b56a37701b...  \n",
       "2  9943447915df3a45fd6720a026af905b6da6b56a37701b...  \n",
       "3  9943447915df3a45fd6720a026af905b6da6b56a37701b...  \n",
       "4  9943447915df3a45fd6720a026af905b6da6b56a37701b...  "
      ]
     },
     "execution_count": 7,
     "metadata": {},
     "output_type": "execute_result"
    }
   ],
   "source": [
    "sessions.head()"
   ]
  },
  {
   "cell_type": "code",
   "execution_count": 8,
   "metadata": {},
   "outputs": [
    {
     "data": {
      "text/html": [
       "<div>\n",
       "<style scoped>\n",
       "    .dataframe tbody tr th:only-of-type {\n",
       "        vertical-align: middle;\n",
       "    }\n",
       "\n",
       "    .dataframe tbody tr th {\n",
       "        vertical-align: top;\n",
       "    }\n",
       "\n",
       "    .dataframe thead th {\n",
       "        text-align: right;\n",
       "    }\n",
       "</style>\n",
       "<table border=\"1\" class=\"dataframe\">\n",
       "  <thead>\n",
       "    <tr style=\"text-align: right;\">\n",
       "      <th></th>\n",
       "      <th>session_id</th>\n",
       "      <th>event</th>\n",
       "      <th>event_timestamp</th>\n",
       "      <th>event_value</th>\n",
       "      <th>user_id_hash</th>\n",
       "    </tr>\n",
       "  </thead>\n",
       "  <tbody>\n",
       "    <tr>\n",
       "      <th>0</th>\n",
       "      <td>5558845121177764917</td>\n",
       "      <td>45</td>\n",
       "      <td>1542215397132</td>\n",
       "      <td>0.0</td>\n",
       "      <td>9943447915df3a45fd6720a026af905b6da6b56a37701b...</td>\n",
       "    </tr>\n",
       "    <tr>\n",
       "      <th>1</th>\n",
       "      <td>5558845121177764917</td>\n",
       "      <td>45</td>\n",
       "      <td>1542215484895</td>\n",
       "      <td>0.0</td>\n",
       "      <td>9943447915df3a45fd6720a026af905b6da6b56a37701b...</td>\n",
       "    </tr>\n",
       "    <tr>\n",
       "      <th>2</th>\n",
       "      <td>7689508378645584666</td>\n",
       "      <td>.m5100869650219008</td>\n",
       "      <td>1541124410372</td>\n",
       "      <td>0.0</td>\n",
       "      <td>9943447915df3a45fd6720a026af905b6da6b56a37701b...</td>\n",
       "    </tr>\n",
       "    <tr>\n",
       "      <th>3</th>\n",
       "      <td>2201961907282901522</td>\n",
       "      <td>4</td>\n",
       "      <td>1543713091129</td>\n",
       "      <td>0.0</td>\n",
       "      <td>9943447915df3a45fd6720a026af905b6da6b56a37701b...</td>\n",
       "    </tr>\n",
       "    <tr>\n",
       "      <th>4</th>\n",
       "      <td>2201961907282901522</td>\n",
       "      <td>6</td>\n",
       "      <td>1543713093116</td>\n",
       "      <td>0.0</td>\n",
       "      <td>9943447915df3a45fd6720a026af905b6da6b56a37701b...</td>\n",
       "    </tr>\n",
       "  </tbody>\n",
       "</table>\n",
       "</div>"
      ],
      "text/plain": [
       "            session_id               event  event_timestamp  event_value  \\\n",
       "0  5558845121177764917                  45    1542215397132          0.0   \n",
       "1  5558845121177764917                  45    1542215484895          0.0   \n",
       "2  7689508378645584666  .m5100869650219008    1541124410372          0.0   \n",
       "3  2201961907282901522                   4    1543713091129          0.0   \n",
       "4  2201961907282901522                   6    1543713093116          0.0   \n",
       "\n",
       "                                        user_id_hash  \n",
       "0  9943447915df3a45fd6720a026af905b6da6b56a37701b...  \n",
       "1  9943447915df3a45fd6720a026af905b6da6b56a37701b...  \n",
       "2  9943447915df3a45fd6720a026af905b6da6b56a37701b...  \n",
       "3  9943447915df3a45fd6720a026af905b6da6b56a37701b...  \n",
       "4  9943447915df3a45fd6720a026af905b6da6b56a37701b...  "
      ]
     },
     "execution_count": 8,
     "metadata": {},
     "output_type": "execute_result"
    }
   ],
   "source": [
    "events.head()"
   ]
  },
  {
   "cell_type": "code",
   "execution_count": 9,
   "metadata": {},
   "outputs": [
    {
     "data": {
      "text/plain": [
       "(5165759, 17)"
      ]
     },
     "execution_count": 9,
     "metadata": {},
     "output_type": "execute_result"
    }
   ],
   "source": [
    "sessions.shape"
   ]
  },
  {
   "cell_type": "code",
   "execution_count": 10,
   "metadata": {},
   "outputs": [
    {
     "data": {
      "text/plain": [
       "(111945519, 5)"
      ]
     },
     "execution_count": 10,
     "metadata": {},
     "output_type": "execute_result"
    }
   ],
   "source": [
    "events.shape"
   ]
  },
  {
   "cell_type": "markdown",
   "metadata": {},
   "source": [
    "## Labeling data "
   ]
  },
  {
   "cell_type": "markdown",
   "metadata": {},
   "source": [
    "Labels:\n",
    "We divide the given dataset into training dataset and validation dataset by a cutoff date: Oct 14"
   ]
  },
  {
   "cell_type": "code",
   "execution_count": 11,
   "metadata": {
    "ExecuteTime": {
     "end_time": "2019-02-23T06:16:12.234258Z",
     "start_time": "2019-02-23T06:16:09.723214Z"
    }
   },
   "outputs": [],
   "source": [
    "# get unique user list \n",
    "users = pd.DataFrame(list(events.user_id_hash.unique()))\n",
    "users.columns = [\"user_id_hash\"]"
   ]
  },
  {
   "cell_type": "markdown",
   "metadata": {},
   "source": [
    "#### Use Dec-1 to Dec-7 and Dec-1 to Dec-14 to get labels for the validation set"
   ]
  },
  {
   "cell_type": "code",
   "execution_count": 12,
   "metadata": {
    "ExecuteTime": {
     "end_time": "2019-02-23T06:19:53.500519Z",
     "start_time": "2019-02-23T06:19:49.226607Z"
    }
   },
   "outputs": [],
   "source": [
    "# Validation labels\n",
    "\n",
    "december_event = events[(events[\"event_timestamp\"] >= 1543651199000) & #  >= Fri Nov 30 2018 23:59:59 GMT-0800\n",
    "                  (events[\"event_timestamp\"] < 1544255999000)] #  < Fri Dec 07 2018 23:59:59 GMT-0800\n",
    "\n",
    "# Users who made a purchase in December\n",
    "purchase_user = set(december_event[december_event[\"event\"] == \"8\"].user_id_hash.unique()) \n",
    "# For validation, the users include all unique users\n",
    "users_val = users\n",
    "\n",
    "labels_dec = []\n",
    "for user in list(events.user_id_hash.unique()):\n",
    "    if user in purchase_user:\n",
    "        labels_dec.append(1)\n",
    "    else:\n",
    "        labels_dec.append(0)\n",
    "# label and add to val\n",
    "users_val[\"purchased\"] = pd.DataFrame(labels_dec)"
   ]
  },
  {
   "cell_type": "code",
   "execution_count": 13,
   "metadata": {},
   "outputs": [
    {
     "data": {
      "text/plain": [
       "(620988, 2)"
      ]
     },
     "execution_count": 13,
     "metadata": {},
     "output_type": "execute_result"
    }
   ],
   "source": [
    "users_val.shape"
   ]
  },
  {
   "cell_type": "code",
   "execution_count": 14,
   "metadata": {
    "ExecuteTime": {
     "end_time": "2019-02-23T06:22:44.473165Z",
     "start_time": "2019-02-23T06:22:41.516013Z"
    }
   },
   "outputs": [],
   "source": [
    "# second validation label\n",
    "\n",
    "december_event_2 = events[(events[\"event_timestamp\"] >= 1544255999000)] # Beyond 7 Dec \n",
    "purchase_user_2 = set(december_event_2[december_event_2[\"event\"] == \"8\"].user_id_hash.unique())\n",
    "\n",
    "labels_december_2 = []\n",
    "for user in list(events.user_id_hash.unique()):\n",
    "    if user in purchase_user_2:\n",
    "        labels_december_2.append(1)\n",
    "    else:\n",
    "        labels_december_2.append(0)\n",
    "\n",
    "users_val[\"purchased2\"] = pd.DataFrame(labels_december_2)\n"
   ]
  },
  {
   "cell_type": "code",
   "execution_count": 63,
   "metadata": {},
   "outputs": [
    {
     "data": {
      "text/html": [
       "<div>\n",
       "<style scoped>\n",
       "    .dataframe tbody tr th:only-of-type {\n",
       "        vertical-align: middle;\n",
       "    }\n",
       "\n",
       "    .dataframe tbody tr th {\n",
       "        vertical-align: top;\n",
       "    }\n",
       "\n",
       "    .dataframe thead th {\n",
       "        text-align: right;\n",
       "    }\n",
       "</style>\n",
       "<table border=\"1\" class=\"dataframe\">\n",
       "  <thead>\n",
       "    <tr style=\"text-align: right;\">\n",
       "      <th></th>\n",
       "      <th>user_id_hash</th>\n",
       "      <th>purchased</th>\n",
       "      <th>purchased2</th>\n",
       "    </tr>\n",
       "  </thead>\n",
       "  <tbody>\n",
       "    <tr>\n",
       "      <th>0</th>\n",
       "      <td>9943447915df3a45fd6720a026af905b6da6b56a37701b...</td>\n",
       "      <td>0</td>\n",
       "      <td>1</td>\n",
       "    </tr>\n",
       "    <tr>\n",
       "      <th>1</th>\n",
       "      <td>43f75f8042d3c80c45e222bdd09267f4584684c54d6fae...</td>\n",
       "      <td>0</td>\n",
       "      <td>0</td>\n",
       "    </tr>\n",
       "    <tr>\n",
       "      <th>2</th>\n",
       "      <td>999524249720812f2d8c0390293efd58e1ac84d587a01c...</td>\n",
       "      <td>0</td>\n",
       "      <td>0</td>\n",
       "    </tr>\n",
       "    <tr>\n",
       "      <th>3</th>\n",
       "      <td>4e6bc35cf7fd79a5312047651e7865915f4a6bec193cf2...</td>\n",
       "      <td>0</td>\n",
       "      <td>0</td>\n",
       "    </tr>\n",
       "    <tr>\n",
       "      <th>4</th>\n",
       "      <td>dc009148ee26d658e0240c7b7f6a258790a457737f96e8...</td>\n",
       "      <td>0</td>\n",
       "      <td>0</td>\n",
       "    </tr>\n",
       "  </tbody>\n",
       "</table>\n",
       "</div>"
      ],
      "text/plain": [
       "                                        user_id_hash  purchased  purchased2\n",
       "0  9943447915df3a45fd6720a026af905b6da6b56a37701b...          0           1\n",
       "1  43f75f8042d3c80c45e222bdd09267f4584684c54d6fae...          0           0\n",
       "2  999524249720812f2d8c0390293efd58e1ac84d587a01c...          0           0\n",
       "3  4e6bc35cf7fd79a5312047651e7865915f4a6bec193cf2...          0           0\n",
       "4  dc009148ee26d658e0240c7b7f6a258790a457737f96e8...          0           0"
      ]
     },
     "execution_count": 63,
     "metadata": {},
     "output_type": "execute_result"
    }
   ],
   "source": [
    "users_val.head()"
   ]
  },
  {
   "cell_type": "markdown",
   "metadata": {},
   "source": [
    "### Training labels"
   ]
  },
  {
   "cell_type": "code",
   "execution_count": 16,
   "metadata": {
    "ExecuteTime": {
     "end_time": "2019-02-23T06:32:34.651758Z",
     "start_time": "2019-02-23T06:32:28.363394Z"
    }
   },
   "outputs": [],
   "source": [
    "#  Use Oct-15 to Nov-30 to get features for users labeled in December\n",
    "november_event = events[(events[\"event_timestamp\"] >= 1542265200000)  # from Mon Nov 15 2018 00:00:00 GMT-0700\n",
    "                          & (events[\"event_timestamp\"] < 1542960000000)] # Fri Nov 23 2018 00:00:00 GMT-0800\n",
    "\n",
    "purchase_user = set(november_event[november_event[\"event\"] == \"8\"].user_id_hash.unique())\n",
    "users_train = users\n",
    "labels_november = []\n",
    "\n",
    "for user in list(events.user_id_hash.unique()):\n",
    "    if user in purchase_user:\n",
    "        labels_november.append(1)\n",
    "    else:\n",
    "        labels_november.append(0)\n",
    "\n",
    "users_train[\"purchased\"] = pd.DataFrame(labels_november)"
   ]
  },
  {
   "cell_type": "code",
   "execution_count": 17,
   "metadata": {
    "ExecuteTime": {
     "end_time": "2019-02-23T06:32:40.096269Z",
     "start_time": "2019-02-23T06:32:36.680384Z"
    }
   },
   "outputs": [
    {
     "data": {
      "text/html": [
       "<div>\n",
       "<style scoped>\n",
       "    .dataframe tbody tr th:only-of-type {\n",
       "        vertical-align: middle;\n",
       "    }\n",
       "\n",
       "    .dataframe tbody tr th {\n",
       "        vertical-align: top;\n",
       "    }\n",
       "\n",
       "    .dataframe thead th {\n",
       "        text-align: right;\n",
       "    }\n",
       "</style>\n",
       "<table border=\"1\" class=\"dataframe\">\n",
       "  <thead>\n",
       "    <tr style=\"text-align: right;\">\n",
       "      <th></th>\n",
       "      <th>user_id_hash</th>\n",
       "      <th>purchased</th>\n",
       "      <th>purchased2</th>\n",
       "    </tr>\n",
       "  </thead>\n",
       "  <tbody>\n",
       "    <tr>\n",
       "      <th>0</th>\n",
       "      <td>9943447915df3a45fd6720a026af905b6da6b56a37701b...</td>\n",
       "      <td>0</td>\n",
       "      <td>1</td>\n",
       "    </tr>\n",
       "    <tr>\n",
       "      <th>1</th>\n",
       "      <td>43f75f8042d3c80c45e222bdd09267f4584684c54d6fae...</td>\n",
       "      <td>0</td>\n",
       "      <td>0</td>\n",
       "    </tr>\n",
       "    <tr>\n",
       "      <th>2</th>\n",
       "      <td>999524249720812f2d8c0390293efd58e1ac84d587a01c...</td>\n",
       "      <td>0</td>\n",
       "      <td>0</td>\n",
       "    </tr>\n",
       "    <tr>\n",
       "      <th>3</th>\n",
       "      <td>4e6bc35cf7fd79a5312047651e7865915f4a6bec193cf2...</td>\n",
       "      <td>0</td>\n",
       "      <td>0</td>\n",
       "    </tr>\n",
       "    <tr>\n",
       "      <th>4</th>\n",
       "      <td>dc009148ee26d658e0240c7b7f6a258790a457737f96e8...</td>\n",
       "      <td>0</td>\n",
       "      <td>0</td>\n",
       "    </tr>\n",
       "  </tbody>\n",
       "</table>\n",
       "</div>"
      ],
      "text/plain": [
       "                                        user_id_hash  purchased  purchased2\n",
       "0  9943447915df3a45fd6720a026af905b6da6b56a37701b...          0           1\n",
       "1  43f75f8042d3c80c45e222bdd09267f4584684c54d6fae...          0           0\n",
       "2  999524249720812f2d8c0390293efd58e1ac84d587a01c...          0           0\n",
       "3  4e6bc35cf7fd79a5312047651e7865915f4a6bec193cf2...          0           0\n",
       "4  dc009148ee26d658e0240c7b7f6a258790a457737f96e8...          0           0"
      ]
     },
     "execution_count": 17,
     "metadata": {},
     "output_type": "execute_result"
    }
   ],
   "source": [
    "# second training label\n",
    "\n",
    "november_event_2 = events[(events[\"event_timestamp\"] >= 1542268800000) &  #from Thu Nov 15 2018 00:00:00 GMT-0800\n",
    "                      (events[\"event_timestamp\"] < 1543478400000)] # till Thu Nov 29 2018 00:00:00 GMT-0800\n",
    "purchase_user_2 = set(events[events[\"event\"] == \"8\"].user_id_hash.unique())\n",
    "labels_november_2 = []\n",
    "\n",
    "for user in list(events.user_id_hash.unique()):\n",
    "    if user in purchase_user_2:\n",
    "        labels_november_2.append(1)\n",
    "    else:\n",
    "        labels_november_2.append(0)\n",
    "\n",
    "users_train[\"purchased2\"] = pd.DataFrame(labels_november_2)\n",
    "\n",
    "users_train.head()"
   ]
  },
  {
   "cell_type": "code",
   "execution_count": 18,
   "metadata": {},
   "outputs": [
    {
     "data": {
      "text/html": [
       "<div>\n",
       "<style scoped>\n",
       "    .dataframe tbody tr th:only-of-type {\n",
       "        vertical-align: middle;\n",
       "    }\n",
       "\n",
       "    .dataframe tbody tr th {\n",
       "        vertical-align: top;\n",
       "    }\n",
       "\n",
       "    .dataframe thead th {\n",
       "        text-align: right;\n",
       "    }\n",
       "</style>\n",
       "<table border=\"1\" class=\"dataframe\">\n",
       "  <thead>\n",
       "    <tr style=\"text-align: right;\">\n",
       "      <th></th>\n",
       "      <th>session_id</th>\n",
       "      <th>event</th>\n",
       "      <th>event_timestamp</th>\n",
       "      <th>event_value</th>\n",
       "      <th>user_id_hash</th>\n",
       "    </tr>\n",
       "  </thead>\n",
       "  <tbody>\n",
       "    <tr>\n",
       "      <th>249</th>\n",
       "      <td>2232039880727664337</td>\n",
       "      <td>45</td>\n",
       "      <td>1542272300029</td>\n",
       "      <td>0.0</td>\n",
       "      <td>9943447915df3a45fd6720a026af905b6da6b56a37701b...</td>\n",
       "    </tr>\n",
       "    <tr>\n",
       "      <th>250</th>\n",
       "      <td>2232039880727664337</td>\n",
       "      <td>45</td>\n",
       "      <td>1542272337049</td>\n",
       "      <td>0.0</td>\n",
       "      <td>9943447915df3a45fd6720a026af905b6da6b56a37701b...</td>\n",
       "    </tr>\n",
       "    <tr>\n",
       "      <th>251</th>\n",
       "      <td>2232039880727664337</td>\n",
       "      <td>45</td>\n",
       "      <td>1542272409831</td>\n",
       "      <td>0.0</td>\n",
       "      <td>9943447915df3a45fd6720a026af905b6da6b56a37701b...</td>\n",
       "    </tr>\n",
       "    <tr>\n",
       "      <th>252</th>\n",
       "      <td>2232039880727664337</td>\n",
       "      <td>45</td>\n",
       "      <td>1542272491561</td>\n",
       "      <td>0.0</td>\n",
       "      <td>9943447915df3a45fd6720a026af905b6da6b56a37701b...</td>\n",
       "    </tr>\n",
       "    <tr>\n",
       "      <th>253</th>\n",
       "      <td>2232039880727664337</td>\n",
       "      <td>45</td>\n",
       "      <td>1542272521397</td>\n",
       "      <td>0.0</td>\n",
       "      <td>9943447915df3a45fd6720a026af905b6da6b56a37701b...</td>\n",
       "    </tr>\n",
       "  </tbody>\n",
       "</table>\n",
       "</div>"
      ],
      "text/plain": [
       "              session_id event  event_timestamp  event_value  \\\n",
       "249  2232039880727664337    45    1542272300029          0.0   \n",
       "250  2232039880727664337    45    1542272337049          0.0   \n",
       "251  2232039880727664337    45    1542272409831          0.0   \n",
       "252  2232039880727664337    45    1542272491561          0.0   \n",
       "253  2232039880727664337    45    1542272521397          0.0   \n",
       "\n",
       "                                          user_id_hash  \n",
       "249  9943447915df3a45fd6720a026af905b6da6b56a37701b...  \n",
       "250  9943447915df3a45fd6720a026af905b6da6b56a37701b...  \n",
       "251  9943447915df3a45fd6720a026af905b6da6b56a37701b...  \n",
       "252  9943447915df3a45fd6720a026af905b6da6b56a37701b...  \n",
       "253  9943447915df3a45fd6720a026af905b6da6b56a37701b...  "
      ]
     },
     "execution_count": 18,
     "metadata": {},
     "output_type": "execute_result"
    }
   ],
   "source": [
    "november_event.head()"
   ]
  },
  {
   "cell_type": "markdown",
   "metadata": {},
   "source": [
    "Feature List:\n",
    "1. total event value\n",
    "2. number of purchase\n",
    "3. whether or not purchase\n",
    "4. total count of different events in event\n",
    "5. median, last event time difference to our cutoff time\n",
    "6. "
   ]
  },
  {
   "cell_type": "code",
   "execution_count": 19,
   "metadata": {
    "ExecuteTime": {
     "end_time": "2019-02-23T06:52:26.718935Z",
     "start_time": "2019-02-23T06:52:26.539863Z"
    }
   },
   "outputs": [],
   "source": [
    "# \n",
    "nov_e2 = november_event[november_event[\"event\"]==\"8\"][[\"user_id_hash\", \"event_value\"]].\\\n",
    "                groupby(\"user_id_hash\").sum().reset_index()"
   ]
  },
  {
   "cell_type": "code",
   "execution_count": 20,
   "metadata": {
    "ExecuteTime": {
     "end_time": "2019-02-23T09:48:22.403573Z",
     "start_time": "2019-02-23T09:48:21.493409Z"
    }
   },
   "outputs": [],
   "source": [
    "event_list = events['event'].value_counts()[:50].index"
   ]
  },
  {
   "cell_type": "code",
   "execution_count": 21,
   "metadata": {},
   "outputs": [
    {
     "data": {
      "text/plain": [
       "CategoricalIndex(['45', '1', '5', '6', '14', '4', '40', '7', '41', '3', '42',\n",
       "                  '.a5027911885258752', '.a5400102822346752', '44',\n",
       "                  '.a5516611293544448', '0', '63', '47', '57', '8', '55',\n",
       "                  '.m5295687445250048', '.a5061295285075968', '50', '9',\n",
       "                  '.m6311698772393984', '11', '64', '.a5686782234722304', '54',\n",
       "                  '.m5295687445250048 Accept', '.a5008055943430144',\n",
       "                  '.m6311588362059776', '.m5100869650219008',\n",
       "                  '.m6335456823869440', '.a5933275901722624', '43',\n",
       "                  '.m5295687445250048 Held Back', '49', '.m5925072799399936',\n",
       "                  '48', '56', '52', '59', '60', '.m6311698772393984 Accept',\n",
       "                  '58', '.m5100869650219008 Accept',\n",
       "                  '.m6311588362059776 Accept', '.m4609541589565440'],\n",
       "                 categories=['.a5008055943430144', '.a5027911885258752', '.a5061295285075968', '.a5400102822346752', '.a5516611293544448', '.a5523274289512448', '.a5686782234722304', '.a5933275901722624', ...], ordered=False, dtype='category')"
      ]
     },
     "execution_count": 21,
     "metadata": {},
     "output_type": "execute_result"
    }
   ],
   "source": [
    "event_list"
   ]
  },
  {
   "cell_type": "code",
   "execution_count": 22,
   "metadata": {
    "ExecuteTime": {
     "end_time": "2019-02-23T09:49:28.366424Z",
     "start_time": "2019-02-23T09:49:28.350683Z"
    }
   },
   "outputs": [],
   "source": [
    "def features_event(val_raw,val_user,cut_time):\n",
    "    \n",
    "    # feature 1: event value\n",
    "    eventvalue = val_raw[val_raw[\"event\"]==\"8\"][[\"user_id_hash\", \"event_value\"]].\\\n",
    "                groupby(\"user_id_hash\").sum().reset_index()\n",
    "    result = val_user.join(eventvalue.set_index(\"user_id_hash\"), on=\"user_id_hash\", how=\"left\")\n",
    "    \n",
    "    # feature 2: number of purchases\n",
    "    purchase_times = val_raw[val_raw[\"event\"]==\"8\"].groupby(\"user_id_hash\")\\\n",
    "                    .size().reset_index(name='purchase_counts')\n",
    "    result = result.join(purchase_times.set_index(\"user_id_hash\"), on=\"user_id_hash\", how=\"left\")\n",
    "    \n",
    "    # feature 3: whether or not purchased before\n",
    "    user_purd = set(november_event[november_event['event']=='8'].user_id_hash)\n",
    "    result['past_buy'] = [1 if uid in user_purd else 0 for uid in result['user_id_hash']]\n",
    "    \n",
    "    # feature 4: total count of different events in event: top 50 events\n",
    "    event_list = ['45', '1', '5', '6', '14', '4', '40', '7', '41', '3', '42',\n",
    "                  '.a5027911885258752', '.a5400102822346752', '44',\n",
    "                  '.a5516611293544448', '0', '63', '47', '57', '8', '55',\n",
    "                  '.m5295687445250048', '.a5061295285075968', '50', '9',\n",
    "                  '.m6311698772393984', '11', '64', '.a5686782234722304', '54',\n",
    "                  '.m5295687445250048 Accept', '.a5008055943430144',\n",
    "                  '.m6311588362059776', '.m5100869650219008',\n",
    "                  '.m6335456823869440', '.a5933275901722624', '43',\n",
    "                  '.m5295687445250048 Held Back', '49', '.m5925072799399936',\n",
    "                  '48', '56', '52', '59', '60', '.m6311698772393984 Accept',\n",
    "                  '58', '.m5100869650219008 Accept',\n",
    "                  '.m6311588362059776 Accept', '.m4609541589565440']\n",
    "        \n",
    "    for e in event_list:\n",
    "        event_tmp = val_raw[val_raw[\"event\"]==e].groupby(\"user_id_hash\").size().reset_index(name=f'event{e}_count')\n",
    "        result = result.join(event_tmp.set_index(\"user_id_hash\"), on=\"user_id_hash\", how=\"left\")\n",
    "    \n",
    "    # feature 5: median, last event time difference to cutoff time\n",
    "    first_last = val_raw.groupby(\"user_id_hash\")['event_timestamp'].agg(['median','last']).reset_index()\n",
    "    first_last['median_diff'] = cut_time - first_last['median']\n",
    "    first_last['last_diff'] = cut_time - first_last['last']\n",
    "    first_last['user_id_hash'] = first_last['user_id_hash'].astype(str)\n",
    "    result = result.join(first_last[['user_id_hash','median_diff','last_diff']].set_index(\"user_id_hash\"),on=\"user_id_hash\", how=\"left\")\n",
    "    \n",
    "    # feature 6: total previous time spent captured by sessions\n",
    "    \n",
    "    \n",
    "    return result"
   ]
  },
  {
   "cell_type": "code",
   "execution_count": 23,
   "metadata": {},
   "outputs": [],
   "source": [
    "### Feature for validation/training events"
   ]
  },
  {
   "cell_type": "code",
   "execution_count": 24,
   "metadata": {
    "ExecuteTime": {
     "start_time": "2019-02-23T09:49:30.030Z"
    }
   },
   "outputs": [],
   "source": [
    "val_raw = events[(events[\"event_timestamp\"] >= 1539586800000) &  # Mon Oct 15 2018 00:00:00 GMT-0700\n",
    "                   (events[\"event_timestamp\"] < 1543651199000)] # Fri Nov 30 2018 23:59:59 GMT-0800\n",
    "val_feature = features_event(val_raw,users_val,1543651199000)\n",
    "val_feature = val_feature.apply(lambda x: x.fillna(0))"
   ]
  },
  {
   "cell_type": "code",
   "execution_count": 25,
   "metadata": {
    "ExecuteTime": {
     "end_time": "2019-02-23T09:39:33.696352Z",
     "start_time": "2019-02-23T09:39:17.663Z"
    }
   },
   "outputs": [],
   "source": [
    "train_raw = events[(events[\"event_timestamp\"] < 1542268800000)] # Thu Nov 15 2018 00:00:00 GMT-0800\n",
    "train_feature = features_event(train_raw,users_train,1542268800000)\n",
    "train_feature = train_feature.apply(lambda x: x.fillna(0))"
   ]
  },
  {
   "cell_type": "code",
   "execution_count": 26,
   "metadata": {
    "ExecuteTime": {
     "end_time": "2019-02-23T09:35:16.632401Z",
     "start_time": "2019-02-23T09:35:16.590911Z"
    }
   },
   "outputs": [
    {
     "data": {
      "text/html": [
       "<div>\n",
       "<style scoped>\n",
       "    .dataframe tbody tr th:only-of-type {\n",
       "        vertical-align: middle;\n",
       "    }\n",
       "\n",
       "    .dataframe tbody tr th {\n",
       "        vertical-align: top;\n",
       "    }\n",
       "\n",
       "    .dataframe thead th {\n",
       "        text-align: right;\n",
       "    }\n",
       "</style>\n",
       "<table border=\"1\" class=\"dataframe\">\n",
       "  <thead>\n",
       "    <tr style=\"text-align: right;\">\n",
       "      <th></th>\n",
       "      <th>user_id_hash</th>\n",
       "      <th>purchased</th>\n",
       "      <th>purchased2</th>\n",
       "      <th>event_value</th>\n",
       "      <th>purchase_counts</th>\n",
       "      <th>past_buy</th>\n",
       "      <th>event45_count</th>\n",
       "      <th>event1_count</th>\n",
       "      <th>event5_count</th>\n",
       "      <th>event6_count</th>\n",
       "      <th>...</th>\n",
       "      <th>event52_count</th>\n",
       "      <th>event59_count</th>\n",
       "      <th>event60_count</th>\n",
       "      <th>event.m6311698772393984 Accept_count</th>\n",
       "      <th>event58_count</th>\n",
       "      <th>event.m5100869650219008 Accept_count</th>\n",
       "      <th>event.m6311588362059776 Accept_count</th>\n",
       "      <th>event.m4609541589565440_count</th>\n",
       "      <th>median_diff</th>\n",
       "      <th>last_diff</th>\n",
       "    </tr>\n",
       "  </thead>\n",
       "  <tbody>\n",
       "    <tr>\n",
       "      <th>0</th>\n",
       "      <td>9943447915df3a45fd6720a026af905b6da6b56a37701b...</td>\n",
       "      <td>0</td>\n",
       "      <td>1</td>\n",
       "      <td>3.492188</td>\n",
       "      <td>1</td>\n",
       "      <td>0</td>\n",
       "      <td>368</td>\n",
       "      <td>12</td>\n",
       "      <td>22</td>\n",
       "      <td>21</td>\n",
       "      <td>...</td>\n",
       "      <td>0</td>\n",
       "      <td>0</td>\n",
       "      <td>0</td>\n",
       "      <td>0</td>\n",
       "      <td>0</td>\n",
       "      <td>0</td>\n",
       "      <td>0</td>\n",
       "      <td>0</td>\n",
       "      <td>2.162291e+09</td>\n",
       "      <td>3.265969e+08</td>\n",
       "    </tr>\n",
       "    <tr>\n",
       "      <th>1</th>\n",
       "      <td>43f75f8042d3c80c45e222bdd09267f4584684c54d6fae...</td>\n",
       "      <td>0</td>\n",
       "      <td>0</td>\n",
       "      <td>0.000000</td>\n",
       "      <td>0</td>\n",
       "      <td>0</td>\n",
       "      <td>54</td>\n",
       "      <td>2</td>\n",
       "      <td>3</td>\n",
       "      <td>3</td>\n",
       "      <td>...</td>\n",
       "      <td>0</td>\n",
       "      <td>0</td>\n",
       "      <td>0</td>\n",
       "      <td>0</td>\n",
       "      <td>0</td>\n",
       "      <td>0</td>\n",
       "      <td>0</td>\n",
       "      <td>0</td>\n",
       "      <td>3.815455e+08</td>\n",
       "      <td>3.398837e+08</td>\n",
       "    </tr>\n",
       "    <tr>\n",
       "      <th>2</th>\n",
       "      <td>999524249720812f2d8c0390293efd58e1ac84d587a01c...</td>\n",
       "      <td>0</td>\n",
       "      <td>0</td>\n",
       "      <td>0.000000</td>\n",
       "      <td>0</td>\n",
       "      <td>0</td>\n",
       "      <td>22</td>\n",
       "      <td>0</td>\n",
       "      <td>1</td>\n",
       "      <td>0</td>\n",
       "      <td>...</td>\n",
       "      <td>0</td>\n",
       "      <td>0</td>\n",
       "      <td>0</td>\n",
       "      <td>0</td>\n",
       "      <td>0</td>\n",
       "      <td>0</td>\n",
       "      <td>0</td>\n",
       "      <td>0</td>\n",
       "      <td>2.438209e+09</td>\n",
       "      <td>2.437954e+09</td>\n",
       "    </tr>\n",
       "    <tr>\n",
       "      <th>3</th>\n",
       "      <td>4e6bc35cf7fd79a5312047651e7865915f4a6bec193cf2...</td>\n",
       "      <td>0</td>\n",
       "      <td>0</td>\n",
       "      <td>0.000000</td>\n",
       "      <td>0</td>\n",
       "      <td>0</td>\n",
       "      <td>0</td>\n",
       "      <td>0</td>\n",
       "      <td>0</td>\n",
       "      <td>0</td>\n",
       "      <td>...</td>\n",
       "      <td>0</td>\n",
       "      <td>0</td>\n",
       "      <td>0</td>\n",
       "      <td>0</td>\n",
       "      <td>0</td>\n",
       "      <td>0</td>\n",
       "      <td>0</td>\n",
       "      <td>0</td>\n",
       "      <td>0.000000e+00</td>\n",
       "      <td>0.000000e+00</td>\n",
       "    </tr>\n",
       "    <tr>\n",
       "      <th>4</th>\n",
       "      <td>dc009148ee26d658e0240c7b7f6a258790a457737f96e8...</td>\n",
       "      <td>0</td>\n",
       "      <td>0</td>\n",
       "      <td>0.000000</td>\n",
       "      <td>0</td>\n",
       "      <td>0</td>\n",
       "      <td>1</td>\n",
       "      <td>0</td>\n",
       "      <td>1</td>\n",
       "      <td>0</td>\n",
       "      <td>...</td>\n",
       "      <td>0</td>\n",
       "      <td>0</td>\n",
       "      <td>0</td>\n",
       "      <td>0</td>\n",
       "      <td>0</td>\n",
       "      <td>0</td>\n",
       "      <td>0</td>\n",
       "      <td>0</td>\n",
       "      <td>2.045302e+09</td>\n",
       "      <td>1.902918e+09</td>\n",
       "    </tr>\n",
       "  </tbody>\n",
       "</table>\n",
       "<p>5 rows × 58 columns</p>\n",
       "</div>"
      ],
      "text/plain": [
       "                                        user_id_hash  purchased  purchased2  \\\n",
       "0  9943447915df3a45fd6720a026af905b6da6b56a37701b...          0           1   \n",
       "1  43f75f8042d3c80c45e222bdd09267f4584684c54d6fae...          0           0   \n",
       "2  999524249720812f2d8c0390293efd58e1ac84d587a01c...          0           0   \n",
       "3  4e6bc35cf7fd79a5312047651e7865915f4a6bec193cf2...          0           0   \n",
       "4  dc009148ee26d658e0240c7b7f6a258790a457737f96e8...          0           0   \n",
       "\n",
       "   event_value  purchase_counts  past_buy  event45_count  event1_count  \\\n",
       "0     3.492188                1         0            368            12   \n",
       "1     0.000000                0         0             54             2   \n",
       "2     0.000000                0         0             22             0   \n",
       "3     0.000000                0         0              0             0   \n",
       "4     0.000000                0         0              1             0   \n",
       "\n",
       "   event5_count  event6_count      ...       event52_count  event59_count  \\\n",
       "0            22            21      ...                   0              0   \n",
       "1             3             3      ...                   0              0   \n",
       "2             1             0      ...                   0              0   \n",
       "3             0             0      ...                   0              0   \n",
       "4             1             0      ...                   0              0   \n",
       "\n",
       "   event60_count  event.m6311698772393984 Accept_count  event58_count  \\\n",
       "0              0                                     0              0   \n",
       "1              0                                     0              0   \n",
       "2              0                                     0              0   \n",
       "3              0                                     0              0   \n",
       "4              0                                     0              0   \n",
       "\n",
       "   event.m5100869650219008 Accept_count  event.m6311588362059776 Accept_count  \\\n",
       "0                                     0                                     0   \n",
       "1                                     0                                     0   \n",
       "2                                     0                                     0   \n",
       "3                                     0                                     0   \n",
       "4                                     0                                     0   \n",
       "\n",
       "   event.m4609541589565440_count   median_diff     last_diff  \n",
       "0                              0  2.162291e+09  3.265969e+08  \n",
       "1                              0  3.815455e+08  3.398837e+08  \n",
       "2                              0  2.438209e+09  2.437954e+09  \n",
       "3                              0  0.000000e+00  0.000000e+00  \n",
       "4                              0  2.045302e+09  1.902918e+09  \n",
       "\n",
       "[5 rows x 58 columns]"
      ]
     },
     "execution_count": 26,
     "metadata": {},
     "output_type": "execute_result"
    }
   ],
   "source": [
    "train_feature.head()"
   ]
  },
  {
   "cell_type": "code",
   "execution_count": 27,
   "metadata": {},
   "outputs": [
    {
     "data": {
      "text/plain": [
       "Index(['event.a5008055943430144_count', 'event.a5027911885258752_count',\n",
       "       'event.a5061295285075968_count', 'event.a5400102822346752_count',\n",
       "       'event.a5516611293544448_count', 'event.a5686782234722304_count',\n",
       "       'event.a5933275901722624_count', 'event.m4609541589565440_count',\n",
       "       'event.m5100869650219008 Accept_count', 'event.m5100869650219008_count',\n",
       "       'event.m5295687445250048 Accept_count',\n",
       "       'event.m5295687445250048 Held Back_count',\n",
       "       'event.m5295687445250048_count', 'event.m5925072799399936_count',\n",
       "       'event.m6311588362059776 Accept_count', 'event.m6311588362059776_count',\n",
       "       'event.m6311698772393984 Accept_count', 'event.m6311698772393984_count',\n",
       "       'event.m6335456823869440_count', 'event0_count', 'event11_count',\n",
       "       'event14_count', 'event1_count', 'event3_count', 'event40_count',\n",
       "       'event41_count', 'event42_count', 'event43_count', 'event44_count',\n",
       "       'event45_count', 'event47_count', 'event48_count', 'event49_count',\n",
       "       'event4_count', 'event50_count', 'event52_count', 'event54_count',\n",
       "       'event55_count', 'event56_count', 'event57_count', 'event58_count',\n",
       "       'event59_count', 'event5_count', 'event60_count', 'event63_count',\n",
       "       'event64_count', 'event6_count', 'event7_count', 'event8_count',\n",
       "       'event9_count', 'event_value', 'last_diff', 'median_diff', 'past_buy',\n",
       "       'purchase_counts'],\n",
       "      dtype='object')"
      ]
     },
     "execution_count": 27,
     "metadata": {},
     "output_type": "execute_result"
    }
   ],
   "source": [
    "train_feature.columns.difference(['purchased','purchased2','user_id_hash'])"
   ]
  },
  {
   "cell_type": "code",
   "execution_count": 28,
   "metadata": {
    "ExecuteTime": {
     "end_time": "2019-02-23T09:29:35.430045Z",
     "start_time": "2019-02-23T09:29:35.159542Z"
    }
   },
   "outputs": [],
   "source": [
    "X_train = train_feature[train_feature.columns.difference(['purchased','purchased2','user_id_hash'])]\n",
    "y_train_1 = train_feature[[\"purchased\"]]\n",
    "y_train_2 = train_feature[[\"purchased2\"]]"
   ]
  },
  {
   "cell_type": "code",
   "execution_count": 29,
   "metadata": {
    "ExecuteTime": {
     "end_time": "2019-02-23T09:29:35.877499Z",
     "start_time": "2019-02-23T09:29:35.630799Z"
    }
   },
   "outputs": [],
   "source": [
    "X_val = val_feature[val_feature.columns.difference([\"purchased1\",\"purchased2\",'user_id_hash'])]\n",
    "y_val_1 = val_feature[['purchased']]\n",
    "y_val_2 = val_feature[['purchased2']]"
   ]
  },
  {
   "cell_type": "code",
   "execution_count": 30,
   "metadata": {
    "ExecuteTime": {
     "end_time": "2019-02-23T09:30:56.092052Z",
     "start_time": "2019-02-23T09:30:56.069154Z"
    }
   },
   "outputs": [
    {
     "data": {
      "text/plain": [
       "(620988, 56)"
      ]
     },
     "execution_count": 30,
     "metadata": {},
     "output_type": "execute_result"
    }
   ],
   "source": [
    "X_val.shape"
   ]
  },
  {
   "cell_type": "markdown",
   "metadata": {},
   "source": [
    "### Sessions Features"
   ]
  },
  {
   "cell_type": "markdown",
   "metadata": {},
   "source": [
    "IDEAS for features:\n",
    "- Number of sessions\n",
    "- If this is the first session\n",
    "- Country of origin\n",
    "- OS system\n",
    "-"
   ]
  },
  {
   "cell_type": "markdown",
   "metadata": {},
   "source": [
    "#### Sessions data frame"
   ]
  },
  {
   "cell_type": "code",
   "execution_count": 31,
   "metadata": {},
   "outputs": [
    {
     "data": {
      "text/html": [
       "<div>\n",
       "<style scoped>\n",
       "    .dataframe tbody tr th:only-of-type {\n",
       "        vertical-align: middle;\n",
       "    }\n",
       "\n",
       "    .dataframe tbody tr th {\n",
       "        vertical-align: top;\n",
       "    }\n",
       "\n",
       "    .dataframe thead th {\n",
       "        text-align: right;\n",
       "    }\n",
       "</style>\n",
       "<table border=\"1\" class=\"dataframe\">\n",
       "  <thead>\n",
       "    <tr style=\"text-align: right;\">\n",
       "      <th></th>\n",
       "      <th>session_id</th>\n",
       "      <th>start_timestamp</th>\n",
       "      <th>timezone</th>\n",
       "      <th>timezone_offset</th>\n",
       "      <th>previous_sessions_duration</th>\n",
       "      <th>user_created_timestamp</th>\n",
       "      <th>is_user_first_session</th>\n",
       "      <th>country</th>\n",
       "      <th>region</th>\n",
       "      <th>city</th>\n",
       "      <th>latitude</th>\n",
       "      <th>longitude</th>\n",
       "      <th>locale</th>\n",
       "      <th>os_name</th>\n",
       "      <th>session_index</th>\n",
       "      <th>device_id</th>\n",
       "      <th>user_id_hash</th>\n",
       "    </tr>\n",
       "  </thead>\n",
       "  <tbody>\n",
       "    <tr>\n",
       "      <th>0</th>\n",
       "      <td>5558845121177764917</td>\n",
       "      <td>1542215364580</td>\n",
       "      <td>Asia/Manila</td>\n",
       "      <td>28800000.0</td>\n",
       "      <td>25837591</td>\n",
       "      <td>1538874289458</td>\n",
       "      <td>False</td>\n",
       "      <td>PH</td>\n",
       "      <td>00</td>\n",
       "      <td>makati</td>\n",
       "      <td>14.554729</td>\n",
       "      <td>121.024445</td>\n",
       "      <td>en_GB</td>\n",
       "      <td>Android OS</td>\n",
       "      <td>30</td>\n",
       "      <td>546a3d98-d540-4e72-ad82-9ebd64e0839b</td>\n",
       "      <td>9943447915df3a45fd6720a026af905b6da6b56a37701b...</td>\n",
       "    </tr>\n",
       "    <tr>\n",
       "      <th>1</th>\n",
       "      <td>18781111175537580</td>\n",
       "      <td>1539215568666</td>\n",
       "      <td>Asia/Manila</td>\n",
       "      <td>28800000.0</td>\n",
       "      <td>11343848</td>\n",
       "      <td>1538874289458</td>\n",
       "      <td>False</td>\n",
       "      <td>PH</td>\n",
       "      <td>00</td>\n",
       "      <td>makati</td>\n",
       "      <td>14.554729</td>\n",
       "      <td>121.024445</td>\n",
       "      <td>en_GB</td>\n",
       "      <td>Android OS</td>\n",
       "      <td>10</td>\n",
       "      <td>546a3d98-d540-4e72-ad82-9ebd64e0839b</td>\n",
       "      <td>9943447915df3a45fd6720a026af905b6da6b56a37701b...</td>\n",
       "    </tr>\n",
       "    <tr>\n",
       "      <th>2</th>\n",
       "      <td>1477540082628742048</td>\n",
       "      <td>1540120743010</td>\n",
       "      <td>Asia/Manila</td>\n",
       "      <td>28800000.0</td>\n",
       "      <td>13499724</td>\n",
       "      <td>1538874289458</td>\n",
       "      <td>False</td>\n",
       "      <td>PH</td>\n",
       "      <td>11</td>\n",
       "      <td>davao city</td>\n",
       "      <td>7.190708</td>\n",
       "      <td>125.455338</td>\n",
       "      <td>en_GB</td>\n",
       "      <td>Android OS</td>\n",
       "      <td>13</td>\n",
       "      <td>546a3d98-d540-4e72-ad82-9ebd64e0839b</td>\n",
       "      <td>9943447915df3a45fd6720a026af905b6da6b56a37701b...</td>\n",
       "    </tr>\n",
       "    <tr>\n",
       "      <th>3</th>\n",
       "      <td>8184875317380844086</td>\n",
       "      <td>1542671625528</td>\n",
       "      <td>Asia/Manila</td>\n",
       "      <td>28800000.0</td>\n",
       "      <td>32788010</td>\n",
       "      <td>1538874289458</td>\n",
       "      <td>False</td>\n",
       "      <td>PH</td>\n",
       "      <td>00</td>\n",
       "      <td>makati</td>\n",
       "      <td>14.554729</td>\n",
       "      <td>121.024445</td>\n",
       "      <td>en_GB</td>\n",
       "      <td>Android OS</td>\n",
       "      <td>41</td>\n",
       "      <td>546a3d98-d540-4e72-ad82-9ebd64e0839b</td>\n",
       "      <td>9943447915df3a45fd6720a026af905b6da6b56a37701b...</td>\n",
       "    </tr>\n",
       "    <tr>\n",
       "      <th>4</th>\n",
       "      <td>4706180700083856343</td>\n",
       "      <td>1538997913013</td>\n",
       "      <td>Asia/Manila</td>\n",
       "      <td>28800000.0</td>\n",
       "      <td>5872534</td>\n",
       "      <td>1538874289458</td>\n",
       "      <td>False</td>\n",
       "      <td>PH</td>\n",
       "      <td>11</td>\n",
       "      <td>davao city</td>\n",
       "      <td>7.190708</td>\n",
       "      <td>125.455338</td>\n",
       "      <td>en_GB</td>\n",
       "      <td>Android OS</td>\n",
       "      <td>4</td>\n",
       "      <td>546a3d98-d540-4e72-ad82-9ebd64e0839b</td>\n",
       "      <td>9943447915df3a45fd6720a026af905b6da6b56a37701b...</td>\n",
       "    </tr>\n",
       "  </tbody>\n",
       "</table>\n",
       "</div>"
      ],
      "text/plain": [
       "            session_id  start_timestamp     timezone  timezone_offset  \\\n",
       "0  5558845121177764917    1542215364580  Asia/Manila       28800000.0   \n",
       "1    18781111175537580    1539215568666  Asia/Manila       28800000.0   \n",
       "2  1477540082628742048    1540120743010  Asia/Manila       28800000.0   \n",
       "3  8184875317380844086    1542671625528  Asia/Manila       28800000.0   \n",
       "4  4706180700083856343    1538997913013  Asia/Manila       28800000.0   \n",
       "\n",
       "   previous_sessions_duration  user_created_timestamp  is_user_first_session  \\\n",
       "0                    25837591           1538874289458                  False   \n",
       "1                    11343848           1538874289458                  False   \n",
       "2                    13499724           1538874289458                  False   \n",
       "3                    32788010           1538874289458                  False   \n",
       "4                     5872534           1538874289458                  False   \n",
       "\n",
       "  country region        city   latitude   longitude locale     os_name  \\\n",
       "0      PH     00      makati  14.554729  121.024445  en_GB  Android OS   \n",
       "1      PH     00      makati  14.554729  121.024445  en_GB  Android OS   \n",
       "2      PH     11  davao city   7.190708  125.455338  en_GB  Android OS   \n",
       "3      PH     00      makati  14.554729  121.024445  en_GB  Android OS   \n",
       "4      PH     11  davao city   7.190708  125.455338  en_GB  Android OS   \n",
       "\n",
       "   session_index                             device_id  \\\n",
       "0             30  546a3d98-d540-4e72-ad82-9ebd64e0839b   \n",
       "1             10  546a3d98-d540-4e72-ad82-9ebd64e0839b   \n",
       "2             13  546a3d98-d540-4e72-ad82-9ebd64e0839b   \n",
       "3             41  546a3d98-d540-4e72-ad82-9ebd64e0839b   \n",
       "4              4  546a3d98-d540-4e72-ad82-9ebd64e0839b   \n",
       "\n",
       "                                        user_id_hash  \n",
       "0  9943447915df3a45fd6720a026af905b6da6b56a37701b...  \n",
       "1  9943447915df3a45fd6720a026af905b6da6b56a37701b...  \n",
       "2  9943447915df3a45fd6720a026af905b6da6b56a37701b...  \n",
       "3  9943447915df3a45fd6720a026af905b6da6b56a37701b...  \n",
       "4  9943447915df3a45fd6720a026af905b6da6b56a37701b...  "
      ]
     },
     "execution_count": 31,
     "metadata": {},
     "output_type": "execute_result"
    }
   ],
   "source": [
    "sessions.head()"
   ]
  },
  {
   "cell_type": "code",
   "execution_count": 32,
   "metadata": {},
   "outputs": [
    {
     "data": {
      "text/plain": [
       "619519"
      ]
     },
     "execution_count": 32,
     "metadata": {},
     "output_type": "execute_result"
    }
   ],
   "source": [
    "sessions['user_id_hash'].nunique()"
   ]
  },
  {
   "cell_type": "code",
   "execution_count": 33,
   "metadata": {},
   "outputs": [
    {
     "data": {
      "text/plain": [
       "620988"
      ]
     },
     "execution_count": 33,
     "metadata": {},
     "output_type": "execute_result"
    }
   ],
   "source": [
    "events['user_id_hash'].nunique()"
   ]
  },
  {
   "cell_type": "code",
   "execution_count": 34,
   "metadata": {},
   "outputs": [],
   "source": [
    "# get unique user list \n",
    "users_ses = pd.DataFrame(list(sessions['user_id_hash'].unique()))\n",
    "users_ses.columns = [\"user_id_hash\"]"
   ]
  },
  {
   "cell_type": "code",
   "execution_count": 35,
   "metadata": {},
   "outputs": [],
   "source": [
    "# Validation labels\n",
    "\n",
    "december_event = events[(events[\"event_timestamp\"] >= 1543651199000) & #  >= Fri Nov 30 2018 23:59:59 GMT-0800\n",
    "                  (events[\"event_timestamp\"] < 1544255999000)] #  < Fri Dec 07 2018 23:59:59 GMT-0800\n",
    "\n",
    "# Users who made a purchase in December\n",
    "purchase_user = set(december_event[december_event[\"event\"] == \"8\"].user_id_hash.unique()) \n",
    "\n",
    "# For validation, the users include all unique users in sessions table\n",
    "users_val_ses = users_ses.copy()\n",
    "\n",
    "\n",
    "labels_dec_ses= []\n",
    "for user in list(sessions['user_id_hash'].unique()):\n",
    "    if user in purchase_user:\n",
    "        labels_dec_ses.append(1)\n",
    "    else:\n",
    "        labels_dec_ses.append(0)\n",
    "# label and add to val\n",
    "users_val_ses[\"purchased\"] = pd.DataFrame(labels_dec_ses)"
   ]
  },
  {
   "cell_type": "code",
   "execution_count": 36,
   "metadata": {},
   "outputs": [
    {
     "data": {
      "text/plain": [
       "(619519, 2)"
      ]
     },
     "execution_count": 36,
     "metadata": {},
     "output_type": "execute_result"
    }
   ],
   "source": [
    "users_val_ses.shape"
   ]
  },
  {
   "cell_type": "code",
   "execution_count": 37,
   "metadata": {},
   "outputs": [],
   "source": [
    "# second validation label\n",
    "\n",
    "december_event_2 = events[(events[\"event_timestamp\"] >= 1544255999000)] # Beyond 7 Dec \n",
    "\n",
    "purchase_user_2 = set(december_event_2[december_event_2[\"event\"] == \"8\"].user_id_hash.unique())\n",
    "\n",
    "labels_dec_ses_2 = []\n",
    "for user in list(sessions['user_id_hash'].unique()):\n",
    "    if user in purchase_user_2:\n",
    "        labels_dec_ses_2.append(1)\n",
    "    else:\n",
    "        labels_dec_ses_2.append(0)\n",
    "\n",
    "users_val_ses[\"purchased2\"] = pd.DataFrame(labels_dec_ses_2)\n"
   ]
  },
  {
   "cell_type": "code",
   "execution_count": 38,
   "metadata": {},
   "outputs": [
    {
     "data": {
      "text/plain": [
       "(619519, 3)"
      ]
     },
     "execution_count": 38,
     "metadata": {},
     "output_type": "execute_result"
    }
   ],
   "source": [
    "users_val_ses.shape"
   ]
  },
  {
   "cell_type": "code",
   "execution_count": 39,
   "metadata": {},
   "outputs": [
    {
     "data": {
      "text/html": [
       "<div>\n",
       "<style scoped>\n",
       "    .dataframe tbody tr th:only-of-type {\n",
       "        vertical-align: middle;\n",
       "    }\n",
       "\n",
       "    .dataframe tbody tr th {\n",
       "        vertical-align: top;\n",
       "    }\n",
       "\n",
       "    .dataframe thead th {\n",
       "        text-align: right;\n",
       "    }\n",
       "</style>\n",
       "<table border=\"1\" class=\"dataframe\">\n",
       "  <thead>\n",
       "    <tr style=\"text-align: right;\">\n",
       "      <th></th>\n",
       "      <th>user_id_hash</th>\n",
       "      <th>purchased</th>\n",
       "      <th>purchased2</th>\n",
       "    </tr>\n",
       "  </thead>\n",
       "  <tbody>\n",
       "    <tr>\n",
       "      <th>0</th>\n",
       "      <td>9943447915df3a45fd6720a026af905b6da6b56a37701b...</td>\n",
       "      <td>0</td>\n",
       "      <td>1</td>\n",
       "    </tr>\n",
       "    <tr>\n",
       "      <th>1</th>\n",
       "      <td>43f75f8042d3c80c45e222bdd09267f4584684c54d6fae...</td>\n",
       "      <td>0</td>\n",
       "      <td>0</td>\n",
       "    </tr>\n",
       "    <tr>\n",
       "      <th>2</th>\n",
       "      <td>999524249720812f2d8c0390293efd58e1ac84d587a01c...</td>\n",
       "      <td>0</td>\n",
       "      <td>0</td>\n",
       "    </tr>\n",
       "    <tr>\n",
       "      <th>3</th>\n",
       "      <td>4e6bc35cf7fd79a5312047651e7865915f4a6bec193cf2...</td>\n",
       "      <td>0</td>\n",
       "      <td>0</td>\n",
       "    </tr>\n",
       "    <tr>\n",
       "      <th>4</th>\n",
       "      <td>dc009148ee26d658e0240c7b7f6a258790a457737f96e8...</td>\n",
       "      <td>0</td>\n",
       "      <td>0</td>\n",
       "    </tr>\n",
       "  </tbody>\n",
       "</table>\n",
       "</div>"
      ],
      "text/plain": [
       "                                        user_id_hash  purchased  purchased2\n",
       "0  9943447915df3a45fd6720a026af905b6da6b56a37701b...          0           1\n",
       "1  43f75f8042d3c80c45e222bdd09267f4584684c54d6fae...          0           0\n",
       "2  999524249720812f2d8c0390293efd58e1ac84d587a01c...          0           0\n",
       "3  4e6bc35cf7fd79a5312047651e7865915f4a6bec193cf2...          0           0\n",
       "4  dc009148ee26d658e0240c7b7f6a258790a457737f96e8...          0           0"
      ]
     },
     "execution_count": 39,
     "metadata": {},
     "output_type": "execute_result"
    }
   ],
   "source": [
    "### Training labels\n",
    "\n",
    "#  Use Nov-15 to Nov-30 to get features for users labeled in December\n",
    "november_event = events[(events[\"event_timestamp\"] >= 1542265200000)  # from Mon Nov 15 2018 00:00:00 GMT-0700\n",
    "                          & (events[\"event_timestamp\"] < 1542960000000)] # Fri Nov 23 2018 00:00:00 GMT-0800\n",
    "\n",
    "purchase_user = set(november_event[november_event[\"event\"] == \"8\"].user_id_hash.unique())\n",
    "# Users_train dataframe\n",
    "users_train_ses = users_ses.copy()\n",
    "labels_nov_ses = []\n",
    "\n",
    "for user in list(sessions['user_id_hash'].unique()):\n",
    "    if user in purchase_user:\n",
    "        labels_nov_ses.append(1)\n",
    "    else:\n",
    "        labels_nov_ses.append(0)\n",
    "\n",
    "users_train_ses[\"purchased\"] = pd.DataFrame(labels_nov_ses)\n",
    "\n",
    "# second training label\n",
    "\n",
    "november_event_2 = events[(events[\"event_timestamp\"] >= 1542268800000) &  #from Thu Nov 15 2018 00:00:00 GMT-0800\n",
    "                      (events[\"event_timestamp\"] < 1543478400000)] # till Thu Nov 29 2018 00:00:00 GMT-0800\n",
    "purchase_user_2 = set(events[events[\"event\"] == \"8\"].user_id_hash.unique())\n",
    "labels_nov_ses_2 = []\n",
    "\n",
    "for user in list(sessions['user_id_hash'].unique()):\n",
    "    if user in purchase_user_2:\n",
    "        labels_nov_ses_2.append(1)\n",
    "    else:\n",
    "        labels_nov_ses_2.append(0)\n",
    "\n",
    "users_train_ses[\"purchased2\"] = pd.DataFrame(labels_nov_ses_2)\n",
    "\n",
    "users_train_ses.head()"
   ]
  },
  {
   "cell_type": "code",
   "execution_count": 40,
   "metadata": {},
   "outputs": [],
   "source": [
    "#Prepare training set\n",
    "#Limit sessions by start time\n",
    "train_raw_ses = sessions[(sessions[\"start_timestamp\"] < 1542268800000)] # Thu Nov 15 2018 00:00:00 GMT-0800\n",
    "\n",
    "# Join with user_ids in train labels\n",
    "train_raw_ses = train_raw_ses.join(users_train_ses.set_index(\"user_id_hash\"), on=\"user_id_hash\", how=\"inner\")"
   ]
  },
  {
   "cell_type": "code",
   "execution_count": 41,
   "metadata": {},
   "outputs": [],
   "source": [
    "val_raw_ses = sessions[(sessions[\"start_timestamp\"] >= 1539586800000) &  # Mon Oct 15 2018 00:00:00 GMT-0700\n",
    "                   (sessions[\"start_timestamp\"] < 1543651199000)] # Fri Nov 30 2018 23:59:59 GMT-0800\n",
    "\n",
    "val_raw_ses = val_raw_ses.join(users_val_ses.set_index(\"user_id_hash\"), on=\"user_id_hash\", how=\"inner\")"
   ]
  },
  {
   "cell_type": "code",
   "execution_count": 42,
   "metadata": {},
   "outputs": [
    {
     "data": {
      "text/plain": [
       "(3140997, 19)"
      ]
     },
     "execution_count": 42,
     "metadata": {},
     "output_type": "execute_result"
    }
   ],
   "source": [
    "train_raw_ses.shape"
   ]
  },
  {
   "cell_type": "code",
   "execution_count": 43,
   "metadata": {},
   "outputs": [
    {
     "data": {
      "text/html": [
       "<div>\n",
       "<style scoped>\n",
       "    .dataframe tbody tr th:only-of-type {\n",
       "        vertical-align: middle;\n",
       "    }\n",
       "\n",
       "    .dataframe tbody tr th {\n",
       "        vertical-align: top;\n",
       "    }\n",
       "\n",
       "    .dataframe thead th {\n",
       "        text-align: right;\n",
       "    }\n",
       "</style>\n",
       "<table border=\"1\" class=\"dataframe\">\n",
       "  <thead>\n",
       "    <tr style=\"text-align: right;\">\n",
       "      <th></th>\n",
       "      <th>session_id</th>\n",
       "      <th>start_timestamp</th>\n",
       "      <th>timezone</th>\n",
       "      <th>timezone_offset</th>\n",
       "      <th>previous_sessions_duration</th>\n",
       "      <th>user_created_timestamp</th>\n",
       "      <th>is_user_first_session</th>\n",
       "      <th>country</th>\n",
       "      <th>region</th>\n",
       "      <th>city</th>\n",
       "      <th>latitude</th>\n",
       "      <th>longitude</th>\n",
       "      <th>locale</th>\n",
       "      <th>os_name</th>\n",
       "      <th>session_index</th>\n",
       "      <th>device_id</th>\n",
       "      <th>user_id_hash</th>\n",
       "      <th>purchased</th>\n",
       "      <th>purchased2</th>\n",
       "    </tr>\n",
       "  </thead>\n",
       "  <tbody>\n",
       "    <tr>\n",
       "      <th>0</th>\n",
       "      <td>5558845121177764917</td>\n",
       "      <td>1542215364580</td>\n",
       "      <td>Asia/Manila</td>\n",
       "      <td>28800000.0</td>\n",
       "      <td>25837591</td>\n",
       "      <td>1538874289458</td>\n",
       "      <td>False</td>\n",
       "      <td>PH</td>\n",
       "      <td>00</td>\n",
       "      <td>makati</td>\n",
       "      <td>14.554729</td>\n",
       "      <td>121.024445</td>\n",
       "      <td>en_GB</td>\n",
       "      <td>Android OS</td>\n",
       "      <td>30</td>\n",
       "      <td>546a3d98-d540-4e72-ad82-9ebd64e0839b</td>\n",
       "      <td>9943447915df3a45fd6720a026af905b6da6b56a37701b...</td>\n",
       "      <td>0</td>\n",
       "      <td>1</td>\n",
       "    </tr>\n",
       "    <tr>\n",
       "      <th>1</th>\n",
       "      <td>18781111175537580</td>\n",
       "      <td>1539215568666</td>\n",
       "      <td>Asia/Manila</td>\n",
       "      <td>28800000.0</td>\n",
       "      <td>11343848</td>\n",
       "      <td>1538874289458</td>\n",
       "      <td>False</td>\n",
       "      <td>PH</td>\n",
       "      <td>00</td>\n",
       "      <td>makati</td>\n",
       "      <td>14.554729</td>\n",
       "      <td>121.024445</td>\n",
       "      <td>en_GB</td>\n",
       "      <td>Android OS</td>\n",
       "      <td>10</td>\n",
       "      <td>546a3d98-d540-4e72-ad82-9ebd64e0839b</td>\n",
       "      <td>9943447915df3a45fd6720a026af905b6da6b56a37701b...</td>\n",
       "      <td>0</td>\n",
       "      <td>1</td>\n",
       "    </tr>\n",
       "    <tr>\n",
       "      <th>2</th>\n",
       "      <td>1477540082628742048</td>\n",
       "      <td>1540120743010</td>\n",
       "      <td>Asia/Manila</td>\n",
       "      <td>28800000.0</td>\n",
       "      <td>13499724</td>\n",
       "      <td>1538874289458</td>\n",
       "      <td>False</td>\n",
       "      <td>PH</td>\n",
       "      <td>11</td>\n",
       "      <td>davao city</td>\n",
       "      <td>7.190708</td>\n",
       "      <td>125.455338</td>\n",
       "      <td>en_GB</td>\n",
       "      <td>Android OS</td>\n",
       "      <td>13</td>\n",
       "      <td>546a3d98-d540-4e72-ad82-9ebd64e0839b</td>\n",
       "      <td>9943447915df3a45fd6720a026af905b6da6b56a37701b...</td>\n",
       "      <td>0</td>\n",
       "      <td>1</td>\n",
       "    </tr>\n",
       "    <tr>\n",
       "      <th>4</th>\n",
       "      <td>4706180700083856343</td>\n",
       "      <td>1538997913013</td>\n",
       "      <td>Asia/Manila</td>\n",
       "      <td>28800000.0</td>\n",
       "      <td>5872534</td>\n",
       "      <td>1538874289458</td>\n",
       "      <td>False</td>\n",
       "      <td>PH</td>\n",
       "      <td>11</td>\n",
       "      <td>davao city</td>\n",
       "      <td>7.190708</td>\n",
       "      <td>125.455338</td>\n",
       "      <td>en_GB</td>\n",
       "      <td>Android OS</td>\n",
       "      <td>4</td>\n",
       "      <td>546a3d98-d540-4e72-ad82-9ebd64e0839b</td>\n",
       "      <td>9943447915df3a45fd6720a026af905b6da6b56a37701b...</td>\n",
       "      <td>0</td>\n",
       "      <td>1</td>\n",
       "    </tr>\n",
       "    <tr>\n",
       "      <th>5</th>\n",
       "      <td>1672434284075955951</td>\n",
       "      <td>1540106255109</td>\n",
       "      <td>Asia/Manila</td>\n",
       "      <td>28800000.0</td>\n",
       "      <td>12495345</td>\n",
       "      <td>1538874289458</td>\n",
       "      <td>False</td>\n",
       "      <td>PH</td>\n",
       "      <td>11</td>\n",
       "      <td>davao city</td>\n",
       "      <td>7.190708</td>\n",
       "      <td>125.455338</td>\n",
       "      <td>en_GB</td>\n",
       "      <td>Android OS</td>\n",
       "      <td>12</td>\n",
       "      <td>546a3d98-d540-4e72-ad82-9ebd64e0839b</td>\n",
       "      <td>9943447915df3a45fd6720a026af905b6da6b56a37701b...</td>\n",
       "      <td>0</td>\n",
       "      <td>1</td>\n",
       "    </tr>\n",
       "  </tbody>\n",
       "</table>\n",
       "</div>"
      ],
      "text/plain": [
       "            session_id  start_timestamp     timezone  timezone_offset  \\\n",
       "0  5558845121177764917    1542215364580  Asia/Manila       28800000.0   \n",
       "1    18781111175537580    1539215568666  Asia/Manila       28800000.0   \n",
       "2  1477540082628742048    1540120743010  Asia/Manila       28800000.0   \n",
       "4  4706180700083856343    1538997913013  Asia/Manila       28800000.0   \n",
       "5  1672434284075955951    1540106255109  Asia/Manila       28800000.0   \n",
       "\n",
       "   previous_sessions_duration  user_created_timestamp  is_user_first_session  \\\n",
       "0                    25837591           1538874289458                  False   \n",
       "1                    11343848           1538874289458                  False   \n",
       "2                    13499724           1538874289458                  False   \n",
       "4                     5872534           1538874289458                  False   \n",
       "5                    12495345           1538874289458                  False   \n",
       "\n",
       "  country region        city   latitude   longitude locale     os_name  \\\n",
       "0      PH     00      makati  14.554729  121.024445  en_GB  Android OS   \n",
       "1      PH     00      makati  14.554729  121.024445  en_GB  Android OS   \n",
       "2      PH     11  davao city   7.190708  125.455338  en_GB  Android OS   \n",
       "4      PH     11  davao city   7.190708  125.455338  en_GB  Android OS   \n",
       "5      PH     11  davao city   7.190708  125.455338  en_GB  Android OS   \n",
       "\n",
       "   session_index                             device_id  \\\n",
       "0             30  546a3d98-d540-4e72-ad82-9ebd64e0839b   \n",
       "1             10  546a3d98-d540-4e72-ad82-9ebd64e0839b   \n",
       "2             13  546a3d98-d540-4e72-ad82-9ebd64e0839b   \n",
       "4              4  546a3d98-d540-4e72-ad82-9ebd64e0839b   \n",
       "5             12  546a3d98-d540-4e72-ad82-9ebd64e0839b   \n",
       "\n",
       "                                        user_id_hash  purchased  purchased2  \n",
       "0  9943447915df3a45fd6720a026af905b6da6b56a37701b...          0           1  \n",
       "1  9943447915df3a45fd6720a026af905b6da6b56a37701b...          0           1  \n",
       "2  9943447915df3a45fd6720a026af905b6da6b56a37701b...          0           1  \n",
       "4  9943447915df3a45fd6720a026af905b6da6b56a37701b...          0           1  \n",
       "5  9943447915df3a45fd6720a026af905b6da6b56a37701b...          0           1  "
      ]
     },
     "execution_count": 43,
     "metadata": {},
     "output_type": "execute_result"
    }
   ],
   "source": [
    "train_raw_ses.head()"
   ]
  },
  {
   "cell_type": "code",
   "execution_count": 44,
   "metadata": {},
   "outputs": [],
   "source": [
    "def features_sessions(df_raw,df_user):\n",
    "    #Feature #1: number of sessions per user\n",
    "    num_sessions =df_raw.groupby(['user_id_hash'])['session_id'].count().reset_index()\n",
    "    result = df_user.join(num_sessions.set_index(\"user_id_hash\"), on=\"user_id_hash\", how=\"left\")\n",
    "    \n",
    "    # Feature #2: is_first session\n",
    "    user_first_session = sessions.groupby(['user_id_hash'])['is_user_first_session'].mean().reset_index()\n",
    "    user_first_session['first_time'] = 0\n",
    "    user_first_session.loc[user_first_session['is_user_first_session']==1,'first_time']=1\n",
    "    result = result.join(user_first_session.drop(['is_user_first_session'], axis = 1).set_index(\"user_id_hash\"), on=\"user_id_hash\", how=\"left\")\n",
    "    \n",
    "    \n",
    "    # Feature #3 Country of origin\n",
    "    sessions_user =sessions.drop([ 'session_id', 'start_timestamp','previous_sessions_duration',\\\n",
    "                                 'user_created_timestamp',  'session_index',\\\n",
    "                                  'latitude', 'longitude', 'is_user_first_session',\n",
    "                                 'locale', 'city'], axis =1)\n",
    "    user_country = sessions_user.drop(['os_name', 'device_id', 'region', 'timezone', 'timezone_offset'], axis= 1)\n",
    "    user_country.drop_duplicates(inplace = True)\n",
    "    country_one_hot = pd.get_dummies(user_country['country'])\n",
    "    user_country = pd.concat([user_country, country_one_hot], axis = 1).reset_index()\n",
    "    \n",
    "    result = result.join(user_country.drop(['index'], axis = 1).set_index(\"user_id_hash\"), on=\"user_id_hash\", how=\"left\")\n",
    "    \n",
    "    # Feature #4 OS System\n",
    "    user_os = sessions_user.drop(['country', 'device_id', 'region', 'timezone', 'timezone_offset'], axis= 1)\n",
    "    user_os.drop_duplicates(inplace = True)\n",
    "\n",
    "    result = result.join(user_os.set_index(\"user_id_hash\"), on=\"user_id_hash\", how=\"left\")\n",
    "    \n",
    "    return result\n",
    "    "
   ]
  },
  {
   "cell_type": "code",
   "execution_count": 45,
   "metadata": {},
   "outputs": [],
   "source": [
    "train_features_ses = features_sessions(train_raw_ses,users_train_ses)\n",
    "train_features_ses = train_features_ses.drop(['country', 'os_name'], axis = 1).apply(lambda x: x.fillna(0))"
   ]
  },
  {
   "cell_type": "code",
   "execution_count": 46,
   "metadata": {},
   "outputs": [],
   "source": [
    "val_features_ses= features_sessions(val_raw_ses,users_val_ses)\n",
    "#val_feature = val_feature.apply(lambda x: x.fillna(0))"
   ]
  },
  {
   "cell_type": "code",
   "execution_count": 47,
   "metadata": {},
   "outputs": [],
   "source": [
    "val_features_ses = val_features_ses.drop(['country', 'os_name'], axis = 1).apply(lambda x: x.fillna(0))"
   ]
  },
  {
   "cell_type": "code",
   "execution_count": 48,
   "metadata": {},
   "outputs": [
    {
     "data": {
      "text/plain": [
       "(620988, 58)"
      ]
     },
     "execution_count": 48,
     "metadata": {},
     "output_type": "execute_result"
    }
   ],
   "source": [
    "train_feature.shape"
   ]
  },
  {
   "cell_type": "code",
   "execution_count": 49,
   "metadata": {},
   "outputs": [
    {
     "data": {
      "text/plain": [
       "(626113, 233)"
      ]
     },
     "execution_count": 49,
     "metadata": {},
     "output_type": "execute_result"
    }
   ],
   "source": [
    "train_features_ses.shape"
   ]
  },
  {
   "cell_type": "code",
   "execution_count": 50,
   "metadata": {},
   "outputs": [],
   "source": [
    "# Join event features and sessions features\n",
    "train_feat = train_feature.join(train_features_ses.drop(['purchased', 'purchased2'], axis = 1).set_index(\"user_id_hash\"), on=\"user_id_hash\", how=\"left\")\n",
    "\n"
   ]
  },
  {
   "cell_type": "code",
   "execution_count": 51,
   "metadata": {},
   "outputs": [],
   "source": [
    "val_feat = val_feature.join(val_features_ses.drop(['purchased', 'purchased2'], axis = 1).set_index(\"user_id_hash\"), on=\"user_id_hash\", how=\"left\")\n",
    "\n"
   ]
  },
  {
   "cell_type": "code",
   "execution_count": null,
   "metadata": {},
   "outputs": [],
   "source": []
  },
  {
   "cell_type": "code",
   "execution_count": 52,
   "metadata": {},
   "outputs": [],
   "source": [
    "X_train = train_feat[train_feat.columns.difference(['purchased','purchased2','user_id_hash'])]\n",
    "X_val = val_feat[val_feat.columns.difference(['purchased','purchased2','user_id_hash'])]"
   ]
  },
  {
   "cell_type": "code",
   "execution_count": 53,
   "metadata": {},
   "outputs": [
    {
     "data": {
      "text/html": [
       "<div>\n",
       "<style scoped>\n",
       "    .dataframe tbody tr th:only-of-type {\n",
       "        vertical-align: middle;\n",
       "    }\n",
       "\n",
       "    .dataframe tbody tr th {\n",
       "        vertical-align: top;\n",
       "    }\n",
       "\n",
       "    .dataframe thead th {\n",
       "        text-align: right;\n",
       "    }\n",
       "</style>\n",
       "<table border=\"1\" class=\"dataframe\">\n",
       "  <thead>\n",
       "    <tr style=\"text-align: right;\">\n",
       "      <th></th>\n",
       "      <th>AD</th>\n",
       "      <th>AE</th>\n",
       "      <th>AF</th>\n",
       "      <th>AG</th>\n",
       "      <th>AI</th>\n",
       "      <th>AL</th>\n",
       "      <th>AM</th>\n",
       "      <th>AO</th>\n",
       "      <th>AR</th>\n",
       "      <th>AS</th>\n",
       "      <th>...</th>\n",
       "      <th>event7_count</th>\n",
       "      <th>event8_count</th>\n",
       "      <th>event9_count</th>\n",
       "      <th>event_value</th>\n",
       "      <th>first_time</th>\n",
       "      <th>last_diff</th>\n",
       "      <th>median_diff</th>\n",
       "      <th>past_buy</th>\n",
       "      <th>purchase_counts</th>\n",
       "      <th>session_id</th>\n",
       "    </tr>\n",
       "  </thead>\n",
       "  <tbody>\n",
       "    <tr>\n",
       "      <th>0</th>\n",
       "      <td>0.0</td>\n",
       "      <td>0.0</td>\n",
       "      <td>0.0</td>\n",
       "      <td>0.0</td>\n",
       "      <td>0.0</td>\n",
       "      <td>0.0</td>\n",
       "      <td>0.0</td>\n",
       "      <td>0.0</td>\n",
       "      <td>0.0</td>\n",
       "      <td>0.0</td>\n",
       "      <td>...</td>\n",
       "      <td>8</td>\n",
       "      <td>1</td>\n",
       "      <td>0</td>\n",
       "      <td>3.492188</td>\n",
       "      <td>0.0</td>\n",
       "      <td>3.265969e+08</td>\n",
       "      <td>2.162291e+09</td>\n",
       "      <td>0</td>\n",
       "      <td>1</td>\n",
       "      <td>31.0</td>\n",
       "    </tr>\n",
       "    <tr>\n",
       "      <th>1</th>\n",
       "      <td>0.0</td>\n",
       "      <td>0.0</td>\n",
       "      <td>0.0</td>\n",
       "      <td>0.0</td>\n",
       "      <td>0.0</td>\n",
       "      <td>0.0</td>\n",
       "      <td>0.0</td>\n",
       "      <td>0.0</td>\n",
       "      <td>0.0</td>\n",
       "      <td>0.0</td>\n",
       "      <td>...</td>\n",
       "      <td>2</td>\n",
       "      <td>0</td>\n",
       "      <td>0</td>\n",
       "      <td>0.000000</td>\n",
       "      <td>0.0</td>\n",
       "      <td>3.398837e+08</td>\n",
       "      <td>3.815455e+08</td>\n",
       "      <td>0</td>\n",
       "      <td>0</td>\n",
       "      <td>3.0</td>\n",
       "    </tr>\n",
       "    <tr>\n",
       "      <th>2</th>\n",
       "      <td>0.0</td>\n",
       "      <td>0.0</td>\n",
       "      <td>0.0</td>\n",
       "      <td>0.0</td>\n",
       "      <td>0.0</td>\n",
       "      <td>0.0</td>\n",
       "      <td>0.0</td>\n",
       "      <td>0.0</td>\n",
       "      <td>0.0</td>\n",
       "      <td>0.0</td>\n",
       "      <td>...</td>\n",
       "      <td>3</td>\n",
       "      <td>0</td>\n",
       "      <td>0</td>\n",
       "      <td>0.000000</td>\n",
       "      <td>1.0</td>\n",
       "      <td>2.437954e+09</td>\n",
       "      <td>2.438209e+09</td>\n",
       "      <td>0</td>\n",
       "      <td>0</td>\n",
       "      <td>1.0</td>\n",
       "    </tr>\n",
       "    <tr>\n",
       "      <th>3</th>\n",
       "      <td>0.0</td>\n",
       "      <td>0.0</td>\n",
       "      <td>0.0</td>\n",
       "      <td>0.0</td>\n",
       "      <td>0.0</td>\n",
       "      <td>0.0</td>\n",
       "      <td>0.0</td>\n",
       "      <td>0.0</td>\n",
       "      <td>0.0</td>\n",
       "      <td>0.0</td>\n",
       "      <td>...</td>\n",
       "      <td>0</td>\n",
       "      <td>0</td>\n",
       "      <td>0</td>\n",
       "      <td>0.000000</td>\n",
       "      <td>1.0</td>\n",
       "      <td>0.000000e+00</td>\n",
       "      <td>0.000000e+00</td>\n",
       "      <td>0</td>\n",
       "      <td>0</td>\n",
       "      <td>0.0</td>\n",
       "    </tr>\n",
       "    <tr>\n",
       "      <th>4</th>\n",
       "      <td>0.0</td>\n",
       "      <td>0.0</td>\n",
       "      <td>0.0</td>\n",
       "      <td>0.0</td>\n",
       "      <td>0.0</td>\n",
       "      <td>0.0</td>\n",
       "      <td>0.0</td>\n",
       "      <td>0.0</td>\n",
       "      <td>0.0</td>\n",
       "      <td>0.0</td>\n",
       "      <td>...</td>\n",
       "      <td>0</td>\n",
       "      <td>0</td>\n",
       "      <td>0</td>\n",
       "      <td>0.000000</td>\n",
       "      <td>1.0</td>\n",
       "      <td>1.902918e+09</td>\n",
       "      <td>2.045302e+09</td>\n",
       "      <td>0</td>\n",
       "      <td>0</td>\n",
       "      <td>1.0</td>\n",
       "    </tr>\n",
       "  </tbody>\n",
       "</table>\n",
       "<p>5 rows × 285 columns</p>\n",
       "</div>"
      ],
      "text/plain": [
       "    AD   AE   AF   AG   AI   AL   AM   AO   AR   AS     ...      event7_count  \\\n",
       "0  0.0  0.0  0.0  0.0  0.0  0.0  0.0  0.0  0.0  0.0     ...                 8   \n",
       "1  0.0  0.0  0.0  0.0  0.0  0.0  0.0  0.0  0.0  0.0     ...                 2   \n",
       "2  0.0  0.0  0.0  0.0  0.0  0.0  0.0  0.0  0.0  0.0     ...                 3   \n",
       "3  0.0  0.0  0.0  0.0  0.0  0.0  0.0  0.0  0.0  0.0     ...                 0   \n",
       "4  0.0  0.0  0.0  0.0  0.0  0.0  0.0  0.0  0.0  0.0     ...                 0   \n",
       "\n",
       "   event8_count  event9_count  event_value  first_time     last_diff  \\\n",
       "0             1             0     3.492188         0.0  3.265969e+08   \n",
       "1             0             0     0.000000         0.0  3.398837e+08   \n",
       "2             0             0     0.000000         1.0  2.437954e+09   \n",
       "3             0             0     0.000000         1.0  0.000000e+00   \n",
       "4             0             0     0.000000         1.0  1.902918e+09   \n",
       "\n",
       "    median_diff  past_buy  purchase_counts  session_id  \n",
       "0  2.162291e+09         0                1        31.0  \n",
       "1  3.815455e+08         0                0         3.0  \n",
       "2  2.438209e+09         0                0         1.0  \n",
       "3  0.000000e+00         0                0         0.0  \n",
       "4  2.045302e+09         0                0         1.0  \n",
       "\n",
       "[5 rows x 285 columns]"
      ]
     },
     "execution_count": 53,
     "metadata": {},
     "output_type": "execute_result"
    }
   ],
   "source": [
    "X_train.head()"
   ]
  },
  {
   "cell_type": "code",
   "execution_count": 54,
   "metadata": {},
   "outputs": [],
   "source": [
    "y_train_1 = train_feat[[\"purchased\"]]\n",
    "y_train_2 = train_feat[[\"purchased2\"]]"
   ]
  },
  {
   "cell_type": "code",
   "execution_count": 55,
   "metadata": {},
   "outputs": [],
   "source": [
    "y_val_1 = val_feat[['purchased']]\n",
    "y_val_2 = val_feat[['purchased2']]"
   ]
  },
  {
   "cell_type": "code",
   "execution_count": null,
   "metadata": {},
   "outputs": [],
   "source": []
  },
  {
   "cell_type": "code",
   "execution_count": null,
   "metadata": {},
   "outputs": [],
   "source": []
  },
  {
   "cell_type": "markdown",
   "metadata": {},
   "source": [
    "## train with LGB model"
   ]
  },
  {
   "cell_type": "code",
   "execution_count": 57,
   "metadata": {
    "ExecuteTime": {
     "end_time": "2019-02-23T09:29:46.100269Z",
     "start_time": "2019-02-23T09:29:38.065931Z"
    }
   },
   "outputs": [
    {
     "name": "stdout",
     "output_type": "stream",
     "text": [
      "Random search start...\n",
      "* training model1_7day \n",
      "--> Best AUC:1.0 using {'n_estimators': 350, 'bagging_fraction': 0.9, 'learning_rate': 0.05, 'is_unbalance': True, 'max_bin': 5, 'boosting_type': 'dart', 'max_depth': 5, 'feature_fraction': 0.7, 'lambda_l1': 30, 'objective': 'binary', 'metric': 'auc'}\n",
      "* training model2_14day \n",
      "--> Best AUC:0.9779002521854568 using {'n_estimators': 450, 'bagging_fraction': 0.5, 'learning_rate': 0.3, 'is_unbalance': True, 'max_bin': 5, 'boosting_type': 'dart', 'max_depth': 2, 'feature_fraction': 0.8, 'lambda_l1': 30, 'objective': 'binary', 'metric': 'auc'}\n"
     ]
    }
   ],
   "source": [
    "# loop for random search\n",
    "n_iterations=10\n",
    "\n",
    "print (\"Random search start...\")\n",
    "\n",
    "for col in ['model1_7day','model2_14day']:\n",
    "    print(f\"* training {col} \")\n",
    "    #y = target[col]\n",
    "    roc_auc_mean = []\n",
    "    dict_list = []\n",
    "    \n",
    "    for i in range(0, n_iterations):\n",
    "\n",
    "        param_dist = {'n_estimators' : choice([250,300,350,400,450]),\n",
    "                  'bagging_fraction': choice([0.5, 0.7, 0.8, 0.9]),\n",
    "                  'learning_rate': choice([0.05, 0.1, 0.3, 0.5]),\n",
    "                  'is_unbalance': True,\n",
    "                  'max_bin': choice([3, 5, 10, 15, 18, 20, 25]),\n",
    "                  'boosting_type' : choice(['gbdt', 'dart']),\n",
    "                  'max_depth': choice([2,3,4,5]),      \n",
    "                  'feature_fraction': choice([0.7, 0.8, 0.9]),\n",
    "                  'lambda_l1': choice([0, 10, 20, 30, 40]),\n",
    "                  'objective': 'binary', \n",
    "                  'metric': 'auc'} \n",
    "\n",
    "        roc_l = []\n",
    "        \n",
    "       # y_train_1,y_train_2,X_train\n",
    "       # y_val_1,y_val_2,X_val\n",
    "\n",
    "        #for train, test in kf.split(X_tf,y):\n",
    "\n",
    "        # training\n",
    "        if col == 'model1_7day':\n",
    "            y_train = y_train_1\n",
    "            y_val = y_val_1\n",
    "        else: \n",
    "            y_train = y_train_2\n",
    "            y_val = y_val_2\n",
    "            \n",
    "        gbm = lgb.LGBMClassifier(**param_dist)\n",
    "        gbm.fit(X_train,y_train)\n",
    "        # predicting\n",
    "        y_pred = np.round(gbm.predict_proba(X_val)[:,1],3)\n",
    "        \n",
    "        roc = roc_auc_score(y_val, y_pred)\n",
    "        roc_l.append(roc)\n",
    "\n",
    "        roc_array = np.asarray(roc_l)\n",
    "\n",
    "        roc_auc_mean.append(roc_array.mean())\n",
    "        dict_list.append(param_dist)\n",
    "        #gc.collect()\n",
    "        \n",
    "\n",
    "    results_pd = pd.DataFrame({\"roc_auc_mean\": roc_auc_mean,\"parameters\": dict_list})    \n",
    "    results_pd.sort_values(\"roc_auc_mean\", ascending = False, axis = 0, inplace = True)\n",
    "    \n",
    "    top_pd = results_pd.head(1)\n",
    "    \n",
    "    print(f\"--> Best AUC:{top_pd.iloc[0,0]} using {top_pd.iloc[0,1]}\")"
   ]
  },
  {
   "cell_type": "code",
   "execution_count": 85,
   "metadata": {},
   "outputs": [
    {
     "name": "stdout",
     "output_type": "stream",
     "text": [
      "auc score = 1.0\n",
      "Time use:25.852s\n"
     ]
    }
   ],
   "source": [
    "# \n",
    "param_dist = {'n_estimators' : 350,\n",
    "                  'bagging_fraction':  0.9,\n",
    "                  'learning_rate':0.05,\n",
    "                  'is_unbalance': True,\n",
    "                  'max_bin': 5,\n",
    "                  'boosting_type': 'dart',\n",
    "                  'max_depth': 5,      \n",
    "                  'feature_fraction':0.7,\n",
    "                  'lambda_l1': 30,\n",
    "                  'objective': 'binary', \n",
    "                  'metric': 'auc'} \n",
    "t = time.time()\n",
    "#Model for 7 days\n",
    "gbm_1 = lgb.LGBMClassifier(**param_dist)\n",
    "gbm_1.fit(X_train,y_train_1)\n",
    "# predicting\n",
    "y_pred_1 = gbm_1.predict_proba(X_val)\n",
    "score_1  = y_pred_1[:,1]\n",
    "\n",
    "print(f'auc score = {roc_auc_score(y_val_1,score_1)}')\n",
    "print(f\"Time use:{time.time()-t:.3f}s\") "
   ]
  },
  {
   "cell_type": "code",
   "execution_count": 86,
   "metadata": {},
   "outputs": [
    {
     "name": "stdout",
     "output_type": "stream",
     "text": [
      "auc score = 0.9779260704027422\n",
      "Time use:32.703s\n"
     ]
    }
   ],
   "source": [
    "#Model for 14 days\n",
    "param_dist_2 = {'n_estimators' : 450,\n",
    "                  'bagging_fraction':  0.5,\n",
    "                  'learning_rate':0.3,\n",
    "                  'is_unbalance': True,\n",
    "                  'max_bin': 5,\n",
    "                  'boosting_type': 'dart',\n",
    "                  'max_depth': 2,      \n",
    "                  'feature_fraction':0.8,\n",
    "                  'lambda_l1': 30,\n",
    "                  'objective': 'binary', \n",
    "                  'metric': 'auc'} \n",
    "t = time.time()\n",
    "\n",
    "gbm_2 = lgb.LGBMClassifier(**param_dist_2)\n",
    "gbm_2.fit(X_train,y_train_2)\n",
    "# predicting\n",
    "y_pred_2 = gbm_2.predict_proba(X_val)\n",
    "score_2 = y_pred_2[:,1]\n",
    "\n",
    "print(f'auc score = {roc_auc_score(y_val_2,score_2)}')\n",
    "print(f\"Time use:{time.time()-t:.3f}s\") "
   ]
  },
  {
   "cell_type": "code",
   "execution_count": 87,
   "metadata": {},
   "outputs": [],
   "source": [
    "# Preparing test set\n",
    "sample = pd.read_csv(os.path.expanduser(\"~/USF/adv_ml/final/sample_submission_2.csv\"))\n",
    "\n",
    "\n",
    "#users = pd.DataFrame(list(events.user_id_hash.unique()))\n",
    "#users.columns = [\"user_id_hash\"]\n",
    "test_raw_ses = sessions[(sessions['start_timestamp'] >= 1541055600000)] # Nov 1\n",
    "test_raw_event = events[(events[\"event_timestamp\"] >= 1541055600000)] # November 1\n",
    "user_test = users\n"
   ]
  },
  {
   "cell_type": "code",
   "execution_count": 77,
   "metadata": {},
   "outputs": [],
   "source": [
    "# Join with user_ids in test labels\n",
    "test_raw_ses = test_raw_ses.join(user_test.set_index(\"user_id_hash\"), on=\"user_id_hash\", how=\"inner\")"
   ]
  },
  {
   "cell_type": "code",
   "execution_count": 78,
   "metadata": {},
   "outputs": [],
   "source": [
    "# Create events feautures\n",
    "test_feature = features_event(test_raw_event,user_test,1544860800000)\n",
    "test_feature = test_feature.apply(lambda x: x.fillna(0))\n"
   ]
  },
  {
   "cell_type": "code",
   "execution_count": 81,
   "metadata": {},
   "outputs": [],
   "source": [
    "# create sessions features\n",
    "test_features_ses = features_sessions(test_raw_ses,user_test)\n",
    "test_features_ses = test_features_ses.drop(['country', 'os_name'], axis = 1).apply(lambda x: x.fillna(0))"
   ]
  },
  {
   "cell_type": "code",
   "execution_count": 82,
   "metadata": {},
   "outputs": [],
   "source": [
    "# Join event and sessions features\n",
    "test_feat = test_feature.join(test_features_ses.drop(['purchased', 'purchased2'], axis = 1).set_index(\"user_id_hash\"), on=\"user_id_hash\", how=\"left\")\n"
   ]
  },
  {
   "cell_type": "code",
   "execution_count": 83,
   "metadata": {},
   "outputs": [],
   "source": [
    "X_test = test_feat[test_feat.columns.difference(['purchased','purchased2','user_id_hash'])]"
   ]
  },
  {
   "cell_type": "code",
   "execution_count": 84,
   "metadata": {},
   "outputs": [
    {
     "data": {
      "text/html": [
       "<div>\n",
       "<style scoped>\n",
       "    .dataframe tbody tr th:only-of-type {\n",
       "        vertical-align: middle;\n",
       "    }\n",
       "\n",
       "    .dataframe tbody tr th {\n",
       "        vertical-align: top;\n",
       "    }\n",
       "\n",
       "    .dataframe thead th {\n",
       "        text-align: right;\n",
       "    }\n",
       "</style>\n",
       "<table border=\"1\" class=\"dataframe\">\n",
       "  <thead>\n",
       "    <tr style=\"text-align: right;\">\n",
       "      <th></th>\n",
       "      <th>AD</th>\n",
       "      <th>AE</th>\n",
       "      <th>AF</th>\n",
       "      <th>AG</th>\n",
       "      <th>AI</th>\n",
       "      <th>AL</th>\n",
       "      <th>AM</th>\n",
       "      <th>AO</th>\n",
       "      <th>AR</th>\n",
       "      <th>AS</th>\n",
       "      <th>...</th>\n",
       "      <th>event7_count</th>\n",
       "      <th>event8_count</th>\n",
       "      <th>event9_count</th>\n",
       "      <th>event_value</th>\n",
       "      <th>first_time</th>\n",
       "      <th>last_diff</th>\n",
       "      <th>median_diff</th>\n",
       "      <th>past_buy</th>\n",
       "      <th>purchase_counts</th>\n",
       "      <th>session_id</th>\n",
       "    </tr>\n",
       "  </thead>\n",
       "  <tbody>\n",
       "    <tr>\n",
       "      <th>0</th>\n",
       "      <td>0.0</td>\n",
       "      <td>0.0</td>\n",
       "      <td>0.0</td>\n",
       "      <td>0.0</td>\n",
       "      <td>0.0</td>\n",
       "      <td>0.0</td>\n",
       "      <td>0.0</td>\n",
       "      <td>0.0</td>\n",
       "      <td>0.0</td>\n",
       "      <td>0.0</td>\n",
       "      <td>...</td>\n",
       "      <td>4</td>\n",
       "      <td>1</td>\n",
       "      <td>0</td>\n",
       "      <td>3.492188</td>\n",
       "      <td>0</td>\n",
       "      <td>2.918597e+09</td>\n",
       "      <td>2.670147e+09</td>\n",
       "      <td>0</td>\n",
       "      <td>1</td>\n",
       "      <td>33.0</td>\n",
       "    </tr>\n",
       "    <tr>\n",
       "      <th>1</th>\n",
       "      <td>0.0</td>\n",
       "      <td>0.0</td>\n",
       "      <td>0.0</td>\n",
       "      <td>0.0</td>\n",
       "      <td>0.0</td>\n",
       "      <td>0.0</td>\n",
       "      <td>0.0</td>\n",
       "      <td>0.0</td>\n",
       "      <td>0.0</td>\n",
       "      <td>0.0</td>\n",
       "      <td>...</td>\n",
       "      <td>2</td>\n",
       "      <td>0</td>\n",
       "      <td>0</td>\n",
       "      <td>0.000000</td>\n",
       "      <td>0</td>\n",
       "      <td>2.931884e+09</td>\n",
       "      <td>2.973545e+09</td>\n",
       "      <td>0</td>\n",
       "      <td>0</td>\n",
       "      <td>3.0</td>\n",
       "    </tr>\n",
       "    <tr>\n",
       "      <th>2</th>\n",
       "      <td>0.0</td>\n",
       "      <td>0.0</td>\n",
       "      <td>0.0</td>\n",
       "      <td>0.0</td>\n",
       "      <td>0.0</td>\n",
       "      <td>0.0</td>\n",
       "      <td>0.0</td>\n",
       "      <td>0.0</td>\n",
       "      <td>0.0</td>\n",
       "      <td>0.0</td>\n",
       "      <td>...</td>\n",
       "      <td>0</td>\n",
       "      <td>0</td>\n",
       "      <td>0</td>\n",
       "      <td>0.000000</td>\n",
       "      <td>1</td>\n",
       "      <td>0.000000e+00</td>\n",
       "      <td>0.000000e+00</td>\n",
       "      <td>0</td>\n",
       "      <td>0</td>\n",
       "      <td>0.0</td>\n",
       "    </tr>\n",
       "    <tr>\n",
       "      <th>3</th>\n",
       "      <td>0.0</td>\n",
       "      <td>0.0</td>\n",
       "      <td>0.0</td>\n",
       "      <td>0.0</td>\n",
       "      <td>0.0</td>\n",
       "      <td>0.0</td>\n",
       "      <td>0.0</td>\n",
       "      <td>0.0</td>\n",
       "      <td>0.0</td>\n",
       "      <td>0.0</td>\n",
       "      <td>...</td>\n",
       "      <td>0</td>\n",
       "      <td>0</td>\n",
       "      <td>0</td>\n",
       "      <td>0.000000</td>\n",
       "      <td>1</td>\n",
       "      <td>2.337255e+09</td>\n",
       "      <td>2.337667e+09</td>\n",
       "      <td>0</td>\n",
       "      <td>0</td>\n",
       "      <td>1.0</td>\n",
       "    </tr>\n",
       "    <tr>\n",
       "      <th>4</th>\n",
       "      <td>0.0</td>\n",
       "      <td>0.0</td>\n",
       "      <td>0.0</td>\n",
       "      <td>0.0</td>\n",
       "      <td>0.0</td>\n",
       "      <td>0.0</td>\n",
       "      <td>0.0</td>\n",
       "      <td>0.0</td>\n",
       "      <td>0.0</td>\n",
       "      <td>0.0</td>\n",
       "      <td>...</td>\n",
       "      <td>0</td>\n",
       "      <td>0</td>\n",
       "      <td>0</td>\n",
       "      <td>0.000000</td>\n",
       "      <td>1</td>\n",
       "      <td>0.000000e+00</td>\n",
       "      <td>0.000000e+00</td>\n",
       "      <td>0</td>\n",
       "      <td>0</td>\n",
       "      <td>0.0</td>\n",
       "    </tr>\n",
       "  </tbody>\n",
       "</table>\n",
       "<p>5 rows × 285 columns</p>\n",
       "</div>"
      ],
      "text/plain": [
       "    AD   AE   AF   AG   AI   AL   AM   AO   AR   AS     ...      event7_count  \\\n",
       "0  0.0  0.0  0.0  0.0  0.0  0.0  0.0  0.0  0.0  0.0     ...                 4   \n",
       "1  0.0  0.0  0.0  0.0  0.0  0.0  0.0  0.0  0.0  0.0     ...                 2   \n",
       "2  0.0  0.0  0.0  0.0  0.0  0.0  0.0  0.0  0.0  0.0     ...                 0   \n",
       "3  0.0  0.0  0.0  0.0  0.0  0.0  0.0  0.0  0.0  0.0     ...                 0   \n",
       "4  0.0  0.0  0.0  0.0  0.0  0.0  0.0  0.0  0.0  0.0     ...                 0   \n",
       "\n",
       "   event8_count  event9_count  event_value  first_time     last_diff  \\\n",
       "0             1             0     3.492188           0  2.918597e+09   \n",
       "1             0             0     0.000000           0  2.931884e+09   \n",
       "2             0             0     0.000000           1  0.000000e+00   \n",
       "3             0             0     0.000000           1  2.337255e+09   \n",
       "4             0             0     0.000000           1  0.000000e+00   \n",
       "\n",
       "    median_diff  past_buy  purchase_counts  session_id  \n",
       "0  2.670147e+09         0                1        33.0  \n",
       "1  2.973545e+09         0                0         3.0  \n",
       "2  0.000000e+00         0                0         0.0  \n",
       "3  2.337667e+09         0                0         1.0  \n",
       "4  0.000000e+00         0                0         0.0  \n",
       "\n",
       "[5 rows x 285 columns]"
      ]
     },
     "execution_count": 84,
     "metadata": {},
     "output_type": "execute_result"
    }
   ],
   "source": [
    "X_test.head()"
   ]
  },
  {
   "cell_type": "code",
   "execution_count": 88,
   "metadata": {},
   "outputs": [],
   "source": [
    "pred_1 = gbm_1.predict_proba(X_test)\n",
    "pred_2 = gbm_2.predict_proba(X_test)\n",
    "\n",
    "test_feat[\"user_purchase_binary_7_days\"] = pd.DataFrame(pred_1[:,-1])\n",
    "test_feat[\"user_purchase_binary_14_days\"] = pd.DataFrame(pred_2[:,-1])"
   ]
  },
  {
   "cell_type": "code",
   "execution_count": 90,
   "metadata": {},
   "outputs": [],
   "source": [
    "submission = sample[['user_id_hash']].merge(test_feat[['user_id_hash','user_purchase_binary_7_days',\\\n",
    "                                             'user_purchase_binary_14_days']],on='user_id_hash',\\\n",
    "                               how='left')\n",
    "# for users do not have previous data, mark as 0\n",
    "submission = submission.fillna(0)"
   ]
  },
  {
   "cell_type": "code",
   "execution_count": 91,
   "metadata": {},
   "outputs": [
    {
     "data": {
      "text/html": [
       "<div>\n",
       "<style scoped>\n",
       "    .dataframe tbody tr th:only-of-type {\n",
       "        vertical-align: middle;\n",
       "    }\n",
       "\n",
       "    .dataframe tbody tr th {\n",
       "        vertical-align: top;\n",
       "    }\n",
       "\n",
       "    .dataframe thead th {\n",
       "        text-align: right;\n",
       "    }\n",
       "</style>\n",
       "<table border=\"1\" class=\"dataframe\">\n",
       "  <thead>\n",
       "    <tr style=\"text-align: right;\">\n",
       "      <th></th>\n",
       "      <th>user_id_hash</th>\n",
       "      <th>user_purchase_binary_7_days</th>\n",
       "      <th>user_purchase_binary_14_days</th>\n",
       "    </tr>\n",
       "  </thead>\n",
       "  <tbody>\n",
       "    <tr>\n",
       "      <th>0</th>\n",
       "      <td>e469dfaed039ead9110165d9bc457acb11609ca34057dc...</td>\n",
       "      <td>0.010551</td>\n",
       "      <td>0.153194</td>\n",
       "    </tr>\n",
       "    <tr>\n",
       "      <th>1</th>\n",
       "      <td>afcc639a324b6c598ef83d360450afa011cb2dd1358bf9...</td>\n",
       "      <td>0.001379</td>\n",
       "      <td>0.000908</td>\n",
       "    </tr>\n",
       "    <tr>\n",
       "      <th>2</th>\n",
       "      <td>fd5a7cf211d08e3e00f7be6a9df6e6ea3d2e5c22a5d9c3...</td>\n",
       "      <td>0.002738</td>\n",
       "      <td>0.035859</td>\n",
       "    </tr>\n",
       "    <tr>\n",
       "      <th>3</th>\n",
       "      <td>fd5a7cf211d08e3e00f7be6a9df6e6ea3d2e5c22a5d9c3...</td>\n",
       "      <td>0.002738</td>\n",
       "      <td>0.035859</td>\n",
       "    </tr>\n",
       "    <tr>\n",
       "      <th>4</th>\n",
       "      <td>00bfff98b9d0329f014c2eeac7ce47cd18b2bc6e10d608...</td>\n",
       "      <td>0.001407</td>\n",
       "      <td>0.000906</td>\n",
       "    </tr>\n",
       "  </tbody>\n",
       "</table>\n",
       "</div>"
      ],
      "text/plain": [
       "                                        user_id_hash  \\\n",
       "0  e469dfaed039ead9110165d9bc457acb11609ca34057dc...   \n",
       "1  afcc639a324b6c598ef83d360450afa011cb2dd1358bf9...   \n",
       "2  fd5a7cf211d08e3e00f7be6a9df6e6ea3d2e5c22a5d9c3...   \n",
       "3  fd5a7cf211d08e3e00f7be6a9df6e6ea3d2e5c22a5d9c3...   \n",
       "4  00bfff98b9d0329f014c2eeac7ce47cd18b2bc6e10d608...   \n",
       "\n",
       "   user_purchase_binary_7_days  user_purchase_binary_14_days  \n",
       "0                     0.010551                      0.153194  \n",
       "1                     0.001379                      0.000908  \n",
       "2                     0.002738                      0.035859  \n",
       "3                     0.002738                      0.035859  \n",
       "4                     0.001407                      0.000906  "
      ]
     },
     "execution_count": 91,
     "metadata": {},
     "output_type": "execute_result"
    }
   ],
   "source": [
    "submission.head()"
   ]
  },
  {
   "cell_type": "code",
   "execution_count": 92,
   "metadata": {},
   "outputs": [],
   "source": [
    "submission.to_csv(os.path.expanduser(\"~/USF/adv_ml/final/submission_masha.csv\"),index = False)"
   ]
  },
  {
   "cell_type": "code",
   "execution_count": null,
   "metadata": {},
   "outputs": [],
   "source": []
  }
 ],
 "metadata": {
  "kernelspec": {
   "display_name": "Python 3",
   "language": "python",
   "name": "python3"
  },
  "language_info": {
   "codemirror_mode": {
    "name": "ipython",
    "version": 3
   },
   "file_extension": ".py",
   "mimetype": "text/x-python",
   "name": "python",
   "nbconvert_exporter": "python",
   "pygments_lexer": "ipython3",
   "version": "3.6.8"
  }
 },
 "nbformat": 4,
 "nbformat_minor": 2
}
