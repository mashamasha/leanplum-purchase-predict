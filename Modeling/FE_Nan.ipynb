{
 "cells": [
  {
   "cell_type": "code",
   "execution_count": 2,
   "metadata": {
    "ExecuteTime": {
     "end_time": "2019-02-23T06:15:50.544511Z",
     "start_time": "2019-02-23T06:15:49.121743Z"
    }
   },
   "outputs": [],
   "source": [
    "import numpy as np\n",
    "import pandas as pd\n",
    "import pickle\n",
    "import xgboost"
   ]
  },
  {
   "cell_type": "code",
   "execution_count": 104,
   "metadata": {
    "ExecuteTime": {
     "end_time": "2019-02-23T09:20:54.753193Z",
     "start_time": "2019-02-23T09:20:54.660216Z"
    }
   },
   "outputs": [],
   "source": [
    "import lightgbm as lgb\n",
    "from xgboost.sklearn import XGBClassifier\n",
    "\n",
    "#warnings.filterwarnings('ignore')\n",
    "from sklearn.ensemble import RandomForestClassifier, VotingClassifier\n",
    "from sklearn.metrics import roc_curve, auc, accuracy_score, roc_auc_score, f1_score, confusion_matrix, precision_recall_curve"
   ]
  },
  {
   "cell_type": "code",
   "execution_count": 107,
   "metadata": {
    "ExecuteTime": {
     "end_time": "2019-02-23T09:22:17.819931Z",
     "start_time": "2019-02-23T09:22:17.815173Z"
    }
   },
   "outputs": [],
   "source": [
    "import warnings\n",
    "warnings.filterwarnings('ignore')\n",
    "import numpy as np\n",
    "from collections import Counter, defaultdict\n",
    "from random import choice\n"
   ]
  },
  {
   "cell_type": "markdown",
   "metadata": {},
   "source": [
    "### load data"
   ]
  },
  {
   "cell_type": "code",
   "execution_count": 3,
   "metadata": {
    "ExecuteTime": {
     "end_time": "2019-02-23T06:16:09.720627Z",
     "start_time": "2019-02-23T06:15:53.651597Z"
    }
   },
   "outputs": [
    {
     "name": "stderr",
     "output_type": "stream",
     "text": [
      "/anaconda3/envs/ml/lib/python3.6/site-packages/ipykernel_launcher.py:3: FutureWarning: 'pandas.core' is private. Use 'pandas.Categorical'\n",
      "  This is separate from the ipykernel package so we can avoid doing imports until\n"
     ]
    }
   ],
   "source": [
    "# sessions\n",
    "with open (\"/Users/nanlin/msds/Adv_ML/leanplum/data/LeanPlum/session.pkl\", \"rb\") as f:\n",
    "    sessions = pickle.load(f)\n",
    "\n",
    "# event\n",
    "with open (\"/Users/nanlin/msds/Adv_ML/leanplum/data/LeanPlum/events.pkl\", \"rb\") as f:\n",
    "    events = pickle.load(f)\n",
    "\n",
    "# choose certain columns    \n",
    "session_df = sessions[[\"user_id_hash\", \"previous_sessions_duration\"]]\n",
    "event_df = events[[\"user_id_hash\", \"event_timestamp\", \"event\", \"event_value\"]] "
   ]
  },
  {
   "cell_type": "code",
   "execution_count": null,
   "metadata": {},
   "outputs": [],
   "source": []
  },
  {
   "cell_type": "markdown",
   "metadata": {},
   "source": [
    "## label data "
   ]
  },
  {
   "cell_type": "markdown",
   "metadata": {},
   "source": [
    "Labels:\n",
    "We divide the given dataset into training dataset and validation dataset by a cutoff date: Oct 14"
   ]
  },
  {
   "cell_type": "code",
   "execution_count": 4,
   "metadata": {
    "ExecuteTime": {
     "end_time": "2019-02-23T06:16:12.234258Z",
     "start_time": "2019-02-23T06:16:09.723214Z"
    }
   },
   "outputs": [],
   "source": [
    "# get unique user list \n",
    "users = pd.DataFrame(list(events.user_id_hash.unique()))\n",
    "users.columns = [\"user_id_hash\"]"
   ]
  },
  {
   "cell_type": "markdown",
   "metadata": {},
   "source": [
    "#### Use Dec-1 to Dec-7 and Dec-1 to Dec-14 to get labels for the validation set"
   ]
  },
  {
   "cell_type": "code",
   "execution_count": 6,
   "metadata": {
    "ExecuteTime": {
     "end_time": "2019-02-23T06:19:53.500519Z",
     "start_time": "2019-02-23T06:19:49.226607Z"
    }
   },
   "outputs": [],
   "source": [
    "# first validation label\n",
    "\n",
    "dec_event = event_df[(event_df[\"event_timestamp\"] >= 1543651199000) & \n",
    "                  (event_df[\"event_timestamp\"] < 1544255999000)]\n",
    "\n",
    "puser1 = set(dec_event[dec_event[\"event\"] == \"8\"].user_id_hash.unique())\n",
    "# for validation, the users include all unique users\n",
    "users_val = users\n",
    "\n",
    "labels1 = []\n",
    "for user in list(events.user_id_hash.unique()):\n",
    "    if user in puser1:\n",
    "        labels1.append(1)\n",
    "    else:\n",
    "        labels1.append(0)\n",
    "# label and add to val\n",
    "users_val[\"purchased1\"] = pd.DataFrame(labels1)"
   ]
  },
  {
   "cell_type": "code",
   "execution_count": 8,
   "metadata": {
    "ExecuteTime": {
     "end_time": "2019-02-23T06:22:44.473165Z",
     "start_time": "2019-02-23T06:22:41.516013Z"
    }
   },
   "outputs": [],
   "source": [
    "# second validation label\n",
    "\n",
    "dec2_event = event_df[(event_df[\"event_timestamp\"] >= 1544255999000)]\n",
    "puser2 = set(dec2_event[dec2_event[\"event\"] == \"8\"].user_id_hash.unique())\n",
    "\n",
    "labels2 = []\n",
    "for user in list(events.user_id_hash.unique()):\n",
    "    if user in puser2:\n",
    "        labels2.append(1)\n",
    "    else:\n",
    "        labels2.append(0)\n",
    "\n",
    "users_val[\"purchased2\"] = pd.DataFrame(labels2)\n"
   ]
  },
  {
   "cell_type": "markdown",
   "metadata": {},
   "source": [
    "#### training labels"
   ]
  },
  {
   "cell_type": "code",
   "execution_count": 10,
   "metadata": {
    "ExecuteTime": {
     "end_time": "2019-02-23T06:32:34.651758Z",
     "start_time": "2019-02-23T06:32:28.363394Z"
    }
   },
   "outputs": [],
   "source": [
    "# first training label\n",
    "nov_event = event_df[(event_df[\"event_timestamp\"] >= 1539586800000) &  #Mon Oct 15 2018 00:00:00 GMT-0700\n",
    "                     (event_df[\"event_timestamp\"] < 1543651199000)] # Fri Nov 30 2018 23:59:59 GMT-0800\n",
    "\n",
    "puser1 = set(nov_event[nov_event[\"event\"] == \"8\"].user_id_hash.unique())\n",
    "users_train = users\n",
    "labels1 = []\n",
    "\n",
    "for user in list(events.user_id_hash.unique()):\n",
    "    if user in puser1:\n",
    "        labels1.append(1)\n",
    "    else:\n",
    "        labels1.append(0)\n",
    "\n",
    "users_train[\"purchased1\"] = pd.DataFrame(labels1)"
   ]
  },
  {
   "cell_type": "code",
   "execution_count": 11,
   "metadata": {
    "ExecuteTime": {
     "end_time": "2019-02-23T06:32:40.096269Z",
     "start_time": "2019-02-23T06:32:36.680384Z"
    }
   },
   "outputs": [
    {
     "data": {
      "text/html": [
       "<div>\n",
       "<style scoped>\n",
       "    .dataframe tbody tr th:only-of-type {\n",
       "        vertical-align: middle;\n",
       "    }\n",
       "\n",
       "    .dataframe tbody tr th {\n",
       "        vertical-align: top;\n",
       "    }\n",
       "\n",
       "    .dataframe thead th {\n",
       "        text-align: right;\n",
       "    }\n",
       "</style>\n",
       "<table border=\"1\" class=\"dataframe\">\n",
       "  <thead>\n",
       "    <tr style=\"text-align: right;\">\n",
       "      <th></th>\n",
       "      <th>user_id_hash</th>\n",
       "      <th>purchased1</th>\n",
       "      <th>purchased2</th>\n",
       "    </tr>\n",
       "  </thead>\n",
       "  <tbody>\n",
       "    <tr>\n",
       "      <th>0</th>\n",
       "      <td>9943447915df3a45fd6720a026af905b6da6b56a37701b...</td>\n",
       "      <td>1</td>\n",
       "      <td>1</td>\n",
       "    </tr>\n",
       "    <tr>\n",
       "      <th>1</th>\n",
       "      <td>43f75f8042d3c80c45e222bdd09267f4584684c54d6fae...</td>\n",
       "      <td>0</td>\n",
       "      <td>0</td>\n",
       "    </tr>\n",
       "    <tr>\n",
       "      <th>2</th>\n",
       "      <td>999524249720812f2d8c0390293efd58e1ac84d587a01c...</td>\n",
       "      <td>0</td>\n",
       "      <td>0</td>\n",
       "    </tr>\n",
       "    <tr>\n",
       "      <th>3</th>\n",
       "      <td>4e6bc35cf7fd79a5312047651e7865915f4a6bec193cf2...</td>\n",
       "      <td>0</td>\n",
       "      <td>0</td>\n",
       "    </tr>\n",
       "    <tr>\n",
       "      <th>4</th>\n",
       "      <td>dc009148ee26d658e0240c7b7f6a258790a457737f96e8...</td>\n",
       "      <td>0</td>\n",
       "      <td>0</td>\n",
       "    </tr>\n",
       "  </tbody>\n",
       "</table>\n",
       "</div>"
      ],
      "text/plain": [
       "                                        user_id_hash  purchased1  purchased2\n",
       "0  9943447915df3a45fd6720a026af905b6da6b56a37701b...           1           1\n",
       "1  43f75f8042d3c80c45e222bdd09267f4584684c54d6fae...           0           0\n",
       "2  999524249720812f2d8c0390293efd58e1ac84d587a01c...           0           0\n",
       "3  4e6bc35cf7fd79a5312047651e7865915f4a6bec193cf2...           0           0\n",
       "4  dc009148ee26d658e0240c7b7f6a258790a457737f96e8...           0           0"
      ]
     },
     "execution_count": 11,
     "metadata": {},
     "output_type": "execute_result"
    }
   ],
   "source": [
    "# second training label\n",
    "\n",
    "nov2_event = event_df[(event_df[\"event_timestamp\"] >= 1542268800000) & #Thu Nov 15 2018 00:00:00 GMT-0800\n",
    "                      (event_df[\"event_timestamp\"] < 1543478400000)] #\n",
    "puser2 = set(event_df[event_df[\"event\"] == \"8\"].user_id_hash.unique())\n",
    "labels2 = []\n",
    "\n",
    "for user in list(events.user_id_hash.unique()):\n",
    "    if user in puser2:\n",
    "        labels2.append(1)\n",
    "    else:\n",
    "        labels2.append(0)\n",
    "\n",
    "users_train[\"purchased2\"] = pd.DataFrame(labels2)\n",
    "\n",
    "users_train.head()"
   ]
  },
  {
   "cell_type": "markdown",
   "metadata": {},
   "source": [
    "Feature List:\n",
    "1. total event value\n",
    "2. number of purchase\n",
    "3. whether or not purchase\n",
    "4. total count of different events in event\n",
    "5. median, last event time difference to our cutoff time\n",
    "6. "
   ]
  },
  {
   "cell_type": "code",
   "execution_count": 23,
   "metadata": {
    "ExecuteTime": {
     "end_time": "2019-02-23T06:52:26.718935Z",
     "start_time": "2019-02-23T06:52:26.539863Z"
    }
   },
   "outputs": [],
   "source": [
    "nov_e2 = nov_event[nov_event[\"event\"]==\"8\"][[\"user_id_hash\", \"event_value\"]].\\\n",
    "                groupby(\"user_id_hash\").sum().reset_index()"
   ]
  },
  {
   "cell_type": "code",
   "execution_count": 155,
   "metadata": {
    "ExecuteTime": {
     "end_time": "2019-02-23T09:48:22.403573Z",
     "start_time": "2019-02-23T09:48:21.493409Z"
    }
   },
   "outputs": [],
   "source": [
    "event_list = event_df.event.value_counts()[:50].index"
   ]
  },
  {
   "cell_type": "code",
   "execution_count": 159,
   "metadata": {
    "ExecuteTime": {
     "end_time": "2019-02-23T09:49:28.366424Z",
     "start_time": "2019-02-23T09:49:28.350683Z"
    }
   },
   "outputs": [],
   "source": [
    "def features_event(val_raw,val_user,cut_time):\n",
    "    \n",
    "    # feature 1: event value of purchase\n",
    "    eventvalue = val_raw[val_raw[\"event\"]==\"8\"][[\"user_id_hash\", \"event_value\"]].\\\n",
    "                groupby(\"user_id_hash\").sum().reset_index()\n",
    "    result = val_user.join(eventvalue.set_index(\"user_id_hash\"), on=\"user_id_hash\", how=\"left\")\n",
    "    \n",
    "    # feature 2: number of purchase\n",
    "    purchase_times = val_raw[val_raw[\"event\"]==\"8\"].groupby(\"user_id_hash\")\\\n",
    "                    .size().reset_index(name='purchase_counts')\n",
    "    result = result.join(purchase_times.set_index(\"user_id_hash\"), on=\"user_id_hash\", how=\"left\")\n",
    "    \n",
    "    # feature 3: avg previous sessions\n",
    "        df = df.groupby(\"user_id_hash\")[\"previous_sessions_duration\"] \\\n",
    "         .agg('mean').reset_index(name='avg_duration')\n",
    "    return df\n",
    "    upre_ = set(nov_event[nov_event['event']=='8'].user_id_hash)\n",
    "    result['past_buy'] = [1 if uid in user_purd else 0 for uid in result['user_id_hash']]\n",
    "    \n",
    "    # feature 4: total count of different events in event: top 50 events\n",
    "    event_list = ['45', '1', '5', '6', '14', '4', '40', '7', '41', '3', '42',\n",
    "                  '.a5027911885258752', '.a5400102822346752', '44',\n",
    "                  '.a5516611293544448', '0', '63', '47', '57', '8', '55',\n",
    "                  '.m5295687445250048', '.a5061295285075968', '50', '9',\n",
    "                  '.m6311698772393984', '11', '64', '.a5686782234722304', '54',\n",
    "                  '.m5295687445250048 Accept', '.a5008055943430144',\n",
    "                  '.m6311588362059776', '.m5100869650219008',\n",
    "                  '.m6335456823869440', '.a5933275901722624', '43',\n",
    "                  '.m5295687445250048 Held Back', '49', '.m5925072799399936',\n",
    "                  '48', '56', '52', '59', '60', '.m6311698772393984 Accept',\n",
    "                  '58', '.m5100869650219008 Accept',\n",
    "                  '.m6311588362059776 Accept', '.m4609541589565440']\n",
    "        \n",
    "    for e in event_list:\n",
    "        event_tmp = val_raw[val_raw[\"event\"]==e].groupby(\"user_id_hash\").size().reset_index(name=f'event{e}_count')\n",
    "        result = result.join(event_tmp.set_index(\"user_id_hash\"), on=\"user_id_hash\", how=\"left\")\n",
    "    \n",
    "    # feature 5: median, last event time difference to cutoff time\n",
    "    first_last = val_raw.groupby(\"user_id_hash\")['event_timestamp'].agg(['median','last']).reset_index()\n",
    "    first_last['median_diff'] = cut_time - first_last['median']\n",
    "    first_last['last_diff'] = cut_time - first_last['last']\n",
    "    first_last['user_id_hash'] = first_last['user_id_hash'].astype(str)\n",
    "    result = result.join(first_last[['user_id_hash','median_diff','last_diff']].set_index(\"user_id_hash\"),on=\"user_id_hash\", how=\"left\")\n",
    "    \n",
    "    # feature 6: total previous time spent captured by sessions\n",
    "    \n",
    "    \n",
    "    return result"
   ]
  },
  {
   "cell_type": "code",
   "execution_count": null,
   "metadata": {},
   "outputs": [],
   "source": [
    "### Feature for validation/training events"
   ]
  },
  {
   "cell_type": "code",
   "execution_count": null,
   "metadata": {
    "ExecuteTime": {
     "start_time": "2019-02-23T09:49:30.030Z"
    }
   },
   "outputs": [],
   "source": [
    "val_raw = event_df[(event_df[\"event_timestamp\"] >= 1539586800000) & \n",
    "                   (event_df[\"event_timestamp\"] < 1543651199000)]\n",
    "val_feature = features_event(val_raw,users_val,1543651199000)\n",
    "val_feature = val_feature.apply(lambda x: x.fillna(0))"
   ]
  },
  {
   "cell_type": "code",
   "execution_count": null,
   "metadata": {
    "ExecuteTime": {
     "end_time": "2019-02-23T09:39:33.696352Z",
     "start_time": "2019-02-23T09:39:17.663Z"
    }
   },
   "outputs": [],
   "source": [
    "train_raw = event_df[(event_df[\"event_timestamp\"] < 1542268800000)]\n",
    "train_feature = features_event(train_raw,users_train,1542268800000)\n",
    "train_feature = train_feature.apply(lambda x: x.fillna(0))"
   ]
  },
  {
   "cell_type": "code",
   "execution_count": 122,
   "metadata": {
    "ExecuteTime": {
     "end_time": "2019-02-23T09:35:16.632401Z",
     "start_time": "2019-02-23T09:35:16.590911Z"
    }
   },
   "outputs": [
    {
     "data": {
      "text/html": [
       "<div>\n",
       "<style scoped>\n",
       "    .dataframe tbody tr th:only-of-type {\n",
       "        vertical-align: middle;\n",
       "    }\n",
       "\n",
       "    .dataframe tbody tr th {\n",
       "        vertical-align: top;\n",
       "    }\n",
       "\n",
       "    .dataframe thead th {\n",
       "        text-align: right;\n",
       "    }\n",
       "</style>\n",
       "<table border=\"1\" class=\"dataframe\">\n",
       "  <thead>\n",
       "    <tr style=\"text-align: right;\">\n",
       "      <th></th>\n",
       "      <th>user_id_hash</th>\n",
       "      <th>purchased1</th>\n",
       "      <th>purchased2</th>\n",
       "      <th>event_value</th>\n",
       "      <th>purchase_counts</th>\n",
       "      <th>past_buy</th>\n",
       "      <th>event.m6335456823869440 Accept_count</th>\n",
       "      <th>event.m6335456823869440_count</th>\n",
       "      <th>event54_count</th>\n",
       "      <th>event57_count</th>\n",
       "      <th>...</th>\n",
       "      <th>event.a5686782234722304_count</th>\n",
       "      <th>event.m6311698772393984_count</th>\n",
       "      <th>event.a5400102822346752_count</th>\n",
       "      <th>event.a5933275901722624_count</th>\n",
       "      <th>event48_count</th>\n",
       "      <th>event3_count</th>\n",
       "      <th>event64_count</th>\n",
       "      <th>event.m4609541589565440 Accept_count</th>\n",
       "      <th>median_diff</th>\n",
       "      <th>last_diff</th>\n",
       "    </tr>\n",
       "  </thead>\n",
       "  <tbody>\n",
       "    <tr>\n",
       "      <th>0</th>\n",
       "      <td>9943447915df3a45fd6720a026af905b6da6b56a37701b...</td>\n",
       "      <td>1</td>\n",
       "      <td>1</td>\n",
       "      <td>3.492188</td>\n",
       "      <td>1</td>\n",
       "      <td>1</td>\n",
       "      <td>0</td>\n",
       "      <td>1</td>\n",
       "      <td>0</td>\n",
       "      <td>0</td>\n",
       "      <td>...</td>\n",
       "      <td>0</td>\n",
       "      <td>0</td>\n",
       "      <td>1</td>\n",
       "      <td>1</td>\n",
       "      <td>0</td>\n",
       "      <td>0</td>\n",
       "      <td>0</td>\n",
       "      <td>0</td>\n",
       "      <td>2.162291e+09</td>\n",
       "      <td>3.265969e+08</td>\n",
       "    </tr>\n",
       "    <tr>\n",
       "      <th>1</th>\n",
       "      <td>43f75f8042d3c80c45e222bdd09267f4584684c54d6fae...</td>\n",
       "      <td>0</td>\n",
       "      <td>0</td>\n",
       "      <td>0.000000</td>\n",
       "      <td>0</td>\n",
       "      <td>0</td>\n",
       "      <td>0</td>\n",
       "      <td>0</td>\n",
       "      <td>0</td>\n",
       "      <td>0</td>\n",
       "      <td>...</td>\n",
       "      <td>0</td>\n",
       "      <td>0</td>\n",
       "      <td>1</td>\n",
       "      <td>0</td>\n",
       "      <td>0</td>\n",
       "      <td>1</td>\n",
       "      <td>0</td>\n",
       "      <td>0</td>\n",
       "      <td>3.815455e+08</td>\n",
       "      <td>3.398837e+08</td>\n",
       "    </tr>\n",
       "    <tr>\n",
       "      <th>2</th>\n",
       "      <td>999524249720812f2d8c0390293efd58e1ac84d587a01c...</td>\n",
       "      <td>0</td>\n",
       "      <td>0</td>\n",
       "      <td>0.000000</td>\n",
       "      <td>0</td>\n",
       "      <td>0</td>\n",
       "      <td>0</td>\n",
       "      <td>0</td>\n",
       "      <td>0</td>\n",
       "      <td>0</td>\n",
       "      <td>...</td>\n",
       "      <td>0</td>\n",
       "      <td>0</td>\n",
       "      <td>1</td>\n",
       "      <td>0</td>\n",
       "      <td>0</td>\n",
       "      <td>0</td>\n",
       "      <td>0</td>\n",
       "      <td>0</td>\n",
       "      <td>2.438209e+09</td>\n",
       "      <td>2.437954e+09</td>\n",
       "    </tr>\n",
       "    <tr>\n",
       "      <th>3</th>\n",
       "      <td>4e6bc35cf7fd79a5312047651e7865915f4a6bec193cf2...</td>\n",
       "      <td>0</td>\n",
       "      <td>0</td>\n",
       "      <td>0.000000</td>\n",
       "      <td>0</td>\n",
       "      <td>0</td>\n",
       "      <td>0</td>\n",
       "      <td>0</td>\n",
       "      <td>0</td>\n",
       "      <td>0</td>\n",
       "      <td>...</td>\n",
       "      <td>0</td>\n",
       "      <td>0</td>\n",
       "      <td>0</td>\n",
       "      <td>0</td>\n",
       "      <td>0</td>\n",
       "      <td>0</td>\n",
       "      <td>0</td>\n",
       "      <td>0</td>\n",
       "      <td>0.000000e+00</td>\n",
       "      <td>0.000000e+00</td>\n",
       "    </tr>\n",
       "    <tr>\n",
       "      <th>4</th>\n",
       "      <td>dc009148ee26d658e0240c7b7f6a258790a457737f96e8...</td>\n",
       "      <td>0</td>\n",
       "      <td>0</td>\n",
       "      <td>0.000000</td>\n",
       "      <td>0</td>\n",
       "      <td>0</td>\n",
       "      <td>0</td>\n",
       "      <td>0</td>\n",
       "      <td>0</td>\n",
       "      <td>0</td>\n",
       "      <td>...</td>\n",
       "      <td>0</td>\n",
       "      <td>0</td>\n",
       "      <td>1</td>\n",
       "      <td>0</td>\n",
       "      <td>0</td>\n",
       "      <td>0</td>\n",
       "      <td>0</td>\n",
       "      <td>0</td>\n",
       "      <td>2.045302e+09</td>\n",
       "      <td>1.902918e+09</td>\n",
       "    </tr>\n",
       "  </tbody>\n",
       "</table>\n",
       "<p>5 rows × 65 columns</p>\n",
       "</div>"
      ],
      "text/plain": [
       "                                        user_id_hash  purchased1  purchased2  \\\n",
       "0  9943447915df3a45fd6720a026af905b6da6b56a37701b...           1           1   \n",
       "1  43f75f8042d3c80c45e222bdd09267f4584684c54d6fae...           0           0   \n",
       "2  999524249720812f2d8c0390293efd58e1ac84d587a01c...           0           0   \n",
       "3  4e6bc35cf7fd79a5312047651e7865915f4a6bec193cf2...           0           0   \n",
       "4  dc009148ee26d658e0240c7b7f6a258790a457737f96e8...           0           0   \n",
       "\n",
       "   event_value  purchase_counts  past_buy  \\\n",
       "0     3.492188                1         1   \n",
       "1     0.000000                0         0   \n",
       "2     0.000000                0         0   \n",
       "3     0.000000                0         0   \n",
       "4     0.000000                0         0   \n",
       "\n",
       "   event.m6335456823869440 Accept_count  event.m6335456823869440_count  \\\n",
       "0                                     0                              1   \n",
       "1                                     0                              0   \n",
       "2                                     0                              0   \n",
       "3                                     0                              0   \n",
       "4                                     0                              0   \n",
       "\n",
       "   event54_count  event57_count  ...  event.a5686782234722304_count  \\\n",
       "0              0              0  ...                              0   \n",
       "1              0              0  ...                              0   \n",
       "2              0              0  ...                              0   \n",
       "3              0              0  ...                              0   \n",
       "4              0              0  ...                              0   \n",
       "\n",
       "   event.m6311698772393984_count  event.a5400102822346752_count  \\\n",
       "0                              0                              1   \n",
       "1                              0                              1   \n",
       "2                              0                              1   \n",
       "3                              0                              0   \n",
       "4                              0                              1   \n",
       "\n",
       "   event.a5933275901722624_count  event48_count  event3_count  event64_count  \\\n",
       "0                              1              0             0              0   \n",
       "1                              0              0             1              0   \n",
       "2                              0              0             0              0   \n",
       "3                              0              0             0              0   \n",
       "4                              0              0             0              0   \n",
       "\n",
       "   event.m4609541589565440 Accept_count   median_diff     last_diff  \n",
       "0                                     0  2.162291e+09  3.265969e+08  \n",
       "1                                     0  3.815455e+08  3.398837e+08  \n",
       "2                                     0  2.438209e+09  2.437954e+09  \n",
       "3                                     0  0.000000e+00  0.000000e+00  \n",
       "4                                     0  2.045302e+09  1.902918e+09  \n",
       "\n",
       "[5 rows x 65 columns]"
      ]
     },
     "execution_count": 122,
     "metadata": {},
     "output_type": "execute_result"
    }
   ],
   "source": [
    "train_feature.head()"
   ]
  },
  {
   "cell_type": "code",
   "execution_count": 115,
   "metadata": {
    "ExecuteTime": {
     "end_time": "2019-02-23T09:29:35.430045Z",
     "start_time": "2019-02-23T09:29:35.159542Z"
    }
   },
   "outputs": [],
   "source": [
    "X_train = train_feature[train_feature.columns.difference(['purchased1','purchased1','user_id_hash'])]\n",
    "y_train_1 = train_feature[[\"purchased1\"]]\n",
    "y_train_2 = train_feature[[\"purchased2\"]]"
   ]
  },
  {
   "cell_type": "code",
   "execution_count": 116,
   "metadata": {
    "ExecuteTime": {
     "end_time": "2019-02-23T09:29:35.877499Z",
     "start_time": "2019-02-23T09:29:35.630799Z"
    }
   },
   "outputs": [],
   "source": [
    "X_val = val_feature[val_feature.columns.difference([\"purchased1\",\"purchased2\",'user_id_hash'])]\n",
    "y_val_1 = val_feature[['purchased1']]\n",
    "y_val_2 = val_feature[['purchased2']]"
   ]
  },
  {
   "cell_type": "code",
   "execution_count": 118,
   "metadata": {
    "ExecuteTime": {
     "end_time": "2019-02-23T09:30:56.092052Z",
     "start_time": "2019-02-23T09:30:56.069154Z"
    }
   },
   "outputs": [
    {
     "data": {
      "text/html": [
       "<div>\n",
       "<style scoped>\n",
       "    .dataframe tbody tr th:only-of-type {\n",
       "        vertical-align: middle;\n",
       "    }\n",
       "\n",
       "    .dataframe tbody tr th {\n",
       "        vertical-align: top;\n",
       "    }\n",
       "\n",
       "    .dataframe thead th {\n",
       "        text-align: right;\n",
       "    }\n",
       "</style>\n",
       "<table border=\"1\" class=\"dataframe\">\n",
       "  <thead>\n",
       "    <tr style=\"text-align: right;\">\n",
       "      <th></th>\n",
       "      <th>event.a5008055943430144_count</th>\n",
       "      <th>event.a5027911885258752_count</th>\n",
       "      <th>event.a5061295285075968_count</th>\n",
       "      <th>event.a5400102822346752_count</th>\n",
       "      <th>event.a5516611293544448_count</th>\n",
       "      <th>event.a5523274289512448_count</th>\n",
       "      <th>event.a5686782234722304_count</th>\n",
       "      <th>event.a5933275901722624_count</th>\n",
       "      <th>event.m4609541589565440 Accept_count</th>\n",
       "      <th>event.m4609541589565440 Held Back_count</th>\n",
       "      <th>...</th>\n",
       "      <th>event64_count</th>\n",
       "      <th>event6_count</th>\n",
       "      <th>event7_count</th>\n",
       "      <th>event8_count</th>\n",
       "      <th>event9_count</th>\n",
       "      <th>event_value</th>\n",
       "      <th>last_diff</th>\n",
       "      <th>median_diff</th>\n",
       "      <th>past_buy</th>\n",
       "      <th>purchase_counts</th>\n",
       "    </tr>\n",
       "  </thead>\n",
       "  <tbody>\n",
       "    <tr>\n",
       "      <th>0</th>\n",
       "      <td>0</td>\n",
       "      <td>0</td>\n",
       "      <td>0</td>\n",
       "      <td>0</td>\n",
       "      <td>0</td>\n",
       "      <td>0</td>\n",
       "      <td>0</td>\n",
       "      <td>0</td>\n",
       "      <td>0</td>\n",
       "      <td>0</td>\n",
       "      <td>...</td>\n",
       "      <td>0</td>\n",
       "      <td>16</td>\n",
       "      <td>5</td>\n",
       "      <td>1</td>\n",
       "      <td>0</td>\n",
       "      <td>3.492188</td>\n",
       "      <td>1.708996e+09</td>\n",
       "      <td>1.524160e+09</td>\n",
       "      <td>1</td>\n",
       "      <td>1</td>\n",
       "    </tr>\n",
       "    <tr>\n",
       "      <th>1</th>\n",
       "      <td>0</td>\n",
       "      <td>1</td>\n",
       "      <td>0</td>\n",
       "      <td>1</td>\n",
       "      <td>0</td>\n",
       "      <td>0</td>\n",
       "      <td>0</td>\n",
       "      <td>0</td>\n",
       "      <td>0</td>\n",
       "      <td>0</td>\n",
       "      <td>...</td>\n",
       "      <td>0</td>\n",
       "      <td>3</td>\n",
       "      <td>2</td>\n",
       "      <td>0</td>\n",
       "      <td>0</td>\n",
       "      <td>0.000000</td>\n",
       "      <td>1.722283e+09</td>\n",
       "      <td>1.763944e+09</td>\n",
       "      <td>0</td>\n",
       "      <td>0</td>\n",
       "    </tr>\n",
       "    <tr>\n",
       "      <th>2</th>\n",
       "      <td>0</td>\n",
       "      <td>1</td>\n",
       "      <td>1</td>\n",
       "      <td>1</td>\n",
       "      <td>0</td>\n",
       "      <td>0</td>\n",
       "      <td>0</td>\n",
       "      <td>0</td>\n",
       "      <td>0</td>\n",
       "      <td>0</td>\n",
       "      <td>...</td>\n",
       "      <td>0</td>\n",
       "      <td>0</td>\n",
       "      <td>3</td>\n",
       "      <td>0</td>\n",
       "      <td>0</td>\n",
       "      <td>0.000000</td>\n",
       "      <td>3.820353e+09</td>\n",
       "      <td>3.820608e+09</td>\n",
       "      <td>0</td>\n",
       "      <td>0</td>\n",
       "    </tr>\n",
       "    <tr>\n",
       "      <th>3</th>\n",
       "      <td>0</td>\n",
       "      <td>1</td>\n",
       "      <td>0</td>\n",
       "      <td>1</td>\n",
       "      <td>1</td>\n",
       "      <td>0</td>\n",
       "      <td>0</td>\n",
       "      <td>0</td>\n",
       "      <td>0</td>\n",
       "      <td>0</td>\n",
       "      <td>...</td>\n",
       "      <td>0</td>\n",
       "      <td>0</td>\n",
       "      <td>0</td>\n",
       "      <td>0</td>\n",
       "      <td>0</td>\n",
       "      <td>0.000000</td>\n",
       "      <td>1.127654e+09</td>\n",
       "      <td>1.128066e+09</td>\n",
       "      <td>0</td>\n",
       "      <td>0</td>\n",
       "    </tr>\n",
       "    <tr>\n",
       "      <th>4</th>\n",
       "      <td>0</td>\n",
       "      <td>1</td>\n",
       "      <td>0</td>\n",
       "      <td>1</td>\n",
       "      <td>1</td>\n",
       "      <td>0</td>\n",
       "      <td>0</td>\n",
       "      <td>0</td>\n",
       "      <td>0</td>\n",
       "      <td>0</td>\n",
       "      <td>...</td>\n",
       "      <td>0</td>\n",
       "      <td>0</td>\n",
       "      <td>0</td>\n",
       "      <td>0</td>\n",
       "      <td>0</td>\n",
       "      <td>0.000000</td>\n",
       "      <td>3.285317e+09</td>\n",
       "      <td>3.427701e+09</td>\n",
       "      <td>0</td>\n",
       "      <td>0</td>\n",
       "    </tr>\n",
       "  </tbody>\n",
       "</table>\n",
       "<p>5 rows × 61 columns</p>\n",
       "</div>"
      ],
      "text/plain": [
       "   event.a5008055943430144_count  event.a5027911885258752_count  \\\n",
       "0                              0                              0   \n",
       "1                              0                              1   \n",
       "2                              0                              1   \n",
       "3                              0                              1   \n",
       "4                              0                              1   \n",
       "\n",
       "   event.a5061295285075968_count  event.a5400102822346752_count  \\\n",
       "0                              0                              0   \n",
       "1                              0                              1   \n",
       "2                              1                              1   \n",
       "3                              0                              1   \n",
       "4                              0                              1   \n",
       "\n",
       "   event.a5516611293544448_count  event.a5523274289512448_count  \\\n",
       "0                              0                              0   \n",
       "1                              0                              0   \n",
       "2                              0                              0   \n",
       "3                              1                              0   \n",
       "4                              1                              0   \n",
       "\n",
       "   event.a5686782234722304_count  event.a5933275901722624_count  \\\n",
       "0                              0                              0   \n",
       "1                              0                              0   \n",
       "2                              0                              0   \n",
       "3                              0                              0   \n",
       "4                              0                              0   \n",
       "\n",
       "   event.m4609541589565440 Accept_count  \\\n",
       "0                                     0   \n",
       "1                                     0   \n",
       "2                                     0   \n",
       "3                                     0   \n",
       "4                                     0   \n",
       "\n",
       "   event.m4609541589565440 Held Back_count  ...  event64_count  event6_count  \\\n",
       "0                                        0  ...              0            16   \n",
       "1                                        0  ...              0             3   \n",
       "2                                        0  ...              0             0   \n",
       "3                                        0  ...              0             0   \n",
       "4                                        0  ...              0             0   \n",
       "\n",
       "   event7_count  event8_count  event9_count  event_value     last_diff  \\\n",
       "0             5             1             0     3.492188  1.708996e+09   \n",
       "1             2             0             0     0.000000  1.722283e+09   \n",
       "2             3             0             0     0.000000  3.820353e+09   \n",
       "3             0             0             0     0.000000  1.127654e+09   \n",
       "4             0             0             0     0.000000  3.285317e+09   \n",
       "\n",
       "    median_diff  past_buy  purchase_counts  \n",
       "0  1.524160e+09         1                1  \n",
       "1  1.763944e+09         0                0  \n",
       "2  3.820608e+09         0                0  \n",
       "3  1.128066e+09         0                0  \n",
       "4  3.427701e+09         0                0  \n",
       "\n",
       "[5 rows x 61 columns]"
      ]
     },
     "execution_count": 118,
     "metadata": {},
     "output_type": "execute_result"
    }
   ],
   "source": [
    "X_val.head()"
   ]
  },
  {
   "cell_type": "markdown",
   "metadata": {},
   "source": [
    "## train with LGB model"
   ]
  },
  {
   "cell_type": "code",
   "execution_count": null,
   "metadata": {
    "ExecuteTime": {
     "end_time": "2019-02-23T09:29:46.100269Z",
     "start_time": "2019-02-23T09:29:38.065931Z"
    }
   },
   "outputs": [],
   "source": [
    "# loop for random search\n",
    "n_iterations=20\n",
    "\n",
    "print (\"Random search start...\")\n",
    "\n",
    "for col in ['model1_7day','model2_14day']:\n",
    "    print(f\"* training {col} \")\n",
    "    #y = target[col]\n",
    "    roc_auc_mean = []\n",
    "    dict_list = []\n",
    "    \n",
    "    for i in range(0, n_iterations):\n",
    "\n",
    "        param_dist = {'n_estimators' : choice([250,300,350,400,450]),\n",
    "                  'bagging_fraction': choice([0.5, 0.7, 0.8, 0.9]),\n",
    "                  'learning_rate': choice([0.05, 0.1, 0.3, 0.5]),\n",
    "                  'is_unbalance': True,\n",
    "                  'max_bin': choice([3, 5, 10, 15, 18, 20, 25]),\n",
    "                  'boosting_type' : choice(['gbdt', 'dart']),\n",
    "                  'max_depth': choice([2,3,4,5]),      \n",
    "                  'feature_fraction': choice([0.7, 0.8, 0.9]),\n",
    "                  'lambda_l1': choice([0, 10, 20, 30, 40]),\n",
    "                  'objective': 'binary', \n",
    "                  'metric': 'auc'} \n",
    "\n",
    "        roc_l = []\n",
    "        \n",
    "       # y_train_1,y_train_2,X_train\n",
    "       # y_val_1,y_val_2,X_val\n",
    "\n",
    "        #for train, test in kf.split(X_tf,y):\n",
    "\n",
    "        # training\n",
    "        if col == 'model1_7day':\n",
    "            y_train = y_train_1\n",
    "            y_val = y_val_1\n",
    "        else: \n",
    "            y_train = y_train_2\n",
    "            y_val = y_val_2\n",
    "            \n",
    "        gbm = lgb.LGBMClassifier(**param_dist)\n",
    "        gbm.fit(X_train,y_train)\n",
    "        # predicting\n",
    "        y_pred = np.round(gbm.predict_proba(X_val)[:,1],3)\n",
    "        \n",
    "        roc = roc_auc_score(y_val, y_pred)\n",
    "        roc_l.append(roc)\n",
    "\n",
    "        roc_array = np.asarray(roc_l)\n",
    "\n",
    "        roc_auc_mean.append(roc_array.mean())\n",
    "        dict_list.append(param_dist)\n",
    "        gc.collect()\n",
    "        \n",
    "\n",
    "    results_pd = pd.DataFrame({\"roc_auc_mean\": roc_auc_mean,\"parameters\": dict_list})    \n",
    "    results_pd.sort_values(\"roc_auc_mean\", ascending = False, axis = 0, inplace = True)\n",
    "    \n",
    "    top_pd = results_pd.head(1)\n",
    "    \n",
    "    print(f\"--> Best AUC:{top_pd.iloc[0,0]} using {top_pd.iloc[0,1]}\")"
   ]
  },
  {
   "cell_type": "code",
   "execution_count": null,
   "metadata": {},
   "outputs": [],
   "source": []
  },
  {
   "cell_type": "code",
   "execution_count": null,
   "metadata": {},
   "outputs": [],
   "source": []
  }
 ],
 "metadata": {
  "kernelspec": {
   "display_name": "Python 3",
   "language": "python",
   "name": "python3"
  },
  "language_info": {
   "codemirror_mode": {
    "name": "ipython",
    "version": 3
   },
   "file_extension": ".py",
   "mimetype": "text/x-python",
   "name": "python",
   "nbconvert_exporter": "python",
   "pygments_lexer": "ipython3",
   "version": "3.6.8"
  }
 },
 "nbformat": 4,
 "nbformat_minor": 2
}
